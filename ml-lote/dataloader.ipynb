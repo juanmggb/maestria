{
  "nbformat": 4,
  "nbformat_minor": 0,
  "metadata": {
    "colab": {
      "provenance": [],
      "authorship_tag": "ABX9TyNYRtrJb9pyhkBFdmUPdy3V",
      "include_colab_link": true
    },
    "kernelspec": {
      "name": "python3",
      "display_name": "Python 3"
    },
    "language_info": {
      "name": "python"
    }
  },
  "cells": [
    {
      "cell_type": "markdown",
      "metadata": {
        "id": "view-in-github",
        "colab_type": "text"
      },
      "source": [
        "<a href=\"https://colab.research.google.com/github/JuanM-GG/maestria/blob/main/ml-lote/dataloader.ipynb\" target=\"_parent\"><img src=\"https://colab.research.google.com/assets/colab-badge.svg\" alt=\"Open In Colab\"/></a>"
      ]
    },
    {
      "cell_type": "code",
      "source": [
        "pip install smt"
      ],
      "metadata": {
        "colab": {
          "base_uri": "https://localhost:8080/"
        },
        "id": "3UNqceNaB6Xh",
        "outputId": "f12757b9-0a49-486f-f0f5-4f28f732b96a"
      },
      "execution_count": 2,
      "outputs": [
        {
          "output_type": "stream",
          "name": "stdout",
          "text": [
            "Looking in indexes: https://pypi.org/simple, https://us-python.pkg.dev/colab-wheels/public/simple/\n",
            "Collecting smt\n",
            "  Downloading smt-1.3.0.tar.gz (256 kB)\n",
            "\u001b[K     |████████████████████████████████| 256 kB 7.2 MB/s \n",
            "\u001b[?25h  Installing build dependencies ... \u001b[?25l\u001b[?25hdone\n",
            "  Getting requirements to build wheel ... \u001b[?25l\u001b[?25hdone\n",
            "    Preparing wheel metadata ... \u001b[?25l\u001b[?25hdone\n",
            "Requirement already satisfied: scipy in /usr/local/lib/python3.8/dist-packages (from smt) (1.7.3)\n",
            "Collecting pyDOE2\n",
            "  Downloading pyDOE2-1.3.0.tar.gz (19 kB)\n",
            "Requirement already satisfied: scikit-learn in /usr/local/lib/python3.8/dist-packages (from smt) (1.0.2)\n",
            "Requirement already satisfied: numpy in /usr/local/lib/python3.8/dist-packages (from pyDOE2->smt) (1.21.6)\n",
            "Requirement already satisfied: threadpoolctl>=2.0.0 in /usr/local/lib/python3.8/dist-packages (from scikit-learn->smt) (3.1.0)\n",
            "Requirement already satisfied: joblib>=0.11 in /usr/local/lib/python3.8/dist-packages (from scikit-learn->smt) (1.2.0)\n",
            "Building wheels for collected packages: smt, pyDOE2\n",
            "  Building wheel for smt (PEP 517) ... \u001b[?25l\u001b[?25hdone\n",
            "  Created wheel for smt: filename=smt-1.3.0-cp38-cp38-linux_x86_64.whl size=541355 sha256=6ca6df0ae0625cdfcaf9c921a4795563fc4de37ab0c60a960f34e5a8d2dc5da2\n",
            "  Stored in directory: /root/.cache/pip/wheels/20/30/9f/964979f39176b757a3a23584f6b7f00915d7595bc84f674297\n",
            "  Building wheel for pyDOE2 (setup.py) ... \u001b[?25l\u001b[?25hdone\n",
            "  Created wheel for pyDOE2: filename=pyDOE2-1.3.0-py3-none-any.whl size=25539 sha256=574e06344c7262814e3f23341e8df8905df297a96736cdd1e282dd1580d029a7\n",
            "  Stored in directory: /root/.cache/pip/wheels/a7/de/26/98f9a9ff6082bdd6f2c003c6471f0fa7536b1ddd24dc2997e9\n",
            "Successfully built smt pyDOE2\n",
            "Installing collected packages: pyDOE2, smt\n",
            "Successfully installed pyDOE2-1.3.0 smt-1.3.0\n"
          ]
        }
      ]
    },
    {
      "cell_type": "code",
      "source": [
        "pip install torchdyn"
      ],
      "metadata": {
        "id": "0Re7Tj4PB6J9"
      },
      "execution_count": null,
      "outputs": []
    },
    {
      "cell_type": "code",
      "execution_count": 5,
      "metadata": {
        "id": "h6-0YTh1B3p7"
      },
      "outputs": [],
      "source": [
        "from typing import Tuple\n",
        "import numpy as np\n",
        "import torch\n",
        "\n",
        "from enum import Enum\n",
        "from smt.sampling_methods import LHS\n",
        "from torchdyn.numerics import odeint\n",
        "\n",
        "class Sampling(Enum):\n",
        "    RANDOM = 0\n",
        "    GRID = 1\n",
        "\n",
        "\n",
        "def grid_init_samples(domain, n_trajectories: int) -> np.ndarray:\n",
        "    x = np.linspace(domain[0][0], domain[0][1], n_trajectories)\n",
        "    y = np.linspace(domain[1][0], domain[1][1], n_trajectories)\n",
        "\n",
        "    xx, yy = np.meshgrid(x, y)\n",
        "    return np.concatenate((xx.flatten()[..., np.newaxis], \n",
        "                           yy.flatten()[..., np.newaxis]), axis=1)\n",
        "\n",
        "\n",
        "def random_init_samples(domain, n_trajectories: int) -> np.ndarray:\n",
        "    values = LHS(xlimits=np.array(domain))\n",
        "    return values(n_trajectories)\n",
        "\n",
        "\n",
        "def pendulum(t, y):\n",
        "    θ = y[:, 0]\n",
        "    ω = y[:, 1]\n",
        "\n",
        "    dθ = ω\n",
        "    dω = -torch.sin(θ)\n",
        "\n",
        "    return torch.stack((dθ, dω), dim=1)\n",
        "\n",
        "\n",
        "def load_pendulum_data(t_span, \n",
        "                       y0s_domain=None,\n",
        "                       n_trajectories=100, \n",
        "                       sampling=Sampling.RANDOM, \n",
        "                       solver='rk4') -> Tuple[torch.Tensor, torch.Tensor]:\n",
        "    if not y0s_domain:\n",
        "        y0s_domain = [[-1., 1.], [-1., 1.]]\n",
        "\n",
        "    if sampling == Sampling.RANDOM:\n",
        "        y0s = random_init_samples(y0s_domain, n_trajectories)\n",
        "    elif sampling == Sampling.GRID:\n",
        "        y0s = grid_init_samples(y0s_domain, n_trajectories)\n",
        "\n",
        "    y0s = torch.tensor(y0s)\n",
        "    _, ys = odeint(pendulum, y0s, t_span, solver) \n",
        "\n",
        "    return y0s, ys"
      ]
    },
    {
      "cell_type": "code",
      "source": [
        "grid_init_samples(((-1,1),(-1,1)), 3) # 3*3"
      ],
      "metadata": {
        "colab": {
          "base_uri": "https://localhost:8080/"
        },
        "id": "g13GwmfUB4oR",
        "outputId": "87da9a67-6a3a-4b03-8d8c-dba3eab0293b"
      },
      "execution_count": 15,
      "outputs": [
        {
          "output_type": "execute_result",
          "data": {
            "text/plain": [
              "array([[-1., -1.],\n",
              "       [ 0., -1.],\n",
              "       [ 1., -1.],\n",
              "       [-1.,  0.],\n",
              "       [ 0.,  0.],\n",
              "       [ 1.,  0.],\n",
              "       [-1.,  1.],\n",
              "       [ 0.,  1.],\n",
              "       [ 1.,  1.]])"
            ]
          },
          "metadata": {},
          "execution_count": 15
        }
      ]
    },
    {
      "cell_type": "code",
      "source": [
        "random_init_samples(((-1,1),(-1,1)), 8)"
      ],
      "metadata": {
        "colab": {
          "base_uri": "https://localhost:8080/"
        },
        "id": "Do7rslZWDZSr",
        "outputId": "6c0fd9ea-21ec-48a6-d514-dd5e5277e41e"
      },
      "execution_count": 20,
      "outputs": [
        {
          "output_type": "execute_result",
          "data": {
            "text/plain": [
              "array([[ 0.625,  0.625],\n",
              "       [ 0.875, -0.125],\n",
              "       [-0.875, -0.375],\n",
              "       [ 0.375, -0.625],\n",
              "       [-0.375,  0.375],\n",
              "       [-0.125,  0.125],\n",
              "       [ 0.125, -0.875],\n",
              "       [-0.625,  0.875]])"
            ]
          },
          "metadata": {},
          "execution_count": 20
        }
      ]
    },
    {
      "cell_type": "code",
      "source": [
        "domain = ((-10,-5),(15,20))\n",
        "n_trajectories = 3\n",
        "x = np.linspace(domain[0][0], domain[0][1], n_trajectories)\n",
        "y = np.linspace(domain[1][0], domain[1][1], n_trajectories)\n",
        "\n",
        "xx, yy = np.meshgrid(x, y)\n",
        "print(xx,\"\\n\\n\", yy)"
      ],
      "metadata": {
        "colab": {
          "base_uri": "https://localhost:8080/"
        },
        "id": "LP8Mia4bE1rk",
        "outputId": "38cb4628-6c39-4028-93e5-64d51f2ad472"
      },
      "execution_count": 39,
      "outputs": [
        {
          "output_type": "stream",
          "name": "stdout",
          "text": [
            "[[-10.   -7.5  -5. ]\n",
            " [-10.   -7.5  -5. ]\n",
            " [-10.   -7.5  -5. ]] \n",
            "\n",
            " [[15.  15.  15. ]\n",
            " [17.5 17.5 17.5]\n",
            " [20.  20.  20. ]]\n"
          ]
        }
      ]
    },
    {
      "cell_type": "code",
      "source": [
        "np.concatenate((xx.flatten()[..., np.newaxis], \n",
        "                yy.flatten()[..., np.newaxis]), axis=1)"
      ],
      "metadata": {
        "colab": {
          "base_uri": "https://localhost:8080/"
        },
        "id": "Rsc_k9WGE1_4",
        "outputId": "52937231-f620-44cc-bef4-0573fdcf8b02"
      },
      "execution_count": 40,
      "outputs": [
        {
          "output_type": "execute_result",
          "data": {
            "text/plain": [
              "array([[-10. ,  15. ],\n",
              "       [ -7.5,  15. ],\n",
              "       [ -5. ,  15. ],\n",
              "       [-10. ,  17.5],\n",
              "       [ -7.5,  17.5],\n",
              "       [ -5. ,  17.5],\n",
              "       [-10. ,  20. ],\n",
              "       [ -7.5,  20. ],\n",
              "       [ -5. ,  20. ]])"
            ]
          },
          "metadata": {},
          "execution_count": 40
        }
      ]
    },
    {
      "cell_type": "code",
      "source": [
        "values = LHS(xlimits=np.array(domain))\n",
        "values"
      ],
      "metadata": {
        "colab": {
          "base_uri": "https://localhost:8080/"
        },
        "id": "1OS9VMbFFDJF",
        "outputId": "e8669d2f-9b04-4966-801f-c285caf5242b"
      },
      "execution_count": 41,
      "outputs": [
        {
          "output_type": "execute_result",
          "data": {
            "text/plain": [
              "<smt.sampling_methods.lhs.LHS at 0x7f894ab9b910>"
            ]
          },
          "metadata": {},
          "execution_count": 41
        }
      ]
    },
    {
      "cell_type": "code",
      "source": [
        "n_trajectories = 3\n",
        "values(n_trajectories)"
      ],
      "metadata": {
        "colab": {
          "base_uri": "https://localhost:8080/"
        },
        "id": "bGKpvdOIF_1j",
        "outputId": "18e055da-cf1b-4bad-8711-69dc3e001cd9"
      },
      "execution_count": 42,
      "outputs": [
        {
          "output_type": "execute_result",
          "data": {
            "text/plain": [
              "array([[-9.16666667, 15.83333333],\n",
              "       [-5.83333333, 17.5       ],\n",
              "       [-7.5       , 19.16666667]])"
            ]
          },
          "metadata": {},
          "execution_count": 42
        }
      ]
    },
    {
      "cell_type": "code",
      "source": [
        "y0s_domain = [[-1., 1-0.01], [0.01, 1.]]\n",
        "n_trajectories = 3\n",
        "_, y_pred = load_pendulum_data(torch.tensor([0,1]), \n",
        "                       y0s_domain=y0s_domain,\n",
        "                       n_trajectories = n_trajectories, \n",
        "                       sampling=Sampling.RANDOM, \n",
        "                       solver='rk4')\n",
        "\n",
        "print(_)\n",
        "print()\n",
        "print(y_pred)"
      ],
      "metadata": {
        "colab": {
          "base_uri": "https://localhost:8080/"
        },
        "id": "qIZzXoEjGA_t",
        "outputId": "bfcf47f3-00de-453b-9f85-d112bf71eb7f"
      },
      "execution_count": 54,
      "outputs": [
        {
          "output_type": "stream",
          "name": "stdout",
          "text": [
            "tensor([[-0.6683,  0.8350],\n",
            "        [-0.0050,  0.5050],\n",
            "        [ 0.6583,  0.1750]], dtype=torch.float64)\n",
            "\n",
            "tensor([[[-0.6683,  0.8350],\n",
            "         [-0.0050,  0.5050],\n",
            "         [ 0.6583,  0.1750]],\n",
            "\n",
            "        [[ 0.3273,  1.0052],\n",
            "         [ 0.4190,  0.2807],\n",
            "         [ 0.5251, -0.4184]]], dtype=torch.float64)\n"
          ]
        }
      ]
    },
    {
      "cell_type": "code",
      "source": [
        "print(y_pred.shape)"
      ],
      "metadata": {
        "colab": {
          "base_uri": "https://localhost:8080/"
        },
        "id": "o1VWCHMJG0vd",
        "outputId": "99a3fa63-c7db-4a03-edaa-a81022fb479d"
      },
      "execution_count": 55,
      "outputs": [
        {
          "output_type": "stream",
          "name": "stdout",
          "text": [
            "torch.Size([2, 3, 2])\n"
          ]
        }
      ]
    },
    {
      "cell_type": "code",
      "source": [],
      "metadata": {
        "id": "v9nU1KR6HyJb"
      },
      "execution_count": null,
      "outputs": []
    }
  ]
}