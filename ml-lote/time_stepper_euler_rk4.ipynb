{
  "nbformat": 4,
  "nbformat_minor": 0,
  "metadata": {
    "colab": {
      "provenance": [],
      "authorship_tag": "ABX9TyPdP/rHDLELko8MM5FYm2M7",
      "include_colab_link": true
    },
    "kernelspec": {
      "name": "python3",
      "display_name": "Python 3"
    },
    "language_info": {
      "name": "python"
    }
  },
  "cells": [
    {
      "cell_type": "markdown",
      "metadata": {
        "id": "view-in-github",
        "colab_type": "text"
      },
      "source": [
        "<a href=\"https://colab.research.google.com/github/JuanM-GG/maestria/blob/main/ml-lote/time_stepper_euler_rk4.ipynb\" target=\"_parent\"><img src=\"https://colab.research.google.com/assets/colab-badge.svg\" alt=\"Open In Colab\"/></a>"
      ]
    },
    {
      "cell_type": "code",
      "source": [
        "pip install smt"
      ],
      "metadata": {
        "id": "8T8jpQYnDmA6",
        "colab": {
          "base_uri": "https://localhost:8080/"
        },
        "outputId": "f235fdc5-03b8-4bd2-d73c-a9ffecd30cc7"
      },
      "execution_count": 154,
      "outputs": [
        {
          "output_type": "stream",
          "name": "stdout",
          "text": [
            "Looking in indexes: https://pypi.org/simple, https://us-python.pkg.dev/colab-wheels/public/simple/\n",
            "Requirement already satisfied: smt in /usr/local/lib/python3.8/dist-packages (1.3.0)\n",
            "Requirement already satisfied: pyDOE2 in /usr/local/lib/python3.8/dist-packages (from smt) (1.3.0)\n",
            "Requirement already satisfied: scikit-learn in /usr/local/lib/python3.8/dist-packages (from smt) (1.0.2)\n",
            "Requirement already satisfied: scipy in /usr/local/lib/python3.8/dist-packages (from smt) (1.7.3)\n",
            "Requirement already satisfied: numpy in /usr/local/lib/python3.8/dist-packages (from pyDOE2->smt) (1.21.6)\n",
            "Requirement already satisfied: joblib>=0.11 in /usr/local/lib/python3.8/dist-packages (from scikit-learn->smt) (1.2.0)\n",
            "Requirement already satisfied: threadpoolctl>=2.0.0 in /usr/local/lib/python3.8/dist-packages (from scikit-learn->smt) (3.1.0)\n"
          ]
        }
      ]
    },
    {
      "cell_type": "code",
      "source": [
        "pip install torchdyn"
      ],
      "metadata": {
        "id": "OKxMdqPzDleG",
        "colab": {
          "base_uri": "https://localhost:8080/"
        },
        "outputId": "6a38e539-57f0-46b4-eb93-a5957eaf8547"
      },
      "execution_count": 155,
      "outputs": [
        {
          "output_type": "stream",
          "name": "stdout",
          "text": [
            "Looking in indexes: https://pypi.org/simple, https://us-python.pkg.dev/colab-wheels/public/simple/\n",
            "Requirement already satisfied: torchdyn in /usr/local/lib/python3.8/dist-packages (1.0.3)\n",
            "Requirement already satisfied: pytorch-lightning in /usr/local/lib/python3.8/dist-packages (from torchdyn) (1.8.6)\n",
            "Requirement already satisfied: poethepoet<0.11.0,>=0.10.0 in /usr/local/lib/python3.8/dist-packages (from torchdyn) (0.10.0)\n",
            "Requirement already satisfied: torchcde<0.3.0,>=0.2.3 in /usr/local/lib/python3.8/dist-packages (from torchdyn) (0.2.5)\n",
            "Requirement already satisfied: scipy in /usr/local/lib/python3.8/dist-packages (from torchdyn) (1.7.3)\n",
            "Requirement already satisfied: matplotlib in /usr/local/lib/python3.8/dist-packages (from torchdyn) (3.2.2)\n",
            "Requirement already satisfied: torch<2.0.0,>=1.8.1 in /usr/local/lib/python3.8/dist-packages (from torchdyn) (1.13.0+cu116)\n",
            "Requirement already satisfied: torchsde in /usr/local/lib/python3.8/dist-packages (from torchdyn) (0.2.5)\n",
            "Requirement already satisfied: sklearn in /usr/local/lib/python3.8/dist-packages (from torchdyn) (0.0.post1)\n",
            "Requirement already satisfied: ipywidgets in /usr/local/lib/python3.8/dist-packages (from torchdyn) (7.7.1)\n",
            "Requirement already satisfied: torchvision in /usr/local/lib/python3.8/dist-packages (from torchdyn) (0.14.0+cu116)\n",
            "Requirement already satisfied: ipykernel in /usr/local/lib/python3.8/dist-packages (from torchdyn) (5.3.4)\n",
            "Requirement already satisfied: pastel<0.3.0,>=0.2.0 in /usr/local/lib/python3.8/dist-packages (from poethepoet<0.11.0,>=0.10.0->torchdyn) (0.2.1)\n",
            "Requirement already satisfied: tomlkit<1.0.0,>=0.6.0 in /usr/local/lib/python3.8/dist-packages (from poethepoet<0.11.0,>=0.10.0->torchdyn) (0.11.6)\n",
            "Requirement already satisfied: typing-extensions in /usr/local/lib/python3.8/dist-packages (from torch<2.0.0,>=1.8.1->torchdyn) (4.4.0)\n",
            "Requirement already satisfied: torchdiffeq>=0.2.0 in /usr/local/lib/python3.8/dist-packages (from torchcde<0.3.0,>=0.2.3->torchdyn) (0.2.3)\n",
            "Requirement already satisfied: numpy<1.23.0,>=1.16.5 in /usr/local/lib/python3.8/dist-packages (from scipy->torchdyn) (1.21.6)\n",
            "Requirement already satisfied: trampoline>=0.1.2 in /usr/local/lib/python3.8/dist-packages (from torchsde->torchdyn) (0.1.2)\n",
            "Requirement already satisfied: boltons>=20.2.1 in /usr/local/lib/python3.8/dist-packages (from torchsde->torchdyn) (21.0.0)\n",
            "Requirement already satisfied: jupyter-client in /usr/local/lib/python3.8/dist-packages (from ipykernel->torchdyn) (6.1.12)\n",
            "Requirement already satisfied: traitlets>=4.1.0 in /usr/local/lib/python3.8/dist-packages (from ipykernel->torchdyn) (5.7.1)\n",
            "Requirement already satisfied: ipython>=5.0.0 in /usr/local/lib/python3.8/dist-packages (from ipykernel->torchdyn) (7.9.0)\n",
            "Requirement already satisfied: tornado>=4.2 in /usr/local/lib/python3.8/dist-packages (from ipykernel->torchdyn) (6.0.4)\n",
            "Requirement already satisfied: decorator in /usr/local/lib/python3.8/dist-packages (from ipython>=5.0.0->ipykernel->torchdyn) (4.4.2)\n",
            "Requirement already satisfied: setuptools>=18.5 in /usr/local/lib/python3.8/dist-packages (from ipython>=5.0.0->ipykernel->torchdyn) (57.4.0)\n",
            "Requirement already satisfied: backcall in /usr/local/lib/python3.8/dist-packages (from ipython>=5.0.0->ipykernel->torchdyn) (0.2.0)\n",
            "Requirement already satisfied: jedi>=0.10 in /usr/local/lib/python3.8/dist-packages (from ipython>=5.0.0->ipykernel->torchdyn) (0.18.2)\n",
            "Requirement already satisfied: pexpect in /usr/local/lib/python3.8/dist-packages (from ipython>=5.0.0->ipykernel->torchdyn) (4.8.0)\n",
            "Requirement already satisfied: prompt-toolkit<2.1.0,>=2.0.0 in /usr/local/lib/python3.8/dist-packages (from ipython>=5.0.0->ipykernel->torchdyn) (2.0.10)\n",
            "Requirement already satisfied: pickleshare in /usr/local/lib/python3.8/dist-packages (from ipython>=5.0.0->ipykernel->torchdyn) (0.7.5)\n",
            "Requirement already satisfied: pygments in /usr/local/lib/python3.8/dist-packages (from ipython>=5.0.0->ipykernel->torchdyn) (2.6.1)\n",
            "Requirement already satisfied: parso<0.9.0,>=0.8.0 in /usr/local/lib/python3.8/dist-packages (from jedi>=0.10->ipython>=5.0.0->ipykernel->torchdyn) (0.8.3)\n",
            "Requirement already satisfied: wcwidth in /usr/local/lib/python3.8/dist-packages (from prompt-toolkit<2.1.0,>=2.0.0->ipython>=5.0.0->ipykernel->torchdyn) (0.2.5)\n",
            "Requirement already satisfied: six>=1.9.0 in /usr/local/lib/python3.8/dist-packages (from prompt-toolkit<2.1.0,>=2.0.0->ipython>=5.0.0->ipykernel->torchdyn) (1.15.0)\n",
            "Requirement already satisfied: widgetsnbextension~=3.6.0 in /usr/local/lib/python3.8/dist-packages (from ipywidgets->torchdyn) (3.6.1)\n",
            "Requirement already satisfied: jupyterlab-widgets>=1.0.0 in /usr/local/lib/python3.8/dist-packages (from ipywidgets->torchdyn) (3.0.4)\n",
            "Requirement already satisfied: ipython-genutils~=0.2.0 in /usr/local/lib/python3.8/dist-packages (from ipywidgets->torchdyn) (0.2.0)\n",
            "Requirement already satisfied: notebook>=4.4.1 in /usr/local/lib/python3.8/dist-packages (from widgetsnbextension~=3.6.0->ipywidgets->torchdyn) (5.7.16)\n",
            "Requirement already satisfied: pyzmq>=17 in /usr/local/lib/python3.8/dist-packages (from notebook>=4.4.1->widgetsnbextension~=3.6.0->ipywidgets->torchdyn) (23.2.1)\n",
            "Requirement already satisfied: jupyter-core>=4.4.0 in /usr/local/lib/python3.8/dist-packages (from notebook>=4.4.1->widgetsnbextension~=3.6.0->ipywidgets->torchdyn) (5.1.0)\n",
            "Requirement already satisfied: nbconvert<6.0 in /usr/local/lib/python3.8/dist-packages (from notebook>=4.4.1->widgetsnbextension~=3.6.0->ipywidgets->torchdyn) (5.6.1)\n",
            "Requirement already satisfied: Send2Trash in /usr/local/lib/python3.8/dist-packages (from notebook>=4.4.1->widgetsnbextension~=3.6.0->ipywidgets->torchdyn) (1.8.0)\n",
            "Requirement already satisfied: terminado>=0.8.1 in /usr/local/lib/python3.8/dist-packages (from notebook>=4.4.1->widgetsnbextension~=3.6.0->ipywidgets->torchdyn) (0.13.3)\n",
            "Requirement already satisfied: jinja2<=3.0.0 in /usr/local/lib/python3.8/dist-packages (from notebook>=4.4.1->widgetsnbextension~=3.6.0->ipywidgets->torchdyn) (2.11.3)\n",
            "Requirement already satisfied: prometheus-client in /usr/local/lib/python3.8/dist-packages (from notebook>=4.4.1->widgetsnbextension~=3.6.0->ipywidgets->torchdyn) (0.15.0)\n",
            "Requirement already satisfied: nbformat in /usr/local/lib/python3.8/dist-packages (from notebook>=4.4.1->widgetsnbextension~=3.6.0->ipywidgets->torchdyn) (5.7.0)\n",
            "Requirement already satisfied: MarkupSafe>=0.23 in /usr/local/lib/python3.8/dist-packages (from jinja2<=3.0.0->notebook>=4.4.1->widgetsnbextension~=3.6.0->ipywidgets->torchdyn) (2.0.1)\n",
            "Requirement already satisfied: python-dateutil>=2.1 in /usr/local/lib/python3.8/dist-packages (from jupyter-client->ipykernel->torchdyn) (2.8.2)\n",
            "Requirement already satisfied: platformdirs>=2.5 in /usr/local/lib/python3.8/dist-packages (from jupyter-core>=4.4.0->notebook>=4.4.1->widgetsnbextension~=3.6.0->ipywidgets->torchdyn) (2.6.0)\n",
            "Requirement already satisfied: bleach in /usr/local/lib/python3.8/dist-packages (from nbconvert<6.0->notebook>=4.4.1->widgetsnbextension~=3.6.0->ipywidgets->torchdyn) (5.0.1)\n",
            "Requirement already satisfied: mistune<2,>=0.8.1 in /usr/local/lib/python3.8/dist-packages (from nbconvert<6.0->notebook>=4.4.1->widgetsnbextension~=3.6.0->ipywidgets->torchdyn) (0.8.4)\n",
            "Requirement already satisfied: entrypoints>=0.2.2 in /usr/local/lib/python3.8/dist-packages (from nbconvert<6.0->notebook>=4.4.1->widgetsnbextension~=3.6.0->ipywidgets->torchdyn) (0.4)\n",
            "Requirement already satisfied: pandocfilters>=1.4.1 in /usr/local/lib/python3.8/dist-packages (from nbconvert<6.0->notebook>=4.4.1->widgetsnbextension~=3.6.0->ipywidgets->torchdyn) (1.5.0)\n",
            "Requirement already satisfied: testpath in /usr/local/lib/python3.8/dist-packages (from nbconvert<6.0->notebook>=4.4.1->widgetsnbextension~=3.6.0->ipywidgets->torchdyn) (0.6.0)\n",
            "Requirement already satisfied: defusedxml in /usr/local/lib/python3.8/dist-packages (from nbconvert<6.0->notebook>=4.4.1->widgetsnbextension~=3.6.0->ipywidgets->torchdyn) (0.7.1)\n",
            "Requirement already satisfied: jsonschema>=2.6 in /usr/local/lib/python3.8/dist-packages (from nbformat->notebook>=4.4.1->widgetsnbextension~=3.6.0->ipywidgets->torchdyn) (4.3.3)\n",
            "Requirement already satisfied: fastjsonschema in /usr/local/lib/python3.8/dist-packages (from nbformat->notebook>=4.4.1->widgetsnbextension~=3.6.0->ipywidgets->torchdyn) (2.16.2)\n",
            "Requirement already satisfied: importlib-resources>=1.4.0 in /usr/local/lib/python3.8/dist-packages (from jsonschema>=2.6->nbformat->notebook>=4.4.1->widgetsnbextension~=3.6.0->ipywidgets->torchdyn) (5.10.1)\n",
            "Requirement already satisfied: pyrsistent!=0.17.0,!=0.17.1,!=0.17.2,>=0.14.0 in /usr/local/lib/python3.8/dist-packages (from jsonschema>=2.6->nbformat->notebook>=4.4.1->widgetsnbextension~=3.6.0->ipywidgets->torchdyn) (0.19.2)\n",
            "Requirement already satisfied: attrs>=17.4.0 in /usr/local/lib/python3.8/dist-packages (from jsonschema>=2.6->nbformat->notebook>=4.4.1->widgetsnbextension~=3.6.0->ipywidgets->torchdyn) (22.1.0)\n",
            "Requirement already satisfied: zipp>=3.1.0 in /usr/local/lib/python3.8/dist-packages (from importlib-resources>=1.4.0->jsonschema>=2.6->nbformat->notebook>=4.4.1->widgetsnbextension~=3.6.0->ipywidgets->torchdyn) (3.11.0)\n",
            "Requirement already satisfied: ptyprocess in /usr/local/lib/python3.8/dist-packages (from terminado>=0.8.1->notebook>=4.4.1->widgetsnbextension~=3.6.0->ipywidgets->torchdyn) (0.7.0)\n",
            "Requirement already satisfied: webencodings in /usr/local/lib/python3.8/dist-packages (from bleach->nbconvert<6.0->notebook>=4.4.1->widgetsnbextension~=3.6.0->ipywidgets->torchdyn) (0.5.1)\n",
            "Requirement already satisfied: pyparsing!=2.0.4,!=2.1.2,!=2.1.6,>=2.0.1 in /usr/local/lib/python3.8/dist-packages (from matplotlib->torchdyn) (3.0.9)\n",
            "Requirement already satisfied: cycler>=0.10 in /usr/local/lib/python3.8/dist-packages (from matplotlib->torchdyn) (0.11.0)\n",
            "Requirement already satisfied: kiwisolver>=1.0.1 in /usr/local/lib/python3.8/dist-packages (from matplotlib->torchdyn) (1.4.4)\n",
            "Requirement already satisfied: torchmetrics>=0.7.0 in /usr/local/lib/python3.8/dist-packages (from pytorch-lightning->torchdyn) (0.11.0)\n",
            "Requirement already satisfied: tensorboardX>=2.2 in /usr/local/lib/python3.8/dist-packages (from pytorch-lightning->torchdyn) (2.5.1)\n",
            "Requirement already satisfied: lightning-utilities!=0.4.0,>=0.3.0 in /usr/local/lib/python3.8/dist-packages (from pytorch-lightning->torchdyn) (0.5.0)\n",
            "Requirement already satisfied: packaging>=17.0 in /usr/local/lib/python3.8/dist-packages (from pytorch-lightning->torchdyn) (21.3)\n",
            "Requirement already satisfied: tqdm>=4.57.0 in /usr/local/lib/python3.8/dist-packages (from pytorch-lightning->torchdyn) (4.64.1)\n",
            "Requirement already satisfied: PyYAML>=5.4 in /usr/local/lib/python3.8/dist-packages (from pytorch-lightning->torchdyn) (6.0)\n",
            "Requirement already satisfied: fsspec[http]>2021.06.0 in /usr/local/lib/python3.8/dist-packages (from pytorch-lightning->torchdyn) (2022.11.0)\n",
            "Requirement already satisfied: requests in /usr/local/lib/python3.8/dist-packages (from fsspec[http]>2021.06.0->pytorch-lightning->torchdyn) (2.23.0)\n",
            "Requirement already satisfied: aiohttp!=4.0.0a0,!=4.0.0a1 in /usr/local/lib/python3.8/dist-packages (from fsspec[http]>2021.06.0->pytorch-lightning->torchdyn) (3.8.3)\n",
            "Requirement already satisfied: charset-normalizer<3.0,>=2.0 in /usr/local/lib/python3.8/dist-packages (from aiohttp!=4.0.0a0,!=4.0.0a1->fsspec[http]>2021.06.0->pytorch-lightning->torchdyn) (2.1.1)\n",
            "Requirement already satisfied: multidict<7.0,>=4.5 in /usr/local/lib/python3.8/dist-packages (from aiohttp!=4.0.0a0,!=4.0.0a1->fsspec[http]>2021.06.0->pytorch-lightning->torchdyn) (6.0.3)\n",
            "Requirement already satisfied: frozenlist>=1.1.1 in /usr/local/lib/python3.8/dist-packages (from aiohttp!=4.0.0a0,!=4.0.0a1->fsspec[http]>2021.06.0->pytorch-lightning->torchdyn) (1.3.3)\n",
            "Requirement already satisfied: aiosignal>=1.1.2 in /usr/local/lib/python3.8/dist-packages (from aiohttp!=4.0.0a0,!=4.0.0a1->fsspec[http]>2021.06.0->pytorch-lightning->torchdyn) (1.3.1)\n",
            "Requirement already satisfied: async-timeout<5.0,>=4.0.0a3 in /usr/local/lib/python3.8/dist-packages (from aiohttp!=4.0.0a0,!=4.0.0a1->fsspec[http]>2021.06.0->pytorch-lightning->torchdyn) (4.0.2)\n",
            "Requirement already satisfied: yarl<2.0,>=1.0 in /usr/local/lib/python3.8/dist-packages (from aiohttp!=4.0.0a0,!=4.0.0a1->fsspec[http]>2021.06.0->pytorch-lightning->torchdyn) (1.8.2)\n",
            "Requirement already satisfied: protobuf<=3.20.1,>=3.8.0 in /usr/local/lib/python3.8/dist-packages (from tensorboardX>=2.2->pytorch-lightning->torchdyn) (3.19.6)\n",
            "Requirement already satisfied: idna>=2.0 in /usr/local/lib/python3.8/dist-packages (from yarl<2.0,>=1.0->aiohttp!=4.0.0a0,!=4.0.0a1->fsspec[http]>2021.06.0->pytorch-lightning->torchdyn) (2.10)\n",
            "Requirement already satisfied: chardet<4,>=3.0.2 in /usr/local/lib/python3.8/dist-packages (from requests->fsspec[http]>2021.06.0->pytorch-lightning->torchdyn) (3.0.4)\n",
            "Requirement already satisfied: certifi>=2017.4.17 in /usr/local/lib/python3.8/dist-packages (from requests->fsspec[http]>2021.06.0->pytorch-lightning->torchdyn) (2022.12.7)\n",
            "Requirement already satisfied: urllib3!=1.25.0,!=1.25.1,<1.26,>=1.21.1 in /usr/local/lib/python3.8/dist-packages (from requests->fsspec[http]>2021.06.0->pytorch-lightning->torchdyn) (1.24.3)\n",
            "Requirement already satisfied: pillow!=8.3.*,>=5.3.0 in /usr/local/lib/python3.8/dist-packages (from torchvision->torchdyn) (7.1.2)\n"
          ]
        }
      ]
    },
    {
      "cell_type": "code",
      "source": [
        "pip install pyDOE"
      ],
      "metadata": {
        "colab": {
          "base_uri": "https://localhost:8080/"
        },
        "id": "P41mgAK0DzW1",
        "outputId": "7442a24d-f7a4-4ca9-b838-c009a2f800fe"
      },
      "execution_count": 156,
      "outputs": [
        {
          "output_type": "stream",
          "name": "stdout",
          "text": [
            "Looking in indexes: https://pypi.org/simple, https://us-python.pkg.dev/colab-wheels/public/simple/\n",
            "Requirement already satisfied: pyDOE in /usr/local/lib/python3.8/dist-packages (0.3.8)\n",
            "Requirement already satisfied: numpy in /usr/local/lib/python3.8/dist-packages (from pyDOE) (1.21.6)\n",
            "Requirement already satisfied: scipy in /usr/local/lib/python3.8/dist-packages (from pyDOE) (1.7.3)\n"
          ]
        }
      ]
    },
    {
      "cell_type": "code",
      "execution_count": 157,
      "metadata": {
        "id": "nYMx_WpuDkA3"
      },
      "outputs": [],
      "source": [
        "from argparse import ArgumentParser\n",
        "from numpy import double\n",
        "import torch.nn as nn\n",
        "from torch.optim import Adam\n",
        "from tqdm import tqdm\n",
        "from pyDOE import lhs\n",
        "import matplotlib.pyplot as plt\n",
        "from torch.nn.functional import mse_loss\n",
        "import numpy as np\n",
        "\n",
        "import torch\n",
        "from torchdyn.numerics import odeint\n",
        "# from torchdyn.numerics.solvers import SolverTemplate\n",
        "import matplotlib.patches as mpatches\n",
        "from matplotlib.collections import LineCollection\n",
        "\n",
        "from visualization import get_meshgrid, plot_colored"
      ]
    },
    {
      "cell_type": "markdown",
      "source": [
        "### Solvers"
      ],
      "metadata": {
        "id": "m0k1iyuZMFQM"
      }
    },
    {
      "cell_type": "markdown",
      "source": [
        "In this case, SolverTemplate and DirectSolver are not necessarily representing a neural network, but they are using nn.Module as a base class to take advantage of the aforementioned benefits."
      ],
      "metadata": {
        "id": "DijWiX_LmtUr"
      }
    },
    {
      "cell_type": "code",
      "source": [
        "class SolverTemplate(nn.Module):\n",
        "    # def __init__(self, order, min_factor: float = 0.2, max_factor: float = 10, safety: float = 0.9):\n",
        "    def __init__(self):\n",
        "        super().__init__()\n",
        "        # self.order = order\n",
        "        # self.min_factor = torch.tensor([min_factor])\n",
        "        # self.max_factor = torch.tensor([max_factor])\n",
        "        # self.safety = torch.tensor([safety])\n",
        "        # self.tableau = None\n",
        "\n",
        "    def sync_device_dtype(self, x, t_span):\n",
        "        \"Ensures `x`, `t_span`, `tableau` and other solver tensors are on the same device with compatible dtypes\"\n",
        "\n",
        "        if isinstance(x, dict):\n",
        "            proto_arr = x[list(x.keys())[0]]\n",
        "        elif isinstance(x, torch.Tensor):\n",
        "            proto_arr = x\n",
        "        else:\n",
        "            raise NotImplementedError(\n",
        "                f\"{type(x)} is not supported as the state variable\")\n",
        "\n",
        "        device = proto_arr.device\n",
        "\n",
        "        # if self.tableau is not None:\n",
        "        #     c, a, bsol, berr = self.tableau\n",
        "        #     self.tableau = c.to(proto_arr), [a.to(proto_arr) for a in a], bsol.to(\n",
        "        #         proto_arr), berr.to(proto_arr)\n",
        "        t_span = t_span.to(device)\n",
        "        # self.safety = self.safety.to(device)\n",
        "        # self.min_factor = self.min_factor.to(device)\n",
        "        # self.max_factor = self.max_factor.to(device)\n",
        "        return x, t_span\n",
        "\n",
        "    def step(self, f, x, t, dt, k1=None, args=None):\n",
        "        pass\n",
        "\n",
        "\n",
        "class DirectSolver(SolverTemplate):\n",
        "    def __init__(self, dtype=torch.float32):\n",
        "        # super().__init__(order=1)\n",
        "        super().__init__()\n",
        "        self.dtype = dtype\n",
        "        self.stepping_class = \"fixed\"\n",
        "\n",
        "    def step(self, f, x, t, dt, k1=None, args=None):\n",
        "\n",
        "        x_sol = f(t, x)\n",
        "        return None, x_sol, None\n",
        "\n",
        "class ResnetSolver(SolverTemplate):\n",
        "    def __init__(self, step_size=None, dtype=torch.float32):\n",
        "        # super().__init__(order=1)\n",
        "        super().__init__()\n",
        "        self.dtype = dtype\n",
        "        self.stepping_class = \"fixed\"\n",
        "\n",
        "        self.step_size = 1 if step_size is None else step_size\n",
        "\n",
        "    def step(self, f, x, t, dt, k1=None, args=None):\n",
        "        x_sol = x + f(t, x) * self.step_size\n",
        "        return None, x_sol, None"
      ],
      "metadata": {
        "id": "2vSDuLVWD_bt"
      },
      "execution_count": 158,
      "outputs": []
    },
    {
      "cell_type": "code",
      "source": [
        "# class SolverTemplate(nn.Module):\n",
        "#     def __init__(self):\n",
        "#         super().__init__()\n",
        "\n",
        "#     def sync_device_dtype(self, x, t_span):\n",
        "#         \"Ensures `x`, `t_span`, `tableau` and other solver tensors are on the same device with compatible dtypes\"\n",
        "\n",
        "#         if isinstance(x, dict):\n",
        "#             proto_arr = x[list(x.keys())[0]]\n",
        "#         elif isinstance(x, torch.Tensor):\n",
        "#             proto_arr = x\n",
        "#         else:\n",
        "#             raise NotImplementedError(\n",
        "#                 f\"{type(x)} is not supported as the state variable\")\n",
        "\n",
        "#         device = proto_arr.device\n",
        "\n",
        "#         t_span = t_span.to(device)\n",
        "#         return x, t_span\n",
        "\n",
        "#     def step(self, f, x, t, dt, k1=None, args=None):\n",
        "#         pass\n",
        "\n",
        "# class DirectSolver(SolverTemplate):\n",
        "#     def __init__(self, dtype=torch.float32):\n",
        "#         super().__init__()\n",
        "#         self.dtype = dtype\n",
        "#         self.stepping_class = \"fixed\"\n",
        "\n",
        "#     def step(self, f, x, t, dt, k1=None, args=None):\n",
        "\n",
        "#         x_sol = f(t, x)\n",
        "#         return None, x_sol, None\n",
        "\n",
        "# class ResnetSolver(SolverTemplate):\n",
        "#     def __init__(self, step_size=None, dtype=torch.float32):\n",
        "#         super().__init__()\n",
        "#         self.dtype = dtype\n",
        "#         self.stepping_class = \"fixed\"\n",
        "\n",
        "#         self.step_size = 1 if step_size is None else step_size\n",
        "\n",
        "#     def step(self, f, x, t, dt, k1=None, args=None):\n",
        "#         # x_sol = f(t, x)\n",
        "#         x_sol = x + f(t, x) * self.step_size\n",
        "#         return None, x_sol, None\n"
      ],
      "metadata": {
        "id": "nKnu8zPQqO7m"
      },
      "execution_count": 159,
      "outputs": []
    },
    {
      "cell_type": "markdown",
      "source": [
        "### Generate data"
      ],
      "metadata": {
        "id": "sfYvAK6TMIow"
      }
    },
    {
      "cell_type": "code",
      "source": [
        "# generate data\n",
        "\n",
        "def f(t, x):\n",
        "    θ = x[..., 0]\n",
        "    ω = x[..., 1]\n",
        "\n",
        "    dθ = ω\n",
        "    dω = -torch.sin(θ)\n",
        "\n",
        "    return torch.stack((dθ, dω), dim=-1)\n",
        "\n",
        "# domain_draw_factor = 1.3\n",
        "\n",
        "domain_train = 1.0\n",
        "domain_validate = 1.0\n",
        "\n",
        "x0_train = (\n",
        "    torch.tensor(lhs(2, 100), \n",
        "                 device='cpu') * 2 - 1\n",
        ") * domain_train\n",
        "\n",
        "x0_validate = (\n",
        "    torch.tensor(lhs(2, 10), \n",
        "                 device='cpu') * 2 - 1\n",
        ") * domain_validate\n",
        "\n",
        "x0_grid = get_meshgrid(step_per_axis=0.01, domain=domain_validate)\n",
        "x0_example = torch.tensor((0.6, 0)).double().unsqueeze(0).to('cpu')\n",
        "\n",
        "step_size_train = 0.001\n",
        "ε = 1e-10\n",
        "t_span_train = torch.arange(\n",
        "    0.0,0.001 + ε, step_size_train\n",
        ")\n",
        "t_span_validate = torch.arange(\n",
        "    0.0,\n",
        "    4*np.pi + ε,\n",
        "    step_size_train,\n",
        ")"
      ],
      "metadata": {
        "id": "yD6xth15EiJX"
      },
      "execution_count": 160,
      "outputs": []
    },
    {
      "cell_type": "code",
      "source": [
        "print(x0_grid.shape)\n",
        "print(x0_train.shape)\n",
        "print(x0_validate.shape)"
      ],
      "metadata": {
        "colab": {
          "base_uri": "https://localhost:8080/"
        },
        "id": "8Qu8OBPO70ku",
        "outputId": "68edb03f-86fe-481a-fa56-c23e5915ef7a"
      },
      "execution_count": 161,
      "outputs": [
        {
          "output_type": "stream",
          "name": "stdout",
          "text": [
            "torch.Size([201, 201, 2])\n",
            "torch.Size([100, 2])\n",
            "torch.Size([10, 2])\n"
          ]
        }
      ]
    },
    {
      "cell_type": "code",
      "source": [
        "print(x0_grid[0])"
      ],
      "metadata": {
        "colab": {
          "base_uri": "https://localhost:8080/"
        },
        "id": "eFaCkaEV7o5X",
        "outputId": "da7795d5-54c6-499a-aa83-582e30c60108"
      },
      "execution_count": 162,
      "outputs": [
        {
          "output_type": "stream",
          "name": "stdout",
          "text": [
            "tensor([[-1.0000e+00, -1.0000e+00],\n",
            "        [-9.9000e-01, -1.0000e+00],\n",
            "        [-9.8000e-01, -1.0000e+00],\n",
            "        [-9.7000e-01, -1.0000e+00],\n",
            "        [-9.6000e-01, -1.0000e+00],\n",
            "        [-9.5000e-01, -1.0000e+00],\n",
            "        [-9.4000e-01, -1.0000e+00],\n",
            "        [-9.3000e-01, -1.0000e+00],\n",
            "        [-9.2000e-01, -1.0000e+00],\n",
            "        [-9.1000e-01, -1.0000e+00],\n",
            "        [-9.0000e-01, -1.0000e+00],\n",
            "        [-8.9000e-01, -1.0000e+00],\n",
            "        [-8.8000e-01, -1.0000e+00],\n",
            "        [-8.7000e-01, -1.0000e+00],\n",
            "        [-8.6000e-01, -1.0000e+00],\n",
            "        [-8.5000e-01, -1.0000e+00],\n",
            "        [-8.4000e-01, -1.0000e+00],\n",
            "        [-8.3000e-01, -1.0000e+00],\n",
            "        [-8.2000e-01, -1.0000e+00],\n",
            "        [-8.1000e-01, -1.0000e+00],\n",
            "        [-8.0000e-01, -1.0000e+00],\n",
            "        [-7.9000e-01, -1.0000e+00],\n",
            "        [-7.8000e-01, -1.0000e+00],\n",
            "        [-7.7000e-01, -1.0000e+00],\n",
            "        [-7.6000e-01, -1.0000e+00],\n",
            "        [-7.5000e-01, -1.0000e+00],\n",
            "        [-7.4000e-01, -1.0000e+00],\n",
            "        [-7.3000e-01, -1.0000e+00],\n",
            "        [-7.2000e-01, -1.0000e+00],\n",
            "        [-7.1000e-01, -1.0000e+00],\n",
            "        [-7.0000e-01, -1.0000e+00],\n",
            "        [-6.9000e-01, -1.0000e+00],\n",
            "        [-6.8000e-01, -1.0000e+00],\n",
            "        [-6.7000e-01, -1.0000e+00],\n",
            "        [-6.6000e-01, -1.0000e+00],\n",
            "        [-6.5000e-01, -1.0000e+00],\n",
            "        [-6.4000e-01, -1.0000e+00],\n",
            "        [-6.3000e-01, -1.0000e+00],\n",
            "        [-6.2000e-01, -1.0000e+00],\n",
            "        [-6.1000e-01, -1.0000e+00],\n",
            "        [-6.0000e-01, -1.0000e+00],\n",
            "        [-5.9000e-01, -1.0000e+00],\n",
            "        [-5.8000e-01, -1.0000e+00],\n",
            "        [-5.7000e-01, -1.0000e+00],\n",
            "        [-5.6000e-01, -1.0000e+00],\n",
            "        [-5.5000e-01, -1.0000e+00],\n",
            "        [-5.4000e-01, -1.0000e+00],\n",
            "        [-5.3000e-01, -1.0000e+00],\n",
            "        [-5.2000e-01, -1.0000e+00],\n",
            "        [-5.1000e-01, -1.0000e+00],\n",
            "        [-5.0000e-01, -1.0000e+00],\n",
            "        [-4.9000e-01, -1.0000e+00],\n",
            "        [-4.8000e-01, -1.0000e+00],\n",
            "        [-4.7000e-01, -1.0000e+00],\n",
            "        [-4.6000e-01, -1.0000e+00],\n",
            "        [-4.5000e-01, -1.0000e+00],\n",
            "        [-4.4000e-01, -1.0000e+00],\n",
            "        [-4.3000e-01, -1.0000e+00],\n",
            "        [-4.2000e-01, -1.0000e+00],\n",
            "        [-4.1000e-01, -1.0000e+00],\n",
            "        [-4.0000e-01, -1.0000e+00],\n",
            "        [-3.9000e-01, -1.0000e+00],\n",
            "        [-3.8000e-01, -1.0000e+00],\n",
            "        [-3.7000e-01, -1.0000e+00],\n",
            "        [-3.6000e-01, -1.0000e+00],\n",
            "        [-3.5000e-01, -1.0000e+00],\n",
            "        [-3.4000e-01, -1.0000e+00],\n",
            "        [-3.3000e-01, -1.0000e+00],\n",
            "        [-3.2000e-01, -1.0000e+00],\n",
            "        [-3.1000e-01, -1.0000e+00],\n",
            "        [-3.0000e-01, -1.0000e+00],\n",
            "        [-2.9000e-01, -1.0000e+00],\n",
            "        [-2.8000e-01, -1.0000e+00],\n",
            "        [-2.7000e-01, -1.0000e+00],\n",
            "        [-2.6000e-01, -1.0000e+00],\n",
            "        [-2.5000e-01, -1.0000e+00],\n",
            "        [-2.4000e-01, -1.0000e+00],\n",
            "        [-2.3000e-01, -1.0000e+00],\n",
            "        [-2.2000e-01, -1.0000e+00],\n",
            "        [-2.1000e-01, -1.0000e+00],\n",
            "        [-2.0000e-01, -1.0000e+00],\n",
            "        [-1.9000e-01, -1.0000e+00],\n",
            "        [-1.8000e-01, -1.0000e+00],\n",
            "        [-1.7000e-01, -1.0000e+00],\n",
            "        [-1.6000e-01, -1.0000e+00],\n",
            "        [-1.5000e-01, -1.0000e+00],\n",
            "        [-1.4000e-01, -1.0000e+00],\n",
            "        [-1.3000e-01, -1.0000e+00],\n",
            "        [-1.2000e-01, -1.0000e+00],\n",
            "        [-1.1000e-01, -1.0000e+00],\n",
            "        [-1.0000e-01, -1.0000e+00],\n",
            "        [-9.0000e-02, -1.0000e+00],\n",
            "        [-8.0000e-02, -1.0000e+00],\n",
            "        [-7.0000e-02, -1.0000e+00],\n",
            "        [-6.0000e-02, -1.0000e+00],\n",
            "        [-5.0000e-02, -1.0000e+00],\n",
            "        [-4.0000e-02, -1.0000e+00],\n",
            "        [-3.0000e-02, -1.0000e+00],\n",
            "        [-2.0000e-02, -1.0000e+00],\n",
            "        [-1.0000e-02, -1.0000e+00],\n",
            "        [ 2.0817e-17, -1.0000e+00],\n",
            "        [ 1.0000e-02, -1.0000e+00],\n",
            "        [ 2.0000e-02, -1.0000e+00],\n",
            "        [ 3.0000e-02, -1.0000e+00],\n",
            "        [ 4.0000e-02, -1.0000e+00],\n",
            "        [ 5.0000e-02, -1.0000e+00],\n",
            "        [ 6.0000e-02, -1.0000e+00],\n",
            "        [ 7.0000e-02, -1.0000e+00],\n",
            "        [ 8.0000e-02, -1.0000e+00],\n",
            "        [ 9.0000e-02, -1.0000e+00],\n",
            "        [ 1.0000e-01, -1.0000e+00],\n",
            "        [ 1.1000e-01, -1.0000e+00],\n",
            "        [ 1.2000e-01, -1.0000e+00],\n",
            "        [ 1.3000e-01, -1.0000e+00],\n",
            "        [ 1.4000e-01, -1.0000e+00],\n",
            "        [ 1.5000e-01, -1.0000e+00],\n",
            "        [ 1.6000e-01, -1.0000e+00],\n",
            "        [ 1.7000e-01, -1.0000e+00],\n",
            "        [ 1.8000e-01, -1.0000e+00],\n",
            "        [ 1.9000e-01, -1.0000e+00],\n",
            "        [ 2.0000e-01, -1.0000e+00],\n",
            "        [ 2.1000e-01, -1.0000e+00],\n",
            "        [ 2.2000e-01, -1.0000e+00],\n",
            "        [ 2.3000e-01, -1.0000e+00],\n",
            "        [ 2.4000e-01, -1.0000e+00],\n",
            "        [ 2.5000e-01, -1.0000e+00],\n",
            "        [ 2.6000e-01, -1.0000e+00],\n",
            "        [ 2.7000e-01, -1.0000e+00],\n",
            "        [ 2.8000e-01, -1.0000e+00],\n",
            "        [ 2.9000e-01, -1.0000e+00],\n",
            "        [ 3.0000e-01, -1.0000e+00],\n",
            "        [ 3.1000e-01, -1.0000e+00],\n",
            "        [ 3.2000e-01, -1.0000e+00],\n",
            "        [ 3.3000e-01, -1.0000e+00],\n",
            "        [ 3.4000e-01, -1.0000e+00],\n",
            "        [ 3.5000e-01, -1.0000e+00],\n",
            "        [ 3.6000e-01, -1.0000e+00],\n",
            "        [ 3.7000e-01, -1.0000e+00],\n",
            "        [ 3.8000e-01, -1.0000e+00],\n",
            "        [ 3.9000e-01, -1.0000e+00],\n",
            "        [ 4.0000e-01, -1.0000e+00],\n",
            "        [ 4.1000e-01, -1.0000e+00],\n",
            "        [ 4.2000e-01, -1.0000e+00],\n",
            "        [ 4.3000e-01, -1.0000e+00],\n",
            "        [ 4.4000e-01, -1.0000e+00],\n",
            "        [ 4.5000e-01, -1.0000e+00],\n",
            "        [ 4.6000e-01, -1.0000e+00],\n",
            "        [ 4.7000e-01, -1.0000e+00],\n",
            "        [ 4.8000e-01, -1.0000e+00],\n",
            "        [ 4.9000e-01, -1.0000e+00],\n",
            "        [ 5.0000e-01, -1.0000e+00],\n",
            "        [ 5.1000e-01, -1.0000e+00],\n",
            "        [ 5.2000e-01, -1.0000e+00],\n",
            "        [ 5.3000e-01, -1.0000e+00],\n",
            "        [ 5.4000e-01, -1.0000e+00],\n",
            "        [ 5.5000e-01, -1.0000e+00],\n",
            "        [ 5.6000e-01, -1.0000e+00],\n",
            "        [ 5.7000e-01, -1.0000e+00],\n",
            "        [ 5.8000e-01, -1.0000e+00],\n",
            "        [ 5.9000e-01, -1.0000e+00],\n",
            "        [ 6.0000e-01, -1.0000e+00],\n",
            "        [ 6.1000e-01, -1.0000e+00],\n",
            "        [ 6.2000e-01, -1.0000e+00],\n",
            "        [ 6.3000e-01, -1.0000e+00],\n",
            "        [ 6.4000e-01, -1.0000e+00],\n",
            "        [ 6.5000e-01, -1.0000e+00],\n",
            "        [ 6.6000e-01, -1.0000e+00],\n",
            "        [ 6.7000e-01, -1.0000e+00],\n",
            "        [ 6.8000e-01, -1.0000e+00],\n",
            "        [ 6.9000e-01, -1.0000e+00],\n",
            "        [ 7.0000e-01, -1.0000e+00],\n",
            "        [ 7.1000e-01, -1.0000e+00],\n",
            "        [ 7.2000e-01, -1.0000e+00],\n",
            "        [ 7.3000e-01, -1.0000e+00],\n",
            "        [ 7.4000e-01, -1.0000e+00],\n",
            "        [ 7.5000e-01, -1.0000e+00],\n",
            "        [ 7.6000e-01, -1.0000e+00],\n",
            "        [ 7.7000e-01, -1.0000e+00],\n",
            "        [ 7.8000e-01, -1.0000e+00],\n",
            "        [ 7.9000e-01, -1.0000e+00],\n",
            "        [ 8.0000e-01, -1.0000e+00],\n",
            "        [ 8.1000e-01, -1.0000e+00],\n",
            "        [ 8.2000e-01, -1.0000e+00],\n",
            "        [ 8.3000e-01, -1.0000e+00],\n",
            "        [ 8.4000e-01, -1.0000e+00],\n",
            "        [ 8.5000e-01, -1.0000e+00],\n",
            "        [ 8.6000e-01, -1.0000e+00],\n",
            "        [ 8.7000e-01, -1.0000e+00],\n",
            "        [ 8.8000e-01, -1.0000e+00],\n",
            "        [ 8.9000e-01, -1.0000e+00],\n",
            "        [ 9.0000e-01, -1.0000e+00],\n",
            "        [ 9.1000e-01, -1.0000e+00],\n",
            "        [ 9.2000e-01, -1.0000e+00],\n",
            "        [ 9.3000e-01, -1.0000e+00],\n",
            "        [ 9.4000e-01, -1.0000e+00],\n",
            "        [ 9.5000e-01, -1.0000e+00],\n",
            "        [ 9.6000e-01, -1.0000e+00],\n",
            "        [ 9.7000e-01, -1.0000e+00],\n",
            "        [ 9.8000e-01, -1.0000e+00],\n",
            "        [ 9.9000e-01, -1.0000e+00],\n",
            "        [ 1.0000e+00, -1.0000e+00]], dtype=torch.float64)\n"
          ]
        }
      ]
    },
    {
      "cell_type": "code",
      "source": [
        "_, x_train = odeint(f, x0_train, t_span_train, solver=\"rk4\") # returns (t_eval, solution)\n",
        "# x_true = x_train\n",
        "# x_train = x_train + torch.randn_like(x_train) * 0.0\n",
        "\n",
        "_, x_validate = odeint(f, x0_validate, t_span_validate, solver=\"rk4\")\n",
        "\n",
        "_, x_example = odeint(f, x0_example, t_span_validate, solver=\"rk4\")"
      ],
      "metadata": {
        "id": "wJLX5JixF25C"
      },
      "execution_count": 163,
      "outputs": []
    },
    {
      "cell_type": "code",
      "source": [
        "# choices=[\"direct\", \"resnet\", \"euler\", \"rk4\"],\n",
        "# solver = DirectSolver()\n",
        "# solver = ResnetSolver()\n",
        "solver = 'rk4'"
      ],
      "metadata": {
        "id": "Twj1VB9nFxzo"
      },
      "execution_count": 164,
      "outputs": []
    },
    {
      "cell_type": "markdown",
      "source": [
        "### Model"
      ],
      "metadata": {
        "id": "8IlhVbs7ML1e"
      }
    },
    {
      "cell_type": "code",
      "source": [
        "##################### model ##########################\n",
        "layers = []\n",
        "layers.append(nn.Linear(2, 32))\n",
        "for _ in range(8):\n",
        "    layers.append(nn.Linear(32, 32))\n",
        "    layers.append(nn.Softplus())\n",
        "\n",
        "layers.append(nn.Linear(32, 2))\n",
        "\n",
        "net = nn.Sequential(*layers)\n",
        "net.to('cpu').double()\n",
        "\n",
        "for m in net.modules():\n",
        "    if type(m) == nn.Linear:\n",
        "        nn.init.xavier_uniform_(m.weight)"
      ],
      "metadata": {
        "id": "oZdnz17pGIf6"
      },
      "execution_count": 165,
      "outputs": []
    },
    {
      "cell_type": "markdown",
      "source": [
        "### Training"
      ],
      "metadata": {
        "id": "zc4ziQ6uMO_e"
      }
    },
    {
      "cell_type": "code",
      "source": [
        "# optimizer\n",
        "\n",
        "opt = Adam(net.parameters())\n",
        "\n",
        "# train\n",
        "losses = []"
      ],
      "metadata": {
        "id": "hS4wjtwbGoMS"
      },
      "execution_count": 166,
      "outputs": []
    },
    {
      "cell_type": "code",
      "source": [
        "solver"
      ],
      "metadata": {
        "colab": {
          "base_uri": "https://localhost:8080/",
          "height": 35
        },
        "id": "xYLL6Z9bk4NH",
        "outputId": "dec74849-8b9c-4acf-f069-87ea9dce076e"
      },
      "execution_count": 167,
      "outputs": [
        {
          "output_type": "execute_result",
          "data": {
            "text/plain": [
              "'rk4'"
            ],
            "application/vnd.google.colaboratory.intrinsic+json": {
              "type": "string"
            }
          },
          "metadata": {},
          "execution_count": 167
        }
      ]
    },
    {
      "cell_type": "markdown",
      "source": [
        "Certainly! In step 1 of the training loop, the model makes a forward pass through the ODE solver. This means that the ODE solver is used to solve an ordinary differential equation (ODE) using the neural network as the function being solved.\n",
        "\n",
        "The ODE solver is called with the following arguments:\n",
        "\n",
        "A function that defines the ODE. In this case, the function is the neural network itself. The function takes in two arguments: a time t and a tensor of states x. It returns the derivative of x with respect to t, calculated using the neural network.\n",
        "\n",
        "An initial tensor of states x0_train. This is the starting point for the ODE solver. The shape of x0_train (shape (100,2)) determines the shape of the input to the neural network.\n",
        "\n",
        "A time span t_span_train (tensor([0.0000, 0.0010])). This specifies the range of times over which the ODE should be solved. The ODE solver will evaluate the function at evenly spaced intervals within this time span.\n",
        "\n",
        "An optional solver argument, which specifies the method that the ODE solver should use to solve the ODE. If this argument is not provided, the ODE solver will use a default solver.\n",
        "\n",
        "The ODE solver returns two values: a tensor of time points t and a tensor of states x. In this code, the time points tensor is discarded and only the states tensor is kept. The shape of the states tensor will be (num_time_points->2, batch_size->100, 2), where num_time_points is the number of time points within the time span and batch_size is the batch size of the input. The last dimension has size 2 because the model has an output size of 2.\n",
        "\n",
        "The states tensor is then stored in a variable x_pred_train, which will be used in the next step to calculate the loss."
      ],
      "metadata": {
        "id": "UQpFa_KbLoCK"
      }
    },
    {
      "cell_type": "code",
      "source": [
        "##################### training ##########################\n",
        "for _ in tqdm(range(2000)):\n",
        "\n",
        "    # 1. Forward pass: The model makes a forward pass through the ODE solver, using\n",
        "    #  the input tensor x0_train and the time span t_span_train.\n",
        "    #  The function being solved by the ODE solver is the neural network itself,\n",
        "    #  which is passed as an argument to the ODE solver.\n",
        "    _, x_pred_train = odeint(\n",
        "        lambda t, x: net(x), \n",
        "        x0_train,\n",
        "        t_span_train, \n",
        "        solver=solver\n",
        "    )\n",
        "    \n",
        "    # 2. Calculate loss: Take the mean error over the 100 trajectories\n",
        "    loss = mse_loss(x_pred_train, x_train)\n",
        "\n",
        "    # 3. Zero grad\n",
        "    opt.zero_grad()\n",
        "\n",
        "    # 4. Backward pass\n",
        "    loss.backward()\n",
        "\n",
        "    # 5. Update weights\n",
        "    opt.step()\n",
        "    \n",
        "    losses.append(loss.item())"
      ],
      "metadata": {
        "id": "oL2UImIaGsbx"
      },
      "execution_count": null,
      "outputs": []
    },
    {
      "cell_type": "code",
      "source": [
        "print(x0_train.shape)\n",
        "print(x_pred_train.shape)\n",
        "print(x_train.shape)"
      ],
      "metadata": {
        "colab": {
          "base_uri": "https://localhost:8080/"
        },
        "id": "BUptqPpEJ798",
        "outputId": "14520297-834a-4e0d-a5d1-08ec9f5318b8"
      },
      "execution_count": 186,
      "outputs": [
        {
          "output_type": "stream",
          "name": "stdout",
          "text": [
            "torch.Size([100, 2])\n",
            "torch.Size([2, 100, 2])\n",
            "torch.Size([2, 100, 2])\n"
          ]
        }
      ]
    },
    {
      "cell_type": "code",
      "source": [
        "try:\n",
        "    print(np.mean((x_pred_train.detach().numpy() - x_train.detach().numpy())**2))\n",
        "    print(loss)\n",
        "except:\n",
        "    pass"
      ],
      "metadata": {
        "colab": {
          "base_uri": "https://localhost:8080/"
        },
        "id": "_wgyacUzS1r6",
        "outputId": "e1bb93a6-cc4e-47f6-f4a6-cd958a1a8970"
      },
      "execution_count": 197,
      "outputs": [
        {
          "output_type": "stream",
          "name": "stdout",
          "text": [
            "3.0667355961022244e-10\n",
            "tensor(3.0667e-10, dtype=torch.float64, grad_fn=<MseLossBackward0>)\n"
          ]
        }
      ]
    },
    {
      "cell_type": "markdown",
      "source": [
        "### Validation"
      ],
      "metadata": {
        "id": "85yIFPFcMT_e"
      }
    },
    {
      "cell_type": "code",
      "source": [
        "plt.figure(figsize=(10,5))\n",
        "plt.plot(losses)"
      ],
      "metadata": {
        "colab": {
          "base_uri": "https://localhost:8080/",
          "height": 348
        },
        "id": "K4xVZPBXruXW",
        "outputId": "752f8ef4-bece-4f89-f6ee-64bc7e61af92"
      },
      "execution_count": 169,
      "outputs": [
        {
          "output_type": "execute_result",
          "data": {
            "text/plain": [
              "[<matplotlib.lines.Line2D at 0x7f9f7460c280>]"
            ]
          },
          "metadata": {},
          "execution_count": 169
        },
        {
          "output_type": "display_data",
          "data": {
            "text/plain": [
              "<Figure size 720x360 with 1 Axes>"
            ],
            "image/png": "[encoded data removed]"
          },
          "metadata": {
            "needs_background": "light"
          }
        }
      ]
    },
    {
      "cell_type": "code",
      "source": [
        "# _, x_pred_train = odeint(lambda t, x: net(x), x0_train, t_span_train, solver=solver)"
      ],
      "metadata": {
        "id": "a-mWP1IhHPZ6"
      },
      "execution_count": 170,
      "outputs": []
    },
    {
      "cell_type": "code",
      "source": [
        "_, x_pred_validate = odeint(\n",
        "    lambda t, x: net(x), x0_validate, t_span_validate, solver=solver\n",
        ")"
      ],
      "metadata": {
        "id": "3oY9iefXG4Oh"
      },
      "execution_count": 171,
      "outputs": []
    },
    {
      "cell_type": "code",
      "source": [
        "_, x_pred_example = odeint(\n",
        "    lambda t, x: net(x), x0_example, t_span_validate, solver=solver\n",
        ")"
      ],
      "metadata": {
        "id": "C5b-lClRI_Dw",
        "colab": {
          "base_uri": "https://localhost:8080/"
        },
        "outputId": "f70d3ff6-6d2d-4dad-a754-6925522531e9"
      },
      "execution_count": 180,
      "outputs": [
        {
          "output_type": "execute_result",
          "data": {
            "text/plain": [
              "tensor([0.0000e+00, 1.0000e-03, 2.0000e-03,  ..., 1.2564e+01, 1.2565e+01,\n",
              "        1.2566e+01])"
            ]
          },
          "metadata": {},
          "execution_count": 180
        }
      ]
    },
    {
      "cell_type": "code",
      "source": [
        "# derivatives\n",
        "# x0_grid_before = get_meshgrid(step_per_axis=0.01, domain=domain)\n",
        "# x0_grid = get_meshgrid(step_per_axis=0.01, domain=domain_validate)\n",
        "# x_derivative = f(None, x0_grid)"
      ],
      "metadata": {
        "id": "HUOSs69UJCoN"
      },
      "execution_count": 173,
      "outputs": []
    },
    {
      "cell_type": "markdown",
      "source": [
        "Direct"
      ],
      "metadata": {
        "id": "qO4TMRChJIEE"
      }
    },
    {
      "cell_type": "code",
      "source": [
        "# out = net(x0_grid)\n",
        "# normalize for the step size used during training. If the network is trained with a step-size of 1/100 of a second\n",
        "# it will predict changes that are 100 times as small as those for 1 second.\n",
        "# x_derivative_pred = (out - x0_grid) / step_size_train"
      ],
      "metadata": {
        "id": "pm9De6USJE5X"
      },
      "execution_count": 174,
      "outputs": []
    },
    {
      "cell_type": "code",
      "source": [
        "# print(type(x_derivative_pred))"
      ],
      "metadata": {
        "id": "iUMomqcLKngS"
      },
      "execution_count": 175,
      "outputs": []
    },
    {
      "cell_type": "code",
      "source": [
        " # @title plot\n",
        "try:\n",
        "    # x_pred_train = x_pred_train.detach().numpy()\n",
        "    x_pred_validate = x_pred_validate.detach().numpy()\n",
        "    x_pred_example = x_pred_example.detach().numpy()\n",
        "    # x_derivative_pred = x_derivative_pred.detach().numpy()\n",
        "    # x_derivative = x_derivative.detach().numpy()\n",
        "    x0_grid = x0_grid.detach().numpy()\n",
        "\n",
        "\n",
        "    # time series validation, specific idx\n",
        "    fig, (ax1, ax2) = plt.subplots(2, sharex=True)\n",
        "    example_idx = 0\n",
        "\n",
        "    ax1.plot(t_span_validate, x_validate[..., example_idx, 0], color=\"black\")\n",
        "    ax1.plot(\n",
        "        t_span_validate,\n",
        "        x_pred_validate[..., example_idx, 0],\n",
        "        linestyle=\"dashed\",\n",
        "        color=\"blue\",\n",
        "    )\n",
        "\n",
        "    ax2.plot(\n",
        "        t_span_validate, x_validate[..., example_idx, 1], color=\"black\", label=\"true\"\n",
        "    )\n",
        "    ax2.plot(\n",
        "        t_span_validate,\n",
        "        x_pred_validate[..., example_idx, 1],\n",
        "        linestyle=\"dashed\",\n",
        "        color=\"blue\",\n",
        "        label=\"pred\",\n",
        "    )\n",
        "    ax1.set_ylabel(\"θ(t)\")\n",
        "    ax2.set_ylabel(\"ω(t)\")\n",
        "    ax2.set_xlabel(\"t\")\n",
        "    ax2.legend()\n",
        "\n",
        "    # time series validation, example (0.6,0)\n",
        "    fig, (ax1, ax2) = plt.subplots(2, sharex=True)\n",
        "\n",
        "    ax1.plot(t_span_validate, x_example[..., 0], color=\"black\")\n",
        "    ax1.plot(\n",
        "        t_span_validate,\n",
        "        x_pred_example[..., 0],\n",
        "        linestyle=\"dashed\",\n",
        "        color=\"blue\",\n",
        "    )\n",
        "    \n",
        "    ax2.plot(t_span_validate, x_example[..., 1], label=\"true\", color=\"black\")\n",
        "    ax2.plot(\n",
        "        t_span_validate,\n",
        "        x_pred_example[..., 1],\n",
        "        linestyle=\"dashed\",\n",
        "        color=\"blue\",\n",
        "        label=\"predicted\",\n",
        "    )\n",
        "    ax1.set_ylabel(\"θ(t)\")\n",
        "    ax2.set_ylabel(\"ω(t)\")\n",
        "    ax2.set_xlabel(\"t\")\n",
        "    ax2.legend()\n",
        "\n",
        "    # show\n",
        "    fig, ax = plt.subplots()\n",
        "    ax.plot(losses)\n",
        "    ax.set_xlabel(\"epoch\")\n",
        "    ax.set_ylabel(\"MSE\")\n",
        "\n",
        "    plt.show()\n",
        "\n",
        "except:\n",
        "    pass"
      ],
      "metadata": {
        "colab": {
          "base_uri": "https://localhost:8080/",
          "height": 814
        },
        "id": "nu_ykqHGJR76",
        "outputId": "d259ddae-0fe0-425a-fd6e-905098cc89c9"
      },
      "execution_count": 176,
      "outputs": [
        {
          "output_type": "display_data",
          "data": {
            "text/plain": [
              "<Figure size 432x288 with 2 Axes>"
            ],
            "image/png": "[encoded data removed]"
          },
          "metadata": {
            "needs_background": "light"
          }
        },
        {
          "output_type": "display_data",
          "data": {
            "text/plain": [
              "<Figure size 432x288 with 2 Axes>"
            ],
            "image/png": "[encoded data removed]"
          },
          "metadata": {
            "needs_background": "light"
          }
        },
        {
          "output_type": "display_data",
          "data": {
            "text/plain": [
              "<Figure size 432x288 with 1 Axes>"
            ],
            "image/png": "[encoded data removed]"
          },
          "metadata": {
            "needs_background": "light"
          }
        }
      ]
    }
  ]
}