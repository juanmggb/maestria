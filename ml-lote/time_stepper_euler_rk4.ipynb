{
  "nbformat": 4,
  "nbformat_minor": 0,
  "metadata": {
    "colab": {
      "provenance": [],
      "authorship_tag": "ABX9TyN//BW2ZIeMDNnjwhDu2L44",
      "include_colab_link": true
    },
    "kernelspec": {
      "name": "python3",
      "display_name": "Python 3"
    },
    "language_info": {
      "name": "python"
    }
  },
  "cells": [
    {
      "cell_type": "markdown",
      "metadata": {
        "id": "view-in-github",
        "colab_type": "text"
      },
      "source": [
        "<a href=\"https://colab.research.google.com/github/JuanM-GG/maestria/blob/main/ml-lote/time_stepper_euler_rk4.ipynb\" target=\"_parent\"><img src=\"https://colab.research.google.com/assets/colab-badge.svg\" alt=\"Open In Colab\"/></a>"
      ]
    },
    {
      "cell_type": "code",
      "source": [
        "pip install smt"
      ],
      "metadata": {
        "id": "8T8jpQYnDmA6"
      },
      "execution_count": null,
      "outputs": []
    },
    {
      "cell_type": "code",
      "source": [
        "pip install torchdyn"
      ],
      "metadata": {
        "id": "OKxMdqPzDleG"
      },
      "execution_count": null,
      "outputs": []
    },
    {
      "cell_type": "code",
      "source": [
        "pip install pyDOE"
      ],
      "metadata": {
        "id": "P41mgAK0DzW1"
      },
      "execution_count": null,
      "outputs": []
    },
    {
      "cell_type": "code",
      "execution_count": 5,
      "metadata": {
        "id": "nYMx_WpuDkA3"
      },
      "outputs": [],
      "source": [
        "from argparse import ArgumentParser\n",
        "from numpy import double\n",
        "import torch.nn as nn\n",
        "from torch.optim import Adam\n",
        "from tqdm import tqdm\n",
        "from pyDOE import lhs\n",
        "import matplotlib.pyplot as plt\n",
        "from torch.nn.functional import mse_loss\n",
        "import numpy as np\n",
        "\n",
        "import torch\n",
        "from torchdyn.numerics import odeint\n",
        "# from torchdyn.numerics.solvers import SolverTemplate\n",
        "import matplotlib.patches as mpatches\n",
        "from matplotlib.collections import LineCollection\n",
        "\n",
        "from visualization import get_meshgrid, plot_colored"
      ]
    },
    {
      "cell_type": "markdown",
      "source": [
        "### Solvers"
      ],
      "metadata": {
        "id": "m0k1iyuZMFQM"
      }
    },
    {
      "cell_type": "markdown",
      "source": [
        "In this case, SolverTemplate and DirectSolver are not necessarily representing a neural network, but they are using nn.Module as a base class to take advantage of the aforementioned benefits."
      ],
      "metadata": {
        "id": "DijWiX_LmtUr"
      }
    },
    {
      "cell_type": "code",
      "source": [
        "class SolverTemplate(nn.Module):\n",
        "    # def __init__(self, order, min_factor: float = 0.2, max_factor: float = 10, safety: float = 0.9):\n",
        "    def __init__(self):\n",
        "        super().__init__()\n",
        "        # self.order = order\n",
        "        # self.min_factor = torch.tensor([min_factor])\n",
        "        # self.max_factor = torch.tensor([max_factor])\n",
        "        # self.safety = torch.tensor([safety])\n",
        "        # self.tableau = None\n",
        "\n",
        "    def sync_device_dtype(self, x, t_span):\n",
        "        \"Ensures `x`, `t_span`, `tableau` and other solver tensors are on the same device with compatible dtypes\"\n",
        "\n",
        "        if isinstance(x, dict):\n",
        "            proto_arr = x[list(x.keys())[0]]\n",
        "        elif isinstance(x, torch.Tensor):\n",
        "            proto_arr = x\n",
        "        else:\n",
        "            raise NotImplementedError(\n",
        "                f\"{type(x)} is not supported as the state variable\")\n",
        "\n",
        "        device = proto_arr.device\n",
        "\n",
        "        # if self.tableau is not None:\n",
        "        #     c, a, bsol, berr = self.tableau\n",
        "        #     self.tableau = c.to(proto_arr), [a.to(proto_arr) for a in a], bsol.to(\n",
        "        #         proto_arr), berr.to(proto_arr)\n",
        "        t_span = t_span.to(device)\n",
        "        # self.safety = self.safety.to(device)\n",
        "        # self.min_factor = self.min_factor.to(device)\n",
        "        # self.max_factor = self.max_factor.to(device)\n",
        "        return x, t_span\n",
        "\n",
        "    def step(self, f, x, t, dt, k1=None, args=None):\n",
        "        pass\n",
        "\n",
        "\n",
        "class DirectSolver(SolverTemplate):\n",
        "    def __init__(self, dtype=torch.float32):\n",
        "        # super().__init__(order=1)\n",
        "        super().__init__()\n",
        "        self.dtype = dtype\n",
        "        self.stepping_class = \"fixed\"\n",
        "\n",
        "    def step(self, f, x, t, dt, k1=None, args=None):\n",
        "\n",
        "        x_sol = f(t, x)\n",
        "        return None, x_sol, None\n",
        "\n",
        "class ResnetSolver(SolverTemplate):\n",
        "    def __init__(self, step_size=None, dtype=torch.float32):\n",
        "        # super().__init__(order=1)\n",
        "        super().__init__()\n",
        "        self.dtype = dtype\n",
        "        self.stepping_class = \"fixed\"\n",
        "\n",
        "        self.step_size = 1 if step_size is None else step_size\n",
        "\n",
        "    def step(self, f, x, t, dt, k1=None, args=None):\n",
        "        x_sol = x + f(t, x) * self.step_size\n",
        "        return None, x_sol, None"
      ],
      "metadata": {
        "id": "2vSDuLVWD_bt"
      },
      "execution_count": 78,
      "outputs": []
    },
    {
      "cell_type": "code",
      "source": [
        "class SolverTemplate(nn.Module):\n",
        "    def __init__(self):\n",
        "        super().__init__()\n",
        "\n",
        "    def sync_device_dtype(self, x, t_span):\n",
        "        \"Ensures `x`, `t_span`, `tableau` and other solver tensors are on the same device with compatible dtypes\"\n",
        "\n",
        "        if isinstance(x, dict):\n",
        "            proto_arr = x[list(x.keys())[0]]\n",
        "        elif isinstance(x, torch.Tensor):\n",
        "            proto_arr = x\n",
        "        else:\n",
        "            raise NotImplementedError(\n",
        "                f\"{type(x)} is not supported as the state variable\")\n",
        "\n",
        "        device = proto_arr.device\n",
        "\n",
        "        t_span = t_span.to(device)\n",
        "        return x, t_span\n",
        "\n",
        "    def step(self, f, x, t, dt, k1=None, args=None):\n",
        "        pass\n",
        "\n",
        "class DirectSolver(SolverTemplate):\n",
        "    def __init__(self, dtype=torch.float32):\n",
        "        super().__init__()\n",
        "        self.dtype = dtype\n",
        "        self.stepping_class = \"fixed\"\n",
        "\n",
        "    def step(self, f, x, t, dt, k1=None, args=None):\n",
        "\n",
        "        x_sol = f(t, x)\n",
        "        return None, x_sol, None\n",
        "\n",
        "class ResnetSolver(SolverTemplate):\n",
        "    def __init__(self, step_size=None, dtype=torch.float32):\n",
        "        super().__init__()\n",
        "        self.dtype = dtype\n",
        "        self.stepping_class = \"fixed\"\n",
        "\n",
        "        self.step_size = 1 if step_size is None else step_size\n",
        "\n",
        "    def step(self, f, x, t, dt, k1=None, args=None):\n",
        "        # x_sol = f(t, x)\n",
        "        x_sol = x + f(t, x) * self.step_size\n",
        "        return None, x_sol, None\n"
      ],
      "metadata": {
        "id": "nKnu8zPQqO7m"
      },
      "execution_count": 63,
      "outputs": []
    },
    {
      "cell_type": "markdown",
      "source": [
        "### Generate data"
      ],
      "metadata": {
        "id": "sfYvAK6TMIow"
      }
    },
    {
      "cell_type": "code",
      "source": [
        "# generate data\n",
        "\n",
        "def f(t, x):\n",
        "    θ = x[..., 0]\n",
        "    ω = x[..., 1]\n",
        "\n",
        "    dθ = ω\n",
        "    dω = -torch.sin(θ)\n",
        "\n",
        "    return torch.stack((dθ, dω), dim=-1)\n",
        "\n",
        "domain_draw_factor = 1.3\n",
        "\n",
        "domain_train = 1.0\n",
        "domain_validate = 1.0\n",
        "\n",
        "x0_train = (\n",
        "    torch.tensor(lhs(2, 100), device='cpu') * 2 - 1\n",
        ") * domain_train\n",
        "\n",
        "x0_validate = (\n",
        "    torch.tensor(lhs(2, 10), device='cpu') * 2 - 1\n",
        ") * domain_validate\n",
        "\n",
        "x0_grid = get_meshgrid(step_per_axis=0.01, domain=domain_validate)\n",
        "x0_example = torch.tensor((0.6, 0)).double().unsqueeze(0).to('cpu')\n",
        "\n",
        "step_size_train = 0.001\n",
        "ε = 1e-10\n",
        "t_span_train = torch.arange(\n",
        "    0.0,0.001 + ε, step_size_train\n",
        ")\n",
        "t_span_validate = torch.arange(\n",
        "    0.0,\n",
        "    4*np.pi + ε,\n",
        "    step_size_train,\n",
        ")"
      ],
      "metadata": {
        "id": "yD6xth15EiJX"
      },
      "execution_count": 64,
      "outputs": []
    },
    {
      "cell_type": "code",
      "source": [
        "_, x_train = odeint(f, x0_train, t_span_train, solver=\"rk4\")\n",
        "x_true = x_train\n",
        "x_train = x_train + torch.randn_like(x_train) * 0.0\n",
        "\n",
        "_, x_validate = odeint(f, x0_validate, t_span_validate, solver=\"rk4\")\n",
        "_, x_example = odeint(f, x0_example, t_span_validate, solver=\"rk4\")"
      ],
      "metadata": {
        "id": "wJLX5JixF25C"
      },
      "execution_count": 109,
      "outputs": []
    },
    {
      "cell_type": "code",
      "source": [
        "_, x_validate = odeint(f, x0_validate, t_span_validate, solver=\"rk4\")\n",
        "_, x_example = odeint(f, x0_example, t_span_validate, solver=\"rk4\")"
      ],
      "metadata": {
        "id": "NnT1HX73GBpY"
      },
      "execution_count": 110,
      "outputs": []
    },
    {
      "cell_type": "code",
      "source": [
        "# choices=[\"direct\", \"resnet\", \"euler\", \"rk4\"],\n",
        "# solver = ResnetSolver()\n",
        "solver = 'rk4'"
      ],
      "metadata": {
        "id": "Twj1VB9nFxzo"
      },
      "execution_count": 125,
      "outputs": []
    },
    {
      "cell_type": "markdown",
      "source": [
        "### Model"
      ],
      "metadata": {
        "id": "8IlhVbs7ML1e"
      }
    },
    {
      "cell_type": "code",
      "source": [
        "##################### model ##########################\n",
        "layers = []\n",
        "layers.append(nn.Linear(2, 32))\n",
        "for _ in range(8):\n",
        "    layers.append(nn.Linear(32, 32))\n",
        "    layers.append(nn.Softplus())\n",
        "\n",
        "layers.append(nn.Linear(32, 2))\n",
        "\n",
        "net = nn.Sequential(*layers)\n",
        "net.to('cpu').double()\n",
        "\n",
        "for m in net.modules():\n",
        "    if type(m) == nn.Linear:\n",
        "        nn.init.xavier_uniform_(m.weight)"
      ],
      "metadata": {
        "id": "oZdnz17pGIf6"
      },
      "execution_count": 111,
      "outputs": []
    },
    {
      "cell_type": "markdown",
      "source": [
        "### Training"
      ],
      "metadata": {
        "id": "zc4ziQ6uMO_e"
      }
    },
    {
      "cell_type": "code",
      "source": [
        "# optimizer\n",
        "\n",
        "opt = Adam(net.parameters())\n",
        "\n",
        "# train\n",
        "losses = []"
      ],
      "metadata": {
        "id": "hS4wjtwbGoMS"
      },
      "execution_count": 126,
      "outputs": []
    },
    {
      "cell_type": "code",
      "source": [
        "solver"
      ],
      "metadata": {
        "colab": {
          "base_uri": "https://localhost:8080/",
          "height": 35
        },
        "id": "xYLL6Z9bk4NH",
        "outputId": "884aab19-5aec-4c09-d636-5334c8c456a0"
      },
      "execution_count": 127,
      "outputs": [
        {
          "output_type": "execute_result",
          "data": {
            "text/plain": [
              "'rk4'"
            ],
            "application/vnd.google.colaboratory.intrinsic+json": {
              "type": "string"
            }
          },
          "metadata": {},
          "execution_count": 127
        }
      ]
    },
    {
      "cell_type": "code",
      "source": [
        "for _ in tqdm(range(2000)):\n",
        "\n",
        "    _, x_pred_train = odeint(\n",
        "        lambda t, x: net(x), \n",
        "        x0_train,\n",
        "        t_span_train, \n",
        "        solver=solver\n",
        "    )\n",
        "    \n",
        "    loss = mse_loss(x_pred_train, x_train)\n",
        "    loss.backward()\n",
        "    opt.step()\n",
        "    opt.zero_grad()\n",
        "    losses.append(loss.item())"
      ],
      "metadata": {
        "colab": {
          "base_uri": "https://localhost:8080/"
        },
        "id": "oL2UImIaGsbx",
        "outputId": "bd3ff79a-01c3-4df4-d28c-0dfe40348f81"
      },
      "execution_count": 128,
      "outputs": [
        {
          "output_type": "stream",
          "name": "stderr",
          "text": [
            "100%|██████████| 2000/2000 [00:20<00:00, 95.55it/s] \n"
          ]
        }
      ]
    },
    {
      "cell_type": "markdown",
      "source": [
        "### Validation"
      ],
      "metadata": {
        "id": "85yIFPFcMT_e"
      }
    },
    {
      "cell_type": "code",
      "source": [
        "plt.figure(figsize=(10,5))\n",
        "plt.plot(losses)"
      ],
      "metadata": {
        "colab": {
          "base_uri": "https://localhost:8080/",
          "height": 348
        },
        "id": "K4xVZPBXruXW",
        "outputId": "a179dd53-19cb-41af-fbdd-84db77719ca6"
      },
      "execution_count": 129,
      "outputs": [
        {
          "output_type": "execute_result",
          "data": {
            "text/plain": [
              "[<matplotlib.lines.Line2D at 0x7f9f767345e0>]"
            ]
          },
          "metadata": {},
          "execution_count": 129
        },
        {
          "output_type": "display_data",
          "data": {
            "text/plain": [
              "<Figure size 720x360 with 1 Axes>"
            ],
            "image/png": "[encoded data removed]"
          },
          "metadata": {
            "needs_background": "light"
          }
        }
      ]
    },
    {
      "cell_type": "code",
      "source": [
        "_, x_pred_train = odeint(lambda t, x: net(x), x0_train, t_span_train, solver=solver)"
      ],
      "metadata": {
        "id": "a-mWP1IhHPZ6"
      },
      "execution_count": 130,
      "outputs": []
    },
    {
      "cell_type": "code",
      "source": [
        "_, x_pred_validate = odeint(\n",
        "    lambda t, x: net(x), x0_validate, t_span_validate, solver=solver\n",
        ")"
      ],
      "metadata": {
        "id": "3oY9iefXG4Oh"
      },
      "execution_count": 131,
      "outputs": []
    },
    {
      "cell_type": "code",
      "source": [
        "_, x_pred_example = odeint(\n",
        "    lambda t, x: net(x), x0_example, t_span_validate, solver=solver\n",
        ")"
      ],
      "metadata": {
        "id": "C5b-lClRI_Dw"
      },
      "execution_count": 132,
      "outputs": []
    },
    {
      "cell_type": "code",
      "source": [
        "# derivatives\n",
        "# x0_grid_before = get_meshgrid(step_per_axis=0.01, domain=domain)\n",
        "x0_grid = get_meshgrid(step_per_axis=0.01, domain=domain_validate)\n",
        "x_derivative = f(None, x0_grid)"
      ],
      "metadata": {
        "id": "HUOSs69UJCoN"
      },
      "execution_count": 133,
      "outputs": []
    },
    {
      "cell_type": "markdown",
      "source": [
        "Direct"
      ],
      "metadata": {
        "id": "qO4TMRChJIEE"
      }
    },
    {
      "cell_type": "code",
      "source": [
        "out = net(x0_grid)\n",
        "# normalize for the step size used during training. If the network is trained with a step-size of 1/100 of a second\n",
        "# it will predict changes that are 100 times as small as those for 1 second.\n",
        "x_derivative_pred = (out - x0_grid) / step_size_train"
      ],
      "metadata": {
        "id": "pm9De6USJE5X"
      },
      "execution_count": 134,
      "outputs": []
    },
    {
      "cell_type": "code",
      "source": [
        "print(type(x_derivative_pred))"
      ],
      "metadata": {
        "colab": {
          "base_uri": "https://localhost:8080/"
        },
        "id": "iUMomqcLKngS",
        "outputId": "07761cee-0a3b-4f27-f180-febc130c38c9"
      },
      "execution_count": 135,
      "outputs": [
        {
          "output_type": "stream",
          "name": "stdout",
          "text": [
            "<class 'torch.Tensor'>\n"
          ]
        }
      ]
    },
    {
      "cell_type": "code",
      "source": [
        " # @title plot\n",
        "try:\n",
        "    x_pred_train = x_pred_train.detach().numpy()\n",
        "    x_pred_validate = x_pred_validate.detach().numpy()\n",
        "    x_pred_example = x_pred_example.detach().numpy()\n",
        "    x_derivative_pred = x_derivative_pred.detach().numpy()\n",
        "    x_derivative = x_derivative.detach().numpy()\n",
        "    x0_grid = x0_grid.detach().numpy()\n",
        "\n",
        "\n",
        "    # time series validation, specific idx\n",
        "    fig, (ax1, ax2) = plt.subplots(2, sharex=True)\n",
        "    example_idx = 0\n",
        "\n",
        "    ax1.plot(t_span_validate, x_validate[..., example_idx, 0], color=\"black\")\n",
        "    ax1.plot(\n",
        "        t_span_validate,\n",
        "        x_pred_validate[..., example_idx, 0],\n",
        "        linestyle=\"dashed\",\n",
        "        color=\"blue\",\n",
        "    )\n",
        "    ax2.plot(\n",
        "        t_span_validate, x_validate[..., example_idx, 1], color=\"black\", label=\"true\"\n",
        "    )\n",
        "    ax2.plot(\n",
        "        t_span_validate,\n",
        "        x_pred_validate[..., example_idx, 1],\n",
        "        linestyle=\"dashed\",\n",
        "        color=\"blue\",\n",
        "        label=\"pred\",\n",
        "    )\n",
        "    ax1.set_ylabel(\"θ(t)\")\n",
        "    ax2.set_ylabel(\"ω(t)\")\n",
        "    ax2.set_xlabel(\"t\")\n",
        "    ax2.legend()\n",
        "\n",
        "    # time series validation, example (0.6,0)\n",
        "    fig, (ax1, ax2) = plt.subplots(2, sharex=True)\n",
        "    fig.canvas.manager.set_window_title(f\"states vs time: validation example\")\n",
        "\n",
        "    ax1.plot(t_span_validate, x_example[..., 0], color=\"black\")\n",
        "    ax1.plot(\n",
        "        t_span_validate,\n",
        "        x_pred_example[..., 0],\n",
        "        linestyle=\"dashed\",\n",
        "        color=\"blue\",\n",
        "    )\n",
        "    ax2.plot(t_span_validate, x_example[..., 1], label=\"true\", color=\"black\")\n",
        "    ax2.plot(\n",
        "        t_span_validate,\n",
        "        x_pred_example[..., 1],\n",
        "        linestyle=\"dashed\",\n",
        "        color=\"blue\",\n",
        "        label=\"predicted\",\n",
        "    )\n",
        "    ax1.set_ylabel(\"θ(t)\")\n",
        "    ax2.set_ylabel(\"ω(t)\")\n",
        "    ax2.set_xlabel(\"t\")\n",
        "    ax2.legend()\n",
        "\n",
        "    # show\n",
        "    fig, ax = plt.subplots()\n",
        "    ax.plot(losses)\n",
        "    ax.set_xlabel(\"epoch\")\n",
        "    ax.set_ylabel(\"MSE\")\n",
        "\n",
        "    plt.show()\n",
        "\n",
        "except:\n",
        "    pass"
      ],
      "metadata": {
        "colab": {
          "base_uri": "https://localhost:8080/",
          "height": 814
        },
        "id": "nu_ykqHGJR76",
        "outputId": "4d47dea2-8e3a-4ff9-f91f-7d7d56b3b1c9"
      },
      "execution_count": 136,
      "outputs": [
        {
          "output_type": "display_data",
          "data": {
            "text/plain": [
              "<Figure size 432x288 with 2 Axes>"
            ],
            "image/png": "[encoded data removed]"
          },
          "metadata": {
            "needs_background": "light"
          }
        },
        {
          "output_type": "display_data",
          "data": {
            "text/plain": [
              "<Figure size 432x288 with 2 Axes>"
            ],
            "image/png": "[encoded data removed]"
          },
          "metadata": {
            "needs_background": "light"
          }
        },
        {
          "output_type": "display_data",
          "data": {
            "text/plain": [
              "<Figure size 432x288 with 1 Axes>"
            ],
            "image/png": "[encoded data removed]"
          },
          "metadata": {
            "needs_background": "light"
          }
        }
      ]
    }
  ]
}