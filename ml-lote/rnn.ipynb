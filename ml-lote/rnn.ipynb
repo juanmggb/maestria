{
  "nbformat": 4,
  "nbformat_minor": 0,
  "metadata": {
    "colab": {
      "provenance": [],
      "authorship_tag": "ABX9TyPzq3FmDDB0NsF45N+bOj3I",
      "include_colab_link": true
    },
    "kernelspec": {
      "name": "python3",
      "display_name": "Python 3"
    },
    "language_info": {
      "name": "python"
    }
  },
  "cells": [
    {
      "cell_type": "markdown",
      "metadata": {
        "id": "view-in-github",
        "colab_type": "text"
      },
      "source": [
        "<a href=\"https://colab.research.google.com/github/JuanM-GG/maestria/blob/main/ml-lote/rnn.ipynb\" target=\"_parent\"><img src=\"https://colab.research.google.com/assets/colab-badge.svg\" alt=\"Open In Colab\"/></a>"
      ]
    },
    {
      "cell_type": "code",
      "source": [
        "pip install torchdyn"
      ],
      "metadata": {
        "id": "oI9-0rxrxZcF"
      },
      "execution_count": null,
      "outputs": []
    },
    {
      "cell_type": "code",
      "source": [
        "pip install smt"
      ],
      "metadata": {
        "id": "-w08X8m5xmAx"
      },
      "execution_count": null,
      "outputs": []
    },
    {
      "cell_type": "code",
      "execution_count": 4,
      "metadata": {
        "id": "6_JpYj65wfq2"
      },
      "outputs": [],
      "source": [
        "import numpy as np\n",
        "import torch\n",
        "\n",
        "from matplotlib import pyplot as plt\n",
        "\n",
        "from tqdm import tqdm\n",
        "from torch import nn\n",
        "from torch.nn.functional import mse_loss\n",
        "from torchdyn.numerics import odeint\n",
        "\n",
        "from dataloader import Sampling, load_pendulum_data"
      ]
    },
    {
      "cell_type": "code",
      "source": [
        "# Training data\n",
        "\n",
        "y0s_domain = [[-1., 1.], [-1., 1.]]\n",
        "n_steps = 1\n",
        "step_size = 0.01  \n",
        "t_span = torch.arange(0., step_size * (n_steps + 1), step_size)\n",
        "\n",
        "y0s, ys = load_pendulum_data(t_span, y0s_domain, \n",
        "                             n_trajectories=20, \n",
        "                             sampling=Sampling.RANDOM)\n"
      ],
      "metadata": {
        "colab": {
          "base_uri": "https://localhost:8080/"
        },
        "id": "12DLLcySxflp",
        "outputId": "65c2c27d-6f56-4be5-bd15-222873979452"
      },
      "execution_count": 15,
      "outputs": [
        {
          "output_type": "execute_result",
          "data": {
            "text/plain": [
              "20"
            ]
          },
          "metadata": {},
          "execution_count": 15
        }
      ]
    },
    {
      "cell_type": "code",
      "source": [
        "print(y0s.shape)\n",
        "print(ys.shape)"
      ],
      "metadata": {
        "colab": {
          "base_uri": "https://localhost:8080/"
        },
        "id": "d7qOgvvky96J",
        "outputId": "3a12de60-650b-4650-be7b-bd95d54fbf7f"
      },
      "execution_count": 20,
      "outputs": [
        {
          "output_type": "stream",
          "name": "stdout",
          "text": [
            "torch.Size([100, 2])\n",
            "torch.Size([21, 100, 2])\n"
          ]
        }
      ]
    },
    {
      "cell_type": "code",
      "source": [
        "# Network \n",
        "class RNN(nn.Module):\n",
        "\n",
        "    def __init__(self, n_states):\n",
        "        super().__init__()\n",
        "\n",
        "        #  The batch_first argument is set to True, which means that the input and \n",
        "        #  output tensors are expected to have the batch size as the first dimension.\n",
        "\n",
        "        # The double method of the RNN model converts the model's parameters to\n",
        "        # double-precision floating-point numbers.\n",
        "\n",
        "        self.rnn = nn.RNN(n_states, \n",
        "                          n_states, \n",
        "                          batch_first=True).double()\n",
        "\n",
        "    def forward(self, y0s):\n",
        "        # unsqueeze is a function in PyTorch that adds a new dimension to a tensor. \n",
        "        # The new dimension is inserted at the specified position dim, and has a size of 1.\n",
        "        y0s = y0s.unsqueeze(dim=1)\n",
        "        out, hidden = self.rnn(y0s, torch.swapaxes(y0s, 0, 1))\n",
        "        return hidden.squeeze(dim=0)"
      ],
      "metadata": {
        "id": "pEzgXF3ax5h5"
      },
      "execution_count": 7,
      "outputs": []
    },
    {
      "cell_type": "code",
      "source": [
        "model = RNN(n_states=2)\n",
        "opt = torch.optim.Adam(model.parameters())"
      ],
      "metadata": {
        "id": "dI-jCMu5yHH4"
      },
      "execution_count": 8,
      "outputs": []
    },
    {
      "cell_type": "code",
      "source": [
        "print(y0s.shape)\n",
        "print(y0s.unsqueeze(dim=1).shape)"
      ],
      "metadata": {
        "colab": {
          "base_uri": "https://localhost:8080/"
        },
        "id": "icrrG4nV1M36",
        "outputId": "43d9e08a-4121-4079-8a7c-47d44e697ae2"
      },
      "execution_count": 24,
      "outputs": [
        {
          "output_type": "stream",
          "name": "stdout",
          "text": [
            "torch.Size([100, 2])\n",
            "torch.Size([100, 1, 2])\n"
          ]
        }
      ]
    },
    {
      "cell_type": "code",
      "source": [
        "# Training\n",
        "epochs = 20\n",
        "progress = tqdm(range(epochs), 'Training')\n",
        "losses = []\n",
        "\n",
        "for _ in progress:\n",
        "    _, y_pred = odeint(lambda t, y: model(y), y0s, t_span, 'euler')\n",
        "\n",
        "    loss = mse_loss(y_pred, ys)\n",
        "    loss.backward()\n",
        "    opt.step()\n",
        "    opt.zero_grad()\n",
        "\n",
        "    losses.append(loss.item())\n",
        "    progress.set_description(f'loss: {loss.item()}')"
      ],
      "metadata": {
        "id": "dI_Rqta-yMXV"
      },
      "execution_count": null,
      "outputs": []
    },
    {
      "cell_type": "code",
      "source": [
        "# Test data \n",
        "\n",
        "y0s_domain = [[-1., 1.], [-1., 1.]]\n",
        "n_steps = 20\n",
        "step_size = 0.01  \n",
        "t_span = torch.arange(0., step_size * (n_steps + 1), step_size)\n",
        "\n",
        "y0s, ys = load_pendulum_data(t_span, y0s_domain, n_trajectories=10, sampling=Sampling.GRID)\n",
        "_, y_pred = odeint(lambda t, y: model(y), y0s, t_span, 'euler')"
      ],
      "metadata": {
        "id": "HL2PRUJZyS4J"
      },
      "execution_count": 10,
      "outputs": []
    },
    {
      "cell_type": "code",
      "source": [
        "# Plot \n",
        "plt.plot(y_pred.detach().numpy()[:, :, 1], y_pred.detach().numpy()[:, :, 0], color='r')\n",
        "plt.plot(ys.numpy()[:, :, 1], ys.numpy()[:, :, 0], color='b')\n",
        "plt.scatter(ys[0, :, 1], ys[0, :, 0], color='g')\n",
        "plt.ylim(y0s_domain[0])\n",
        "plt.xlim(y0s_domain[1])\n",
        "plt.show()\n"
      ],
      "metadata": {
        "colab": {
          "base_uri": "https://localhost:8080/",
          "height": 269
        },
        "id": "GyFD-wbgyYXy",
        "outputId": "82506338-13a8-4931-ccd8-9458a5249318"
      },
      "execution_count": 11,
      "outputs": [
        {
          "output_type": "display_data",
          "data": {
            "text/plain": [
              "<Figure size 432x288 with 1 Axes>"
            ],
            "image/png": "[encoded data removed]"
          },
          "metadata": {
            "needs_background": "light"
          }
        }
      ]
    },
    {
      "cell_type": "code",
      "source": [],
      "metadata": {
        "id": "f_JsAtRmydQN"
      },
      "execution_count": null,
      "outputs": []
    }
  ]
}