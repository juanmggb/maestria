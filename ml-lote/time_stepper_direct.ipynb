{
  "nbformat": 4,
  "nbformat_minor": 0,
  "metadata": {
    "colab": {
      "provenance": [],
      "authorship_tag": "ABX9TyMULs6bmYmT9S7cu2oWZVhg",
      "include_colab_link": true
    },
    "kernelspec": {
      "name": "python3",
      "display_name": "Python 3"
    },
    "language_info": {
      "name": "python"
    }
  },
  "cells": [
    {
      "cell_type": "markdown",
      "metadata": {
        "id": "view-in-github",
        "colab_type": "text"
      },
      "source": [
        "<a href=\"https://colab.research.google.com/github/JuanM-GG/maestria/blob/main/ml-lote/time_stepper_direct.ipynb\" target=\"_parent\"><img src=\"https://colab.research.google.com/assets/colab-badge.svg\" alt=\"Open In Colab\"/></a>"
      ]
    },
    {
      "cell_type": "code",
      "source": [
        "pip install smt"
      ],
      "metadata": {
        "id": "8T8jpQYnDmA6",
        "colab": {
          "base_uri": "https://localhost:8080/"
        },
        "outputId": "c35e2705-ddb2-48af-c672-3dc7605a6381"
      },
      "execution_count": 1,
      "outputs": [
        {
          "output_type": "stream",
          "name": "stdout",
          "text": [
            "Looking in indexes: https://pypi.org/simple, https://us-python.pkg.dev/colab-wheels/public/simple/\n",
            "Collecting smt\n",
            "  Downloading smt-1.3.0.tar.gz (256 kB)\n",
            "\u001b[K     |████████████████████████████████| 256 kB 27.7 MB/s \n",
            "\u001b[?25h  Installing build dependencies ... \u001b[?25l\u001b[?25hdone\n",
            "  Getting requirements to build wheel ... \u001b[?25l\u001b[?25hdone\n",
            "    Preparing wheel metadata ... \u001b[?25l\u001b[?25hdone\n",
            "Collecting pyDOE2\n",
            "  Downloading pyDOE2-1.3.0.tar.gz (19 kB)\n",
            "Requirement already satisfied: scikit-learn in /usr/local/lib/python3.8/dist-packages (from smt) (1.0.2)\n",
            "Requirement already satisfied: scipy in /usr/local/lib/python3.8/dist-packages (from smt) (1.7.3)\n",
            "Requirement already satisfied: numpy in /usr/local/lib/python3.8/dist-packages (from pyDOE2->smt) (1.21.6)\n",
            "Requirement already satisfied: joblib>=0.11 in /usr/local/lib/python3.8/dist-packages (from scikit-learn->smt) (1.2.0)\n",
            "Requirement already satisfied: threadpoolctl>=2.0.0 in /usr/local/lib/python3.8/dist-packages (from scikit-learn->smt) (3.1.0)\n",
            "Building wheels for collected packages: smt, pyDOE2\n",
            "  Building wheel for smt (PEP 517) ... \u001b[?25l\u001b[?25hdone\n",
            "  Created wheel for smt: filename=smt-1.3.0-cp38-cp38-linux_x86_64.whl size=541372 sha256=8106fa613dec90178a433052b6c181d96f6533f6e39361479ded4697df849f53\n",
            "  Stored in directory: /root/.cache/pip/wheels/20/30/9f/964979f39176b757a3a23584f6b7f00915d7595bc84f674297\n",
            "  Building wheel for pyDOE2 (setup.py) ... \u001b[?25l\u001b[?25hdone\n",
            "  Created wheel for pyDOE2: filename=pyDOE2-1.3.0-py3-none-any.whl size=25539 sha256=45e613c67d1b2588872b1249f3e1635c329f0cc5bb9dfbdf0aad159cd75baf4c\n",
            "  Stored in directory: /root/.cache/pip/wheels/a7/de/26/98f9a9ff6082bdd6f2c003c6471f0fa7536b1ddd24dc2997e9\n",
            "Successfully built smt pyDOE2\n",
            "Installing collected packages: pyDOE2, smt\n",
            "Successfully installed pyDOE2-1.3.0 smt-1.3.0\n"
          ]
        }
      ]
    },
    {
      "cell_type": "code",
      "source": [
        "pip install torchdyn"
      ],
      "metadata": {
        "id": "OKxMdqPzDleG",
        "colab": {
          "base_uri": "https://localhost:8080/"
        },
        "outputId": "edd4d6df-c20e-4f4f-927f-bc7dedb18e6d"
      },
      "execution_count": 2,
      "outputs": [
        {
          "output_type": "stream",
          "name": "stdout",
          "text": [
            "Looking in indexes: https://pypi.org/simple, https://us-python.pkg.dev/colab-wheels/public/simple/\n",
            "Collecting torchdyn\n",
            "  Downloading torchdyn-1.0.3-py3-none-any.whl (58 kB)\n",
            "\u001b[?25l\r\u001b[K     |█████▋                          | 10 kB 31.7 MB/s eta 0:00:01\r\u001b[K     |███████████▎                    | 20 kB 36.4 MB/s eta 0:00:01\r\u001b[K     |█████████████████               | 30 kB 30.7 MB/s eta 0:00:01\r\u001b[K     |██████████████████████▋         | 40 kB 15.6 MB/s eta 0:00:01\r\u001b[K     |████████████████████████████▏   | 51 kB 18.0 MB/s eta 0:00:01\r\u001b[K     |████████████████████████████████| 58 kB 5.4 MB/s \n",
            "\u001b[?25hRequirement already satisfied: matplotlib in /usr/local/lib/python3.8/dist-packages (from torchdyn) (3.2.2)\n",
            "Requirement already satisfied: ipykernel in /usr/local/lib/python3.8/dist-packages (from torchdyn) (5.3.4)\n",
            "Collecting pytorch-lightning\n",
            "  Downloading pytorch_lightning-1.8.6-py3-none-any.whl (800 kB)\n",
            "\u001b[K     |████████████████████████████████| 800 kB 54.9 MB/s \n",
            "\u001b[?25hCollecting torchsde\n",
            "  Downloading torchsde-0.2.5-py3-none-any.whl (59 kB)\n",
            "\u001b[K     |████████████████████████████████| 59 kB 7.5 MB/s \n",
            "\u001b[?25hRequirement already satisfied: ipywidgets in /usr/local/lib/python3.8/dist-packages (from torchdyn) (7.7.1)\n",
            "Requirement already satisfied: torch<2.0.0,>=1.8.1 in /usr/local/lib/python3.8/dist-packages (from torchdyn) (1.13.0+cu116)\n",
            "Collecting sklearn\n",
            "  Downloading sklearn-0.0.post1.tar.gz (3.6 kB)\n",
            "Collecting poethepoet<0.11.0,>=0.10.0\n",
            "  Downloading poethepoet-0.10.0-py3-none-any.whl (31 kB)\n",
            "Collecting torchcde<0.3.0,>=0.2.3\n",
            "  Downloading torchcde-0.2.5-py3-none-any.whl (28 kB)\n",
            "Requirement already satisfied: scipy in /usr/local/lib/python3.8/dist-packages (from torchdyn) (1.7.3)\n",
            "Requirement already satisfied: torchvision in /usr/local/lib/python3.8/dist-packages (from torchdyn) (0.14.0+cu116)\n",
            "Collecting tomlkit<1.0.0,>=0.6.0\n",
            "  Downloading tomlkit-0.11.6-py3-none-any.whl (35 kB)\n",
            "Requirement already satisfied: pastel<0.3.0,>=0.2.0 in /usr/local/lib/python3.8/dist-packages (from poethepoet<0.11.0,>=0.10.0->torchdyn) (0.2.1)\n",
            "Requirement already satisfied: typing-extensions in /usr/local/lib/python3.8/dist-packages (from torch<2.0.0,>=1.8.1->torchdyn) (4.4.0)\n",
            "Collecting torchdiffeq>=0.2.0\n",
            "  Downloading torchdiffeq-0.2.3-py3-none-any.whl (31 kB)\n",
            "Requirement already satisfied: numpy<1.23.0,>=1.16.5 in /usr/local/lib/python3.8/dist-packages (from scipy->torchdyn) (1.21.6)\n",
            "Collecting boltons>=20.2.1\n",
            "  Downloading boltons-21.0.0-py2.py3-none-any.whl (193 kB)\n",
            "\u001b[K     |████████████████████████████████| 193 kB 96.0 MB/s \n",
            "\u001b[?25hCollecting trampoline>=0.1.2\n",
            "  Downloading trampoline-0.1.2-py3-none-any.whl (5.2 kB)\n",
            "Requirement already satisfied: tornado>=4.2 in /usr/local/lib/python3.8/dist-packages (from ipykernel->torchdyn) (6.0.4)\n",
            "Requirement already satisfied: ipython>=5.0.0 in /usr/local/lib/python3.8/dist-packages (from ipykernel->torchdyn) (7.9.0)\n",
            "Requirement already satisfied: traitlets>=4.1.0 in /usr/local/lib/python3.8/dist-packages (from ipykernel->torchdyn) (5.7.1)\n",
            "Requirement already satisfied: jupyter-client in /usr/local/lib/python3.8/dist-packages (from ipykernel->torchdyn) (6.1.12)\n",
            "Requirement already satisfied: pickleshare in /usr/local/lib/python3.8/dist-packages (from ipython>=5.0.0->ipykernel->torchdyn) (0.7.5)\n",
            "Requirement already satisfied: decorator in /usr/local/lib/python3.8/dist-packages (from ipython>=5.0.0->ipykernel->torchdyn) (4.4.2)\n",
            "Requirement already satisfied: prompt-toolkit<2.1.0,>=2.0.0 in /usr/local/lib/python3.8/dist-packages (from ipython>=5.0.0->ipykernel->torchdyn) (2.0.10)\n",
            "Requirement already satisfied: setuptools>=18.5 in /usr/local/lib/python3.8/dist-packages (from ipython>=5.0.0->ipykernel->torchdyn) (57.4.0)\n",
            "Collecting jedi>=0.10\n",
            "  Downloading jedi-0.18.2-py2.py3-none-any.whl (1.6 MB)\n",
            "\u001b[K     |████████████████████████████████| 1.6 MB 66.3 MB/s \n",
            "\u001b[?25hRequirement already satisfied: pexpect in /usr/local/lib/python3.8/dist-packages (from ipython>=5.0.0->ipykernel->torchdyn) (4.8.0)\n",
            "Requirement already satisfied: backcall in /usr/local/lib/python3.8/dist-packages (from ipython>=5.0.0->ipykernel->torchdyn) (0.2.0)\n",
            "Requirement already satisfied: pygments in /usr/local/lib/python3.8/dist-packages (from ipython>=5.0.0->ipykernel->torchdyn) (2.6.1)\n",
            "Requirement already satisfied: parso<0.9.0,>=0.8.0 in /usr/local/lib/python3.8/dist-packages (from jedi>=0.10->ipython>=5.0.0->ipykernel->torchdyn) (0.8.3)\n",
            "Requirement already satisfied: wcwidth in /usr/local/lib/python3.8/dist-packages (from prompt-toolkit<2.1.0,>=2.0.0->ipython>=5.0.0->ipykernel->torchdyn) (0.2.5)\n",
            "Requirement already satisfied: six>=1.9.0 in /usr/local/lib/python3.8/dist-packages (from prompt-toolkit<2.1.0,>=2.0.0->ipython>=5.0.0->ipykernel->torchdyn) (1.15.0)\n",
            "Requirement already satisfied: jupyterlab-widgets>=1.0.0 in /usr/local/lib/python3.8/dist-packages (from ipywidgets->torchdyn) (3.0.4)\n",
            "Requirement already satisfied: ipython-genutils~=0.2.0 in /usr/local/lib/python3.8/dist-packages (from ipywidgets->torchdyn) (0.2.0)\n",
            "Requirement already satisfied: widgetsnbextension~=3.6.0 in /usr/local/lib/python3.8/dist-packages (from ipywidgets->torchdyn) (3.6.1)\n",
            "Requirement already satisfied: notebook>=4.4.1 in /usr/local/lib/python3.8/dist-packages (from widgetsnbextension~=3.6.0->ipywidgets->torchdyn) (5.7.16)\n",
            "Requirement already satisfied: jupyter-core>=4.4.0 in /usr/local/lib/python3.8/dist-packages (from notebook>=4.4.1->widgetsnbextension~=3.6.0->ipywidgets->torchdyn) (5.1.0)\n",
            "Requirement already satisfied: Send2Trash in /usr/local/lib/python3.8/dist-packages (from notebook>=4.4.1->widgetsnbextension~=3.6.0->ipywidgets->torchdyn) (1.8.0)\n",
            "Requirement already satisfied: prometheus-client in /usr/local/lib/python3.8/dist-packages (from notebook>=4.4.1->widgetsnbextension~=3.6.0->ipywidgets->torchdyn) (0.15.0)\n",
            "Requirement already satisfied: pyzmq>=17 in /usr/local/lib/python3.8/dist-packages (from notebook>=4.4.1->widgetsnbextension~=3.6.0->ipywidgets->torchdyn) (23.2.1)\n",
            "Requirement already satisfied: nbformat in /usr/local/lib/python3.8/dist-packages (from notebook>=4.4.1->widgetsnbextension~=3.6.0->ipywidgets->torchdyn) (5.7.0)\n",
            "Requirement already satisfied: jinja2<=3.0.0 in /usr/local/lib/python3.8/dist-packages (from notebook>=4.4.1->widgetsnbextension~=3.6.0->ipywidgets->torchdyn) (2.11.3)\n",
            "Requirement already satisfied: terminado>=0.8.1 in /usr/local/lib/python3.8/dist-packages (from notebook>=4.4.1->widgetsnbextension~=3.6.0->ipywidgets->torchdyn) (0.13.3)\n",
            "Requirement already satisfied: nbconvert<6.0 in /usr/local/lib/python3.8/dist-packages (from notebook>=4.4.1->widgetsnbextension~=3.6.0->ipywidgets->torchdyn) (5.6.1)\n",
            "Requirement already satisfied: MarkupSafe>=0.23 in /usr/local/lib/python3.8/dist-packages (from jinja2<=3.0.0->notebook>=4.4.1->widgetsnbextension~=3.6.0->ipywidgets->torchdyn) (2.0.1)\n",
            "Requirement already satisfied: python-dateutil>=2.1 in /usr/local/lib/python3.8/dist-packages (from jupyter-client->ipykernel->torchdyn) (2.8.2)\n",
            "Requirement already satisfied: platformdirs>=2.5 in /usr/local/lib/python3.8/dist-packages (from jupyter-core>=4.4.0->notebook>=4.4.1->widgetsnbextension~=3.6.0->ipywidgets->torchdyn) (2.6.0)\n",
            "Requirement already satisfied: pandocfilters>=1.4.1 in /usr/local/lib/python3.8/dist-packages (from nbconvert<6.0->notebook>=4.4.1->widgetsnbextension~=3.6.0->ipywidgets->torchdyn) (1.5.0)\n",
            "Requirement already satisfied: defusedxml in /usr/local/lib/python3.8/dist-packages (from nbconvert<6.0->notebook>=4.4.1->widgetsnbextension~=3.6.0->ipywidgets->torchdyn) (0.7.1)\n",
            "Requirement already satisfied: bleach in /usr/local/lib/python3.8/dist-packages (from nbconvert<6.0->notebook>=4.4.1->widgetsnbextension~=3.6.0->ipywidgets->torchdyn) (5.0.1)\n",
            "Requirement already satisfied: testpath in /usr/local/lib/python3.8/dist-packages (from nbconvert<6.0->notebook>=4.4.1->widgetsnbextension~=3.6.0->ipywidgets->torchdyn) (0.6.0)\n",
            "Requirement already satisfied: entrypoints>=0.2.2 in /usr/local/lib/python3.8/dist-packages (from nbconvert<6.0->notebook>=4.4.1->widgetsnbextension~=3.6.0->ipywidgets->torchdyn) (0.4)\n",
            "Requirement already satisfied: mistune<2,>=0.8.1 in /usr/local/lib/python3.8/dist-packages (from nbconvert<6.0->notebook>=4.4.1->widgetsnbextension~=3.6.0->ipywidgets->torchdyn) (0.8.4)\n",
            "Requirement already satisfied: fastjsonschema in /usr/local/lib/python3.8/dist-packages (from nbformat->notebook>=4.4.1->widgetsnbextension~=3.6.0->ipywidgets->torchdyn) (2.16.2)\n",
            "Requirement already satisfied: jsonschema>=2.6 in /usr/local/lib/python3.8/dist-packages (from nbformat->notebook>=4.4.1->widgetsnbextension~=3.6.0->ipywidgets->torchdyn) (4.3.3)\n",
            "Requirement already satisfied: importlib-resources>=1.4.0 in /usr/local/lib/python3.8/dist-packages (from jsonschema>=2.6->nbformat->notebook>=4.4.1->widgetsnbextension~=3.6.0->ipywidgets->torchdyn) (5.10.1)\n",
            "Requirement already satisfied: pyrsistent!=0.17.0,!=0.17.1,!=0.17.2,>=0.14.0 in /usr/local/lib/python3.8/dist-packages (from jsonschema>=2.6->nbformat->notebook>=4.4.1->widgetsnbextension~=3.6.0->ipywidgets->torchdyn) (0.19.2)\n",
            "Requirement already satisfied: attrs>=17.4.0 in /usr/local/lib/python3.8/dist-packages (from jsonschema>=2.6->nbformat->notebook>=4.4.1->widgetsnbextension~=3.6.0->ipywidgets->torchdyn) (22.1.0)\n",
            "Requirement already satisfied: zipp>=3.1.0 in /usr/local/lib/python3.8/dist-packages (from importlib-resources>=1.4.0->jsonschema>=2.6->nbformat->notebook>=4.4.1->widgetsnbextension~=3.6.0->ipywidgets->torchdyn) (3.11.0)\n",
            "Requirement already satisfied: ptyprocess in /usr/local/lib/python3.8/dist-packages (from terminado>=0.8.1->notebook>=4.4.1->widgetsnbextension~=3.6.0->ipywidgets->torchdyn) (0.7.0)\n",
            "Requirement already satisfied: webencodings in /usr/local/lib/python3.8/dist-packages (from bleach->nbconvert<6.0->notebook>=4.4.1->widgetsnbextension~=3.6.0->ipywidgets->torchdyn) (0.5.1)\n",
            "Requirement already satisfied: kiwisolver>=1.0.1 in /usr/local/lib/python3.8/dist-packages (from matplotlib->torchdyn) (1.4.4)\n",
            "Requirement already satisfied: pyparsing!=2.0.4,!=2.1.2,!=2.1.6,>=2.0.1 in /usr/local/lib/python3.8/dist-packages (from matplotlib->torchdyn) (3.0.9)\n",
            "Requirement already satisfied: cycler>=0.10 in /usr/local/lib/python3.8/dist-packages (from matplotlib->torchdyn) (0.11.0)\n",
            "Requirement already satisfied: PyYAML>=5.4 in /usr/local/lib/python3.8/dist-packages (from pytorch-lightning->torchdyn) (6.0)\n",
            "Requirement already satisfied: packaging>=17.0 in /usr/local/lib/python3.8/dist-packages (from pytorch-lightning->torchdyn) (21.3)\n",
            "Collecting lightning-utilities!=0.4.0,>=0.3.0\n",
            "  Downloading lightning_utilities-0.5.0-py3-none-any.whl (18 kB)\n",
            "Requirement already satisfied: fsspec[http]>2021.06.0 in /usr/local/lib/python3.8/dist-packages (from pytorch-lightning->torchdyn) (2022.11.0)\n",
            "Collecting torchmetrics>=0.7.0\n",
            "  Downloading torchmetrics-0.11.0-py3-none-any.whl (512 kB)\n",
            "\u001b[K     |████████████████████████████████| 512 kB 75.2 MB/s \n",
            "\u001b[?25hCollecting tensorboardX>=2.2\n",
            "  Downloading tensorboardX-2.5.1-py2.py3-none-any.whl (125 kB)\n",
            "\u001b[K     |████████████████████████████████| 125 kB 77.3 MB/s \n",
            "\u001b[?25hRequirement already satisfied: tqdm>=4.57.0 in /usr/local/lib/python3.8/dist-packages (from pytorch-lightning->torchdyn) (4.64.1)\n",
            "Requirement already satisfied: requests in /usr/local/lib/python3.8/dist-packages (from fsspec[http]>2021.06.0->pytorch-lightning->torchdyn) (2.23.0)\n",
            "Requirement already satisfied: aiohttp!=4.0.0a0,!=4.0.0a1 in /usr/local/lib/python3.8/dist-packages (from fsspec[http]>2021.06.0->pytorch-lightning->torchdyn) (3.8.3)\n",
            "Requirement already satisfied: async-timeout<5.0,>=4.0.0a3 in /usr/local/lib/python3.8/dist-packages (from aiohttp!=4.0.0a0,!=4.0.0a1->fsspec[http]>2021.06.0->pytorch-lightning->torchdyn) (4.0.2)\n",
            "Requirement already satisfied: frozenlist>=1.1.1 in /usr/local/lib/python3.8/dist-packages (from aiohttp!=4.0.0a0,!=4.0.0a1->fsspec[http]>2021.06.0->pytorch-lightning->torchdyn) (1.3.3)\n",
            "Requirement already satisfied: aiosignal>=1.1.2 in /usr/local/lib/python3.8/dist-packages (from aiohttp!=4.0.0a0,!=4.0.0a1->fsspec[http]>2021.06.0->pytorch-lightning->torchdyn) (1.3.1)\n",
            "Requirement already satisfied: charset-normalizer<3.0,>=2.0 in /usr/local/lib/python3.8/dist-packages (from aiohttp!=4.0.0a0,!=4.0.0a1->fsspec[http]>2021.06.0->pytorch-lightning->torchdyn) (2.1.1)\n",
            "Requirement already satisfied: multidict<7.0,>=4.5 in /usr/local/lib/python3.8/dist-packages (from aiohttp!=4.0.0a0,!=4.0.0a1->fsspec[http]>2021.06.0->pytorch-lightning->torchdyn) (6.0.3)\n",
            "Requirement already satisfied: yarl<2.0,>=1.0 in /usr/local/lib/python3.8/dist-packages (from aiohttp!=4.0.0a0,!=4.0.0a1->fsspec[http]>2021.06.0->pytorch-lightning->torchdyn) (1.8.2)\n",
            "Requirement already satisfied: protobuf<=3.20.1,>=3.8.0 in /usr/local/lib/python3.8/dist-packages (from tensorboardX>=2.2->pytorch-lightning->torchdyn) (3.19.6)\n",
            "Requirement already satisfied: idna>=2.0 in /usr/local/lib/python3.8/dist-packages (from yarl<2.0,>=1.0->aiohttp!=4.0.0a0,!=4.0.0a1->fsspec[http]>2021.06.0->pytorch-lightning->torchdyn) (2.10)\n",
            "Requirement already satisfied: certifi>=2017.4.17 in /usr/local/lib/python3.8/dist-packages (from requests->fsspec[http]>2021.06.0->pytorch-lightning->torchdyn) (2022.12.7)\n",
            "Requirement already satisfied: urllib3!=1.25.0,!=1.25.1,<1.26,>=1.21.1 in /usr/local/lib/python3.8/dist-packages (from requests->fsspec[http]>2021.06.0->pytorch-lightning->torchdyn) (1.24.3)\n",
            "Requirement already satisfied: chardet<4,>=3.0.2 in /usr/local/lib/python3.8/dist-packages (from requests->fsspec[http]>2021.06.0->pytorch-lightning->torchdyn) (3.0.4)\n",
            "Requirement already satisfied: pillow!=8.3.*,>=5.3.0 in /usr/local/lib/python3.8/dist-packages (from torchvision->torchdyn) (7.1.2)\n",
            "Building wheels for collected packages: sklearn\n",
            "  Building wheel for sklearn (setup.py) ... \u001b[?25l\u001b[?25hdone\n",
            "  Created wheel for sklearn: filename=sklearn-0.0.post1-py3-none-any.whl size=2344 sha256=557297e1882586a4f19d1402c1ef94799c71ccf828e7762584864b8095eb104b\n",
            "  Stored in directory: /root/.cache/pip/wheels/14/25/f7/1cc0956978ae479e75140219088deb7a36f60459df242b1a72\n",
            "Successfully built sklearn\n",
            "Installing collected packages: jedi, trampoline, boltons, torchsde, torchmetrics, torchdiffeq, tomlkit, tensorboardX, lightning-utilities, torchcde, sklearn, pytorch-lightning, poethepoet, torchdyn\n",
            "Successfully installed boltons-21.0.0 jedi-0.18.2 lightning-utilities-0.5.0 poethepoet-0.10.0 pytorch-lightning-1.8.6 sklearn-0.0.post1 tensorboardX-2.5.1 tomlkit-0.11.6 torchcde-0.2.5 torchdiffeq-0.2.3 torchdyn-1.0.3 torchmetrics-0.11.0 torchsde-0.2.5 trampoline-0.1.2\n"
          ]
        }
      ]
    },
    {
      "cell_type": "code",
      "source": [
        "pip install pyDOE"
      ],
      "metadata": {
        "colab": {
          "base_uri": "https://localhost:8080/"
        },
        "id": "P41mgAK0DzW1",
        "outputId": "1e71cf07-d2b2-434f-da1b-c80113b7f5c6"
      },
      "execution_count": 3,
      "outputs": [
        {
          "output_type": "stream",
          "name": "stdout",
          "text": [
            "Looking in indexes: https://pypi.org/simple, https://us-python.pkg.dev/colab-wheels/public/simple/\n",
            "Collecting pyDOE\n",
            "  Downloading pyDOE-0.3.8.zip (22 kB)\n",
            "Requirement already satisfied: numpy in /usr/local/lib/python3.8/dist-packages (from pyDOE) (1.21.6)\n",
            "Requirement already satisfied: scipy in /usr/local/lib/python3.8/dist-packages (from pyDOE) (1.7.3)\n",
            "Building wheels for collected packages: pyDOE\n",
            "  Building wheel for pyDOE (setup.py) ... \u001b[?25l\u001b[?25hdone\n",
            "  Created wheel for pyDOE: filename=pyDOE-0.3.8-py3-none-any.whl size=18184 sha256=680697d01e874bbe3186d48f94d0915fc895dbfc7b802c216419df891bdd6023\n",
            "  Stored in directory: /root/.cache/pip/wheels/00/3e/fa/5705bf59c2053c17c4799c3ab66a2e356c32f40a3044fe2134\n",
            "Successfully built pyDOE\n",
            "Installing collected packages: pyDOE\n",
            "Successfully installed pyDOE-0.3.8\n"
          ]
        }
      ]
    },
    {
      "cell_type": "code",
      "execution_count": 4,
      "metadata": {
        "id": "nYMx_WpuDkA3"
      },
      "outputs": [],
      "source": [
        "from argparse import ArgumentParser\n",
        "from numpy import double\n",
        "import torch.nn as nn\n",
        "from torch.optim import Adam\n",
        "from tqdm import tqdm\n",
        "from pyDOE import lhs\n",
        "import matplotlib.pyplot as plt\n",
        "from torch.nn.functional import mse_loss\n",
        "import numpy as np\n",
        "\n",
        "import torch\n",
        "from torchdyn.numerics import odeint\n",
        "# from torchdyn.numerics.solvers import SolverTemplate\n",
        "import matplotlib.patches as mpatches\n",
        "from matplotlib.collections import LineCollection\n",
        "\n",
        "from visualization import get_meshgrid, plot_colored"
      ]
    },
    {
      "cell_type": "markdown",
      "source": [
        "### Solvers"
      ],
      "metadata": {
        "id": "m0k1iyuZMFQM"
      }
    },
    {
      "cell_type": "code",
      "source": [
        "class SolverTemplate(nn.Module):\n",
        "    def __init__(self, order, min_factor: float = 0.2, max_factor: float = 10, safety: float = 0.9):\n",
        "        super().__init__()\n",
        "        self.order = order\n",
        "        self.min_factor = torch.tensor([min_factor])\n",
        "        self.max_factor = torch.tensor([max_factor])\n",
        "        self.safety = torch.tensor([safety])\n",
        "        self.tableau = None\n",
        "\n",
        "    def sync_device_dtype(self, x, t_span):\n",
        "        \"Ensures `x`, `t_span`, `tableau` and other solver tensors are on the same device with compatible dtypes\"\n",
        "\n",
        "        if isinstance(x, dict):\n",
        "            proto_arr = x[list(x.keys())[0]]\n",
        "        elif isinstance(x, torch.Tensor):\n",
        "            proto_arr = x\n",
        "        else:\n",
        "            raise NotImplementedError(\n",
        "                f\"{type(x)} is not supported as the state variable\")\n",
        "\n",
        "        device = proto_arr.device\n",
        "\n",
        "        if self.tableau is not None:\n",
        "            c, a, bsol, berr = self.tableau\n",
        "            self.tableau = c.to(proto_arr), [a.to(proto_arr) for a in a], bsol.to(\n",
        "                proto_arr), berr.to(proto_arr)\n",
        "        t_span = t_span.to(device)\n",
        "        self.safety = self.safety.to(device)\n",
        "        self.min_factor = self.min_factor.to(device)\n",
        "        self.max_factor = self.max_factor.to(device)\n",
        "        return x, t_span\n",
        "\n",
        "    def step(self, f, x, t, dt, k1=None, args=None):\n",
        "        pass\n",
        "\n",
        "\n",
        "class DirectSolver(SolverTemplate):\n",
        "    def __init__(self, dtype=torch.float32):\n",
        "        super().__init__(order=1)\n",
        "        self.dtype = dtype\n",
        "        self.stepping_class = \"fixed\"\n",
        "\n",
        "    def step(self, f, x, t, dt, k1=None, args=None):\n",
        "\n",
        "        x_sol = f(t, x)\n",
        "        return None, x_sol, None\n",
        "\n",
        "class ResnetSolver(SolverTemplate):\n",
        "    def __init__(self, step_size=None, dtype=torch.float32):\n",
        "        super().__init__(order=1)\n",
        "        self.dtype = dtype\n",
        "        self.stepping_class = \"fixed\"\n",
        "\n",
        "        self.step_size = 1 if step_size is None else step_size\n",
        "\n",
        "    def step(self, f, x, t, dt, k1=None):\n",
        "        x_sol = x + f(t, x) * self.step_size\n",
        "        return None, x_sol, None"
      ],
      "metadata": {
        "id": "2vSDuLVWD_bt"
      },
      "execution_count": 5,
      "outputs": []
    },
    {
      "cell_type": "markdown",
      "source": [
        "### Generate data"
      ],
      "metadata": {
        "id": "sfYvAK6TMIow"
      }
    },
    {
      "cell_type": "code",
      "source": [
        "# generate data\n",
        "\n",
        "def f(t, x):\n",
        "    θ = x[..., 0]\n",
        "    ω = x[..., 1]\n",
        "\n",
        "    dθ = ω\n",
        "    dω = -torch.sin(θ)\n",
        "\n",
        "    return torch.stack((dθ, dω), dim=-1)\n",
        "\n",
        "domain_draw_factor = 1.3\n",
        "\n",
        "domain_train = 1.0\n",
        "domain_validate = 1.0\n",
        "\n",
        "x0_train = (\n",
        "    torch.tensor(lhs(2, 100), device='cpu') * 2 - 1\n",
        ") * domain_train\n",
        "\n",
        "x0_validate = (\n",
        "    torch.tensor(lhs(2, 10), device='cpu') * 2 - 1\n",
        ") * domain_validate\n",
        "\n",
        "x0_grid = get_meshgrid(step_per_axis=0.01, domain=domain_validate)\n",
        "x0_example = torch.tensor((0.6, 0)).double().unsqueeze(0).to('cpu')\n",
        "\n",
        "step_size_train = 0.001\n",
        "ε = 1e-10\n",
        "t_span_train = torch.arange(\n",
        "    0.0,0.001 + ε, step_size_train\n",
        ")\n",
        "t_span_validate = torch.arange(\n",
        "    0.0,\n",
        "    4*np.pi + ε,\n",
        "    step_size_train,\n",
        ")"
      ],
      "metadata": {
        "id": "yD6xth15EiJX",
        "colab": {
          "base_uri": "https://localhost:8080/"
        },
        "outputId": "29fcabe3-b80d-469c-fad5-7cb2bd861092"
      },
      "execution_count": 6,
      "outputs": [
        {
          "output_type": "stream",
          "name": "stderr",
          "text": [
            "/usr/local/lib/python3.8/dist-packages/torch/functional.py:504: UserWarning: torch.meshgrid: in an upcoming release, it will be required to pass the indexing argument. (Triggered internally at ../aten/src/ATen/native/TensorShape.cpp:3190.)\n",
            "  return _VF.meshgrid(tensors, **kwargs)  # type: ignore[attr-defined]\n",
            "/content/visualization.py:16: UserWarning: The use of `x.T` on tensors of dimension other than 2 to reverse their shape is deprecated and it will throw an error in a future release. Consider `x.mT` to transpose batches of matrices or `x.permute(*torch.arange(x.ndim - 1, -1, -1))` to reverse the dimensions of a tensor. (Triggered internally at ../aten/src/ATen/native/TensorShape.cpp:3277.)\n",
            "  return xy.T\n"
          ]
        }
      ]
    },
    {
      "cell_type": "code",
      "source": [
        "solver = DirectSolver()"
      ],
      "metadata": {
        "id": "Twj1VB9nFxzo"
      },
      "execution_count": 7,
      "outputs": []
    },
    {
      "cell_type": "code",
      "source": [
        "_, x_train = odeint(f, x0_train, t_span_train, solver=\"rk4\")\n",
        "x_true = x_train\n",
        "x_train = x_train + torch.randn_like(x_train) * 0.0\n",
        "\n",
        "_, x_validate = odeint(f, x0_validate, t_span_validate, solver=\"rk4\")\n",
        "_, x_example = odeint(f, x0_example, t_span_validate, solver=\"rk4\")"
      ],
      "metadata": {
        "id": "wJLX5JixF25C"
      },
      "execution_count": 8,
      "outputs": []
    },
    {
      "cell_type": "code",
      "source": [
        "_, x_validate = odeint(f, x0_validate, t_span_validate, solver=\"rk4\")\n",
        "_, x_example = odeint(f, x0_example, t_span_validate, solver=\"rk4\")"
      ],
      "metadata": {
        "id": "NnT1HX73GBpY"
      },
      "execution_count": 9,
      "outputs": []
    },
    {
      "cell_type": "markdown",
      "source": [
        "### Model"
      ],
      "metadata": {
        "id": "8IlhVbs7ML1e"
      }
    },
    {
      "cell_type": "code",
      "source": [
        "##################### model ##########################\n",
        "layers = []\n",
        "layers.append(nn.Linear(2, 32))\n",
        "for _ in range(8):\n",
        "    layers.append(nn.Linear(32, 32))\n",
        "    layers.append(nn.Softplus())\n",
        "\n",
        "layers.append(nn.Linear(32, 2))\n",
        "\n",
        "net = nn.Sequential(*layers)\n",
        "net.to('cpu').double()\n",
        "\n",
        "for m in net.modules():\n",
        "    if type(m) == nn.Linear:\n",
        "        nn.init.xavier_uniform_(m.weight)"
      ],
      "metadata": {
        "id": "oZdnz17pGIf6"
      },
      "execution_count": 10,
      "outputs": []
    },
    {
      "cell_type": "markdown",
      "source": [
        "### Training"
      ],
      "metadata": {
        "id": "zc4ziQ6uMO_e"
      }
    },
    {
      "cell_type": "code",
      "source": [
        "# optimizer\n",
        "\n",
        "opt = Adam(net.parameters())\n",
        "\n",
        "# train\n",
        "losses = []"
      ],
      "metadata": {
        "id": "hS4wjtwbGoMS"
      },
      "execution_count": 11,
      "outputs": []
    },
    {
      "cell_type": "code",
      "source": [
        "for _ in tqdm(range(2000)):\n",
        "\n",
        "    _, x_pred_train = odeint(\n",
        "        lambda t, x: net(x), \n",
        "        x0_train,\n",
        "        t_span_train, \n",
        "        solver=solver\n",
        "    )\n",
        "    \n",
        "    loss = mse_loss(x_pred_train, x_train)\n",
        "    loss.backward()\n",
        "    opt.step()\n",
        "    opt.zero_grad()\n",
        "    losses.append(loss.item())"
      ],
      "metadata": {
        "colab": {
          "base_uri": "https://localhost:8080/"
        },
        "id": "oL2UImIaGsbx",
        "outputId": "562dc14f-7251-47bf-acbe-984b2cc7def3"
      },
      "execution_count": 12,
      "outputs": [
        {
          "output_type": "stream",
          "name": "stderr",
          "text": [
            "100%|██████████| 2000/2000 [00:04<00:00, 431.05it/s]\n"
          ]
        }
      ]
    },
    {
      "cell_type": "markdown",
      "source": [
        "### Validation"
      ],
      "metadata": {
        "id": "85yIFPFcMT_e"
      }
    },
    {
      "cell_type": "code",
      "source": [
        "_, x_pred_train = odeint(lambda t, x: net(x), x0_train, t_span_train, solver=solver)"
      ],
      "metadata": {
        "id": "a-mWP1IhHPZ6"
      },
      "execution_count": 13,
      "outputs": []
    },
    {
      "cell_type": "code",
      "source": [
        "_, x_pred_validate = odeint(\n",
        "    lambda t, x: net(x), x0_validate, t_span_validate, solver=solver\n",
        ")"
      ],
      "metadata": {
        "id": "3oY9iefXG4Oh"
      },
      "execution_count": 14,
      "outputs": []
    },
    {
      "cell_type": "code",
      "source": [
        "_, x_pred_example = odeint(\n",
        "    lambda t, x: net(x), x0_example, t_span_validate, solver=solver\n",
        ")"
      ],
      "metadata": {
        "id": "C5b-lClRI_Dw"
      },
      "execution_count": 15,
      "outputs": []
    },
    {
      "cell_type": "code",
      "source": [
        "# derivatives\n",
        "# x0_grid_before = get_meshgrid(step_per_axis=0.01, domain=domain)\n",
        "x_derivative = f(None, x0_grid)"
      ],
      "metadata": {
        "id": "HUOSs69UJCoN"
      },
      "execution_count": 16,
      "outputs": []
    },
    {
      "cell_type": "markdown",
      "source": [
        "Direct"
      ],
      "metadata": {
        "id": "qO4TMRChJIEE"
      }
    },
    {
      "cell_type": "code",
      "source": [
        "out = net(x0_grid)\n",
        "# normalize for the step size used during training. If the network is trained with a step-size of 1/100 of a second\n",
        "# it will predict changes that are 100 times as small as those for 1 second.\n",
        "x_derivative_pred = (out - x0_grid) / step_size_train"
      ],
      "metadata": {
        "id": "pm9De6USJE5X"
      },
      "execution_count": 17,
      "outputs": []
    },
    {
      "cell_type": "code",
      "source": [
        "print(type(x_derivative_pred))"
      ],
      "metadata": {
        "colab": {
          "base_uri": "https://localhost:8080/"
        },
        "id": "iUMomqcLKngS",
        "outputId": "2c4c8f6c-d5ee-41ab-9ef6-38ee6e8171f5"
      },
      "execution_count": 18,
      "outputs": [
        {
          "output_type": "stream",
          "name": "stdout",
          "text": [
            "<class 'torch.Tensor'>\n"
          ]
        }
      ]
    },
    {
      "cell_type": "code",
      "source": [
        " # @title plot\n",
        "try:\n",
        "    x_pred_train = x_pred_train.detach().numpy()\n",
        "    x_pred_validate = x_pred_validate.detach().numpy()\n",
        "    x_pred_example = x_pred_example.detach().numpy()\n",
        "    x_derivative_pred = x_derivative_pred.detach().numpy()\n",
        "    x_derivative = x_derivative.detach().numpy()\n",
        "    x0_grid = x0_grid.detach().numpy()\n",
        "\n",
        "\n",
        "    # time series validation, specific idx\n",
        "    fig, (ax1, ax2) = plt.subplots(2, sharex=True)\n",
        "    example_idx = 0\n",
        "\n",
        "    ax1.plot(t_span_validate, x_validate[..., example_idx, 0], color=\"black\")\n",
        "    ax1.plot(\n",
        "        t_span_validate,\n",
        "        x_pred_validate[..., example_idx, 0],\n",
        "        linestyle=\"dashed\",\n",
        "        color=\"blue\",\n",
        "    )\n",
        "    ax2.plot(\n",
        "        t_span_validate, x_validate[..., example_idx, 1], color=\"black\", label=\"true\"\n",
        "    )\n",
        "    ax2.plot(\n",
        "        t_span_validate,\n",
        "        x_pred_validate[..., example_idx, 1],\n",
        "        linestyle=\"dashed\",\n",
        "        color=\"blue\",\n",
        "        label=\"pred\",\n",
        "    )\n",
        "    ax1.set_ylabel(\"θ(t)\")\n",
        "    ax2.set_ylabel(\"ω(t)\")\n",
        "    ax2.set_xlabel(\"t\")\n",
        "    ax2.legend()\n",
        "\n",
        "    # time series validation, example (0.6,0)\n",
        "    fig, (ax1, ax2) = plt.subplots(2, sharex=True)\n",
        "    fig.canvas.manager.set_window_title(f\"states vs time: validation example\")\n",
        "\n",
        "    ax1.plot(t_span_validate, x_example[..., 0], color=\"black\")\n",
        "    ax1.plot(\n",
        "        t_span_validate,\n",
        "        x_pred_example[..., 0],\n",
        "        linestyle=\"dashed\",\n",
        "        color=\"blue\",\n",
        "    )\n",
        "    ax2.plot(t_span_validate, x_example[..., 1], label=\"true\", color=\"black\")\n",
        "    ax2.plot(\n",
        "        t_span_validate,\n",
        "        x_pred_example[..., 1],\n",
        "        linestyle=\"dashed\",\n",
        "        color=\"blue\",\n",
        "        label=\"predicted\",\n",
        "    )\n",
        "    ax1.set_ylabel(\"θ(t)\")\n",
        "    ax2.set_ylabel(\"ω(t)\")\n",
        "    ax2.set_xlabel(\"t\")\n",
        "    ax2.legend()\n",
        "\n",
        "    # show\n",
        "    fig, ax = plt.subplots()\n",
        "    ax.plot(losses)\n",
        "    ax.set_xlabel(\"epoch\")\n",
        "    ax.set_ylabel(\"MSE\")\n",
        "\n",
        "    plt.show()\n",
        "\n",
        "except:\n",
        "    pass"
      ],
      "metadata": {
        "colab": {
          "base_uri": "https://localhost:8080/",
          "height": 803
        },
        "id": "nu_ykqHGJR76",
        "outputId": "0e08556f-dd72-480c-b1d3-d60926bc9fcb"
      },
      "execution_count": 19,
      "outputs": [
        {
          "output_type": "display_data",
          "data": {
            "text/plain": [
              "<Figure size 432x288 with 2 Axes>"
            ],
            "image/png": "[encoded data removed]"
          },
          "metadata": {
            "needs_background": "light"
          }
        },
        {
          "output_type": "display_data",
          "data": {
            "text/plain": [
              "<Figure size 432x288 with 2 Axes>"
            ],
            "image/png": "[encoded data removed]"
          },
          "metadata": {
            "needs_background": "light"
          }
        },
        {
          "output_type": "display_data",
          "data": {
            "text/plain": [
              "<Figure size 432x288 with 1 Axes>"
            ],
            "image/png": "[encoded data removed]"
          },
          "metadata": {
            "needs_background": "light"
          }
        }
      ]
    },
    {
      "cell_type": "code",
      "source": [],
      "metadata": {
        "id": "Eu2NQ5fLJhrj"
      },
      "execution_count": 19,
      "outputs": []
    }
  ]
}