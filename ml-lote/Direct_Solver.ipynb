{
  "nbformat": 4,
  "nbformat_minor": 0,
  "metadata": {
    "colab": {
      "provenance": [],
      "authorship_tag": "ABX9TyMFbkJj4U/6Kc9hf9BPF2I0",
      "include_colab_link": true
    },
    "kernelspec": {
      "name": "python3",
      "display_name": "Python 3"
    },
    "language_info": {
      "name": "python"
    }
  },
  "cells": [
    {
      "cell_type": "markdown",
      "metadata": {
        "id": "view-in-github",
        "colab_type": "text"
      },
      "source": [
        "<a href=\"https://colab.research.google.com/github/JuanM-GG/maestria/blob/main/ml-lote/Direct_Solver.ipynb\" target=\"_parent\"><img src=\"https://colab.research.google.com/assets/colab-badge.svg\" alt=\"Open In Colab\"/></a>"
      ]
    },
    {
      "cell_type": "markdown",
      "source": [
        "# DirectSolver"
      ],
      "metadata": {
        "id": "EUthWUeAJSxI"
      }
    },
    {
      "cell_type": "code",
      "source": [
        "pip install pyDOE"
      ],
      "metadata": {
        "id": "CUwbbK2et1Re",
        "colab": {
          "base_uri": "https://localhost:8080/"
        },
        "outputId": "19057651-dbcc-4349-e19e-53dbb5a213f8"
      },
      "execution_count": 35,
      "outputs": [
        {
          "output_type": "stream",
          "name": "stdout",
          "text": [
            "Looking in indexes: https://pypi.org/simple, https://us-python.pkg.dev/colab-wheels/public/simple/\n",
            "Requirement already satisfied: pyDOE in /usr/local/lib/python3.8/dist-packages (0.3.8)\n",
            "Requirement already satisfied: scipy in /usr/local/lib/python3.8/dist-packages (from pyDOE) (1.7.3)\n",
            "Requirement already satisfied: numpy in /usr/local/lib/python3.8/dist-packages (from pyDOE) (1.21.6)\n"
          ]
        }
      ]
    },
    {
      "cell_type": "code",
      "source": [
        "pip install torchdyn"
      ],
      "metadata": {
        "id": "wPw5KUyjuBK8",
        "colab": {
          "base_uri": "https://localhost:8080/"
        },
        "outputId": "c3c09e6c-3b02-4173-bda1-c063bfc6d3a7"
      },
      "execution_count": 36,
      "outputs": [
        {
          "output_type": "stream",
          "name": "stdout",
          "text": [
            "Looking in indexes: https://pypi.org/simple, https://us-python.pkg.dev/colab-wheels/public/simple/\n",
            "Requirement already satisfied: torchdyn in /usr/local/lib/python3.8/dist-packages (1.0.3)\n",
            "Requirement already satisfied: torchcde<0.3.0,>=0.2.3 in /usr/local/lib/python3.8/dist-packages (from torchdyn) (0.2.5)\n",
            "Requirement already satisfied: torchsde in /usr/local/lib/python3.8/dist-packages (from torchdyn) (0.2.5)\n",
            "Requirement already satisfied: torchvision in /usr/local/lib/python3.8/dist-packages (from torchdyn) (0.14.0+cu116)\n",
            "Requirement already satisfied: torch<2.0.0,>=1.8.1 in /usr/local/lib/python3.8/dist-packages (from torchdyn) (1.13.0+cu116)\n",
            "Requirement already satisfied: poethepoet<0.11.0,>=0.10.0 in /usr/local/lib/python3.8/dist-packages (from torchdyn) (0.10.0)\n",
            "Requirement already satisfied: sklearn in /usr/local/lib/python3.8/dist-packages (from torchdyn) (0.0.post1)\n",
            "Requirement already satisfied: pytorch-lightning in /usr/local/lib/python3.8/dist-packages (from torchdyn) (1.8.6)\n",
            "Requirement already satisfied: ipykernel in /usr/local/lib/python3.8/dist-packages (from torchdyn) (5.3.4)\n",
            "Requirement already satisfied: ipywidgets in /usr/local/lib/python3.8/dist-packages (from torchdyn) (7.7.1)\n",
            "Requirement already satisfied: matplotlib in /usr/local/lib/python3.8/dist-packages (from torchdyn) (3.2.2)\n",
            "Requirement already satisfied: scipy in /usr/local/lib/python3.8/dist-packages (from torchdyn) (1.7.3)\n",
            "Requirement already satisfied: pastel<0.3.0,>=0.2.0 in /usr/local/lib/python3.8/dist-packages (from poethepoet<0.11.0,>=0.10.0->torchdyn) (0.2.1)\n",
            "Requirement already satisfied: tomlkit<1.0.0,>=0.6.0 in /usr/local/lib/python3.8/dist-packages (from poethepoet<0.11.0,>=0.10.0->torchdyn) (0.11.6)\n",
            "Requirement already satisfied: typing-extensions in /usr/local/lib/python3.8/dist-packages (from torch<2.0.0,>=1.8.1->torchdyn) (4.4.0)\n",
            "Requirement already satisfied: torchdiffeq>=0.2.0 in /usr/local/lib/python3.8/dist-packages (from torchcde<0.3.0,>=0.2.3->torchdyn) (0.2.3)\n",
            "Requirement already satisfied: trampoline>=0.1.2 in /usr/local/lib/python3.8/dist-packages (from torchsde->torchdyn) (0.1.2)\n",
            "Requirement already satisfied: boltons>=20.2.1 in /usr/local/lib/python3.8/dist-packages (from torchsde->torchdyn) (21.0.0)\n",
            "Requirement already satisfied: numpy>=1.19.* in /usr/local/lib/python3.8/dist-packages (from torchsde->torchdyn) (1.21.6)\n",
            "Requirement already satisfied: traitlets>=4.1.0 in /usr/local/lib/python3.8/dist-packages (from ipykernel->torchdyn) (5.7.1)\n",
            "Requirement already satisfied: jupyter-client in /usr/local/lib/python3.8/dist-packages (from ipykernel->torchdyn) (6.1.12)\n",
            "Requirement already satisfied: tornado>=4.2 in /usr/local/lib/python3.8/dist-packages (from ipykernel->torchdyn) (6.0.4)\n",
            "Requirement already satisfied: ipython>=5.0.0 in /usr/local/lib/python3.8/dist-packages (from ipykernel->torchdyn) (7.9.0)\n",
            "Requirement already satisfied: widgetsnbextension~=3.6.0 in /usr/local/lib/python3.8/dist-packages (from ipywidgets->torchdyn) (3.6.1)\n",
            "Requirement already satisfied: jupyterlab-widgets>=1.0.0 in /usr/local/lib/python3.8/dist-packages (from ipywidgets->torchdyn) (3.0.5)\n",
            "Requirement already satisfied: ipython-genutils~=0.2.0 in /usr/local/lib/python3.8/dist-packages (from ipywidgets->torchdyn) (0.2.0)\n",
            "Requirement already satisfied: pyparsing!=2.0.4,!=2.1.2,!=2.1.6,>=2.0.1 in /usr/local/lib/python3.8/dist-packages (from matplotlib->torchdyn) (3.0.9)\n",
            "Requirement already satisfied: kiwisolver>=1.0.1 in /usr/local/lib/python3.8/dist-packages (from matplotlib->torchdyn) (1.4.4)\n",
            "Requirement already satisfied: python-dateutil>=2.1 in /usr/local/lib/python3.8/dist-packages (from matplotlib->torchdyn) (2.8.2)\n",
            "Requirement already satisfied: cycler>=0.10 in /usr/local/lib/python3.8/dist-packages (from matplotlib->torchdyn) (0.11.0)\n",
            "Requirement already satisfied: fsspec[http]>2021.06.0 in /usr/local/lib/python3.8/dist-packages (from pytorch-lightning->torchdyn) (2022.11.0)\n",
            "Requirement already satisfied: tqdm>=4.57.0 in /usr/local/lib/python3.8/dist-packages (from pytorch-lightning->torchdyn) (4.64.1)\n",
            "Requirement already satisfied: torchmetrics>=0.7.0 in /usr/local/lib/python3.8/dist-packages (from pytorch-lightning->torchdyn) (0.11.0)\n",
            "Requirement already satisfied: packaging>=17.0 in /usr/local/lib/python3.8/dist-packages (from pytorch-lightning->torchdyn) (21.3)\n",
            "Requirement already satisfied: lightning-utilities!=0.4.0,>=0.3.0 in /usr/local/lib/python3.8/dist-packages (from pytorch-lightning->torchdyn) (0.5.0)\n",
            "Requirement already satisfied: PyYAML>=5.4 in /usr/local/lib/python3.8/dist-packages (from pytorch-lightning->torchdyn) (6.0)\n",
            "Requirement already satisfied: tensorboardX>=2.2 in /usr/local/lib/python3.8/dist-packages (from pytorch-lightning->torchdyn) (2.5.1)\n",
            "Requirement already satisfied: requests in /usr/local/lib/python3.8/dist-packages (from torchvision->torchdyn) (2.25.1)\n",
            "Requirement already satisfied: pillow!=8.3.*,>=5.3.0 in /usr/local/lib/python3.8/dist-packages (from torchvision->torchdyn) (7.1.2)\n",
            "Requirement already satisfied: aiohttp!=4.0.0a0,!=4.0.0a1 in /usr/local/lib/python3.8/dist-packages (from fsspec[http]>2021.06.0->pytorch-lightning->torchdyn) (3.8.3)\n",
            "Requirement already satisfied: pickleshare in /usr/local/lib/python3.8/dist-packages (from ipython>=5.0.0->ipykernel->torchdyn) (0.7.5)\n",
            "Requirement already satisfied: pexpect in /usr/local/lib/python3.8/dist-packages (from ipython>=5.0.0->ipykernel->torchdyn) (4.8.0)\n",
            "Requirement already satisfied: setuptools>=18.5 in /usr/local/lib/python3.8/dist-packages (from ipython>=5.0.0->ipykernel->torchdyn) (57.4.0)\n",
            "Requirement already satisfied: prompt-toolkit<2.1.0,>=2.0.0 in /usr/local/lib/python3.8/dist-packages (from ipython>=5.0.0->ipykernel->torchdyn) (2.0.10)\n",
            "Requirement already satisfied: decorator in /usr/local/lib/python3.8/dist-packages (from ipython>=5.0.0->ipykernel->torchdyn) (4.4.2)\n",
            "Requirement already satisfied: pygments in /usr/local/lib/python3.8/dist-packages (from ipython>=5.0.0->ipykernel->torchdyn) (2.6.1)\n",
            "Requirement already satisfied: jedi>=0.10 in /usr/local/lib/python3.8/dist-packages (from ipython>=5.0.0->ipykernel->torchdyn) (0.18.2)\n",
            "Requirement already satisfied: backcall in /usr/local/lib/python3.8/dist-packages (from ipython>=5.0.0->ipykernel->torchdyn) (0.2.0)\n",
            "Requirement already satisfied: six>=1.5 in /usr/local/lib/python3.8/dist-packages (from python-dateutil>=2.1->matplotlib->torchdyn) (1.15.0)\n",
            "Requirement already satisfied: protobuf<=3.20.1,>=3.8.0 in /usr/local/lib/python3.8/dist-packages (from tensorboardX>=2.2->pytorch-lightning->torchdyn) (3.19.6)\n",
            "Requirement already satisfied: notebook>=4.4.1 in /usr/local/lib/python3.8/dist-packages (from widgetsnbextension~=3.6.0->ipywidgets->torchdyn) (5.7.16)\n",
            "Requirement already satisfied: jupyter-core>=4.6.0 in /usr/local/lib/python3.8/dist-packages (from jupyter-client->ipykernel->torchdyn) (5.1.1)\n",
            "Requirement already satisfied: pyzmq>=13 in /usr/local/lib/python3.8/dist-packages (from jupyter-client->ipykernel->torchdyn) (23.2.1)\n",
            "Requirement already satisfied: urllib3<1.27,>=1.21.1 in /usr/local/lib/python3.8/dist-packages (from requests->torchvision->torchdyn) (1.24.3)\n",
            "Requirement already satisfied: idna<3,>=2.5 in /usr/local/lib/python3.8/dist-packages (from requests->torchvision->torchdyn) (2.10)\n",
            "Requirement already satisfied: chardet<5,>=3.0.2 in /usr/local/lib/python3.8/dist-packages (from requests->torchvision->torchdyn) (4.0.0)\n",
            "Requirement already satisfied: certifi>=2017.4.17 in /usr/local/lib/python3.8/dist-packages (from requests->torchvision->torchdyn) (2022.12.7)\n",
            "Requirement already satisfied: aiosignal>=1.1.2 in /usr/local/lib/python3.8/dist-packages (from aiohttp!=4.0.0a0,!=4.0.0a1->fsspec[http]>2021.06.0->pytorch-lightning->torchdyn) (1.3.1)\n",
            "Requirement already satisfied: multidict<7.0,>=4.5 in /usr/local/lib/python3.8/dist-packages (from aiohttp!=4.0.0a0,!=4.0.0a1->fsspec[http]>2021.06.0->pytorch-lightning->torchdyn) (6.0.3)\n",
            "Requirement already satisfied: frozenlist>=1.1.1 in /usr/local/lib/python3.8/dist-packages (from aiohttp!=4.0.0a0,!=4.0.0a1->fsspec[http]>2021.06.0->pytorch-lightning->torchdyn) (1.3.3)\n",
            "Requirement already satisfied: attrs>=17.3.0 in /usr/local/lib/python3.8/dist-packages (from aiohttp!=4.0.0a0,!=4.0.0a1->fsspec[http]>2021.06.0->pytorch-lightning->torchdyn) (22.2.0)\n",
            "Requirement already satisfied: charset-normalizer<3.0,>=2.0 in /usr/local/lib/python3.8/dist-packages (from aiohttp!=4.0.0a0,!=4.0.0a1->fsspec[http]>2021.06.0->pytorch-lightning->torchdyn) (2.1.1)\n",
            "Requirement already satisfied: async-timeout<5.0,>=4.0.0a3 in /usr/local/lib/python3.8/dist-packages (from aiohttp!=4.0.0a0,!=4.0.0a1->fsspec[http]>2021.06.0->pytorch-lightning->torchdyn) (4.0.2)\n",
            "Requirement already satisfied: yarl<2.0,>=1.0 in /usr/local/lib/python3.8/dist-packages (from aiohttp!=4.0.0a0,!=4.0.0a1->fsspec[http]>2021.06.0->pytorch-lightning->torchdyn) (1.8.2)\n",
            "Requirement already satisfied: parso<0.9.0,>=0.8.0 in /usr/local/lib/python3.8/dist-packages (from jedi>=0.10->ipython>=5.0.0->ipykernel->torchdyn) (0.8.3)\n",
            "Requirement already satisfied: platformdirs>=2.5 in /usr/local/lib/python3.8/dist-packages (from jupyter-core>=4.6.0->jupyter-client->ipykernel->torchdyn) (2.6.0)\n",
            "Requirement already satisfied: nbformat in /usr/local/lib/python3.8/dist-packages (from notebook>=4.4.1->widgetsnbextension~=3.6.0->ipywidgets->torchdyn) (5.7.1)\n",
            "Requirement already satisfied: prometheus-client in /usr/local/lib/python3.8/dist-packages (from notebook>=4.4.1->widgetsnbextension~=3.6.0->ipywidgets->torchdyn) (0.15.0)\n",
            "Requirement already satisfied: terminado>=0.8.1 in /usr/local/lib/python3.8/dist-packages (from notebook>=4.4.1->widgetsnbextension~=3.6.0->ipywidgets->torchdyn) (0.13.3)\n",
            "Requirement already satisfied: Send2Trash in /usr/local/lib/python3.8/dist-packages (from notebook>=4.4.1->widgetsnbextension~=3.6.0->ipywidgets->torchdyn) (1.8.0)\n",
            "Requirement already satisfied: nbconvert<6.0 in /usr/local/lib/python3.8/dist-packages (from notebook>=4.4.1->widgetsnbextension~=3.6.0->ipywidgets->torchdyn) (5.6.1)\n",
            "Requirement already satisfied: jinja2<=3.0.0 in /usr/local/lib/python3.8/dist-packages (from notebook>=4.4.1->widgetsnbextension~=3.6.0->ipywidgets->torchdyn) (2.11.3)\n",
            "Requirement already satisfied: wcwidth in /usr/local/lib/python3.8/dist-packages (from prompt-toolkit<2.1.0,>=2.0.0->ipython>=5.0.0->ipykernel->torchdyn) (0.2.5)\n",
            "Requirement already satisfied: ptyprocess>=0.5 in /usr/local/lib/python3.8/dist-packages (from pexpect->ipython>=5.0.0->ipykernel->torchdyn) (0.7.0)\n",
            "Requirement already satisfied: MarkupSafe>=0.23 in /usr/local/lib/python3.8/dist-packages (from jinja2<=3.0.0->notebook>=4.4.1->widgetsnbextension~=3.6.0->ipywidgets->torchdyn) (2.0.1)\n",
            "Requirement already satisfied: testpath in /usr/local/lib/python3.8/dist-packages (from nbconvert<6.0->notebook>=4.4.1->widgetsnbextension~=3.6.0->ipywidgets->torchdyn) (0.6.0)\n",
            "Requirement already satisfied: entrypoints>=0.2.2 in /usr/local/lib/python3.8/dist-packages (from nbconvert<6.0->notebook>=4.4.1->widgetsnbextension~=3.6.0->ipywidgets->torchdyn) (0.4)\n",
            "Requirement already satisfied: defusedxml in /usr/local/lib/python3.8/dist-packages (from nbconvert<6.0->notebook>=4.4.1->widgetsnbextension~=3.6.0->ipywidgets->torchdyn) (0.7.1)\n",
            "Requirement already satisfied: pandocfilters>=1.4.1 in /usr/local/lib/python3.8/dist-packages (from nbconvert<6.0->notebook>=4.4.1->widgetsnbextension~=3.6.0->ipywidgets->torchdyn) (1.5.0)\n",
            "Requirement already satisfied: bleach in /usr/local/lib/python3.8/dist-packages (from nbconvert<6.0->notebook>=4.4.1->widgetsnbextension~=3.6.0->ipywidgets->torchdyn) (5.0.1)\n",
            "Requirement already satisfied: mistune<2,>=0.8.1 in /usr/local/lib/python3.8/dist-packages (from nbconvert<6.0->notebook>=4.4.1->widgetsnbextension~=3.6.0->ipywidgets->torchdyn) (0.8.4)\n",
            "Requirement already satisfied: jsonschema>=2.6 in /usr/local/lib/python3.8/dist-packages (from nbformat->notebook>=4.4.1->widgetsnbextension~=3.6.0->ipywidgets->torchdyn) (4.3.3)\n",
            "Requirement already satisfied: fastjsonschema in /usr/local/lib/python3.8/dist-packages (from nbformat->notebook>=4.4.1->widgetsnbextension~=3.6.0->ipywidgets->torchdyn) (2.16.2)\n",
            "Requirement already satisfied: importlib-resources>=1.4.0 in /usr/local/lib/python3.8/dist-packages (from jsonschema>=2.6->nbformat->notebook>=4.4.1->widgetsnbextension~=3.6.0->ipywidgets->torchdyn) (5.10.1)\n",
            "Requirement already satisfied: pyrsistent!=0.17.0,!=0.17.1,!=0.17.2,>=0.14.0 in /usr/local/lib/python3.8/dist-packages (from jsonschema>=2.6->nbformat->notebook>=4.4.1->widgetsnbextension~=3.6.0->ipywidgets->torchdyn) (0.19.2)\n",
            "Requirement already satisfied: webencodings in /usr/local/lib/python3.8/dist-packages (from bleach->nbconvert<6.0->notebook>=4.4.1->widgetsnbextension~=3.6.0->ipywidgets->torchdyn) (0.5.1)\n",
            "Requirement already satisfied: zipp>=3.1.0 in /usr/local/lib/python3.8/dist-packages (from importlib-resources>=1.4.0->jsonschema>=2.6->nbformat->notebook>=4.4.1->widgetsnbextension~=3.6.0->ipywidgets->torchdyn) (3.11.0)\n"
          ]
        }
      ]
    },
    {
      "cell_type": "code",
      "execution_count": 37,
      "metadata": {
        "id": "xLFpnmZzkjjT"
      },
      "outputs": [],
      "source": [
        "from argparse import ArgumentParser\n",
        "from numpy import double\n",
        "import torch.nn as nn\n",
        "from torch.optim import Adam\n",
        "from tqdm import tqdm\n",
        "from pyDOE import lhs\n",
        "import matplotlib.pyplot as plt\n",
        "from torch.nn.functional import mse_loss\n",
        "import numpy as np\n",
        "\n",
        "import torch\n",
        "from torchdyn.numerics import odeint\n",
        "# from torchdyn.numerics.solvers import SolverTemplate"
      ]
    },
    {
      "cell_type": "code",
      "source": [
        "#@title solver \n",
        "class SolverTemplate(nn.Module):\n",
        "    def __init__(self, order, min_factor: float = 0.2, max_factor: float = 10, safety: float = 0.9):\n",
        "        super().__init__()\n",
        "        self.order = order\n",
        "        self.min_factor = torch.tensor([min_factor])\n",
        "        self.max_factor = torch.tensor([max_factor])\n",
        "        self.safety = torch.tensor([safety])\n",
        "        self.tableau = None\n",
        "\n",
        "    def sync_device_dtype(self, x, t_span):\n",
        "        \"Ensures `x`, `t_span`, `tableau` and other solver tensors are on the same device with compatible dtypes\"\n",
        "\n",
        "        if isinstance(x, dict):\n",
        "            proto_arr = x[list(x.keys())[0]]\n",
        "        elif isinstance(x, torch.Tensor):\n",
        "            proto_arr = x\n",
        "        else:\n",
        "            raise NotImplementedError(\n",
        "                f\"{type(x)} is not supported as the state variable\")\n",
        "\n",
        "        device = proto_arr.device\n",
        "\n",
        "        if self.tableau is not None:\n",
        "            c, a, bsol, berr = self.tableau\n",
        "            self.tableau = c.to(proto_arr), [a.to(proto_arr) for a in a], bsol.to(\n",
        "                proto_arr), berr.to(proto_arr)\n",
        "        t_span = t_span.to(device)\n",
        "        self.safety = self.safety.to(device)\n",
        "        self.min_factor = self.min_factor.to(device)\n",
        "        self.max_factor = self.max_factor.to(device)\n",
        "        return x, t_span\n",
        "\n",
        "    def step(self, f, x, t, dt, k1=None, args=None):\n",
        "        pass\n",
        "\n",
        "\n",
        "class DirectSolver(SolverTemplate):\n",
        "    def __init__(self, dtype=torch.float32):\n",
        "        super().__init__(order=1)\n",
        "        self.dtype = dtype\n",
        "        self.stepping_class = \"fixed\"\n",
        "\n",
        "    def step(self, f, x, t, dt, k1=None, args=None):\n",
        "\n",
        "        x_sol = f(t, x)\n",
        "        return None, x_sol, None\n"
      ],
      "metadata": {
        "id": "x_nXl6p4kqOq",
        "cellView": "form"
      },
      "execution_count": 38,
      "outputs": []
    },
    {
      "cell_type": "code",
      "source": [
        "# modelo de biorreactor\n",
        "def f(t, x):\n",
        "    b = x[..., 0]\n",
        "    s = x[..., 1]\n",
        "    p = x[..., 2]\n",
        "\n",
        "    # parámetros cinéticos\n",
        "    mu = 1.2 # 1/h\n",
        "    ks = 280 # g/L\n",
        "    Yxs = 0.2 \n",
        "    Ypx = 4 \n",
        "    ki = 0.3\n",
        "\n",
        "    # balances de masa\n",
        "    db = mu*(s / (ks + s + ki*s**2))*b \n",
        "    ds = -1/Yxs*mu*(s / (ks + s + ki*s**2))*b \n",
        "    dp = Ypx*mu*(s / (ks + s + ki*s**2))*b\n",
        "\n",
        "    return torch.stack((db, ds, dp), dim=-1)"
      ],
      "metadata": {
        "id": "JTZ4TSftlM35"
      },
      "execution_count": 39,
      "outputs": []
    },
    {
      "cell_type": "code",
      "source": [
        "db = torch.tensor([1])\n",
        "ds = torch.tensor([3])\n",
        "dp = torch.tensor([5])\n",
        "torch.stack((db, ds, dp), dim=-1)"
      ],
      "metadata": {
        "colab": {
          "base_uri": "https://localhost:8080/"
        },
        "id": "unGd7NhHS4_D",
        "outputId": "e20c1a75-9ad5-4267-d6d6-47b991eee4d3"
      },
      "execution_count": 40,
      "outputs": [
        {
          "output_type": "execute_result",
          "data": {
            "text/plain": [
              "tensor([[1, 3, 5]])"
            ]
          },
          "metadata": {},
          "execution_count": 40
        }
      ]
    },
    {
      "cell_type": "code",
      "source": [
        "# condiciones iniciales para el entrenamiento\n",
        "num_trayectorias_entrenamiento = 100\n",
        "# datos 'reales' para el entrenamiento\n",
        "x0_train = (\n",
        "    torch.tensor(lhs(3, num_trayectorias_entrenamiento), device='cpu') \n",
        ") \n",
        "x0_train[:,0] = x0_train[:,0] * 10 + 0.2 # biomasa (0.2-10.2)\n",
        "x0_train[:,1] = x0_train[:,1]* 40 # sustrato (0-40)\n",
        "x0_train[:,2] = x0_train[:,2]* 40 # producto (0-40)\n",
        "print(x0_train[0:5,:]) \n",
        "print(x0_train.shape)"
      ],
      "metadata": {
        "colab": {
          "base_uri": "https://localhost:8080/"
        },
        "id": "DAlzKyAOO7zi",
        "outputId": "610faf8d-67ac-441a-f83f-e381568ce68f"
      },
      "execution_count": 41,
      "outputs": [
        {
          "output_type": "stream",
          "name": "stdout",
          "text": [
            "tensor([[ 8.6543, 28.3682, 31.1465],\n",
            "        [ 1.6945, 26.6229,  9.7777],\n",
            "        [ 5.1207, 21.5807, 11.3439],\n",
            "        [ 8.1265, 19.3370, 10.6275],\n",
            "        [ 4.7283, 12.9278, 36.4048]], dtype=torch.float64)\n",
            "torch.Size([100, 3])\n"
          ]
        }
      ]
    },
    {
      "cell_type": "code",
      "source": [
        "# It is irrelevant to write lhs(3, 10) or lhs(10, 3) \n",
        "torch.tensor(lhs(3, 10)) "
      ],
      "metadata": {
        "colab": {
          "base_uri": "https://localhost:8080/"
        },
        "id": "Oo7wbTO0Ta3O",
        "outputId": "fa093282-5c20-47b5-8540-eede18531dc1"
      },
      "execution_count": 42,
      "outputs": [
        {
          "output_type": "execute_result",
          "data": {
            "text/plain": [
              "tensor([[0.7842, 0.0950, 0.5561],\n",
              "        [0.1675, 0.6200, 0.6950],\n",
              "        [0.6155, 0.3192, 0.2053],\n",
              "        [0.5160, 0.1104, 0.7571],\n",
              "        [0.9145, 0.9461, 0.4783],\n",
              "        [0.3682, 0.8579, 0.8765],\n",
              "        [0.8478, 0.2419, 0.0606],\n",
              "        [0.2634, 0.4293, 0.1618],\n",
              "        [0.0588, 0.7866, 0.9058],\n",
              "        [0.4642, 0.5049, 0.3139]], dtype=torch.float64)"
            ]
          },
          "metadata": {},
          "execution_count": 42
        }
      ]
    },
    {
      "cell_type": "code",
      "source": [
        "# condiciones iniciales para la validación de la red\n",
        "num_trayectorias_validacion = 10\n",
        "x0_validate = (\n",
        "    torch.tensor(lhs(3, num_trayectorias_validacion), device='cpu') \n",
        ")\n",
        "x0_validate[:,0] = x0_validate[:,0] + 0.2 # biomasa (0.2-1.2)\n",
        "x0_validate[:,1] = x0_validate[:,1]* 20 + 20 # sustrato (20-40)\n",
        "x0_validate[:,2] = x0_validate[:,2]* 0 # producto (0)\n",
        "print(x0_validate[0:5,:]) \n",
        "print(x0_validate.shape)"
      ],
      "metadata": {
        "colab": {
          "base_uri": "https://localhost:8080/"
        },
        "id": "4tZlaojvlXsN",
        "outputId": "f1fb155c-d0a5-4285-aa21-797bfa533972"
      },
      "execution_count": 43,
      "outputs": [
        {
          "output_type": "stream",
          "name": "stdout",
          "text": [
            "tensor([[ 0.4608, 23.8805,  0.0000],\n",
            "        [ 0.2017, 26.1530,  0.0000],\n",
            "        [ 0.6531, 20.2212,  0.0000],\n",
            "        [ 0.8685, 34.0118,  0.0000],\n",
            "        [ 0.5695, 28.1104,  0.0000]], dtype=torch.float64)\n",
            "torch.Size([10, 3])\n"
          ]
        }
      ]
    },
    {
      "cell_type": "code",
      "source": [
        "# tiempo de entrenamiento, son trayectorias cortas de una hora \n",
        "# (tomar muestras cada hora es algo razonable)\n",
        "step_size_train = 1\n",
        "ε = 1e-10 # solo para asegurar que se incluye el tiempo final\n",
        "t_span_train = torch.arange(\n",
        "    0.0, \n",
        "    1 + ε,\n",
        "    step_size_train\n",
        ")\n",
        "\n",
        "# tiempo para la validación, esto se va a comparar con la simulación del modelo mecanistico\n",
        "t_span_validate = torch.arange(\n",
        "    0.0,\n",
        "    60 + ε,\n",
        "    step_size_train\n",
        ")"
      ],
      "metadata": {
        "id": "cRC00gsTl5Jz"
      },
      "execution_count": 44,
      "outputs": []
    },
    {
      "cell_type": "code",
      "source": [
        "t_span_train # trayectoría de 1 hora para el entrenamiento"
      ],
      "metadata": {
        "colab": {
          "base_uri": "https://localhost:8080/"
        },
        "id": "mTzq12glq14Q",
        "outputId": "1591b4be-f0b3-43e6-d6c1-0188684ebc0f"
      },
      "execution_count": 45,
      "outputs": [
        {
          "output_type": "execute_result",
          "data": {
            "text/plain": [
              "tensor([0., 1.])"
            ]
          },
          "metadata": {},
          "execution_count": 45
        }
      ]
    },
    {
      "cell_type": "code",
      "source": [
        "t_span_validate # trayectorías de 60 horas para la validación"
      ],
      "metadata": {
        "colab": {
          "base_uri": "https://localhost:8080/"
        },
        "id": "jQZi7B1Fq9o4",
        "outputId": "190885ce-f74c-41a6-ab6d-f3dd67d06c6e"
      },
      "execution_count": 46,
      "outputs": [
        {
          "output_type": "execute_result",
          "data": {
            "text/plain": [
              "tensor([ 0.,  1.,  2.,  3.,  4.,  5.,  6.,  7.,  8.,  9., 10., 11., 12., 13.,\n",
              "        14., 15., 16., 17., 18., 19., 20., 21., 22., 23., 24., 25., 26., 27.,\n",
              "        28., 29., 30., 31., 32., 33., 34., 35., 36., 37., 38., 39., 40., 41.,\n",
              "        42., 43., 44., 45., 46., 47., 48., 49., 50., 51., 52., 53., 54., 55.,\n",
              "        56., 57., 58., 59., 60.])"
            ]
          },
          "metadata": {},
          "execution_count": 46
        }
      ]
    },
    {
      "cell_type": "code",
      "source": [
        "solver = DirectSolver()"
      ],
      "metadata": {
        "id": "FbBpctTZmPdx"
      },
      "execution_count": 47,
      "outputs": []
    },
    {
      "cell_type": "code",
      "source": [
        "print(solver)"
      ],
      "metadata": {
        "colab": {
          "base_uri": "https://localhost:8080/"
        },
        "id": "e0FUYF4HmSsR",
        "outputId": "87074db3-89a1-46bd-92f0-946b142d5fc0"
      },
      "execution_count": 48,
      "outputs": [
        {
          "output_type": "stream",
          "name": "stdout",
          "text": [
            "DirectSolver()\n"
          ]
        }
      ]
    },
    {
      "cell_type": "code",
      "source": [
        "# obtenemos x(1) para cada una de las 100 condiciones iniciales, x(0), de entrenamiento\n",
        "# esta simulación representa nuestros datos 'reales' para el entrenamiento de la red\n",
        "_, x_train = odeint(f, x0_train, t_span_train, solver=\"rk4\")\n",
        "# returns (t_eval, solution )\n",
        "x_true = x_train"
      ],
      "metadata": {
        "id": "YhIUsqsfmUJ0"
      },
      "execution_count": 49,
      "outputs": []
    },
    {
      "cell_type": "code",
      "source": [
        "print(_)\n",
        "print()\n",
        "print(x_true[:, :5, :])"
      ],
      "metadata": {
        "colab": {
          "base_uri": "https://localhost:8080/"
        },
        "id": "jVwCDwRmWvsF",
        "outputId": "b81f8adc-2528-47b7-ccb9-e8bd7745c188"
      },
      "execution_count": 50,
      "outputs": [
        {
          "output_type": "stream",
          "name": "stdout",
          "text": [
            "tensor([0., 1.])\n",
            "\n",
            "tensor([[[ 8.6543, 28.3682, 31.1465],\n",
            "         [ 1.6945, 26.6229,  9.7777],\n",
            "         [ 5.1207, 21.5807, 11.3439],\n",
            "         [ 8.1265, 19.3370, 10.6275],\n",
            "         [ 4.7283, 12.9278, 36.4048]],\n",
            "\n",
            "        [[ 9.2042, 25.6186, 33.3462],\n",
            "         [ 1.8019, 26.0860, 10.2072],\n",
            "         [ 5.4263, 20.0525, 12.5665],\n",
            "         [ 8.5850, 17.0446, 12.4614],\n",
            "         [ 4.9407, 11.8659, 37.2543]]], dtype=torch.float64)\n"
          ]
        }
      ]
    },
    {
      "cell_type": "code",
      "source": [
        "# el orden de las dimensiones es:\n",
        "# 2 observaciones en tiempo (la inicial, x(0) y la que se obtiene mediante integración numérica, x(1))\n",
        "# 100 trayectorias, cada una con dos observaciones\n",
        "# 3 variables de estado, en este caso: biomasa, sustrato y producto\n",
        "print(x_train.shape)\n",
        "print(x0_train.shape)"
      ],
      "metadata": {
        "colab": {
          "base_uri": "https://localhost:8080/"
        },
        "id": "TzLsLPvBrarv",
        "outputId": "4181c0a1-9fd3-4a4f-b806-782e64ca5211"
      },
      "execution_count": 51,
      "outputs": [
        {
          "output_type": "stream",
          "name": "stdout",
          "text": [
            "torch.Size([2, 100, 3])\n",
            "torch.Size([100, 3])\n"
          ]
        }
      ]
    },
    {
      "cell_type": "code",
      "source": [
        "# en la trayectoría número 10 así cambia la biomasa, el sustrato y el producto en un intervalo de 1 hora\n",
        "trayectoria = 10\n",
        "plt.plot(x_true[:, trayectoria, 0], label='b')\n",
        "plt.plot(x_true[:, trayectoria, 1], label='s')\n",
        "plt.plot(x_true[:, trayectoria, 2], label='p')\n",
        "plt.legend()"
      ],
      "metadata": {
        "colab": {
          "base_uri": "https://localhost:8080/",
          "height": 282
        },
        "id": "BQgL1k-f88eI",
        "outputId": "f938745d-77da-4c58-afe5-e5f461acc92f"
      },
      "execution_count": 52,
      "outputs": [
        {
          "output_type": "execute_result",
          "data": {
            "text/plain": [
              "<matplotlib.legend.Legend at 0x7fc44499dd60>"
            ]
          },
          "metadata": {},
          "execution_count": 52
        },
        {
          "output_type": "display_data",
          "data": {
            "text/plain": [
              "<Figure size 432x288 with 1 Axes>"
            ],
            "image/png": "[encoded data removed]"
          },
          "metadata": {
            "needs_background": "light"
          }
        }
      ]
    },
    {
      "cell_type": "code",
      "source": [
        "# obtenemos las trayectorias x(t) para las condiciones iniciales de los \n",
        "# datos de validación, esto también se considera 'real'\n",
        "_, x_validate = odeint(f, x0_validate, t_span_validate, solver=\"rk4\")\n",
        "# obtenemos la trayectoría x(t) para el estado inicial del ejemplo\n",
        "# esto también se considera 'real'\n",
        "# _, x_example = odeint(f, x0_example, t_span_validate, solver=\"rk4\")"
      ],
      "metadata": {
        "id": "xOmoEClamY6q"
      },
      "execution_count": 53,
      "outputs": []
    },
    {
      "cell_type": "code",
      "source": [
        "print(x0_validate.shape) # le damos 10 condiciones iniciales para que simule una trayectoria de 24 horas\n",
        "print(x_validate.shape) # observaciones en el tiempo, trayectoría, variables de estado\n",
        "# print(x0_example.shape) # solo una condición inicial para que simule una trayectoria de 24 horas\n",
        "# print(x_example.shape)"
      ],
      "metadata": {
        "colab": {
          "base_uri": "https://localhost:8080/"
        },
        "id": "cOrvUqtusJdM",
        "outputId": "eb255743-eb21-4fac-8de6-f529804ef300"
      },
      "execution_count": 54,
      "outputs": [
        {
          "output_type": "stream",
          "name": "stdout",
          "text": [
            "torch.Size([10, 3])\n",
            "torch.Size([61, 10, 3])\n"
          ]
        }
      ]
    },
    {
      "cell_type": "code",
      "source": [
        "# trayectoría de validación 'real' número 3\n",
        "trayectoria = 3\n",
        "plt.plot(x_validate[:, trayectoria, 0], label = 'b')\n",
        "plt.plot(x_validate[:, trayectoria, 1], label = 's')\n",
        "plt.plot(x_validate[:, trayectoria, 2], label = 'p')\n",
        "plt.legend()"
      ],
      "metadata": {
        "colab": {
          "base_uri": "https://localhost:8080/",
          "height": 282
        },
        "id": "S4Z_hfXT8orQ",
        "outputId": "5c656d0a-f60e-43c5-ceff-82ddfe92e69e"
      },
      "execution_count": 55,
      "outputs": [
        {
          "output_type": "execute_result",
          "data": {
            "text/plain": [
              "<matplotlib.legend.Legend at 0x7fc44495d1f0>"
            ]
          },
          "metadata": {},
          "execution_count": 55
        },
        {
          "output_type": "display_data",
          "data": {
            "text/plain": [
              "<Figure size 432x288 with 1 Axes>"
            ],
            "image/png": "[encoded data removed]"
          },
          "metadata": {
            "needs_background": "light"
          }
        }
      ]
    },
    {
      "cell_type": "code",
      "source": [
        "##################### red neuronal ##########################\n",
        "layers = []\n",
        "layers.append(nn.Linear(3, 32)) # capa de entrada\n",
        "for _ in range(8):\n",
        "    layers.append(nn.Linear(32, 32)) # capas escondidas\n",
        "    layers.append(nn.Softplus()) # función de activación para cada capa escondida\n",
        "\n",
        "layers.append(nn.Linear(32, 3)) # capa de salida\n",
        "\n",
        "net = nn.Sequential(*layers) # crear red\n",
        "net.to('cpu').double()\n",
        "\n",
        "# inicializar pesos de la red\n",
        "for m in net.modules():\n",
        "    if type(m) == nn.Linear:\n",
        "        # Initialize the weights of the Linear module using xavier_uniform_\n",
        "        nn.init.xavier_uniform_(m.weight)"
      ],
      "metadata": {
        "id": "I10zU503mh1x"
      },
      "execution_count": 56,
      "outputs": []
    },
    {
      "cell_type": "code",
      "source": [
        "# optimizer\n",
        "opt = Adam(net.parameters()) # creo que Adam usa una función de activación en la \n",
        "# capa de salida y por eso nosotros ya no usamos nada en la red de forma explícita"
      ],
      "metadata": {
        "id": "uqlPuOcfmxCa"
      },
      "execution_count": 57,
      "outputs": []
    },
    {
      "cell_type": "code",
      "source": [
        "# entrenamiento de la red\n",
        "losses = []\n",
        "\n",
        "for _ in tqdm(range(2000)): # epochs es 2000\n",
        "\n",
        "    # para hacer esto con un input vas a tener que hacerlo a mano usando un ciclo for\n",
        "\n",
        "    # 1. Forward pass\n",
        "    _, x_pred_train = odeint(\n",
        "        lambda t, x: net(x), # le tengo que pasar el tiempo a fuerzas\n",
        "        # al final t no hace nada pero la funcion f lo debe recibir\n",
        "        x0_train, # (100, 3) usamos 100 condiciones iniciales para generar 100 trayectorías de una hora \n",
        "        t_span_train, # 1 hora, tensor([0., 1.])\n",
        "        solver=solver\n",
        "    )\n",
        "\n",
        "    # 2. Calculate loss\n",
        "    loss = mse_loss(x_pred_train, x_train) # calcula función loss (error)\n",
        "\n",
        "    # 3. Zero grad\n",
        "    opt.zero_grad() # después de cada iteración hay que hacer el gradiente 0 para que \n",
        "    # no se acumule\n",
        "    \n",
        "    # 4. Backward pass\n",
        "    loss.backward() # calcular las derivadas \n",
        "\n",
        "    # 5. Update weights and biases\n",
        "    opt.step() # iterar para cambiar los pesos de acuerdo a las derivadas\n",
        "\n",
        "    losses.append(loss.item()) # guardar el valor de la función loss"
      ],
      "metadata": {
        "colab": {
          "base_uri": "https://localhost:8080/"
        },
        "id": "jV21Uxvlm0tr",
        "outputId": "b8e66078-671d-4fc8-b81a-a25245d9a3dd"
      },
      "execution_count": 58,
      "outputs": [
        {
          "output_type": "stream",
          "name": "stderr",
          "text": [
            "100%|██████████| 2000/2000 [00:09<00:00, 218.72it/s]\n"
          ]
        }
      ]
    },
    {
      "cell_type": "code",
      "source": [
        "# show\n",
        "fig, ax = plt.subplots()\n",
        "ax.plot(losses)\n",
        "ax.set_xlabel(\"epoch\")\n",
        "ax.set_ylabel(\"MSE\")\n",
        "\n",
        "plt.show()"
      ],
      "metadata": {
        "colab": {
          "base_uri": "https://localhost:8080/",
          "height": 279
        },
        "id": "v72gzgtGnizF",
        "outputId": "501fef2f-4348-435d-87d0-e36216222eb6"
      },
      "execution_count": 59,
      "outputs": [
        {
          "output_type": "display_data",
          "data": {
            "text/plain": [
              "<Figure size 432x288 with 1 Axes>"
            ],
            "image/png": "[encoded data removed]"
          },
          "metadata": {
            "needs_background": "light"
          }
        }
      ]
    },
    {
      "cell_type": "code",
      "source": [
        "print(x0_train.shape) # input del entrenamiento\n",
        "print(x_train.shape) # output 'real'\n",
        "print(x_pred_train.shape) # output predicha con la red en el entrenamiento en la iteración\n",
        "# 20000"
      ],
      "metadata": {
        "colab": {
          "base_uri": "https://localhost:8080/"
        },
        "id": "EPPRR4Fp93-T",
        "outputId": "79461140-4ed0-4370-c14c-e8a47efb045d"
      },
      "execution_count": 60,
      "outputs": [
        {
          "output_type": "stream",
          "name": "stdout",
          "text": [
            "torch.Size([100, 3])\n",
            "torch.Size([2, 100, 3])\n",
            "torch.Size([2, 100, 3])\n"
          ]
        }
      ]
    },
    {
      "cell_type": "code",
      "source": [
        "print(x_train[0, 0, :]) # output 'real'\n",
        "print(x_pred_train[0, 0, :]) # output predicha con la red en el entrenamiento en la iteración"
      ],
      "metadata": {
        "id": "BSQ5fC7_jTK5",
        "colab": {
          "base_uri": "https://localhost:8080/"
        },
        "outputId": "2212dc91-baed-421f-fb0b-0940da3f21e5"
      },
      "execution_count": 61,
      "outputs": [
        {
          "output_type": "stream",
          "name": "stdout",
          "text": [
            "tensor([ 8.6543, 28.3682, 31.1465], dtype=torch.float64)\n",
            "tensor([ 8.6543, 28.3682, 31.1465], dtype=torch.float64,\n",
            "       grad_fn=<SliceBackward0>)\n"
          ]
        }
      ]
    },
    {
      "cell_type": "code",
      "source": [
        "# VAMOS A COMPROBAR QUE LA RED FUNCIONÓ\n",
        "_, x_pred_validate = odeint(lambda t, x: net(\n",
        "    x), x0_validate, t_span_validate, solver=solver\n",
        ") # predicción con la red ya entrenada, pero usando nuevos datos que la red no ha visto\n",
        "# varias condiciones iniciales"
      ],
      "metadata": {
        "id": "bpf2QpgmnDqs"
      },
      "execution_count": 62,
      "outputs": []
    },
    {
      "cell_type": "code",
      "source": [
        "print(x_pred_validate.shape) # num de observaciones en el tiempo, trayectorias, variables de estado\n",
        "# print(x_pred_example.shape)"
      ],
      "metadata": {
        "colab": {
          "base_uri": "https://localhost:8080/"
        },
        "id": "g3q16q4M-YTF",
        "outputId": "9a985506-9687-4583-e4dc-eb331a202db1"
      },
      "execution_count": 63,
      "outputs": [
        {
          "output_type": "stream",
          "name": "stdout",
          "text": [
            "torch.Size([61, 10, 3])\n"
          ]
        }
      ]
    },
    {
      "cell_type": "code",
      "source": [
        "# para graficar hay que convertir a arreglos de numpy\n",
        "x_pred_validate = x_pred_validate.detach().numpy()\n",
        "# x_pred_example = x_pred_example.detach().numpy()"
      ],
      "metadata": {
        "id": "n88gjRDknWD1"
      },
      "execution_count": 64,
      "outputs": []
    },
    {
      "cell_type": "code",
      "source": [
        "x_pred_validate[:10,3,:] # una de las trayectorías predichas con la red\n",
        "# usando las condiciones iniciales de validación\n",
        "# se ve bien :D"
      ],
      "metadata": {
        "colab": {
          "base_uri": "https://localhost:8080/"
        },
        "id": "1lNb1qLP6Is_",
        "outputId": "608a94e2-9c89-40ee-8c48-4739e5973481"
      },
      "execution_count": 65,
      "outputs": [
        {
          "output_type": "execute_result",
          "data": {
            "text/plain": [
              "array([[ 0.86847445, 34.01178554,  0.        ],\n",
              "       [ 1.43873385, 32.4965917 ,  1.84478993],\n",
              "       [ 1.78059686, 31.74700594,  2.66550703],\n",
              "       [ 2.0188952 , 31.12087014,  3.24922207],\n",
              "       [ 2.20351496, 30.50079375,  3.76158445],\n",
              "       [ 2.35881404, 29.8527565 ,  4.26217263],\n",
              "       [ 2.49922803, 29.16283314,  4.78072512],\n",
              "       [ 2.63433574, 28.42394294,  5.33554716],\n",
              "       [ 2.7705822 , 27.63295546,  5.93910723],\n",
              "       [ 2.91181446, 26.79084701,  6.59948227]])"
            ]
          },
          "metadata": {},
          "execution_count": 65
        }
      ]
    },
    {
      "cell_type": "code",
      "source": [
        "print(x_validate.shape) # real\n",
        "print(x_pred_validate.shape) # predicho"
      ],
      "metadata": {
        "colab": {
          "base_uri": "https://localhost:8080/"
        },
        "id": "DNvHP9Cx07ve",
        "outputId": "8fea03f6-8e93-43b7-8b75-3f6b05bc4147"
      },
      "execution_count": 66,
      "outputs": [
        {
          "output_type": "stream",
          "name": "stdout",
          "text": [
            "torch.Size([61, 10, 3])\n",
            "(61, 10, 3)\n"
          ]
        }
      ]
    },
    {
      "cell_type": "code",
      "source": [
        "x_validate[..., 0, 1] == x_validate[:, 0, 1] # es lo mismo ;D"
      ],
      "metadata": {
        "colab": {
          "base_uri": "https://localhost:8080/"
        },
        "id": "Jz_vT7QHbVru",
        "outputId": "4a69d880-3b5a-4808-a07e-630295e233f3"
      },
      "execution_count": 67,
      "outputs": [
        {
          "output_type": "execute_result",
          "data": {
            "text/plain": [
              "tensor([True, True, True, True, True, True, True, True, True, True, True, True,\n",
              "        True, True, True, True, True, True, True, True, True, True, True, True,\n",
              "        True, True, True, True, True, True, True, True, True, True, True, True,\n",
              "        True, True, True, True, True, True, True, True, True, True, True, True,\n",
              "        True, True, True, True, True, True, True, True, True, True, True, True,\n",
              "        True])"
            ]
          },
          "metadata": {},
          "execution_count": 67
        }
      ]
    },
    {
      "cell_type": "code",
      "source": [
        "# for i in range(x_validate.shape[1]):\n",
        "i = 0\n",
        "print(\"Validación\", i+1)\n",
        "plt.figure(figsize = (25,5))\n",
        "\n",
        "# la biomasa (0)\n",
        "plt.subplot(131)\n",
        "plt.plot(t_span_validate, \n",
        "    x_validate[..., i, 0], # lo real\n",
        "    color=\"#069AF3\", label = 'datos', linewidth = 5)\n",
        "\n",
        "# el sustrato (1)\n",
        "plt.subplot(132)\n",
        "plt.plot(\n",
        "    t_span_validate, \n",
        "    x_validate[..., i, 1], # lo real\n",
        "    color=\"#F97306\", label = 'datos', linewidth = 5)\n",
        "# el producto (2)\n",
        "plt.subplot(133)\n",
        "plt.plot(t_span_validate, \n",
        "        x_validate[..., 0, 2], # lo real\n",
        "        color=\"lightgreen\", label = 'datos', linewidth = 5)\n",
        "\n",
        "##### datos predichos ######\n",
        "plt.subplot(131)\n",
        "plt.plot(\n",
        "    t_span_validate,\n",
        "    x_pred_validate[..., i, 0], label = 'predicho', # lo predicho\n",
        "    linestyle=\"dashed\",\n",
        "    color=\"#069AF3\", linewidth = 5)\n",
        "plt.grid()\n",
        "plt.xlabel(\"Tiempo (h)\", size = 20)\n",
        "plt.ylabel(\"Concetración (g/L)\", size = 20)\n",
        "plt.title(\"Biomasa\", size = 20)\n",
        "plt.legend(fontsize = 20)\n",
        "\n",
        "\n",
        "plt.subplot(132)\n",
        "plt.plot(\n",
        "    t_span_validate,\n",
        "    x_pred_validate[..., i, 1], label = 'predicho', # lo predicho\n",
        "    linestyle=\"dashed\",\n",
        "    color='#F97306', linewidth = 5)\n",
        "plt.grid()\n",
        "plt.xlabel(\"Tiempo (h)\", size = 20)\n",
        "plt.ylabel(\"Concetración (g/L)\", size = 20)\n",
        "plt.title(\"Sustrato\", size = 20)\n",
        "plt.legend(fontsize = 20)\n",
        "\n",
        "\n",
        "plt.subplot(133)\n",
        "plt.plot(\n",
        "    t_span_validate,\n",
        "    x_pred_validate[..., i, 2], label = 'predicho', # lo predicho\n",
        "    linestyle=\"dashed\",\n",
        "    color=\"lightgreen\", linewidth = 5)\n",
        "\n",
        "plt.grid()\n",
        "plt.xlabel(\"Tiempo (h)\", size = 20)\n",
        "plt.ylabel(\"Concetración (g/L)\", size = 20)\n",
        "plt.title(\"Etanol\", size = 20)\n",
        "plt.legend(fontsize = 20)\n",
        "plt.show()\n",
        "\n",
        "    "
      ],
      "metadata": {
        "colab": {
          "base_uri": "https://localhost:8080/",
          "height": 475
        },
        "id": "DnnNwxnenY8l",
        "outputId": "fcbc3935-a143-42df-c486-11bf3db2d529"
      },
      "execution_count": 69,
      "outputs": [
        {
          "output_type": "stream",
          "name": "stdout",
          "text": [
            "Validación 1\n"
          ]
        },
        {
          "output_type": "stream",
          "name": "stderr",
          "text": [
            "<ipython-input-69-444fdf35470b>:25: MatplotlibDeprecationWarning: Adding an axes using the same arguments as a previous axes currently reuses the earlier instance.  In a future version, a new instance will always be created and returned.  Meanwhile, this warning can be suppressed, and the future behavior ensured, by passing a unique label to each axes instance.\n",
            "  plt.subplot(131)\n",
            "<ipython-input-69-444fdf35470b>:38: MatplotlibDeprecationWarning: Adding an axes using the same arguments as a previous axes currently reuses the earlier instance.  In a future version, a new instance will always be created and returned.  Meanwhile, this warning can be suppressed, and the future behavior ensured, by passing a unique label to each axes instance.\n",
            "  plt.subplot(132)\n",
            "<ipython-input-69-444fdf35470b>:51: MatplotlibDeprecationWarning: Adding an axes using the same arguments as a previous axes currently reuses the earlier instance.  In a future version, a new instance will always be created and returned.  Meanwhile, this warning can be suppressed, and the future behavior ensured, by passing a unique label to each axes instance.\n",
            "  plt.subplot(133)\n"
          ]
        },
        {
          "output_type": "display_data",
          "data": {
            "text/plain": [
              "<Figure size 1800x360 with 3 Axes>"
            ],
            "image/png": "[encoded data removed]"
          },
          "metadata": {
            "needs_background": "light"
          }
        }
      ]
    },
    {
      "cell_type": "code",
      "source": [],
      "metadata": {
        "id": "fjfyEEmgNQYP"
      },
      "execution_count": 68,
      "outputs": []
    }
  ]
}