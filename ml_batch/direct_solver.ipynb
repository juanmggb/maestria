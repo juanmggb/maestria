{
  "nbformat": 4,
  "nbformat_minor": 0,
  "metadata": {
    "colab": {
      "provenance": [],
      "authorship_tag": "ABX9TyPLjIRkITcV9izJ1gU57x0z",
      "include_colab_link": true
    },
    "kernelspec": {
      "name": "python3",
      "display_name": "Python 3"
    },
    "language_info": {
      "name": "python"
    }
  },
  "cells": [
    {
      "cell_type": "markdown",
      "metadata": {
        "id": "view-in-github",
        "colab_type": "text"
      },
      "source": [
        "<a href=\"https://colab.research.google.com/github/juanmggb/maestria/blob/main/ml_batch/direct_solver.ipynb\" target=\"_parent\"><img src=\"https://colab.research.google.com/assets/colab-badge.svg\" alt=\"Open In Colab\"/></a>"
      ]
    },
    {
      "cell_type": "markdown",
      "source": [
        "# DirectSolver"
      ],
      "metadata": {
        "id": "EUthWUeAJSxI"
      }
    },
    {
      "cell_type": "code",
      "source": [
        "pip install pyDOE"
      ],
      "metadata": {
        "id": "CUwbbK2et1Re"
      },
      "execution_count": null,
      "outputs": []
    },
    {
      "cell_type": "code",
      "source": [
        "pip install torchdyn"
      ],
      "metadata": {
        "id": "wPw5KUyjuBK8"
      },
      "execution_count": null,
      "outputs": []
    },
    {
      "cell_type": "code",
      "execution_count": 3,
      "metadata": {
        "id": "xLFpnmZzkjjT"
      },
      "outputs": [],
      "source": [
        "from argparse import ArgumentParser\n",
        "from numpy import double\n",
        "import torch.nn as nn\n",
        "from torch.optim import Adam\n",
        "from tqdm import tqdm\n",
        "from pyDOE import lhs\n",
        "import matplotlib.pyplot as plt\n",
        "from torch.nn.functional import mse_loss\n",
        "import numpy as np\n",
        "import torch\n",
        "from torchdyn.numerics import odeint\n",
        "# from torchdyn.numerics.solvers import SolverTemplate"
      ]
    },
    {
      "cell_type": "code",
      "source": [
        "#@title solver \n",
        "class SolverTemplate(nn.Module):\n",
        "    def __init__(self, order, min_factor: float = 0.2, max_factor: float = 10, safety: float = 0.9):\n",
        "        super().__init__()\n",
        "        self.order = order\n",
        "        self.min_factor = torch.tensor([min_factor])\n",
        "        self.max_factor = torch.tensor([max_factor])\n",
        "        self.safety = torch.tensor([safety])\n",
        "        self.tableau = None\n",
        "\n",
        "    def sync_device_dtype(self, x, t_span):\n",
        "        \"Ensures `x`, `t_span`, `tableau` and other solver tensors are on the same device with compatible dtypes\"\n",
        "\n",
        "        if isinstance(x, dict):\n",
        "            proto_arr = x[list(x.keys())[0]]\n",
        "        elif isinstance(x, torch.Tensor):\n",
        "            proto_arr = x\n",
        "        else:\n",
        "            raise NotImplementedError(\n",
        "                f\"{type(x)} is not supported as the state variable\")\n",
        "\n",
        "        device = proto_arr.device\n",
        "\n",
        "        if self.tableau is not None:\n",
        "            c, a, bsol, berr = self.tableau\n",
        "            self.tableau = c.to(proto_arr), [a.to(proto_arr) for a in a], bsol.to(\n",
        "                proto_arr), berr.to(proto_arr)\n",
        "        t_span = t_span.to(device)\n",
        "        self.safety = self.safety.to(device)\n",
        "        self.min_factor = self.min_factor.to(device)\n",
        "        self.max_factor = self.max_factor.to(device)\n",
        "        return x, t_span\n",
        "\n",
        "    def step(self, f, x, t, dt, k1=None, args=None):\n",
        "        pass\n",
        "\n",
        "class DirectSolver(SolverTemplate):\n",
        "    def __init__(self, dtype=torch.float32):\n",
        "        super().__init__(order=1)\n",
        "        self.dtype = dtype\n",
        "        self.stepping_class = \"fixed\"\n",
        "\n",
        "    def step(self, f, x, t, dt, k1=None, args=None):\n",
        "\n",
        "        x_sol = f(t, x)\n",
        "        return None, x_sol, None\n"
      ],
      "metadata": {
        "id": "x_nXl6p4kqOq",
        "cellView": "form"
      },
      "execution_count": 4,
      "outputs": []
    },
    {
      "cell_type": "code",
      "source": [
        "#@title bioreactor model\n",
        "def inhibition_model(t, x):\n",
        "    b = x[..., 0]\n",
        "    s = x[..., 1]\n",
        "    p = x[..., 2]\n",
        "\n",
        "    # Kinetic parameters\n",
        "    mu = 1.2 # 1/h\n",
        "    ks = 280 # g/L\n",
        "    Yxs = 0.2 \n",
        "    Ypx = 4 \n",
        "    ki = 0.3\n",
        "\n",
        "    # Mass balances\n",
        "    db = mu*(s / (ks + s + ki*s**2))*b \n",
        "    ds = -1/Yxs*mu*(s / (ks + s + ki*s**2))*b \n",
        "    dp = Ypx*mu*(s / (ks + s + ki*s**2))*b\n",
        "\n",
        "    return torch.stack((db, ds, dp), dim=-1)"
      ],
      "metadata": {
        "id": "JTZ4TSftlM35",
        "cellView": "form"
      },
      "execution_count": 5,
      "outputs": []
    },
    {
      "cell_type": "code",
      "source": [
        "# initial condtions for training\n",
        "n_training = 100\n",
        "x0_train = (\n",
        "    torch.tensor(lhs(3, n_training), device='cpu') \n",
        ") \n",
        "x0_train[:,0] = x0_train[:,0] * 10 + 0.2 # biomass (0.2-10.2)\n",
        "x0_train[:,1] = x0_train[:,1]* 40 # substrate (0-40)\n",
        "x0_train[:,2] = x0_train[:,2]* 40 # product (0-40)"
      ],
      "metadata": {
        "id": "DAlzKyAOO7zi"
      },
      "execution_count": 6,
      "outputs": []
    },
    {
      "cell_type": "code",
      "source": [
        "# condiciones iniciales para la validación de la red\n",
        "n_validation = 10\n",
        "x0_validate = (\n",
        "    torch.tensor(lhs(3, n_validation), device='cpu') \n",
        ")\n",
        "x0_validate[:,0] = x0_validate[:,0] + 0.2 # biomass (0.2-1.2)\n",
        "x0_validate[:,1] = x0_validate[:,1]* 20 + 20 # substrate (20-40)\n",
        "x0_validate[:,2] = x0_validate[:,2]* 0 # product (0)"
      ],
      "metadata": {
        "id": "4tZlaojvlXsN"
      },
      "execution_count": 7,
      "outputs": []
    },
    {
      "cell_type": "code",
      "source": [
        "# training time are time intervals of 1 hour\n",
        "step_size_train = 1\n",
        "ε = 1e-10 \n",
        "t_span_train = torch.arange(\n",
        "    0.0, \n",
        "    1 + ε,\n",
        "    step_size_train\n",
        ")\n",
        "\n",
        "# validation time are time intervals of 60 hours\n",
        "t_span_validate = torch.arange(\n",
        "    0.0,\n",
        "    60 + ε,\n",
        "    step_size_train\n",
        ")"
      ],
      "metadata": {
        "id": "cRC00gsTl5Jz"
      },
      "execution_count": 8,
      "outputs": []
    },
    {
      "cell_type": "code",
      "source": [
        "# Calculate state at hour 1 with training data\n",
        "# This is equivalen to experimental data\n",
        "_, x_train = odeint(inhibition_model, x0_train, t_span_train, solver=\"rk4\")\n"
      ],
      "metadata": {
        "id": "YhIUsqsfmUJ0"
      },
      "execution_count": 10,
      "outputs": []
    },
    {
      "cell_type": "code",
      "source": [
        "# en la trayectoría número 10 así cambia la biomasa, el sustrato y el producto en un intervalo de 1 hora\n",
        "traj = 10\n",
        "plt.plot(x_train[:, traj, 0], label='b')\n",
        "plt.plot(x_train[:, traj, 1], label='s')\n",
        "plt.plot(x_train[:, traj, 2], label='p')\n",
        "plt.legend()"
      ],
      "metadata": {
        "colab": {
          "base_uri": "https://localhost:8080/",
          "height": 282
        },
        "id": "BQgL1k-f88eI",
        "outputId": "d53ca2b0-4671-46a6-e4f5-5852e8f371cc"
      },
      "execution_count": 12,
      "outputs": [
        {
          "output_type": "execute_result",
          "data": {
            "text/plain": [
              "<matplotlib.legend.Legend at 0x7f6e61e82d00>"
            ]
          },
          "metadata": {},
          "execution_count": 12
        },
        {
          "output_type": "display_data",
          "data": {
            "text/plain": [
              "<Figure size 432x288 with 1 Axes>"
            ],
            "image/png": "[encoded data removed]"
          },
          "metadata": {
            "needs_background": "light"
          }
        }
      ]
    },
    {
      "cell_type": "code",
      "source": [
        "# Calculate trajectory for initial conditions in validation data\n",
        "# This is equivalen to experimental data\n",
        "_, x_validate = odeint(inhibition_model, x0_validate, t_span_validate, solver=\"rk4\")"
      ],
      "metadata": {
        "id": "xOmoEClamY6q"
      },
      "execution_count": 13,
      "outputs": []
    },
    {
      "cell_type": "code",
      "source": [
        "# trayectoría de validación 'real' número 3\n",
        "traj = 3\n",
        "plt.plot(x_validate[:, traj, 0], label = 'b')\n",
        "plt.plot(x_validate[:, traj, 1], label = 's')\n",
        "plt.plot(x_validate[:, traj, 2], label = 'p')\n",
        "plt.legend()"
      ],
      "metadata": {
        "colab": {
          "base_uri": "https://localhost:8080/",
          "height": 282
        },
        "id": "S4Z_hfXT8orQ",
        "outputId": "9429dcf7-fceb-4a65-8ecd-bc7245dd211e"
      },
      "execution_count": 14,
      "outputs": [
        {
          "output_type": "execute_result",
          "data": {
            "text/plain": [
              "<matplotlib.legend.Legend at 0x7f6e6199b6a0>"
            ]
          },
          "metadata": {},
          "execution_count": 14
        },
        {
          "output_type": "display_data",
          "data": {
            "text/plain": [
              "<Figure size 432x288 with 1 Axes>"
            ],
            "image/png": "[encoded data removed]"
          },
          "metadata": {
            "needs_background": "light"
          }
        }
      ]
    },
    {
      "cell_type": "code",
      "source": [
        "# Define model\n",
        "def model(input_dim, output_dim):\n",
        "    layers = []\n",
        "    layers.append(nn.Linear(input_dim, 32))\n",
        "    for _ in range(8):\n",
        "        layers.append(nn.Linear(32, 32)) \n",
        "        layers.append(nn.Softplus()) \n",
        "    layers.append(nn.Linear(32, output_dim))\n",
        "    net = nn.Sequential(*layers) \n",
        "    net.to('cpu').double()\n",
        "\n",
        "    for m in net.modules():\n",
        "        if type(m) == nn.Linear:\n",
        "            # Initialize the weights of the Linear module using xavier_uniform_\n",
        "            nn.init.xavier_uniform_(m.weight)\n",
        "    return net"
      ],
      "metadata": {
        "id": "I10zU503mh1x"
      },
      "execution_count": 15,
      "outputs": []
    },
    {
      "cell_type": "code",
      "source": [
        "# Create model\n",
        "net = model(3, 3)"
      ],
      "metadata": {
        "id": "CJOiIbtMbCRn"
      },
      "execution_count": 41,
      "outputs": []
    },
    {
      "cell_type": "code",
      "source": [
        "# training algorithm\n",
        "optimizer = Adam(net.parameters()) "
      ],
      "metadata": {
        "id": "uqlPuOcfmxCa"
      },
      "execution_count": 42,
      "outputs": []
    },
    {
      "cell_type": "code",
      "source": [
        "# training\n",
        "losses = []\n",
        "\n",
        "epochs = 2000\n",
        "\n",
        "for epoch in tqdm(range(epochs)): \n",
        "\n",
        "    net.train()\n",
        "\n",
        "    # 1. Forward pass\n",
        "    _, x_pred_train = odeint(\n",
        "        lambda t, x: net(x),\n",
        "        x0_train,\n",
        "        t_span_train, \n",
        "        solver=DirectSolver()\n",
        "    )\n",
        "\n",
        "    # 2. Calculate loss\n",
        "    loss = mse_loss(x_pred_train, x_train) \n",
        "\n",
        "    # 3. Zero grad\n",
        "    optimizer.zero_grad() \n",
        "    \n",
        "    # 4. Backward pass\n",
        "    loss.backward()\n",
        "    losses.append(loss.item())\n",
        "\n",
        "    # 5. Update weights and biases\n",
        "    optimizer.step() # iterar para cambiar los pesos de acuerdo a las derivadas\n",
        "\n",
        "    # Validation data\n",
        "    net.eval()\n",
        "    with torch.inference_mode():\n",
        "\n",
        "        # 1. Forward pass\n",
        "        _, x_pred_validate = odeint(\n",
        "            lambda t, x: net(x), \n",
        "            x0_validate, \n",
        "            t_span_validate, \n",
        "            solver=DirectSolver()\n",
        "        )\n",
        "\n",
        "        # 2. Calculate loss\n",
        "        loss_val = mse_loss(x_pred_validate, x_validate) \n",
        "    \n",
        "    if epoch % 50 == 0:\n",
        "\n",
        "        print(f\"Epoch: {epoch} | Training loss: {loss} | Test loss: {loss_val}\")\n",
        "\n",
        "\n",
        "    losses.append(loss.item())"
      ],
      "metadata": {
        "colab": {
          "base_uri": "https://localhost:8080/"
        },
        "id": "jV21Uxvlm0tr",
        "outputId": "e4913fd3-8769-4948-cd5c-6b24a932a5d3"
      },
      "execution_count": 43,
      "outputs": [
        {
          "output_type": "stream",
          "name": "stderr",
          "text": [
            "  0%|          | 9/2000 [00:00<00:50, 39.26it/s]"
          ]
        },
        {
          "output_type": "stream",
          "name": "stdout",
          "text": [
            "Epoch: 0 | Training loss: 169.3180073173885 | Test loss: 177.13294634905387\n"
          ]
        },
        {
          "output_type": "stream",
          "name": "stderr",
          "text": [
            "  3%|▎         | 57/2000 [00:01<00:45, 42.28it/s]"
          ]
        },
        {
          "output_type": "stream",
          "name": "stdout",
          "text": [
            "Epoch: 50 | Training loss: 20.137944373840675 | Test loss: 123.25216149988492\n"
          ]
        },
        {
          "output_type": "stream",
          "name": "stderr",
          "text": [
            "  5%|▌         | 105/2000 [00:02<00:51, 36.47it/s]"
          ]
        },
        {
          "output_type": "stream",
          "name": "stdout",
          "text": [
            "Epoch: 100 | Training loss: 2.3506799088743326 | Test loss: 83.23271834124662\n"
          ]
        },
        {
          "output_type": "stream",
          "name": "stderr",
          "text": [
            "  8%|▊         | 159/2000 [00:03<00:44, 41.40it/s]"
          ]
        },
        {
          "output_type": "stream",
          "name": "stdout",
          "text": [
            "Epoch: 150 | Training loss: 1.672343220869469 | Test loss: 35.18448948738985\n"
          ]
        },
        {
          "output_type": "stream",
          "name": "stderr",
          "text": [
            " 10%|█         | 204/2000 [00:05<00:47, 37.98it/s]"
          ]
        },
        {
          "output_type": "stream",
          "name": "stdout",
          "text": [
            "Epoch: 200 | Training loss: 0.2531527980394854 | Test loss: 46.02005024792781\n"
          ]
        },
        {
          "output_type": "stream",
          "name": "stderr",
          "text": [
            " 13%|█▎        | 253/2000 [00:06<01:17, 22.49it/s]"
          ]
        },
        {
          "output_type": "stream",
          "name": "stdout",
          "text": [
            "Epoch: 250 | Training loss: 0.044547556897617246 | Test loss: 29.51753359915079\n"
          ]
        },
        {
          "output_type": "stream",
          "name": "stderr",
          "text": [
            " 15%|█▌        | 306/2000 [00:09<01:06, 25.42it/s]"
          ]
        },
        {
          "output_type": "stream",
          "name": "stdout",
          "text": [
            "Epoch: 300 | Training loss: 0.033070332181567026 | Test loss: 100.52281146720924\n"
          ]
        },
        {
          "output_type": "stream",
          "name": "stderr",
          "text": [
            " 18%|█▊        | 354/2000 [00:11<01:05, 25.01it/s]"
          ]
        },
        {
          "output_type": "stream",
          "name": "stdout",
          "text": [
            "Epoch: 350 | Training loss: 0.010826550059802424 | Test loss: 59.843392629099824\n"
          ]
        },
        {
          "output_type": "stream",
          "name": "stderr",
          "text": [
            " 20%|██        | 409/2000 [00:12<00:38, 41.37it/s]"
          ]
        },
        {
          "output_type": "stream",
          "name": "stdout",
          "text": [
            "Epoch: 400 | Training loss: 0.007567555770069162 | Test loss: 97.97139588250836\n"
          ]
        },
        {
          "output_type": "stream",
          "name": "stderr",
          "text": [
            " 23%|██▎       | 459/2000 [00:13<00:36, 42.55it/s]"
          ]
        },
        {
          "output_type": "stream",
          "name": "stdout",
          "text": [
            "Epoch: 450 | Training loss: 0.00549288885168333 | Test loss: 44.199550218800155\n"
          ]
        },
        {
          "output_type": "stream",
          "name": "stderr",
          "text": [
            " 25%|██▌       | 509/2000 [00:15<00:36, 40.73it/s]"
          ]
        },
        {
          "output_type": "stream",
          "name": "stdout",
          "text": [
            "Epoch: 500 | Training loss: 0.04037237728685893 | Test loss: 44.23530493459249\n"
          ]
        },
        {
          "output_type": "stream",
          "name": "stderr",
          "text": [
            " 28%|██▊       | 559/2000 [00:16<00:34, 41.39it/s]"
          ]
        },
        {
          "output_type": "stream",
          "name": "stdout",
          "text": [
            "Epoch: 550 | Training loss: 0.003683295080140779 | Test loss: 36.002485014582156\n"
          ]
        },
        {
          "output_type": "stream",
          "name": "stderr",
          "text": [
            " 30%|███       | 609/2000 [00:17<00:34, 40.26it/s]"
          ]
        },
        {
          "output_type": "stream",
          "name": "stdout",
          "text": [
            "Epoch: 600 | Training loss: 0.0037525447441366508 | Test loss: 25.74349877902491\n"
          ]
        },
        {
          "output_type": "stream",
          "name": "stderr",
          "text": [
            " 33%|███▎      | 659/2000 [00:18<00:31, 42.86it/s]"
          ]
        },
        {
          "output_type": "stream",
          "name": "stdout",
          "text": [
            "Epoch: 650 | Training loss: 0.00334238908275699 | Test loss: 46.358702785533076\n"
          ]
        },
        {
          "output_type": "stream",
          "name": "stderr",
          "text": [
            " 35%|███▌      | 709/2000 [00:20<00:31, 41.39it/s]"
          ]
        },
        {
          "output_type": "stream",
          "name": "stdout",
          "text": [
            "Epoch: 700 | Training loss: 0.002366871613297404 | Test loss: 29.618784086558847\n"
          ]
        },
        {
          "output_type": "stream",
          "name": "stderr",
          "text": [
            " 38%|███▊      | 759/2000 [00:21<00:29, 42.62it/s]"
          ]
        },
        {
          "output_type": "stream",
          "name": "stdout",
          "text": [
            "Epoch: 750 | Training loss: 0.005882993368852062 | Test loss: 26.841934743209137\n"
          ]
        },
        {
          "output_type": "stream",
          "name": "stderr",
          "text": [
            " 40%|████      | 809/2000 [00:22<00:28, 41.71it/s]"
          ]
        },
        {
          "output_type": "stream",
          "name": "stdout",
          "text": [
            "Epoch: 800 | Training loss: 0.0019918198279771635 | Test loss: 32.00432858555891\n"
          ]
        },
        {
          "output_type": "stream",
          "name": "stderr",
          "text": [
            " 43%|████▎     | 859/2000 [00:23<00:26, 42.45it/s]"
          ]
        },
        {
          "output_type": "stream",
          "name": "stdout",
          "text": [
            "Epoch: 850 | Training loss: 0.0016549426065779497 | Test loss: 24.358697803430733\n"
          ]
        },
        {
          "output_type": "stream",
          "name": "stderr",
          "text": [
            " 45%|████▌     | 908/2000 [00:24<00:27, 40.37it/s]"
          ]
        },
        {
          "output_type": "stream",
          "name": "stdout",
          "text": [
            "Epoch: 900 | Training loss: 0.04537574232076532 | Test loss: 78.79188266153409\n"
          ]
        },
        {
          "output_type": "stream",
          "name": "stderr",
          "text": [
            " 48%|████▊     | 958/2000 [00:25<00:24, 42.93it/s]"
          ]
        },
        {
          "output_type": "stream",
          "name": "stdout",
          "text": [
            "Epoch: 950 | Training loss: 0.001878631673838264 | Test loss: 19.62126725312138\n"
          ]
        },
        {
          "output_type": "stream",
          "name": "stderr",
          "text": [
            " 50%|█████     | 1007/2000 [00:27<00:23, 41.40it/s]"
          ]
        },
        {
          "output_type": "stream",
          "name": "stdout",
          "text": [
            "Epoch: 1000 | Training loss: 0.001288750494569612 | Test loss: 17.062945216956344\n"
          ]
        },
        {
          "output_type": "stream",
          "name": "stderr",
          "text": [
            " 53%|█████▎    | 1055/2000 [00:28<00:24, 38.84it/s]"
          ]
        },
        {
          "output_type": "stream",
          "name": "stdout",
          "text": [
            "Epoch: 1050 | Training loss: 0.001170886089895168 | Test loss: 15.33452222173646\n"
          ]
        },
        {
          "output_type": "stream",
          "name": "stderr",
          "text": [
            " 55%|█████▌    | 1105/2000 [00:29<00:22, 40.15it/s]"
          ]
        },
        {
          "output_type": "stream",
          "name": "stdout",
          "text": [
            "Epoch: 1100 | Training loss: 0.0010766345151973884 | Test loss: 13.38056668341097\n"
          ]
        },
        {
          "output_type": "stream",
          "name": "stderr",
          "text": [
            " 58%|█████▊    | 1155/2000 [00:30<00:20, 41.16it/s]"
          ]
        },
        {
          "output_type": "stream",
          "name": "stdout",
          "text": [
            "Epoch: 1150 | Training loss: 0.0014247509624135907 | Test loss: 18.381202759860535\n"
          ]
        },
        {
          "output_type": "stream",
          "name": "stderr",
          "text": [
            " 60%|██████    | 1208/2000 [00:32<00:19, 40.32it/s]"
          ]
        },
        {
          "output_type": "stream",
          "name": "stdout",
          "text": [
            "Epoch: 1200 | Training loss: 0.0010692844929992855 | Test loss: 13.025677514746071\n"
          ]
        },
        {
          "output_type": "stream",
          "name": "stderr",
          "text": [
            " 63%|██████▎   | 1254/2000 [00:33<00:22, 33.53it/s]"
          ]
        },
        {
          "output_type": "stream",
          "name": "stdout",
          "text": [
            "Epoch: 1250 | Training loss: 0.0009756309157450072 | Test loss: 9.527225653028982\n"
          ]
        },
        {
          "output_type": "stream",
          "name": "stderr",
          "text": [
            " 65%|██████▌   | 1305/2000 [00:34<00:19, 36.08it/s]"
          ]
        },
        {
          "output_type": "stream",
          "name": "stdout",
          "text": [
            "Epoch: 1300 | Training loss: 0.0009100924251033582 | Test loss: 8.977819978208524\n"
          ]
        },
        {
          "output_type": "stream",
          "name": "stderr",
          "text": [
            " 68%|██████▊   | 1358/2000 [00:36<00:15, 41.02it/s]"
          ]
        },
        {
          "output_type": "stream",
          "name": "stdout",
          "text": [
            "Epoch: 1350 | Training loss: 0.0009080519699932806 | Test loss: 13.194233839532995\n"
          ]
        },
        {
          "output_type": "stream",
          "name": "stderr",
          "text": [
            " 70%|███████   | 1408/2000 [00:37<00:13, 42.35it/s]"
          ]
        },
        {
          "output_type": "stream",
          "name": "stdout",
          "text": [
            "Epoch: 1400 | Training loss: 0.0009450832715572001 | Test loss: 7.133812032496274\n"
          ]
        },
        {
          "output_type": "stream",
          "name": "stderr",
          "text": [
            " 73%|███████▎  | 1457/2000 [00:38<00:13, 38.81it/s]"
          ]
        },
        {
          "output_type": "stream",
          "name": "stdout",
          "text": [
            "Epoch: 1450 | Training loss: 0.022309885177521253 | Test loss: 42.819956754762465\n"
          ]
        },
        {
          "output_type": "stream",
          "name": "stderr",
          "text": [
            " 75%|███████▌  | 1509/2000 [00:40<00:12, 38.45it/s]"
          ]
        },
        {
          "output_type": "stream",
          "name": "stdout",
          "text": [
            "Epoch: 1500 | Training loss: 0.0008528829372102041 | Test loss: 5.776651616600292\n"
          ]
        },
        {
          "output_type": "stream",
          "name": "stderr",
          "text": [
            " 78%|███████▊  | 1559/2000 [00:41<00:10, 42.20it/s]"
          ]
        },
        {
          "output_type": "stream",
          "name": "stdout",
          "text": [
            "Epoch: 1550 | Training loss: 0.0007478376634203643 | Test loss: 7.210030909043881\n"
          ]
        },
        {
          "output_type": "stream",
          "name": "stderr",
          "text": [
            " 80%|████████  | 1609/2000 [00:42<00:09, 41.46it/s]"
          ]
        },
        {
          "output_type": "stream",
          "name": "stdout",
          "text": [
            "Epoch: 1600 | Training loss: 0.02363215715283322 | Test loss: 76.8949344049838\n"
          ]
        },
        {
          "output_type": "stream",
          "name": "stderr",
          "text": [
            " 83%|████████▎ | 1659/2000 [00:43<00:08, 42.55it/s]"
          ]
        },
        {
          "output_type": "stream",
          "name": "stdout",
          "text": [
            "Epoch: 1650 | Training loss: 0.001333186297186905 | Test loss: 21.060543965149563\n"
          ]
        },
        {
          "output_type": "stream",
          "name": "stderr",
          "text": [
            " 85%|████████▌ | 1707/2000 [00:44<00:08, 35.64it/s]"
          ]
        },
        {
          "output_type": "stream",
          "name": "stdout",
          "text": [
            "Epoch: 1700 | Training loss: 0.0007185916190712938 | Test loss: 6.1683905080906785\n"
          ]
        },
        {
          "output_type": "stream",
          "name": "stderr",
          "text": [
            " 88%|████████▊ | 1758/2000 [00:46<00:06, 40.27it/s]"
          ]
        },
        {
          "output_type": "stream",
          "name": "stdout",
          "text": [
            "Epoch: 1750 | Training loss: 0.0006753986118364173 | Test loss: 6.52576602599608\n"
          ]
        },
        {
          "output_type": "stream",
          "name": "stderr",
          "text": [
            " 90%|█████████ | 1806/2000 [00:47<00:04, 40.25it/s]"
          ]
        },
        {
          "output_type": "stream",
          "name": "stdout",
          "text": [
            "Epoch: 1800 | Training loss: 0.0016692274056679468 | Test loss: 8.29269240622396\n"
          ]
        },
        {
          "output_type": "stream",
          "name": "stderr",
          "text": [
            " 93%|█████████▎| 1856/2000 [00:48<00:03, 42.02it/s]"
          ]
        },
        {
          "output_type": "stream",
          "name": "stdout",
          "text": [
            "Epoch: 1850 | Training loss: 0.0019521109931963964 | Test loss: 8.676265270595305\n"
          ]
        },
        {
          "output_type": "stream",
          "name": "stderr",
          "text": [
            " 95%|█████████▌| 1906/2000 [00:49<00:02, 41.91it/s]"
          ]
        },
        {
          "output_type": "stream",
          "name": "stdout",
          "text": [
            "Epoch: 1900 | Training loss: 0.0013122850055661394 | Test loss: 5.766577688500669\n"
          ]
        },
        {
          "output_type": "stream",
          "name": "stderr",
          "text": [
            " 98%|█████████▊| 1955/2000 [00:51<00:01, 41.39it/s]"
          ]
        },
        {
          "output_type": "stream",
          "name": "stdout",
          "text": [
            "Epoch: 1950 | Training loss: 0.0006273013266005099 | Test loss: 5.862873080140093\n"
          ]
        },
        {
          "output_type": "stream",
          "name": "stderr",
          "text": [
            "100%|██████████| 2000/2000 [00:52<00:00, 38.38it/s]\n"
          ]
        }
      ]
    },
    {
      "cell_type": "code",
      "source": [
        "# show loss evolution\n",
        "fig, ax = plt.subplots()\n",
        "ax.plot(losses)\n",
        "ax.set_xlabel(\"epoch\")\n",
        "ax.set_ylabel(\"MSE\")\n",
        "plt.show()"
      ],
      "metadata": {
        "colab": {
          "base_uri": "https://localhost:8080/",
          "height": 280
        },
        "id": "v72gzgtGnizF",
        "outputId": "e09f1ac9-bd3b-49f1-e89a-aa67bc406d3d"
      },
      "execution_count": 44,
      "outputs": [
        {
          "output_type": "display_data",
          "data": {
            "text/plain": [
              "<Figure size 432x288 with 1 Axes>"
            ],
            "image/png": "[encoded data removed]"
          },
          "metadata": {
            "needs_background": "light"
          }
        }
      ]
    },
    {
      "cell_type": "code",
      "source": [
        "# Make predictions \n",
        "net.eval()\n",
        "with torch.inference_mode():\n",
        "    _, x_pred_validate = odeint(lambda t, x: net(\n",
        "        x), x0_validate, t_span_validate, solver=DirectSolver()\n",
        "    ) "
      ],
      "metadata": {
        "id": "bpf2QpgmnDqs"
      },
      "execution_count": 45,
      "outputs": []
    },
    {
      "cell_type": "code",
      "source": [
        "print(x_pred_validate.shape)"
      ],
      "metadata": {
        "colab": {
          "base_uri": "https://localhost:8080/"
        },
        "id": "g3q16q4M-YTF",
        "outputId": "95d8c3f9-f703-4dcb-ca77-e11a0b27a9dd"
      },
      "execution_count": 47,
      "outputs": [
        {
          "output_type": "stream",
          "name": "stdout",
          "text": [
            "torch.Size([61, 10, 3])\n"
          ]
        }
      ]
    },
    {
      "cell_type": "code",
      "source": [
        "# In order to plot predictions we need a numpy array\n",
        "x_pred_validate = x_pred_validate.detach().numpy()"
      ],
      "metadata": {
        "id": "n88gjRDknWD1"
      },
      "execution_count": 48,
      "outputs": []
    },
    {
      "cell_type": "code",
      "source": [
        "def plot_predictions(i=0):\n",
        "\n",
        "    print(\"Validación\", i)\n",
        "\n",
        "    # Create figure\n",
        "    plt.figure(figsize = (25,5))\n",
        "\n",
        "    # plot biomass\n",
        "    plt.subplot(131)\n",
        "    plt.plot(t_span_validate, \n",
        "        x_validate[:, i, 0], \n",
        "        color=\"#069AF3\", label = 'Mechanistic model', linewidth = 5)\n",
        "\n",
        "    # plot substrate\n",
        "    plt.subplot(132)\n",
        "    plt.plot(\n",
        "        t_span_validate, \n",
        "        x_validate[:, i, 1], \n",
        "        color=\"#F97306\", label = 'Mechanistic model', linewidth = 5)\n",
        "\n",
        "    # plot ethanol\n",
        "    plt.subplot(133)\n",
        "    plt.plot(t_span_validate, \n",
        "            x_validate[:, 0, 2], \n",
        "            color=\"lightgreen\", label = 'Mechanistic model', linewidth = 5)\n",
        "\n",
        "\n",
        "    # plot biomass\n",
        "    plt.subplot(131)\n",
        "    plt.plot(\n",
        "        t_span_validate,\n",
        "        x_pred_validate[..., i, 0], label = 'ANN', \n",
        "        linestyle=\"dashed\",\n",
        "        color=\"#069AF3\", linewidth = 5)\n",
        "    plt.grid()\n",
        "    plt.xlabel(\"Time (h)\", size = 20)\n",
        "    plt.ylabel(\"Concentration (g/L)\", size = 20)\n",
        "    plt.title(\"Biomass\", size = 20)\n",
        "    plt.legend(fontsize = 20)\n",
        "\n",
        "    # plot substrate\n",
        "    plt.subplot(132)\n",
        "    plt.plot(\n",
        "        t_span_validate,\n",
        "        x_pred_validate[..., i, 1], label = 'ANN', \n",
        "        linestyle=\"dashed\",\n",
        "        color='#F97306', linewidth = 5)\n",
        "    plt.grid()\n",
        "    plt.xlabel(\"Time (h)\", size = 20)\n",
        "    plt.ylabel(\"Concentration (g/L)\", size = 20)\n",
        "    plt.title(\"Substrate\", size = 20)\n",
        "    plt.legend(fontsize = 20)\n",
        "\n",
        "    # plot ethanol\n",
        "    plt.subplot(133)\n",
        "    plt.plot(\n",
        "        t_span_validate,\n",
        "        x_pred_validate[..., i, 2], label = 'ANN', \n",
        "        linestyle=\"dashed\",\n",
        "        color=\"lightgreen\", linewidth = 5)\n",
        "\n",
        "    plt.grid()\n",
        "    plt.xlabel(\"Time (h)\", size = 20)\n",
        "    plt.ylabel(\"Concentration (g/L)\", size = 20)\n",
        "    plt.title(\"Ethanol\", size = 20)\n",
        "    plt.legend(fontsize = 20)\n",
        "    plt.show()"
      ],
      "metadata": {
        "id": "DnnNwxnenY8l"
      },
      "execution_count": 49,
      "outputs": []
    },
    {
      "cell_type": "code",
      "source": [
        "plot_predictions(9)"
      ],
      "metadata": {
        "id": "fjfyEEmgNQYP",
        "colab": {
          "base_uri": "https://localhost:8080/",
          "height": 473
        },
        "outputId": "404ed40c-5c77-4a4c-e884-f15521e5e4ca"
      },
      "execution_count": 54,
      "outputs": [
        {
          "output_type": "stream",
          "name": "stdout",
          "text": [
            "Validación 9\n"
          ]
        },
        {
          "output_type": "stream",
          "name": "stderr",
          "text": [
            "<ipython-input-49-e712e503c587>:29: MatplotlibDeprecationWarning: Adding an axes using the same arguments as a previous axes currently reuses the earlier instance.  In a future version, a new instance will always be created and returned.  Meanwhile, this warning can be suppressed, and the future behavior ensured, by passing a unique label to each axes instance.\n",
            "  plt.subplot(131)\n",
            "<ipython-input-49-e712e503c587>:42: MatplotlibDeprecationWarning: Adding an axes using the same arguments as a previous axes currently reuses the earlier instance.  In a future version, a new instance will always be created and returned.  Meanwhile, this warning can be suppressed, and the future behavior ensured, by passing a unique label to each axes instance.\n",
            "  plt.subplot(132)\n",
            "<ipython-input-49-e712e503c587>:55: MatplotlibDeprecationWarning: Adding an axes using the same arguments as a previous axes currently reuses the earlier instance.  In a future version, a new instance will always be created and returned.  Meanwhile, this warning can be suppressed, and the future behavior ensured, by passing a unique label to each axes instance.\n",
            "  plt.subplot(133)\n"
          ]
        },
        {
          "output_type": "display_data",
          "data": {
            "text/plain": [
              "<Figure size 1800x360 with 3 Axes>"
            ],
            "image/png": "[encoded data removed]"
          },
          "metadata": {
            "needs_background": "light"
          }
        }
      ]
    },
    {
      "cell_type": "code",
      "source": [],
      "metadata": {
        "id": "COWN1Xozf2Qr"
      },
      "execution_count": null,
      "outputs": []
    }
  ]
}