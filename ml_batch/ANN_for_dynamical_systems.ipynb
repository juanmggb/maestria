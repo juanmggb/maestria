{
  "cells": [
    {
      "cell_type": "markdown",
      "metadata": {
        "colab_type": "text",
        "id": "view-in-github"
      },
      "source": [
        "<a href=\"https://colab.research.google.com/github/JuanM-GG/maestria/blob/main/ml-lote/ANN_for_dynamical_systems.ipynb\" target=\"_parent\"><img src=\"https://colab.research.google.com/assets/colab-badge.svg\" alt=\"Open In Colab\"/></a>"
      ]
    },
    {
      "cell_type": "code",
      "execution_count": null,
      "metadata": {
        "id": "CBEvLUD7f0XS"
      },
      "outputs": [],
      "source": [
        "import numpy as np\n",
        "import matplotlib.pyplot as plt\n",
        "from matplotlib import rcParams\n",
        "from scipy import integrate\n",
        "from mpl_toolkits.mplot3d import Axes3D\n",
        "\n",
        "from keras.models import Sequential\n",
        "from keras.layers import Dense, Conv2D, Flatten, MaxPool2D\n",
        "from keras import optimizers\n",
        "from keras.layers import Activation\n",
        "from keras.utils.generic_utils import get_custom_objects\n",
        "from keras import backend as K\n"
      ]
    },
    {
      "cell_type": "markdown",
      "metadata": {
        "id": "dTHKowlqwTDA"
      },
      "source": [
        " The subplots function creates a figure and a set of subplots, and returns a tuple containing a reference to the figure and a numpy array of references to the subplots. In this case, the tuple contains a reference to the figure and a reference to the subplot.\n",
        "\n",
        "The figure object represents the whole figure and the axes object represents the subplot. You can use the axes object to customize the properties of the subplot, such as the axis labels, title, etc. You can also use it to plot data on the subplot. For example:\n",
        "\n",
        "`ax.plot(x, y, z, 'r')`"
      ]
    },
    {
      "cell_type": "code",
      "execution_count": null,
      "metadata": {
        "colab": {
          "base_uri": "https://localhost:8080/"
        },
        "id": "C8wBpRTXf1Km",
        "outputId": "44404bbf-2889-4b96-8d99-fc648010ad33"
      },
      "outputs": [],
      "source": [
        "## Set experiment\n",
        "\n",
        "dt = 0.01\n",
        "T = 8\n",
        "t = np.arange(0,T+dt,dt)\n",
        "beta = 8/3\n",
        "sigma = 10\n",
        "rho = 28\n",
        "\n",
        "# 100 por len(t)-1 porque se van a guardar 100 trayectorias con longitud de len(t)-1 cada una\n",
        "# porque len(t)-1 y no solo len(t), porque necesitamos emparejar observaciones en el tiempo\n",
        "# t con t+1 y esto se logra mediante crear dos vectores, nn_input, nn_output\n",
        "# el primero no tiene la ultima observacion de cada una de las 100 trajectorias (osea que es de logitud 800)\n",
        "# y el segundo no tiene la primera observacion de cada una de las 100 trajectorias (osea\n",
        "# que es de longitud 800) ;)\n",
        "\n",
        "nn_input = np.zeros((100*(len(t)-1),3))\n",
        "nn_output = np.zeros_like(nn_input)\n",
        "# The subplot_kw parameter allows you to specify additional keyword arguments to be passed to the \n",
        "# subplot's constructor. In this case, the projection keyword argument is being used to specify that \n",
        "# the subplot should be 3D.\n",
        "fig,ax = plt.subplots(1,1,subplot_kw={'projection': '3d'})\n",
        "\n",
        "\n",
        "def lorenz_deriv(x_y_z, t0, sigma=sigma, beta=beta, rho=rho):\n",
        "\n",
        "    x, y, z = x_y_z\n",
        "    \n",
        "    dx = sigma * (y - x)\n",
        "\n",
        "    dy = x * (rho - z) - y\n",
        "\n",
        "    dz = x * y - beta * z\n",
        "\n",
        "    return (dx, dy, dz)\n",
        "\n",
        "np.random.seed(123)\n",
        "\n",
        "# Generar 100 condiciones iniciales con valore entre -15 y 15\n",
        "x0 = -15 + 30 * np.random.random((100, 3))\n",
        "\n",
        "# (100, 801, 3) odeint regrasa (801, 3) y esto se repite para las 100 condiciones \n",
        "# iniciales en x0\n",
        "x_t = np.asarray([integrate.odeint(lorenz_deriv, x0_j, t)\n",
        "                  for x0_j in x0])\n",
        "# For each of the 100 trajectories\n",
        "for j in range(100):\n",
        "    # j=0--------0-----------800-----------------size:800-- cada trayectoria mide 801, \n",
        "    # y siempre le quitamos una observacion para dejar 800\n",
        "    # j=1--------800---------1600----------------size:800--\n",
        "    # j=2--------1600--------2600----------------size:800--\n",
        "    # Guardar trayectoria actual, todas las trayectorias quedan sobre el mismo renglon,\n",
        "    # una depues de la otra, las variables de estado estan una en cada columna\n",
        "    nn_input[j*(len(t)-1):(j+1)*(len(t)-1),:] = x_t[j,:-1,:]\n",
        "    nn_output[j*(len(t)-1):(j+1)*(len(t)-1),:] = x_t[j,1:,:]\n",
        "    # sin transponer es una lista con 801 (801->renglones son los que se \n",
        "    # destructuran siempre, 3) valores que tendriamos que guardar \n",
        "    # en 801 variables\n",
        "    # transpuesta es una lista con 3 (3, 801) valores\n",
        "    x, y, z = x_t[j,:,:].T\n",
        "    ax.plot(x, y, z,linewidth=1)\n",
        "    ax.scatter(x0[j,0],x0[j,1],x0[j,2],color='r')\n",
        "\n",
        "ax.view_init(18, -113)\n",
        "plt.show()"
      ]
    },
    {
      "cell_type": "code",
      "execution_count": null,
      "metadata": {
        "colab": {
          "base_uri": "https://localhost:8080/"
        },
        "id": "feVFoSz-2UAz",
        "outputId": "c4fef5c2-2c32-4861-f3c0-961e8a5571ee"
      },
      "outputs": [],
      "source": [
        "j=1\n",
        "print(x_t[j,:,:].shape)\n",
        "print(x_t[j,:,:].T.shape)"
      ]
    },
    {
      "cell_type": "code",
      "execution_count": null,
      "metadata": {
        "colab": {
          "base_uri": "https://localhost:8080/"
        },
        "id": "HA3NxjuJuHhQ",
        "outputId": "b1b50e5a-0dde-409d-d5d7-d1d4e7c8054a"
      },
      "outputs": [],
      "source": [
        "print(nn_input.shape)\n",
        "print(x_t.shape)\n",
        "print(x_t.size) # 100 trayectorias, 801 pasos en cada trayectoria, 3 variables de estado"
      ]
    },
    {
      "cell_type": "code",
      "execution_count": null,
      "metadata": {
        "colab": {
          "base_uri": "https://localhost:8080/"
        },
        "id": "F-rnrB0X0FuH",
        "outputId": "3e08cd0b-180d-4091-edac-679e13397819"
      },
      "outputs": [],
      "source": [
        "100*801*3"
      ]
    },
    {
      "cell_type": "code",
      "execution_count": null,
      "metadata": {
        "colab": {
          "base_uri": "https://localhost:8080/"
        },
        "id": "z1vp5KWlzFRS",
        "outputId": "af9e28a1-1cc9-475b-ef17-ee1ab0c03b8f"
      },
      "outputs": [],
      "source": [
        "j = 1\n",
        "print(nn_input[j*(len(t)-1):(j+1)*(len(t)-1),:].shape)\n",
        "print(x_t[j,:-1,:].shape)"
      ]
    },
    {
      "cell_type": "code",
      "execution_count": null,
      "metadata": {
        "id": "YBB9VN2Tf-a1"
      },
      "outputs": [],
      "source": [
        "# define regression model\n",
        "def regression_model():\n",
        "    # create model\n",
        "    model = Sequential()\n",
        "    model.add(Dense(50, activation='relu', input_shape=(3,)))\n",
        "    model.add(Dense(50, activation='relu'))\n",
        "    model.add(Dense(3))\n",
        "    \n",
        "    # compile model\n",
        "    model.compile(optimizer='adam', loss='mean_squared_error')\n",
        "    return model"
      ]
    },
    {
      "cell_type": "code",
      "execution_count": null,
      "metadata": {
        "id": "yXzS_iK0ib6i"
      },
      "outputs": [],
      "source": [
        "# build the model\n",
        "# model = regression_model()"
      ]
    },
    {
      "cell_type": "code",
      "execution_count": null,
      "metadata": {
        "id": "4w90MVBCihIK"
      },
      "outputs": [],
      "source": [
        "# fit the model\n",
        "# model.fit(nn_input, nn_output, validation_split=0.3, epochs=100, verbose=2)\n",
        "# It seems like 50 is the number of epochas after which the validation loss starts to increase"
      ]
    },
    {
      "cell_type": "code",
      "execution_count": null,
      "metadata": {
        "id": "8iBLADowiII2"
      },
      "outputs": [],
      "source": [
        "# x0 = -15 + 30 * np.random.random((1, 3))\n",
        "# x0 = np.array([[-0.71344525, -0.01725096,  0.71727353]])"
      ]
    },
    {
      "cell_type": "code",
      "execution_count": null,
      "metadata": {
        "id": "fcjTvw3BiONS"
      },
      "outputs": [],
      "source": [
        "# predicted_trajectory = []\n",
        "# x = x0\n",
        "# for i in range(800):\n",
        "#     y_pred = model.predict(x)\n",
        "#     predicted_trajectory.append(y_pred)\n",
        "#     x = y_pred\n"
      ]
    },
    {
      "cell_type": "code",
      "execution_count": null,
      "metadata": {
        "colab": {
          "base_uri": "https://localhost:8080/"
        },
        "id": "ZWugVf5TkUv5",
        "outputId": "2aed6a86-664e-4016-fcef-aeba881bddbf"
      },
      "outputs": [],
      "source": [
        "# print(predicted_trajectory[0].shape)\n",
        "# print(len(predicted_trajectory))"
      ]
    },
    {
      "cell_type": "code",
      "execution_count": null,
      "metadata": {
        "colab": {
          "base_uri": "https://localhost:8080/"
        },
        "id": "wTvUGzLskaOh",
        "outputId": "e011f5f3-b4af-41c0-a9ef-13a89d96ff06"
      },
      "outputs": [],
      "source": [
        "# x = [prediction[0][0] for prediction in predicted_trajectory]\n",
        "# y = [prediction[0][1] for prediction in predicted_trajectory]\n",
        "# z = [prediction[0][2] for prediction in predicted_trajectory]\n",
        "# print(len(x))"
      ]
    },
    {
      "cell_type": "code",
      "execution_count": null,
      "metadata": {
        "colab": {
          "base_uri": "https://localhost:8080/",
          "height": 248
        },
        "id": "pKINHZnTkcbC",
        "outputId": "1287e463-cb89-4531-be70-545cfcd9a594"
      },
      "outputs": [],
      "source": [
        "# fig,ax = plt.subplots(1,1,subplot_kw={'projection': '3d'})\n",
        "# ax.plot(x, y, z,linewidth=1)\n",
        "# ax.view_init(18, -113)\n",
        "# plt.show()"
      ]
    },
    {
      "cell_type": "code",
      "execution_count": null,
      "metadata": {
        "colab": {
          "base_uri": "https://localhost:8080/"
        },
        "id": "ZGEvP61hkgEy",
        "outputId": "f9c4c9a0-6ca3-4ce9-abda-d0c0f28acdf1"
      },
      "outputs": [],
      "source": [
        "# x_t = np.asarray([integrate.odeint(lorenz_deriv, x0[0], t)])\n",
        "# print(x_t.shape)"
      ]
    },
    {
      "cell_type": "code",
      "execution_count": null,
      "metadata": {
        "colab": {
          "base_uri": "https://localhost:8080/",
          "height": 248
        },
        "id": "v8VpUJCXkkvC",
        "outputId": "42b804cf-e471-4032-a2f1-a3ea9058b204"
      },
      "outputs": [],
      "source": [
        "# x_real, y_real, z_real = x_t[0,:,:].T\n",
        "# fig,ax = plt.subplots(1,1,subplot_kw={'projection': '3d'})\n",
        "# ax.plot(x_real, y_real, z_real,linewidth=1, label='Mechanistic model')\n",
        "# ax.plot(x, y, z,linewidth=1, label = 'ANN')\n",
        "# ax.view_init(18, -113)\n",
        "# plt.legend()\n",
        "# plt.show()"
      ]
    },
    {
      "cell_type": "code",
      "execution_count": null,
      "metadata": {
        "id": "Bh3_Kls6mnxi"
      },
      "outputs": [],
      "source": [
        "import keras\n",
        "from keras import layers \n"
      ]
    },
    {
      "cell_type": "code",
      "execution_count": null,
      "metadata": {
        "id": "i6rgRv8FkoRC"
      },
      "outputs": [],
      "source": [
        "# Define model \n",
        "def model(input_dim, output_dim):\n",
        "\n",
        "    deep_approx = keras.models.Sequential()\n",
        "\n",
        "    deep_approx.add(layers.Dense(10, \n",
        "                                 input_dim=input_dim, \n",
        "                                 activation='sigmoid'))\n",
        "\n",
        "    deep_approx.add(layers.Dense(10, \n",
        "                                 activation='relu'))\n",
        "\n",
        "    deep_approx.add(layers.Dense(output_dim, \n",
        "                                 activation='linear'))\n",
        "\n",
        "    return deep_approx"
      ]
    },
    {
      "cell_type": "code",
      "execution_count": null,
      "metadata": {
        "id": "EkZtITRynOMS"
      },
      "outputs": [],
      "source": [
        "deep_approx = model(3,3)"
      ]
    },
    {
      "cell_type": "code",
      "execution_count": null,
      "metadata": {
        "id": "O1wHe7yUnRw0"
      },
      "outputs": [],
      "source": [
        "# Compile model \n",
        "deep_approx.compile(loss='mse', optimizer='adam')"
      ]
    },
    {
      "cell_type": "code",
      "execution_count": null,
      "metadata": {
        "id": "P7Rj73Rmnaoa"
      },
      "outputs": [],
      "source": [
        "# Fit model \n",
        "History = deep_approx.fit(nn_input, nn_output, epochs=100)"
      ]
    },
    {
      "cell_type": "code",
      "execution_count": null,
      "metadata": {
        "id": "ZzwknXhvnlHY"
      },
      "outputs": [],
      "source": [
        "# Predict three new trajectories \n",
        "num_traj = 3\n",
        "nn_flow = np.zeros((num_traj, len(t), 3))\n",
        "\n",
        "np.random.seed(139)\n",
        "nn_flow[:, 0, :] = -15 + 30*np.random.random((num_traj, 3))\n",
        "\n",
        "# Esto el lo que decia el articulo hacerca de no hacer predicciones\n",
        "# con la ultima observacion \n",
        "for jj, tval in enumerate(t[:-1]):\n",
        "    nn_flow[:,jj+1, :] = deep_approx.predict(nn_flow[:, jj,:])"
      ]
    },
    {
      "cell_type": "code",
      "execution_count": null,
      "metadata": {
        "id": "qt18vE6XqIeK"
      },
      "outputs": [],
      "source": [
        "# para cada una de las tres condiciones iniciales calcular una trayectoria con 801 observaciones\n",
        "# y tres variables de estado\n",
        "# esto nos da (3, 801, 3)\n",
        "x_t = np.array([integrate.odeint(lorenz_deriv, nn_flow[i, 0, :], t) for i in range(num_traj)])"
      ]
    },
    {
      "cell_type": "code",
      "execution_count": null,
      "metadata": {
        "colab": {
          "base_uri": "https://localhost:8080/"
        },
        "id": "9P4Y2Et98bbU",
        "outputId": "eb63f796-9259-41d4-d7a7-2d06776cb70f"
      },
      "outputs": [],
      "source": [
        "print(x_t.shape)"
      ]
    },
    {
      "cell_type": "code",
      "execution_count": null,
      "metadata": {
        "colab": {
          "base_uri": "https://localhost:8080/",
          "height": 575
        },
        "id": "wCgZ0vYUriUO",
        "outputId": "1a59ecf9-d866-4501-f2e9-6ea54dd86cba"
      },
      "outputs": [],
      "source": [
        "fig = plt.figure(figsize=(10,10))\n",
        "# fig,ax = plt.subplots(1,1,subplot_kw={'projection': '3d'})\n",
        "ax = fig.add_subplot(111, projection='3d')\n",
        "for j in range(num_traj):\n",
        "    # Transponemos para podes descructurar 3 variables \n",
        "    # necitas (3, 801), es decir, las variables de estado en los renglones\n",
        "    x, y, z = x_t[j, :, :].T\n",
        "    xd, yd, zd = nn_flow[j, :, :].T\n",
        "\n",
        "    ax.plot(x, y, z, linewidth=1)\n",
        "    ax.plot(xd, yd, zd, '--', lw=1)\n",
        "    \n",
        "    ax.set_xlabel('x')\n",
        "    ax.set_ylabel('y')\n",
        "    ax.set_zlabel('z')\n",
        "\n",
        "    ax.scatter(x[0], y[0], z[0], color='r')\n",
        "\n",
        "ax.view_init(18, -13)\n",
        "plt.show()"
      ]
    },
    {
      "cell_type": "code",
      "execution_count": null,
      "metadata": {
        "id": "sG1ylNMpsRz3"
      },
      "outputs": [],
      "source": []
    }
  ],
  "metadata": {
    "accelerator": "GPU",
    "colab": {
      "include_colab_link": true,
      "provenance": []
    },
    "gpuClass": "standard",
    "kernelspec": {
      "display_name": "base",
      "language": "python",
      "name": "python3"
    },
    "language_info": {
      "codemirror_mode": {
        "name": "ipython",
        "version": 3
      },
      "file_extension": ".py",
      "mimetype": "text/x-python",
      "name": "python",
      "nbconvert_exporter": "python",
      "pygments_lexer": "ipython3",
      "version": "3.9.13"
    },
    "vscode": {
      "interpreter": {
        "hash": "5efa0532aa452161f57b6202e0cfce6e59a262370b2496dc499a0b71d204eaca"
      }
    }
  },
  "nbformat": 4,
  "nbformat_minor": 0
}
