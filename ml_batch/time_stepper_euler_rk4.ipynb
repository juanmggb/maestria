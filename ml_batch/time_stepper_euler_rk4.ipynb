{
  "nbformat": 4,
  "nbformat_minor": 0,
  "metadata": {
    "colab": {
      "provenance": [],
      "authorship_tag": "ABX9TyOtuOURwk4+WmlWvHJ7NKNZ",
      "include_colab_link": true
    },
    "kernelspec": {
      "name": "python3",
      "display_name": "Python 3"
    },
    "language_info": {
      "name": "python"
    }
  },
  "cells": [
    {
      "cell_type": "markdown",
      "metadata": {
        "id": "view-in-github",
        "colab_type": "text"
      },
      "source": [
        "<a href=\"https://colab.research.google.com/github/juanmggb/maestria/blob/main/ml_batch/time_stepper_euler_rk4.ipynb\" target=\"_parent\"><img src=\"https://colab.research.google.com/assets/colab-badge.svg\" alt=\"Open In Colab\"/></a>"
      ]
    },
    {
      "cell_type": "code",
      "source": [
        "pip install smt"
      ],
      "metadata": {
        "id": "8T8jpQYnDmA6"
      },
      "execution_count": null,
      "outputs": []
    },
    {
      "cell_type": "code",
      "source": [
        "pip install torchdyn"
      ],
      "metadata": {
        "id": "OKxMdqPzDleG"
      },
      "execution_count": null,
      "outputs": []
    },
    {
      "cell_type": "code",
      "source": [
        "pip install pyDOE"
      ],
      "metadata": {
        "id": "P41mgAK0DzW1"
      },
      "execution_count": null,
      "outputs": []
    },
    {
      "cell_type": "code",
      "execution_count": 5,
      "metadata": {
        "id": "nYMx_WpuDkA3"
      },
      "outputs": [],
      "source": [
        "from argparse import ArgumentParser\n",
        "from numpy import double\n",
        "import torch.nn as nn\n",
        "from torch.optim import Adam\n",
        "from tqdm import tqdm\n",
        "from pyDOE import lhs\n",
        "import matplotlib.pyplot as plt\n",
        "from torch.nn.functional import mse_loss\n",
        "import numpy as np\n",
        "import torch\n",
        "from torchdyn.numerics import odeint\n",
        "# from torchdyn.numerics.solvers import SolverTemplate\n",
        "import matplotlib.patches as mpatches\n",
        "from matplotlib.collections import LineCollection\n",
        "# from visualization import get_meshgrid, plot_colored"
      ]
    },
    {
      "cell_type": "markdown",
      "source": [
        "### Solvers"
      ],
      "metadata": {
        "id": "m0k1iyuZMFQM"
      }
    },
    {
      "cell_type": "markdown",
      "source": [
        "In this case, SolverTemplate and DirectSolver are not necessarily representing a neural network, but they are using nn.Module as a base class to take advantage of the aforementioned benefits."
      ],
      "metadata": {
        "id": "DijWiX_LmtUr"
      }
    },
    {
      "cell_type": "code",
      "source": [
        "class SolverTemplate(nn.Module):\n",
        "    # def __init__(self, order, min_factor: float = 0.2, max_factor: float = 10, safety: float = 0.9):\n",
        "    def __init__(self):\n",
        "        super().__init__()\n",
        "        # self.order = order\n",
        "        # self.min_factor = torch.tensor([min_factor])\n",
        "        # self.max_factor = torch.tensor([max_factor])\n",
        "        # self.safety = torch.tensor([safety])\n",
        "        # self.tableau = None\n",
        "\n",
        "    def sync_device_dtype(self, x, t_span):\n",
        "        \"Ensures `x`, `t_span`, `tableau` and other solver tensors are on the same device with compatible dtypes\"\n",
        "\n",
        "        if isinstance(x, dict):\n",
        "            proto_arr = x[list(x.keys())[0]]\n",
        "        elif isinstance(x, torch.Tensor):\n",
        "            proto_arr = x\n",
        "        else:\n",
        "            raise NotImplementedError(\n",
        "                f\"{type(x)} is not supported as the state variable\")\n",
        "\n",
        "        device = proto_arr.device\n",
        "\n",
        "        # if self.tableau is not None:\n",
        "        #     c, a, bsol, berr = self.tableau\n",
        "        #     self.tableau = c.to(proto_arr), [a.to(proto_arr) for a in a], bsol.to(\n",
        "        #         proto_arr), berr.to(proto_arr)\n",
        "        t_span = t_span.to(device)\n",
        "        # self.safety = self.safety.to(device)\n",
        "        # self.min_factor = self.min_factor.to(device)\n",
        "        # self.max_factor = self.max_factor.to(device)\n",
        "        return x, t_span\n",
        "\n",
        "    def step(self, f, x, t, dt, k1=None, args=None):\n",
        "        pass\n",
        "\n",
        "\n",
        "class DirectSolver(SolverTemplate):\n",
        "    def __init__(self, dtype=torch.float32):\n",
        "        # super().__init__(order=1)\n",
        "        super().__init__()\n",
        "        self.dtype = dtype\n",
        "        self.stepping_class = \"fixed\"\n",
        "\n",
        "    def step(self, f, x, t, dt, k1=None, args=None):\n",
        "\n",
        "        x_sol = f(t, x)\n",
        "        return None, x_sol, None\n",
        "\n",
        "class ResnetSolver(SolverTemplate):\n",
        "    def __init__(self, step_size=None, dtype=torch.float32):\n",
        "        # super().__init__(order=1)\n",
        "        super().__init__()\n",
        "        self.dtype = dtype\n",
        "        self.stepping_class = \"fixed\"\n",
        "\n",
        "        self.step_size = 1 if step_size is None else step_size\n",
        "\n",
        "    def step(self, f, x, t, dt, k1=None, args=None):\n",
        "        x_sol = x + f(t, x) * self.step_size\n",
        "        return None, x_sol, None"
      ],
      "metadata": {
        "id": "2vSDuLVWD_bt"
      },
      "execution_count": 6,
      "outputs": []
    },
    {
      "cell_type": "markdown",
      "source": [
        "### Generate data"
      ],
      "metadata": {
        "id": "sfYvAK6TMIow"
      }
    },
    {
      "cell_type": "code",
      "source": [
        "# generate data\n",
        "\n",
        "def f(t, x):\n",
        "    θ = x[..., 0]\n",
        "    ω = x[..., 1]\n",
        "\n",
        "    dθ = ω\n",
        "    dω = -torch.sin(θ)\n",
        "\n",
        "    return torch.stack((dθ, dω), dim=-1)\n",
        "\n",
        "\n",
        "domain_train = 1.0\n",
        "domain_validate = 1.0\n",
        "\n",
        "x0_train = (\n",
        "    torch.tensor(lhs(2, 100), \n",
        "                 device='cpu') * 2 - 1\n",
        ") * domain_train\n",
        "\n",
        "x0_validate = (\n",
        "    torch.tensor(lhs(2, 10), \n",
        "                 device='cpu') * 2 - 1\n",
        ") * domain_validate\n",
        "\n",
        "# x0_grid = get_meshgrid(step_per_axis=0.01, domain=domain_validate)\n",
        "x0_example = torch.tensor((0.6, 0)).double().unsqueeze(0).to('cpu')\n",
        "\n",
        "step_size_train = 0.001\n",
        "ε = 1e-10\n",
        "t_span_train = torch.arange(\n",
        "    0.0,0.001 + ε, step_size_train\n",
        ")\n",
        "t_span_validate = torch.arange(\n",
        "    0.0,\n",
        "    4*np.pi + ε,\n",
        "    step_size_train,\n",
        ")"
      ],
      "metadata": {
        "id": "yD6xth15EiJX"
      },
      "execution_count": 8,
      "outputs": []
    },
    {
      "cell_type": "code",
      "source": [
        "# print(x0_grid.shape)\n",
        "print(x0_train.shape)\n",
        "print(x0_validate.shape)"
      ],
      "metadata": {
        "colab": {
          "base_uri": "https://localhost:8080/"
        },
        "id": "8Qu8OBPO70ku",
        "outputId": "e2610cea-0f01-4b6e-d823-846e5c79a773"
      },
      "execution_count": 9,
      "outputs": [
        {
          "output_type": "stream",
          "name": "stdout",
          "text": [
            "torch.Size([100, 2])\n",
            "torch.Size([10, 2])\n"
          ]
        }
      ]
    },
    {
      "cell_type": "code",
      "source": [
        "# print(x0_grid[0])"
      ],
      "metadata": {
        "id": "eFaCkaEV7o5X"
      },
      "execution_count": 10,
      "outputs": []
    },
    {
      "cell_type": "code",
      "source": [
        "_, x_train = odeint(f, x0_train, t_span_train, solver=\"rk4\") # returns (t_eval, solution)\n",
        "# x_true = x_train\n",
        "# x_train = x_train + torch.randn_like(x_train) * 0.0\n",
        "\n",
        "_, x_validate = odeint(f, x0_validate, t_span_validate, solver=\"rk4\")\n",
        "\n",
        "_, x_example = odeint(f, x0_example, t_span_validate, solver=\"rk4\")"
      ],
      "metadata": {
        "id": "wJLX5JixF25C"
      },
      "execution_count": 11,
      "outputs": []
    },
    {
      "cell_type": "code",
      "source": [
        "# choices=[\"direct\", \"resnet\", \"euler\", \"rk4\"],\n",
        "# solver = DirectSolver()\n",
        "# solver = ResnetSolver()\n",
        "solver = 'rk4'"
      ],
      "metadata": {
        "id": "Twj1VB9nFxzo"
      },
      "execution_count": 13,
      "outputs": []
    },
    {
      "cell_type": "markdown",
      "source": [
        "### Model"
      ],
      "metadata": {
        "id": "8IlhVbs7ML1e"
      }
    },
    {
      "cell_type": "code",
      "source": [
        "##################### model ##########################\n",
        "layers = []\n",
        "layers.append(nn.Linear(2, 32))\n",
        "for _ in range(8):\n",
        "    layers.append(nn.Linear(32, 32))\n",
        "    layers.append(nn.Softplus())\n",
        "\n",
        "layers.append(nn.Linear(32, 2))\n",
        "\n",
        "net = nn.Sequential(*layers)\n",
        "net.to('cpu').double()\n",
        "\n",
        "for m in net.modules():\n",
        "    if type(m) == nn.Linear:\n",
        "        nn.init.xavier_uniform_(m.weight)"
      ],
      "metadata": {
        "id": "oZdnz17pGIf6"
      },
      "execution_count": 14,
      "outputs": []
    },
    {
      "cell_type": "markdown",
      "source": [
        "### Training"
      ],
      "metadata": {
        "id": "zc4ziQ6uMO_e"
      }
    },
    {
      "cell_type": "code",
      "source": [
        "# optimizer\n",
        "\n",
        "opt = Adam(net.parameters())\n",
        "\n",
        "# train\n",
        "losses = []"
      ],
      "metadata": {
        "id": "hS4wjtwbGoMS"
      },
      "execution_count": 15,
      "outputs": []
    },
    {
      "cell_type": "code",
      "source": [
        "solver"
      ],
      "metadata": {
        "colab": {
          "base_uri": "https://localhost:8080/",
          "height": 35
        },
        "id": "xYLL6Z9bk4NH",
        "outputId": "56b6f1d6-cef6-4401-a318-e954017063ec"
      },
      "execution_count": 16,
      "outputs": [
        {
          "output_type": "execute_result",
          "data": {
            "text/plain": [
              "'rk4'"
            ],
            "application/vnd.google.colaboratory.intrinsic+json": {
              "type": "string"
            }
          },
          "metadata": {},
          "execution_count": 16
        }
      ]
    },
    {
      "cell_type": "markdown",
      "source": [
        "Certainly! In step 1 of the training loop, the model makes a forward pass through the ODE solver. This means that the ODE solver is used to solve an ordinary differential equation (ODE) using the neural network as the function being solved.\n",
        "\n",
        "The ODE solver is called with the following arguments:\n",
        "\n",
        "A function that defines the ODE. In this case, the function is the neural network itself. The function takes in two arguments: a time t and a tensor of states x. It returns the derivative of x with respect to t, calculated using the neural network.\n",
        "\n",
        "An initial tensor of states x0_train. This is the starting point for the ODE solver. The shape of x0_train (shape (100,2)) determines the shape of the input to the neural network.\n",
        "\n",
        "A time span t_span_train (tensor([0.0000, 0.0010])). This specifies the range of times over which the ODE should be solved. The ODE solver will evaluate the function at evenly spaced intervals within this time span.\n",
        "\n",
        "An optional solver argument, which specifies the method that the ODE solver should use to solve the ODE. If this argument is not provided, the ODE solver will use a default solver.\n",
        "\n",
        "The ODE solver returns two values: a tensor of time points t and a tensor of states x. In this code, the time points tensor is discarded and only the states tensor is kept. The shape of the states tensor will be (num_time_points->2, batch_size->100, 2), where num_time_points is the number of time points within the time span and batch_size is the batch size of the input. The last dimension has size 2 because the model has an output size of 2.\n",
        "\n",
        "The states tensor is then stored in a variable x_pred_train, which will be used in the next step to calculate the loss."
      ],
      "metadata": {
        "id": "UQpFa_KbLoCK"
      }
    },
    {
      "cell_type": "code",
      "source": [
        "##################### training ##########################\n",
        "for _ in tqdm(range(2000)):\n",
        "\n",
        "    # 1. Forward pass: The model makes ONE forward pass through the ODE solver, using\n",
        "    #  the input tensor x0_train and the time span t_span_train.\n",
        "    #  The function being solved by the ODE solver is the neural network itself,\n",
        "    #  which is passed as an argument to the ODE solver.\n",
        "    _, x_pred_train = odeint(\n",
        "        lambda t, x: net(x), \n",
        "        x0_train,\n",
        "        t_span_train, \n",
        "        solver=solver\n",
        "    )\n",
        "    \n",
        "    # 2. Calculate loss: Take the mean error over the 100 trajectories\n",
        "    loss = mse_loss(x_pred_train, x_train)\n",
        "\n",
        "    # 3. Zero grad\n",
        "    opt.zero_grad()\n",
        "\n",
        "    # 4. Backward pass\n",
        "    loss.backward()\n",
        "\n",
        "    # 5. Update weights\n",
        "    opt.step()\n",
        "    \n",
        "    losses.append(loss.item())"
      ],
      "metadata": {
        "id": "oL2UImIaGsbx",
        "colab": {
          "base_uri": "https://localhost:8080/"
        },
        "outputId": "f407e8f5-e67d-4a0d-afc2-107b1dd47155"
      },
      "execution_count": 17,
      "outputs": [
        {
          "output_type": "stream",
          "name": "stderr",
          "text": [
            "100%|██████████| 2000/2000 [00:19<00:00, 101.14it/s]\n"
          ]
        }
      ]
    },
    {
      "cell_type": "code",
      "source": [
        "print(x0_train.shape)\n",
        "print(x_pred_train.shape)\n",
        "print(x_train.shape)"
      ],
      "metadata": {
        "colab": {
          "base_uri": "https://localhost:8080/"
        },
        "id": "BUptqPpEJ798",
        "outputId": "caa0ce03-f6be-4f37-938c-228ffb4dc3e0"
      },
      "execution_count": 18,
      "outputs": [
        {
          "output_type": "stream",
          "name": "stdout",
          "text": [
            "torch.Size([100, 2])\n",
            "torch.Size([2, 100, 2])\n",
            "torch.Size([2, 100, 2])\n"
          ]
        }
      ]
    },
    {
      "cell_type": "code",
      "source": [
        "try:\n",
        "    print(np.mean((x_pred_train.detach().numpy() - x_train.detach().numpy())**2))\n",
        "    print(loss)\n",
        "except:\n",
        "    pass"
      ],
      "metadata": {
        "colab": {
          "base_uri": "https://localhost:8080/"
        },
        "id": "_wgyacUzS1r6",
        "outputId": "447e7b4c-03e2-46a0-cd7b-263c11895249"
      },
      "execution_count": 19,
      "outputs": [
        {
          "output_type": "stream",
          "name": "stdout",
          "text": [
            "1.6896759740124775e-10\n",
            "tensor(1.6897e-10, dtype=torch.float64, grad_fn=<MseLossBackward0>)\n"
          ]
        }
      ]
    },
    {
      "cell_type": "markdown",
      "source": [
        "### Validation"
      ],
      "metadata": {
        "id": "85yIFPFcMT_e"
      }
    },
    {
      "cell_type": "code",
      "source": [
        "plt.figure(figsize=(10,5))\n",
        "plt.plot(losses)"
      ],
      "metadata": {
        "colab": {
          "base_uri": "https://localhost:8080/",
          "height": 348
        },
        "id": "K4xVZPBXruXW",
        "outputId": "b22f259d-daef-4382-9c6a-3661a97e3d4c"
      },
      "execution_count": 20,
      "outputs": [
        {
          "output_type": "execute_result",
          "data": {
            "text/plain": [
              "[<matplotlib.lines.Line2D at 0x7f9d736d19a0>]"
            ]
          },
          "metadata": {},
          "execution_count": 20
        },
        {
          "output_type": "display_data",
          "data": {
            "text/plain": [
              "<Figure size 720x360 with 1 Axes>"
            ],
            "image/png": "[encoded data removed]"
          },
          "metadata": {
            "needs_background": "light"
          }
        }
      ]
    },
    {
      "cell_type": "code",
      "source": [
        "# _, x_pred_train = odeint(lambda t, x: net(x), x0_train, t_span_train, solver=solver)"
      ],
      "metadata": {
        "id": "a-mWP1IhHPZ6"
      },
      "execution_count": 21,
      "outputs": []
    },
    {
      "cell_type": "code",
      "source": [
        "_, x_pred_validate = odeint(\n",
        "    lambda t, x: net(x), x0_validate, t_span_validate, solver=solver\n",
        ")"
      ],
      "metadata": {
        "id": "3oY9iefXG4Oh"
      },
      "execution_count": 22,
      "outputs": []
    },
    {
      "cell_type": "code",
      "source": [
        "_, x_pred_example = odeint(\n",
        "    lambda t, x: net(x), x0_example, t_span_validate, solver=solver\n",
        ")"
      ],
      "metadata": {
        "id": "C5b-lClRI_Dw"
      },
      "execution_count": 23,
      "outputs": []
    },
    {
      "cell_type": "code",
      "source": [
        " # @title plot\n",
        "try:\n",
        "    # x_pred_train = x_pred_train.detach().numpy()\n",
        "    x_pred_validate = x_pred_validate.detach().numpy()\n",
        "    x_pred_example = x_pred_example.detach().numpy()\n",
        "    # x_derivative_pred = x_derivative_pred.detach().numpy()\n",
        "    # x_derivative = x_derivative.detach().numpy()\n",
        "    # x0_grid = x0_grid.detach().numpy()\n",
        "\n",
        "\n",
        "    # time series validation, specific idx\n",
        "    fig, (ax1, ax2) = plt.subplots(2, sharex=True)\n",
        "    example_idx = 0\n",
        "\n",
        "    ax1.plot(t_span_validate, x_validate[..., example_idx, 0], color=\"black\")\n",
        "    ax1.plot(\n",
        "        t_span_validate,\n",
        "        x_pred_validate[..., example_idx, 0],\n",
        "        linestyle=\"dashed\",\n",
        "        color=\"blue\",\n",
        "    )\n",
        "\n",
        "    ax2.plot(\n",
        "        t_span_validate, x_validate[..., example_idx, 1], color=\"black\", label=\"true\"\n",
        "    )\n",
        "    ax2.plot(\n",
        "        t_span_validate,\n",
        "        x_pred_validate[..., example_idx, 1],\n",
        "        linestyle=\"dashed\",\n",
        "        color=\"blue\",\n",
        "        label=\"pred\",\n",
        "    )\n",
        "    ax1.set_ylabel(\"θ(t)\")\n",
        "    ax2.set_ylabel(\"ω(t)\")\n",
        "    ax2.set_xlabel(\"t\")\n",
        "    ax2.legend()\n",
        "\n",
        "    # time series validation, example (0.6,0)\n",
        "    fig, (ax1, ax2) = plt.subplots(2, sharex=True)\n",
        "\n",
        "    ax1.plot(t_span_validate, x_example[..., 0], color=\"black\")\n",
        "    ax1.plot(\n",
        "        t_span_validate,\n",
        "        x_pred_example[..., 0],\n",
        "        linestyle=\"dashed\",\n",
        "        color=\"blue\",\n",
        "    )\n",
        "    \n",
        "    ax2.plot(t_span_validate, x_example[..., 1], label=\"true\", color=\"black\")\n",
        "    ax2.plot(\n",
        "        t_span_validate,\n",
        "        x_pred_example[..., 1],\n",
        "        linestyle=\"dashed\",\n",
        "        color=\"blue\",\n",
        "        label=\"predicted\",\n",
        "    )\n",
        "    ax1.set_ylabel(\"θ(t)\")\n",
        "    ax2.set_ylabel(\"ω(t)\")\n",
        "    ax2.set_xlabel(\"t\")\n",
        "    ax2.legend()\n",
        "\n",
        "    # show\n",
        "    fig, ax = plt.subplots()\n",
        "    ax.plot(losses)\n",
        "    ax.set_xlabel(\"epoch\")\n",
        "    ax.set_ylabel(\"MSE\")\n",
        "\n",
        "    plt.show()\n",
        "\n",
        "except:\n",
        "    pass"
      ],
      "metadata": {
        "colab": {
          "base_uri": "https://localhost:8080/",
          "height": 814
        },
        "id": "nu_ykqHGJR76",
        "outputId": "10a9c810-8e5f-4387-a586-982127b8b24b"
      },
      "execution_count": 24,
      "outputs": [
        {
          "output_type": "display_data",
          "data": {
            "text/plain": [
              "<Figure size 432x288 with 2 Axes>"
            ],
            "image/png": "[encoded data removed]"
          },
          "metadata": {
            "needs_background": "light"
          }
        },
        {
          "output_type": "display_data",
          "data": {
            "text/plain": [
              "<Figure size 432x288 with 2 Axes>"
            ],
            "image/png": "[encoded data removed]"
          },
          "metadata": {
            "needs_background": "light"
          }
        },
        {
          "output_type": "display_data",
          "data": {
            "text/plain": [
              "<Figure size 432x288 with 1 Axes>"
            ],
            "image/png": "[encoded data removed]"
          },
          "metadata": {
            "needs_background": "light"
          }
        }
      ]
    }
  ]
}