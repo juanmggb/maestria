{
  "nbformat": 4,
  "nbformat_minor": 0,
  "metadata": {
    "colab": {
      "provenance": [],
      "authorship_tag": "ABX9TyNj0KdkrMu5MAdNk3/ssvNw",
      "include_colab_link": true
    },
    "kernelspec": {
      "name": "python3",
      "display_name": "Python 3"
    },
    "language_info": {
      "name": "python"
    }
  },
  "cells": [
    {
      "cell_type": "markdown",
      "metadata": {
        "id": "view-in-github",
        "colab_type": "text"
      },
      "source": [
        "<a href=\"https://colab.research.google.com/github/JuanM-GG/maestria/blob/main/estimacion-parametros/estimacion_parametros.ipynb\" target=\"_parent\"><img src=\"https://colab.research.google.com/assets/colab-badge.svg\" alt=\"Open In Colab\"/></a>"
      ]
    },
    {
      "cell_type": "code",
      "execution_count": 89,
      "metadata": {
        "id": "niDPAeLxHdzP"
      },
      "outputs": [],
      "source": [
        "# Import libraries\n",
        "import numpy as np \n",
        "import matplotlib.pyplot as plt\n",
        "import pandas as pd  "
      ]
    },
    {
      "cell_type": "code",
      "source": [
        "#@title solver\n",
        "def euler(f, x0, t0, tf, dt, u, *kargs):\n",
        "\n",
        "    \"\"\"\n",
        "    Solve a system of differential equations using the Euler method.\n",
        "    \n",
        "    Parameters:\n",
        "    f (function): The derivative function.\n",
        "    x0 (ndarray): The initial state.\n",
        "    t0 (float): The initial time.\n",
        "    tf (float): The final time.\n",
        "    dt (float): The time step.\n",
        "    u (function): The input function.\n",
        "    \n",
        "    Returns:\n",
        "    ndarray: The state at each time step.\n",
        "    \"\"\"\n",
        "    t = np.arange(t0, tf, dt)\n",
        "    x = np.zeros((len(t), len(x0)))\n",
        "    x[0, :] = x0\n",
        "    for i in range(1, len(t)):\n",
        "        # print(x[i,:])\n",
        "        x[i, :] = x[i-1, :] + dt * f(x[i-1, :], t[i-1], u(t[i-1]), *kargs)\n",
        "    return x"
      ],
      "metadata": {
        "cellView": "form",
        "id": "RoY4IxkDHqvI"
      },
      "execution_count": 90,
      "outputs": []
    },
    {
      "cell_type": "code",
      "source": [
        "#@title model\n",
        "def monod_model(y, t, u,  mu_max, yxs, ks, ypx):\n",
        "    x, s, p = y \n",
        "\n",
        "    growth_rate = mu_max*(s/(ks + s))\n",
        "\n",
        "    dx = growth_rate*x \n",
        "    ds = -1/yxs*growth_rate*x\n",
        "    dp = ypx*growth_rate*x\n",
        "\n",
        "    return np.array([dx, ds, dp])"
      ],
      "metadata": {
        "cellView": "form",
        "id": "Q6TvldL-HtnD"
      },
      "execution_count": 91,
      "outputs": []
    },
    {
      "cell_type": "code",
      "source": [
        "# Definir parametros \n",
        "mu_max = 1.2 # g/L\n",
        "yxs = 0.2 \n",
        "ks = 280 # g/L\n",
        "ypx = 4 "
      ],
      "metadata": {
        "id": "VAvqRzgRIWTs"
      },
      "execution_count": 92,
      "outputs": []
    },
    {
      "cell_type": "code",
      "source": [
        "# Definir condiciones iniciales \n",
        "x0 = np.array([0.2, 40, 0])\n",
        "\n",
        "# Definir tiempo de integracion \n",
        "tf = 60 \n",
        "dt = 1 \n",
        "time = np.arange(0, tf+dt, dt)\n",
        "\n",
        "# Simular ODEs\n",
        "x, s, p = euler(monod_model, x0, 0, tf+dt, dt, lambda t: 0, mu_max, yxs, ks, ypx).T"
      ],
      "metadata": {
        "id": "DpvI2cs2ImGZ"
      },
      "execution_count": 93,
      "outputs": []
    },
    {
      "cell_type": "code",
      "source": [
        "# Funcion para obtener concentraciones finales\n",
        "def final_conc(x, s, p):\n",
        "    return (x[-1],p[-1],s[-1])"
      ],
      "metadata": {
        "id": "-fDJK_i_JOhZ"
      },
      "execution_count": 94,
      "outputs": []
    },
    {
      "cell_type": "code",
      "source": [
        "final_conc(x, s, p)"
      ],
      "metadata": {
        "colab": {
          "base_uri": "https://localhost:8080/"
        },
        "id": "uWqFGxwqJnEs",
        "outputId": "e5bbd8f9-bb69-4c48-e1e8-e0a127eb4417"
      },
      "execution_count": 95,
      "outputs": [
        {
          "output_type": "execute_result",
          "data": {
            "text/plain": [
              "(8.188387294636055, 31.953549178544236, 0.0580635268197149)"
            ]
          },
          "metadata": {},
          "execution_count": 95
        }
      ]
    },
    {
      "cell_type": "markdown",
      "source": [
        "(8.185185831258408, 31.94074332503364, 0.07407084370789976)"
      ],
      "metadata": {
        "id": "Mqk_049FLl7T"
      }
    },
    {
      "cell_type": "code",
      "source": [
        "# Funcion para generar df con simulacion\n",
        "def generate_data(time, x, s, p):\n",
        "    predicted = {'t': [], 'x':[], 's':[], 'p':[]}\n",
        "    for i in range(len(time)):\n",
        "\n",
        "        predicted['t'].append(time[i])\n",
        "        predicted['x'].append(x[i])\n",
        "        predicted['s'].append(s[i])\n",
        "        predicted['p'].append(p[i])\n",
        "\n",
        "    predicted = pd.DataFrame(predicted)\n",
        "    return predicted"
      ],
      "metadata": {
        "id": "rSL9PLlBMBQB"
      },
      "execution_count": 96,
      "outputs": []
    },
    {
      "cell_type": "code",
      "source": [
        "predicted = generate_data(time, x, s, p)\n",
        "predicted.head()"
      ],
      "metadata": {
        "colab": {
          "base_uri": "https://localhost:8080/",
          "height": 206
        },
        "id": "iOLYh_BqiKFo",
        "outputId": "fb6e6099-7865-4389-9719-69d9bddb742b"
      },
      "execution_count": 97,
      "outputs": [
        {
          "output_type": "execute_result",
          "data": {
            "text/plain": [
              "   t         x          s         p\n",
              "0  0  0.200000  40.000000  0.000000\n",
              "1  1  0.230000  39.850000  0.120000\n",
              "2  2  0.264387  39.678066  0.257547\n",
              "3  3  0.303765  39.481174  0.415061\n",
              "4  4  0.348812  39.255940  0.595248"
            ],
            "text/html": [
              "\n",
              "  <div id=\"df-fa5e130c-429f-44db-8244-1637c76aadc5\">\n",
              "    <div class=\"colab-df-container\">\n",
              "      <div>\n",
              "<style scoped>\n",
              "    .dataframe tbody tr th:only-of-type {\n",
              "        vertical-align: middle;\n",
              "    }\n",
              "\n",
              "    .dataframe tbody tr th {\n",
              "        vertical-align: top;\n",
              "    }\n",
              "\n",
              "    .dataframe thead th {\n",
              "        text-align: right;\n",
              "    }\n",
              "</style>\n",
              "<table border=\"1\" class=\"dataframe\">\n",
              "  <thead>\n",
              "    <tr style=\"text-align: right;\">\n",
              "      <th></th>\n",
              "      <th>t</th>\n",
              "      <th>x</th>\n",
              "      <th>s</th>\n",
              "      <th>p</th>\n",
              "    </tr>\n",
              "  </thead>\n",
              "  <tbody>\n",
              "    <tr>\n",
              "      <th>0</th>\n",
              "      <td>0</td>\n",
              "      <td>0.200000</td>\n",
              "      <td>40.000000</td>\n",
              "      <td>0.000000</td>\n",
              "    </tr>\n",
              "    <tr>\n",
              "      <th>1</th>\n",
              "      <td>1</td>\n",
              "      <td>0.230000</td>\n",
              "      <td>39.850000</td>\n",
              "      <td>0.120000</td>\n",
              "    </tr>\n",
              "    <tr>\n",
              "      <th>2</th>\n",
              "      <td>2</td>\n",
              "      <td>0.264387</td>\n",
              "      <td>39.678066</td>\n",
              "      <td>0.257547</td>\n",
              "    </tr>\n",
              "    <tr>\n",
              "      <th>3</th>\n",
              "      <td>3</td>\n",
              "      <td>0.303765</td>\n",
              "      <td>39.481174</td>\n",
              "      <td>0.415061</td>\n",
              "    </tr>\n",
              "    <tr>\n",
              "      <th>4</th>\n",
              "      <td>4</td>\n",
              "      <td>0.348812</td>\n",
              "      <td>39.255940</td>\n",
              "      <td>0.595248</td>\n",
              "    </tr>\n",
              "  </tbody>\n",
              "</table>\n",
              "</div>\n",
              "      <button class=\"colab-df-convert\" onclick=\"convertToInteractive('df-fa5e130c-429f-44db-8244-1637c76aadc5')\"\n",
              "              title=\"Convert this dataframe to an interactive table.\"\n",
              "              style=\"display:none;\">\n",
              "        \n",
              "  <svg xmlns=\"http://www.w3.org/2000/svg\" height=\"24px\"viewBox=\"0 0 24 24\"\n",
              "       width=\"24px\">\n",
              "    <path d=\"M0 0h24v24H0V0z\" fill=\"none\"/>\n",
              "    <path d=\"M18.56 5.44l.94 2.06.94-2.06 2.06-.94-2.06-.94-.94-2.06-.94 2.06-2.06.94zm-11 1L8.5 8.5l.94-2.06 2.06-.94-2.06-.94L8.5 2.5l-.94 2.06-2.06.94zm10 10l.94 2.06.94-2.06 2.06-.94-2.06-.94-.94-2.06-.94 2.06-2.06.94z\"/><path d=\"M17.41 7.96l-1.37-1.37c-.4-.4-.92-.59-1.43-.59-.52 0-1.04.2-1.43.59L10.3 9.45l-7.72 7.72c-.78.78-.78 2.05 0 2.83L4 21.41c.39.39.9.59 1.41.59.51 0 1.02-.2 1.41-.59l7.78-7.78 2.81-2.81c.8-.78.8-2.07 0-2.86zM5.41 20L4 18.59l7.72-7.72 1.47 1.35L5.41 20z\"/>\n",
              "  </svg>\n",
              "      </button>\n",
              "      \n",
              "  <style>\n",
              "    .colab-df-container {\n",
              "      display:flex;\n",
              "      flex-wrap:wrap;\n",
              "      gap: 12px;\n",
              "    }\n",
              "\n",
              "    .colab-df-convert {\n",
              "      background-color: #E8F0FE;\n",
              "      border: none;\n",
              "      border-radius: 50%;\n",
              "      cursor: pointer;\n",
              "      display: none;\n",
              "      fill: #1967D2;\n",
              "      height: 32px;\n",
              "      padding: 0 0 0 0;\n",
              "      width: 32px;\n",
              "    }\n",
              "\n",
              "    .colab-df-convert:hover {\n",
              "      background-color: #E2EBFA;\n",
              "      box-shadow: 0px 1px 2px rgba(60, 64, 67, 0.3), 0px 1px 3px 1px rgba(60, 64, 67, 0.15);\n",
              "      fill: #174EA6;\n",
              "    }\n",
              "\n",
              "    [theme=dark] .colab-df-convert {\n",
              "      background-color: #3B4455;\n",
              "      fill: #D2E3FC;\n",
              "    }\n",
              "\n",
              "    [theme=dark] .colab-df-convert:hover {\n",
              "      background-color: #434B5C;\n",
              "      box-shadow: 0px 1px 3px 1px rgba(0, 0, 0, 0.15);\n",
              "      filter: drop-shadow(0px 1px 2px rgba(0, 0, 0, 0.3));\n",
              "      fill: #FFFFFF;\n",
              "    }\n",
              "  </style>\n",
              "\n",
              "      <script>\n",
              "        const buttonEl =\n",
              "          document.querySelector('#df-fa5e130c-429f-44db-8244-1637c76aadc5 button.colab-df-convert');\n",
              "        buttonEl.style.display =\n",
              "          google.colab.kernel.accessAllowed ? 'block' : 'none';\n",
              "\n",
              "        async function convertToInteractive(key) {\n",
              "          const element = document.querySelector('#df-fa5e130c-429f-44db-8244-1637c76aadc5');\n",
              "          const dataTable =\n",
              "            await google.colab.kernel.invokeFunction('convertToInteractive',\n",
              "                                                     [key], {});\n",
              "          if (!dataTable) return;\n",
              "\n",
              "          const docLinkHtml = 'Like what you see? Visit the ' +\n",
              "            '<a target=\"_blank\" href=https://colab.research.google.com/notebooks/data_table.ipynb>data table notebook</a>'\n",
              "            + ' to learn more about interactive tables.';\n",
              "          element.innerHTML = '';\n",
              "          dataTable['output_type'] = 'display_data';\n",
              "          await google.colab.output.renderOutput(dataTable, element);\n",
              "          const docLink = document.createElement('div');\n",
              "          docLink.innerHTML = docLinkHtml;\n",
              "          element.appendChild(docLink);\n",
              "        }\n",
              "      </script>\n",
              "    </div>\n",
              "  </div>\n",
              "  "
            ]
          },
          "metadata": {},
          "execution_count": 97
        }
      ]
    },
    {
      "cell_type": "code",
      "source": [
        "def plot_data(data):\n",
        "    plt.figure(figsize=(10,5))\n",
        "    plt.plot(data.t, data.x, label='x')\n",
        "    plt.plot(data.t, data.s, label='s')\n",
        "    plt.plot(data.t, data.p, label='p')\n",
        "    plt.ylabel('Concentraciones (g/L)')\n",
        "    plt.xlabel('Tiempo (h)')\n",
        "    plt.grid()\n",
        "    plt.legend()\n",
        "    plt.show()"
      ],
      "metadata": {
        "id": "5AVTrNn7JHDZ"
      },
      "execution_count": 98,
      "outputs": []
    },
    {
      "cell_type": "code",
      "source": [
        "plot_data(predicted)"
      ],
      "metadata": {
        "colab": {
          "base_uri": "https://localhost:8080/",
          "height": 334
        },
        "id": "QMV-Jg6ukcJO",
        "outputId": "05a3bf28-e257-48ab-abed-454dcea3ce0b"
      },
      "execution_count": 99,
      "outputs": [
        {
          "output_type": "display_data",
          "data": {
            "text/plain": [
              "<Figure size 720x360 with 1 Axes>"
            ],
            "image/png": "[encoded data removed]"
          },
          "metadata": {
            "needs_background": "light"
          }
        }
      ]
    },
    {
      "cell_type": "code",
      "source": [
        "# Funcion para agragar ruido a los datos\n",
        "def add_noise(predicted, x_noise, s_noise, p_noise):\n",
        "\n",
        "    predicted_noise = predicted.copy() \n",
        "\n",
        "    predicted_noise.x = predicted_noise.x + np.random.normal(loc=0, scale=x_noise, size=len(predicted_noise.x))\n",
        "    predicted_noise.s = predicted_noise.s + np.random.normal(loc=0, scale=s_noise, size=len(predicted_noise.s))\n",
        "    predicted_noise.p = predicted_noise.p + np.random.normal(loc=0, scale=p_noise, size=len(predicted_noise.p))\n",
        "\n",
        "    return predicted_noise\n"
      ],
      "metadata": {
        "id": "nMBgTRk7PNmh"
      },
      "execution_count": 100,
      "outputs": []
    },
    {
      "cell_type": "code",
      "source": [
        "predicted_noise = add_noise(predicted, 0.1, 1, 1)"
      ],
      "metadata": {
        "id": "qY4lQSkoPrzh"
      },
      "execution_count": 101,
      "outputs": []
    },
    {
      "cell_type": "code",
      "source": [
        "plot_data(predicted_noise)"
      ],
      "metadata": {
        "colab": {
          "base_uri": "https://localhost:8080/",
          "height": 334
        },
        "id": "qUiWBXP8QKQ_",
        "outputId": "4c358e6d-ed6f-42ec-af5b-3565c4b1fb0c"
      },
      "execution_count": 102,
      "outputs": [
        {
          "output_type": "display_data",
          "data": {
            "text/plain": [
              "<Figure size 720x360 with 1 Axes>"
            ],
            "image/png": "[encoded data removed]"
          },
          "metadata": {
            "needs_background": "light"
          }
        }
      ]
    },
    {
      "cell_type": "code",
      "source": [
        "#@title load data\n",
        "# data = {'t': [], 'x':[], 's':[], 'p':[]}\n",
        "# with open(\"simulation_data.csv\", \"r\") as f:\n",
        "#     print(f.readline())\n",
        "#     for line in f:\n",
        "#         t_d, x_d, p_d, s_d = line.split(',')\n",
        "        \n",
        "#         data['t'].append(int(t_d))\n",
        "#         data['x'].append(float(x_d))\n",
        "#         data['s'].append(float(s_d))\n",
        "#         data['p'].append(float(p_d))\n",
        "        \n",
        "# data = pd.DataFrame(data)\n",
        "# print(data.shape)\n",
        "# print(predicted.shape)\n",
        "# data.head()"
      ],
      "metadata": {
        "cellView": "form",
        "id": "UGK3JbrgJopC"
      },
      "execution_count": 103,
      "outputs": []
    },
    {
      "cell_type": "code",
      "source": [
        "# Funcion para evaluar el costo\n",
        "def cost_function(data, predicted):\n",
        "    data = np.array(data)\n",
        "    predicted = np.array(predicted)\n",
        "    return np.sum((data - predicted)**2)/len(data)"
      ],
      "metadata": {
        "id": "ILkZQhPfLISa"
      },
      "execution_count": 104,
      "outputs": []
    },
    {
      "cell_type": "code",
      "source": [
        "def fitness_function(parms):\n",
        "    mu_max, yxs, ks, ypx = parms\n",
        "    x, s, p = euler(monod_model, x0, 0, tf+dt, dt, lambda t: 0, mu_max, yxs, ks, ypx).T\n",
        "    out = generate_data(time, x, s, p)\n",
        "    return cost_function(predicted_noise, out)"
      ],
      "metadata": {
        "id": "tcPO3IifQYZK"
      },
      "execution_count": 119,
      "outputs": []
    },
    {
      "cell_type": "code",
      "source": [
        "fitness_function([mu_max, yxs, ks, ypx])"
      ],
      "metadata": {
        "colab": {
          "base_uri": "https://localhost:8080/"
        },
        "id": "62wa1Td2i_0q",
        "outputId": "a245084a-50c7-4f12-970f-24152063ffcb"
      },
      "execution_count": 120,
      "outputs": [
        {
          "output_type": "execute_result",
          "data": {
            "text/plain": [
              "2.385009056956527"
            ]
          },
          "metadata": {},
          "execution_count": 120
        }
      ]
    },
    {
      "cell_type": "code",
      "source": [
        "pip install geneticalgorithm"
      ],
      "metadata": {
        "colab": {
          "base_uri": "https://localhost:8080/"
        },
        "id": "wI9iYNhUjDyq",
        "outputId": "68cf0fdf-80b3-44ef-b8b3-094b0fbd20dd"
      },
      "execution_count": 110,
      "outputs": [
        {
          "output_type": "stream",
          "name": "stdout",
          "text": [
            "Looking in indexes: https://pypi.org/simple, https://us-python.pkg.dev/colab-wheels/public/simple/\n",
            "Collecting geneticalgorithm\n",
            "  Downloading geneticalgorithm-1.0.2-py3-none-any.whl (16 kB)\n",
            "Collecting func-timeout\n",
            "  Downloading func_timeout-4.3.5.tar.gz (44 kB)\n",
            "\u001b[2K     \u001b[90m━━━━━━━━━━━━━━━━━━━━━━━━━━━━━━━━━━━━━━━━\u001b[0m \u001b[32m44.3/44.3 KB\u001b[0m \u001b[31m5.6 MB/s\u001b[0m eta \u001b[36m0:00:00\u001b[0m\n",
            "\u001b[?25h  Preparing metadata (setup.py) ... \u001b[?25l\u001b[?25hdone\n",
            "Requirement already satisfied: numpy in /usr/local/lib/python3.8/dist-packages (from geneticalgorithm) (1.21.6)\n",
            "Building wheels for collected packages: func-timeout\n",
            "  Building wheel for func-timeout (setup.py) ... \u001b[?25l\u001b[?25hdone\n",
            "  Created wheel for func-timeout: filename=func_timeout-4.3.5-py3-none-any.whl size=15096 sha256=4c8eea0c845b36689710a0756756c91e3042ba63c89b4dc94c9f6a77d085f7db\n",
            "  Stored in directory: /root/.cache/pip/wheels/a8/92/ca/5bbab358275e310af23b73fc32ebf37d6a7a08c87c8d2cdbc1\n",
            "Successfully built func-timeout\n",
            "Installing collected packages: func-timeout, geneticalgorithm\n",
            "Successfully installed func-timeout-4.3.5 geneticalgorithm-1.0.2\n"
          ]
        }
      ]
    },
    {
      "cell_type": "code",
      "source": [
        "# Configuramos algoritmo genetico\n",
        "algorithm_param = {'max_num_iteration': 100,\\\n",
        "                   'population_size':100,\\\n",
        "                   'mutation_probability':0.1,\\\n",
        "                   'elit_ratio': 0.01,\\\n",
        "                   'crossover_probability': 0.5,\\\n",
        "                   'parents_portion': 0.3,\\\n",
        "                   'crossover_type':'uniform',\\\n",
        "                   'max_iteration_without_improv':None}"
      ],
      "metadata": {
        "id": "w7k5zK4qlwsb"
      },
      "execution_count": 111,
      "outputs": []
    },
    {
      "cell_type": "code",
      "source": [
        "# Importar libreria de algoritmos geneticos\n",
        "from geneticalgorithm import geneticalgorithm as ga"
      ],
      "metadata": {
        "id": "rWPhbrqnly9O"
      },
      "execution_count": 112,
      "outputs": []
    },
    {
      "cell_type": "code",
      "source": [
        "# Establecer los rangos de busqueda para las variables de decision\n",
        "varbound=np.array([\n",
        "    [0,1], # mu_max\n",
        "    [10,20], # ks\n",
        "    [0,1], # yxs\n",
        "    [10,20] # ypx\n",
        "])"
      ],
      "metadata": {
        "id": "W0hjsrQyl3ka"
      },
      "execution_count": 113,
      "outputs": []
    },
    {
      "cell_type": "code",
      "source": [
        "# LLamar el algortimo genetico para realizar la optimizacion\n",
        "model=ga(function=fitness_function,\n",
        "         dimension=4,\n",
        "         variable_type='real',\n",
        "         variable_boundaries=varbound,\n",
        "         algorithm_parameters=algorithm_param)"
      ],
      "metadata": {
        "id": "Mi1AYgiTmNYu"
      },
      "execution_count": 121,
      "outputs": []
    },
    {
      "cell_type": "code",
      "source": [
        "# Realizar la busqueda\n",
        "model.run()"
      ],
      "metadata": {
        "colab": {
          "base_uri": "https://localhost:8080/",
          "height": 384
        },
        "id": "xi7VKUXVmO9i",
        "outputId": "0e040b12-fce0-4ed2-cf39-85b875f9cedd"
      },
      "execution_count": 122,
      "outputs": [
        {
          "output_type": "stream",
          "name": "stdout",
          "text": [
            " The best solution found:\n",
            " [ 0.05315949 10.10631607  0.9940545  13.20426135]\n",
            "\n",
            " Objective function:\n",
            " 884.044322226996\n"
          ]
        },
        {
          "output_type": "display_data",
          "data": {
            "text/plain": [
              "<Figure size 432x288 with 1 Axes>"
            ],
            "image/png": "[encoded data removed]"
          },
          "metadata": {
            "needs_background": "light"
          }
        }
      ]
    },
    {
      "cell_type": "code",
      "source": [],
      "metadata": {
        "id": "QJmLe0DgmRo2"
      },
      "execution_count": null,
      "outputs": []
    }
  ]
}