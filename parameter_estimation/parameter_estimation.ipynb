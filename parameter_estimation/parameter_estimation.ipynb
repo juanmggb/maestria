{
  "nbformat": 4,
  "nbformat_minor": 0,
  "metadata": {
    "colab": {
      "provenance": [],
      "authorship_tag": "ABX9TyPkbYp6lPRAr3IqUhsV8rRr",
      "include_colab_link": true
    },
    "kernelspec": {
      "name": "python3",
      "display_name": "Python 3"
    },
    "language_info": {
      "name": "python"
    },
    "gpuClass": "standard"
  },
  "cells": [
    {
      "cell_type": "markdown",
      "metadata": {
        "id": "view-in-github",
        "colab_type": "text"
      },
      "source": [
        "<a href=\"https://colab.research.google.com/github/juanmggb/maestria/blob/main/parameter_estimation/parameter_estimation.ipynb\" target=\"_parent\"><img src=\"https://colab.research.google.com/assets/colab-badge.svg\" alt=\"Open In Colab\"/></a>"
      ]
    },
    {
      "cell_type": "code",
      "source": [
        "pip install pyDOE"
      ],
      "metadata": {
        "id": "CUwbbK2et1Re"
      },
      "execution_count": null,
      "outputs": []
    },
    {
      "cell_type": "code",
      "source": [
        "pip install geneticalgorithm"
      ],
      "metadata": {
        "id": "jDVmmQzRh1G-"
      },
      "execution_count": null,
      "outputs": []
    },
    {
      "cell_type": "code",
      "source": [
        "# Import libraries\n",
        "import numpy as np \n",
        "import matplotlib.pyplot as plt\n",
        "from geneticalgorithm import geneticalgorithm as ga\n",
        "import pandas as pd  \n",
        "import sys\n",
        "from scipy.integrate import odeint\n",
        "from time import time as clock\n",
        "import random"
      ],
      "metadata": {
        "id": "Q3ADrC4Sh1hA"
      },
      "execution_count": 194,
      "outputs": []
    },
    {
      "cell_type": "code",
      "source": [
        "# In order to access the package you need to have its path. The path required is the path WHERE that package is soterd, not it path\n",
        "# sys.path.insert(1, 'd:\\\\DYNAMICAL SIMULATION\\\\maestria\\\\maestria')"
      ],
      "metadata": {
        "id": "xqVx5VNph6-f"
      },
      "execution_count": 4,
      "outputs": []
    },
    {
      "cell_type": "code",
      "source": [
        "!git clone https://github.com/juanmggb/maestria.git"
      ],
      "metadata": {
        "colab": {
          "base_uri": "https://localhost:8080/"
        },
        "id": "SaN-Nenyh7BJ",
        "outputId": "01756032-272f-43d5-f6cb-5586a17f82a9"
      },
      "execution_count": 5,
      "outputs": [
        {
          "output_type": "stream",
          "name": "stdout",
          "text": [
            "Cloning into 'maestria'...\n",
            "remote: Enumerating objects: 318, done.\u001b[K\n",
            "remote: Counting objects: 100% (115/115), done.\u001b[K\n",
            "remote: Compressing objects: 100% (109/109), done.\u001b[K\n",
            "remote: Total 318 (delta 52), reused 18 (delta 6), pack-reused 203\u001b[K\n",
            "Receiving objects: 100% (318/318), 9.31 MiB | 20.58 MiB/s, done.\n",
            "Resolving deltas: 100% (137/137), done.\n"
          ]
        }
      ]
    },
    {
      "cell_type": "code",
      "source": [
        "cd maestria"
      ],
      "metadata": {
        "colab": {
          "base_uri": "https://localhost:8080/"
        },
        "id": "bKITSRHoh7Dw",
        "outputId": "fc7e4bf2-a1b4-4a89-b6d0-515cb13ef1de"
      },
      "execution_count": 6,
      "outputs": [
        {
          "output_type": "stream",
          "name": "stdout",
          "text": [
            "/content/maestria\n"
          ]
        }
      ]
    },
    {
      "cell_type": "code",
      "source": [
        "import utilis.functions as fn\n",
        "from utilis.models import monod_model, inhibition_model"
      ],
      "metadata": {
        "id": "nwqVar1hh7GZ"
      },
      "execution_count": 25,
      "outputs": []
    },
    {
      "cell_type": "code",
      "source": [
        "# Definir parametros \n",
        "mu_max = 1.2 # g/L\n",
        "yxs = 0.2 \n",
        "ks = 280 # g/L\n",
        "ypx = 4 \n",
        "ki = 0.3 # L/g"
      ],
      "metadata": {
        "id": "7Kmho4KGbke4"
      },
      "execution_count": 190,
      "outputs": []
    },
    {
      "cell_type": "code",
      "source": [
        "# Configuramos algoritmo genetico\n",
        "algorithm_param = {'max_num_iteration': 100,\\\n",
        "                   'population_size':100,\\\n",
        "                   'mutation_probability':0.1,\\\n",
        "                   'elit_ratio': 0.01,\\\n",
        "                   'crossover_probability': 0.8,\\\n",
        "                   'parents_portion': 0.3,\\\n",
        "                   'crossover_type':'uniform',\\\n",
        "                   'max_iteration_without_improv':None}"
      ],
      "metadata": {
        "id": "fNJKtP2oKOZj"
      },
      "execution_count": 213,
      "outputs": []
    },
    {
      "cell_type": "markdown",
      "source": [
        "# I need to move this functions later"
      ],
      "metadata": {
        "id": "QXihSK68J_Jh"
      }
    },
    {
      "cell_type": "code",
      "source": [
        "def plot_simulated_data(data):\n",
        "    plt.figure(figsize=(10, 5))\n",
        "    plt.scatter(data.t, data.x, label = 'biomass')\n",
        "    plt.scatter(data.t, data.s, label = 'substrate')\n",
        "    plt.scatter(data.t, data.p, label = 'product')\n",
        "    plt.xlabel(\"Time (h)\", size = 20)\n",
        "    plt.ylabel('Concentration (g/L)', size = 20)\n",
        "    plt.grid()\n",
        "    plt.legend(fontsize=10)\n",
        "    plt.show()"
      ],
      "metadata": {
        "id": "DatXu7g1wCaB"
      },
      "execution_count": 48,
      "outputs": []
    },
    {
      "cell_type": "code",
      "source": [
        "def fitness_function_monod(parms):\n",
        "    mu_max, yxs, ks, ypx = parms\n",
        "    # Definir condiciones iniciales \n",
        "    x0 = np.array([0.2, 40, 0])\n",
        "    # Definir tiempo de integracion \n",
        "    tf = 60 \n",
        "    dt = 1 \n",
        "    time = np.arange(0, tf+dt, dt)\n",
        "    x, s, p =  odeint(monod_model, x0, time, args =(0, mu_max, yxs, ks, ypx,)).T\n",
        "    out = fn.create_df(time, x, s, p)\n",
        "    return fn.MSE(data_monod, out)"
      ],
      "metadata": {
        "id": "q7sozbc8J8No"
      },
      "execution_count": 178,
      "outputs": []
    },
    {
      "cell_type": "code",
      "source": [
        "def fitness_function_inhibition(parms):\n",
        "    mu_max, yxs, ks, ypx, ki = parms\n",
        "    # Definir condiciones iniciales \n",
        "    x0 = np.array([0.2, 40, 0])\n",
        "    # Definir tiempo de integracion \n",
        "    tf = 60 \n",
        "    dt = 1 \n",
        "    time = np.arange(0, tf+dt, dt)\n",
        "    x, s, p =  odeint(inhibition_model, x0, time, args =(0, mu_max, yxs, ks, ypx, ki, )).T\n",
        "    out = fn.create_df(time, x, s, p)\n",
        "    return fn.MSE(data_inhibition, out)"
      ],
      "metadata": {
        "id": "AQ3jw7rMKGVM"
      },
      "execution_count": 179,
      "outputs": []
    },
    {
      "cell_type": "code",
      "source": [
        "def calculate_stats(params):\n",
        "    mean_values = np.mean(params, axis=0)\n",
        "    std_values =  np.std(params, axis=0)\n",
        "    stats = []\n",
        "    for i in range(len(mean_values)):\n",
        "        mean_value = mean_values[i]\n",
        "        std_value = std_values[i]\n",
        "        lower = mean_value - 1.96*std_value/np.sqrt(params.shape[0])\n",
        "        upper = mean_value + 1.96*std_value/np.sqrt(params.shape[0])\n",
        "        stats.append((mean_value, std_value, lower, upper))\n",
        "\n",
        "    return stats"
      ],
      "metadata": {
        "id": "Kc87arVjZtvL"
      },
      "execution_count": 180,
      "outputs": []
    },
    {
      "cell_type": "markdown",
      "source": [
        "# Load data"
      ],
      "metadata": {
        "id": "QfEoozgOJqlS"
      }
    },
    {
      "cell_type": "code",
      "source": [
        "# Load data \n",
        "data_monod = pd.read_csv(\"data/data_monod.csv\")\n",
        "data_monod.head()"
      ],
      "metadata": {
        "colab": {
          "base_uri": "https://localhost:8080/",
          "height": 206
        },
        "id": "88ZauxMrISpy",
        "outputId": "6d0b1d0d-17e0-4dd1-936d-fe90957ebbe5"
      },
      "execution_count": 181,
      "outputs": [
        {
          "output_type": "execute_result",
          "data": {
            "text/plain": [
              "   t         x          s         p\n",
              "0  0  0.076187  39.510367 -1.594598\n",
              "1  1  0.217710  39.078642 -0.376261\n",
              "2  2  0.237686  40.207946  0.409200\n",
              "3  3  0.432216  39.377534 -0.829929\n",
              "4  4  0.400163  40.167787  1.338085"
            ],
            "text/html": [
              "\n",
              "  <div id=\"df-9d43c545-5cec-4747-b51f-00471c8437ac\">\n",
              "    <div class=\"colab-df-container\">\n",
              "      <div>\n",
              "<style scoped>\n",
              "    .dataframe tbody tr th:only-of-type {\n",
              "        vertical-align: middle;\n",
              "    }\n",
              "\n",
              "    .dataframe tbody tr th {\n",
              "        vertical-align: top;\n",
              "    }\n",
              "\n",
              "    .dataframe thead th {\n",
              "        text-align: right;\n",
              "    }\n",
              "</style>\n",
              "<table border=\"1\" class=\"dataframe\">\n",
              "  <thead>\n",
              "    <tr style=\"text-align: right;\">\n",
              "      <th></th>\n",
              "      <th>t</th>\n",
              "      <th>x</th>\n",
              "      <th>s</th>\n",
              "      <th>p</th>\n",
              "    </tr>\n",
              "  </thead>\n",
              "  <tbody>\n",
              "    <tr>\n",
              "      <th>0</th>\n",
              "      <td>0</td>\n",
              "      <td>0.076187</td>\n",
              "      <td>39.510367</td>\n",
              "      <td>-1.594598</td>\n",
              "    </tr>\n",
              "    <tr>\n",
              "      <th>1</th>\n",
              "      <td>1</td>\n",
              "      <td>0.217710</td>\n",
              "      <td>39.078642</td>\n",
              "      <td>-0.376261</td>\n",
              "    </tr>\n",
              "    <tr>\n",
              "      <th>2</th>\n",
              "      <td>2</td>\n",
              "      <td>0.237686</td>\n",
              "      <td>40.207946</td>\n",
              "      <td>0.409200</td>\n",
              "    </tr>\n",
              "    <tr>\n",
              "      <th>3</th>\n",
              "      <td>3</td>\n",
              "      <td>0.432216</td>\n",
              "      <td>39.377534</td>\n",
              "      <td>-0.829929</td>\n",
              "    </tr>\n",
              "    <tr>\n",
              "      <th>4</th>\n",
              "      <td>4</td>\n",
              "      <td>0.400163</td>\n",
              "      <td>40.167787</td>\n",
              "      <td>1.338085</td>\n",
              "    </tr>\n",
              "  </tbody>\n",
              "</table>\n",
              "</div>\n",
              "      <button class=\"colab-df-convert\" onclick=\"convertToInteractive('df-9d43c545-5cec-4747-b51f-00471c8437ac')\"\n",
              "              title=\"Convert this dataframe to an interactive table.\"\n",
              "              style=\"display:none;\">\n",
              "        \n",
              "  <svg xmlns=\"http://www.w3.org/2000/svg\" height=\"24px\"viewBox=\"0 0 24 24\"\n",
              "       width=\"24px\">\n",
              "    <path d=\"M0 0h24v24H0V0z\" fill=\"none\"/>\n",
              "    <path d=\"M18.56 5.44l.94 2.06.94-2.06 2.06-.94-2.06-.94-.94-2.06-.94 2.06-2.06.94zm-11 1L8.5 8.5l.94-2.06 2.06-.94-2.06-.94L8.5 2.5l-.94 2.06-2.06.94zm10 10l.94 2.06.94-2.06 2.06-.94-2.06-.94-.94-2.06-.94 2.06-2.06.94z\"/><path d=\"M17.41 7.96l-1.37-1.37c-.4-.4-.92-.59-1.43-.59-.52 0-1.04.2-1.43.59L10.3 9.45l-7.72 7.72c-.78.78-.78 2.05 0 2.83L4 21.41c.39.39.9.59 1.41.59.51 0 1.02-.2 1.41-.59l7.78-7.78 2.81-2.81c.8-.78.8-2.07 0-2.86zM5.41 20L4 18.59l7.72-7.72 1.47 1.35L5.41 20z\"/>\n",
              "  </svg>\n",
              "      </button>\n",
              "      \n",
              "  <style>\n",
              "    .colab-df-container {\n",
              "      display:flex;\n",
              "      flex-wrap:wrap;\n",
              "      gap: 12px;\n",
              "    }\n",
              "\n",
              "    .colab-df-convert {\n",
              "      background-color: #E8F0FE;\n",
              "      border: none;\n",
              "      border-radius: 50%;\n",
              "      cursor: pointer;\n",
              "      display: none;\n",
              "      fill: #1967D2;\n",
              "      height: 32px;\n",
              "      padding: 0 0 0 0;\n",
              "      width: 32px;\n",
              "    }\n",
              "\n",
              "    .colab-df-convert:hover {\n",
              "      background-color: #E2EBFA;\n",
              "      box-shadow: 0px 1px 2px rgba(60, 64, 67, 0.3), 0px 1px 3px 1px rgba(60, 64, 67, 0.15);\n",
              "      fill: #174EA6;\n",
              "    }\n",
              "\n",
              "    [theme=dark] .colab-df-convert {\n",
              "      background-color: #3B4455;\n",
              "      fill: #D2E3FC;\n",
              "    }\n",
              "\n",
              "    [theme=dark] .colab-df-convert:hover {\n",
              "      background-color: #434B5C;\n",
              "      box-shadow: 0px 1px 3px 1px rgba(0, 0, 0, 0.15);\n",
              "      filter: drop-shadow(0px 1px 2px rgba(0, 0, 0, 0.3));\n",
              "      fill: #FFFFFF;\n",
              "    }\n",
              "  </style>\n",
              "\n",
              "      <script>\n",
              "        const buttonEl =\n",
              "          document.querySelector('#df-9d43c545-5cec-4747-b51f-00471c8437ac button.colab-df-convert');\n",
              "        buttonEl.style.display =\n",
              "          google.colab.kernel.accessAllowed ? 'block' : 'none';\n",
              "\n",
              "        async function convertToInteractive(key) {\n",
              "          const element = document.querySelector('#df-9d43c545-5cec-4747-b51f-00471c8437ac');\n",
              "          const dataTable =\n",
              "            await google.colab.kernel.invokeFunction('convertToInteractive',\n",
              "                                                     [key], {});\n",
              "          if (!dataTable) return;\n",
              "\n",
              "          const docLinkHtml = 'Like what you see? Visit the ' +\n",
              "            '<a target=\"_blank\" href=https://colab.research.google.com/notebooks/data_table.ipynb>data table notebook</a>'\n",
              "            + ' to learn more about interactive tables.';\n",
              "          element.innerHTML = '';\n",
              "          dataTable['output_type'] = 'display_data';\n",
              "          await google.colab.output.renderOutput(dataTable, element);\n",
              "          const docLink = document.createElement('div');\n",
              "          docLink.innerHTML = docLinkHtml;\n",
              "          element.appendChild(docLink);\n",
              "        }\n",
              "      </script>\n",
              "    </div>\n",
              "  </div>\n",
              "  "
            ]
          },
          "metadata": {},
          "execution_count": 181
        }
      ]
    },
    {
      "cell_type": "code",
      "source": [
        "# Load data \n",
        "data_inhibition = pd.read_csv(\"data/data_inhibition.csv\")\n",
        "data_inhibition.head()"
      ],
      "metadata": {
        "colab": {
          "base_uri": "https://localhost:8080/",
          "height": 206
        },
        "id": "oljPZ6FSIeVE",
        "outputId": "e9f68f29-c66c-4810-aecb-a68c5cf861b8"
      },
      "execution_count": 182,
      "outputs": [
        {
          "output_type": "execute_result",
          "data": {
            "text/plain": [
              "   t         x          s         p\n",
              "0  0  0.174614  40.745821  1.081127\n",
              "1  1 -0.060982  38.007323 -1.422682\n",
              "2  2  0.087718  40.599858 -1.457520\n",
              "3  3  0.242266  39.281919  0.688872\n",
              "4  4  0.256444  40.626491 -0.866604"
            ],
            "text/html": [
              "\n",
              "  <div id=\"df-911044fc-ef33-4a2d-b7c6-b7c3a70e30d2\">\n",
              "    <div class=\"colab-df-container\">\n",
              "      <div>\n",
              "<style scoped>\n",
              "    .dataframe tbody tr th:only-of-type {\n",
              "        vertical-align: middle;\n",
              "    }\n",
              "\n",
              "    .dataframe tbody tr th {\n",
              "        vertical-align: top;\n",
              "    }\n",
              "\n",
              "    .dataframe thead th {\n",
              "        text-align: right;\n",
              "    }\n",
              "</style>\n",
              "<table border=\"1\" class=\"dataframe\">\n",
              "  <thead>\n",
              "    <tr style=\"text-align: right;\">\n",
              "      <th></th>\n",
              "      <th>t</th>\n",
              "      <th>x</th>\n",
              "      <th>s</th>\n",
              "      <th>p</th>\n",
              "    </tr>\n",
              "  </thead>\n",
              "  <tbody>\n",
              "    <tr>\n",
              "      <th>0</th>\n",
              "      <td>0</td>\n",
              "      <td>0.174614</td>\n",
              "      <td>40.745821</td>\n",
              "      <td>1.081127</td>\n",
              "    </tr>\n",
              "    <tr>\n",
              "      <th>1</th>\n",
              "      <td>1</td>\n",
              "      <td>-0.060982</td>\n",
              "      <td>38.007323</td>\n",
              "      <td>-1.422682</td>\n",
              "    </tr>\n",
              "    <tr>\n",
              "      <th>2</th>\n",
              "      <td>2</td>\n",
              "      <td>0.087718</td>\n",
              "      <td>40.599858</td>\n",
              "      <td>-1.457520</td>\n",
              "    </tr>\n",
              "    <tr>\n",
              "      <th>3</th>\n",
              "      <td>3</td>\n",
              "      <td>0.242266</td>\n",
              "      <td>39.281919</td>\n",
              "      <td>0.688872</td>\n",
              "    </tr>\n",
              "    <tr>\n",
              "      <th>4</th>\n",
              "      <td>4</td>\n",
              "      <td>0.256444</td>\n",
              "      <td>40.626491</td>\n",
              "      <td>-0.866604</td>\n",
              "    </tr>\n",
              "  </tbody>\n",
              "</table>\n",
              "</div>\n",
              "      <button class=\"colab-df-convert\" onclick=\"convertToInteractive('df-911044fc-ef33-4a2d-b7c6-b7c3a70e30d2')\"\n",
              "              title=\"Convert this dataframe to an interactive table.\"\n",
              "              style=\"display:none;\">\n",
              "        \n",
              "  <svg xmlns=\"http://www.w3.org/2000/svg\" height=\"24px\"viewBox=\"0 0 24 24\"\n",
              "       width=\"24px\">\n",
              "    <path d=\"M0 0h24v24H0V0z\" fill=\"none\"/>\n",
              "    <path d=\"M18.56 5.44l.94 2.06.94-2.06 2.06-.94-2.06-.94-.94-2.06-.94 2.06-2.06.94zm-11 1L8.5 8.5l.94-2.06 2.06-.94-2.06-.94L8.5 2.5l-.94 2.06-2.06.94zm10 10l.94 2.06.94-2.06 2.06-.94-2.06-.94-.94-2.06-.94 2.06-2.06.94z\"/><path d=\"M17.41 7.96l-1.37-1.37c-.4-.4-.92-.59-1.43-.59-.52 0-1.04.2-1.43.59L10.3 9.45l-7.72 7.72c-.78.78-.78 2.05 0 2.83L4 21.41c.39.39.9.59 1.41.59.51 0 1.02-.2 1.41-.59l7.78-7.78 2.81-2.81c.8-.78.8-2.07 0-2.86zM5.41 20L4 18.59l7.72-7.72 1.47 1.35L5.41 20z\"/>\n",
              "  </svg>\n",
              "      </button>\n",
              "      \n",
              "  <style>\n",
              "    .colab-df-container {\n",
              "      display:flex;\n",
              "      flex-wrap:wrap;\n",
              "      gap: 12px;\n",
              "    }\n",
              "\n",
              "    .colab-df-convert {\n",
              "      background-color: #E8F0FE;\n",
              "      border: none;\n",
              "      border-radius: 50%;\n",
              "      cursor: pointer;\n",
              "      display: none;\n",
              "      fill: #1967D2;\n",
              "      height: 32px;\n",
              "      padding: 0 0 0 0;\n",
              "      width: 32px;\n",
              "    }\n",
              "\n",
              "    .colab-df-convert:hover {\n",
              "      background-color: #E2EBFA;\n",
              "      box-shadow: 0px 1px 2px rgba(60, 64, 67, 0.3), 0px 1px 3px 1px rgba(60, 64, 67, 0.15);\n",
              "      fill: #174EA6;\n",
              "    }\n",
              "\n",
              "    [theme=dark] .colab-df-convert {\n",
              "      background-color: #3B4455;\n",
              "      fill: #D2E3FC;\n",
              "    }\n",
              "\n",
              "    [theme=dark] .colab-df-convert:hover {\n",
              "      background-color: #434B5C;\n",
              "      box-shadow: 0px 1px 3px 1px rgba(0, 0, 0, 0.15);\n",
              "      filter: drop-shadow(0px 1px 2px rgba(0, 0, 0, 0.3));\n",
              "      fill: #FFFFFF;\n",
              "    }\n",
              "  </style>\n",
              "\n",
              "      <script>\n",
              "        const buttonEl =\n",
              "          document.querySelector('#df-911044fc-ef33-4a2d-b7c6-b7c3a70e30d2 button.colab-df-convert');\n",
              "        buttonEl.style.display =\n",
              "          google.colab.kernel.accessAllowed ? 'block' : 'none';\n",
              "\n",
              "        async function convertToInteractive(key) {\n",
              "          const element = document.querySelector('#df-911044fc-ef33-4a2d-b7c6-b7c3a70e30d2');\n",
              "          const dataTable =\n",
              "            await google.colab.kernel.invokeFunction('convertToInteractive',\n",
              "                                                     [key], {});\n",
              "          if (!dataTable) return;\n",
              "\n",
              "          const docLinkHtml = 'Like what you see? Visit the ' +\n",
              "            '<a target=\"_blank\" href=https://colab.research.google.com/notebooks/data_table.ipynb>data table notebook</a>'\n",
              "            + ' to learn more about interactive tables.';\n",
              "          element.innerHTML = '';\n",
              "          dataTable['output_type'] = 'display_data';\n",
              "          await google.colab.output.renderOutput(dataTable, element);\n",
              "          const docLink = document.createElement('div');\n",
              "          docLink.innerHTML = docLinkHtml;\n",
              "          element.appendChild(docLink);\n",
              "        }\n",
              "      </script>\n",
              "    </div>\n",
              "  </div>\n",
              "  "
            ]
          },
          "metadata": {},
          "execution_count": 182
        }
      ]
    },
    {
      "cell_type": "code",
      "source": [
        "plot_simulated_data(data_monod)"
      ],
      "metadata": {
        "colab": {
          "base_uri": "https://localhost:8080/",
          "height": 343
        },
        "id": "4QhrgLJGIwYu",
        "outputId": "6601008b-1cbd-4bfc-a4a7-c48745d58652"
      },
      "execution_count": 183,
      "outputs": [
        {
          "output_type": "display_data",
          "data": {
            "text/plain": [
              "<Figure size 720x360 with 1 Axes>"
            ],
            "image/png": "[encoded data removed]"
          },
          "metadata": {
            "needs_background": "light"
          }
        }
      ]
    },
    {
      "cell_type": "code",
      "source": [
        "plot_simulated_data(data_inhibition)"
      ],
      "metadata": {
        "colab": {
          "base_uri": "https://localhost:8080/",
          "height": 343
        },
        "id": "V2kjlDCGIzWL",
        "outputId": "af0ea92b-10f1-4f07-e5af-8ec81dfdcad1"
      },
      "execution_count": 184,
      "outputs": [
        {
          "output_type": "display_data",
          "data": {
            "text/plain": [
              "<Figure size 720x360 with 1 Axes>"
            ],
            "image/png": "[encoded data removed]"
          },
          "metadata": {
            "needs_background": "light"
          }
        }
      ]
    },
    {
      "cell_type": "code",
      "source": [],
      "metadata": {
        "id": "AHHusGI0bYVl"
      },
      "execution_count": 185,
      "outputs": []
    },
    {
      "cell_type": "code",
      "source": [
        "fitness_function_monod([mu_max, yxs, ks, ypx])"
      ],
      "metadata": {
        "colab": {
          "base_uri": "https://localhost:8080/"
        },
        "id": "sAxEhud4ihDo",
        "outputId": "7be1d098-66f6-4afa-f4cb-dc6a8dc0bec3"
      },
      "execution_count": 188,
      "outputs": [
        {
          "output_type": "execute_result",
          "data": {
            "text/plain": [
              "1.9774320482289816"
            ]
          },
          "metadata": {},
          "execution_count": 188
        }
      ]
    },
    {
      "cell_type": "code",
      "source": [
        "fitness_function_inhibition([mu_max, yxs, ks, ypx, ki])"
      ],
      "metadata": {
        "colab": {
          "base_uri": "https://localhost:8080/"
        },
        "id": "Atm_orc4JM5Q",
        "outputId": "3709fd82-95b5-4f3b-c9e7-330e19c821e6"
      },
      "execution_count": 189,
      "outputs": [
        {
          "output_type": "execute_result",
          "data": {
            "text/plain": [
              "2.221335566886478"
            ]
          },
          "metadata": {},
          "execution_count": 189
        }
      ]
    },
    {
      "cell_type": "markdown",
      "source": [
        "# Monod"
      ],
      "metadata": {
        "id": "7xRsMJz_KUe1"
      }
    },
    {
      "cell_type": "code",
      "source": [
        "# Establecer los rangos de busqueda para las variables de decision\n",
        "varbound_monod=np.array([\n",
        "    [0,3], # mu_max\n",
        "    [0,1], # yxs\n",
        "    [100,300], # ks\n",
        "    [0,10] # ypx\n",
        "])"
      ],
      "metadata": {
        "id": "bbjlT17vikMy"
      },
      "execution_count": 214,
      "outputs": []
    },
    {
      "cell_type": "code",
      "source": [
        "model_monod=ga(function=fitness_function_monod,\n",
        "         dimension=4,\n",
        "         variable_type='real',\n",
        "         variable_boundaries=varbound_monod,\n",
        "         algorithm_parameters=algorithm_param)"
      ],
      "metadata": {
        "id": "LUmKwGAEMQbt"
      },
      "execution_count": 215,
      "outputs": []
    },
    {
      "cell_type": "code",
      "source": [
        "best_function_monod = []\n",
        "best_values_monod = np.zeros((5, varbound_monod.shape[0]))\n",
        "# Realizar la busqueda\n",
        "start_time = clock()\n",
        "for i in range(5):\n",
        "    model_monod.run()\n",
        "    best_function_monod.append(model_monod.best_function)\n",
        "    best_values_monod[i,:] = model_monod.best_variable\n",
        "end_time = clock()"
      ],
      "metadata": {
        "colab": {
          "base_uri": "https://localhost:8080/",
          "height": 1000
        },
        "id": "21v4_-5Qine8",
        "outputId": "f4bc28cf-44e9-4ae6-8bd2-e24c1f37adcc"
      },
      "execution_count": 216,
      "outputs": [
        {
          "output_type": "stream",
          "name": "stdout",
          "text": [
            " The best solution found:\n",
            " [1.06356492e+00 2.27124379e-01 2.36541125e+02 3.49272459e+00]\n",
            "\n",
            " Objective function:\n",
            " 2.6991456943090615\n"
          ]
        },
        {
          "output_type": "display_data",
          "data": {
            "text/plain": [
              "<Figure size 432x288 with 1 Axes>"
            ],
            "image/png": "[encoded data removed]"
          },
          "metadata": {
            "needs_background": "light"
          }
        },
        {
          "output_type": "stream",
          "name": "stdout",
          "text": [
            " The best solution found:\n",
            " [  0.79530215   0.18826175 178.99425115   4.23926242]\n",
            "\n",
            " Objective function:\n",
            " 2.0968567983633064\n"
          ]
        },
        {
          "output_type": "display_data",
          "data": {
            "text/plain": [
              "<Figure size 432x288 with 1 Axes>"
            ],
            "image/png": "[encoded data removed]"
          },
          "metadata": {
            "needs_background": "light"
          }
        },
        {
          "output_type": "stream",
          "name": "stdout",
          "text": [
            " The best solution found:\n",
            " [1.18467917e+00 2.27034578e-01 2.64778188e+02 3.47069026e+00]\n",
            "\n",
            " Objective function:\n",
            " 2.7493492783234688\n"
          ]
        },
        {
          "output_type": "display_data",
          "data": {
            "text/plain": [
              "<Figure size 432x288 with 1 Axes>"
            ],
            "image/png": "[encoded data removed]"
          },
          "metadata": {
            "needs_background": "light"
          }
        },
        {
          "output_type": "stream",
          "name": "stdout",
          "text": [
            " The best solution found:\n",
            " [1.27961163e+00 1.97929547e-01 2.99883809e+02 4.03544857e+00]\n",
            "\n",
            " Objective function:\n",
            " 2.0066220371185604\n"
          ]
        },
        {
          "output_type": "display_data",
          "data": {
            "text/plain": [
              "<Figure size 432x288 with 1 Axes>"
            ],
            "image/png": "[encoded data removed]"
          },
          "metadata": {
            "needs_background": "light"
          }
        },
        {
          "output_type": "stream",
          "name": "stdout",
          "text": [
            " The best solution found:\n",
            " [1.18886072e+00 1.85005592e-01 2.83944402e+02 4.29103269e+00]\n",
            "\n",
            " Objective function:\n",
            " 2.1755569337649905\n"
          ]
        },
        {
          "output_type": "display_data",
          "data": {
            "text/plain": [
              "<Figure size 432x288 with 1 Axes>"
            ],
            "image/png": "[encoded data removed]"
          },
          "metadata": {
            "needs_background": "light"
          }
        }
      ]
    },
    {
      "cell_type": "code",
      "source": [
        "total_time = end_time - start_time\n",
        "print(f\"Total time: {total_time:.3f}s\")"
      ],
      "metadata": {
        "colab": {
          "base_uri": "https://localhost:8080/"
        },
        "id": "3sHh6U-9z6Kw",
        "outputId": "76381d05-0841-4b99-f261-514912a5a9f6"
      },
      "execution_count": 217,
      "outputs": [
        {
          "output_type": "stream",
          "name": "stdout",
          "text": [
            "Total time: 80.139s\n"
          ]
        }
      ]
    },
    {
      "cell_type": "code",
      "source": [
        "print(\"Minimun fitness value:\")\n",
        "for best_function in best_function_monod:\n",
        "    print(best_function)"
      ],
      "metadata": {
        "colab": {
          "base_uri": "https://localhost:8080/"
        },
        "id": "rMUgLVttioz9",
        "outputId": "abbc10b7-4cca-4986-9527-45494812b769"
      },
      "execution_count": 218,
      "outputs": [
        {
          "output_type": "stream",
          "name": "stdout",
          "text": [
            "Minimun fitness value:\n",
            "2.6991456943090615\n",
            "2.0968567983633064\n",
            "2.7493492783234688\n",
            "2.0066220371185604\n",
            "2.1755569337649905\n"
          ]
        }
      ]
    },
    {
      "cell_type": "code",
      "source": [
        "print(\"Average minimum function value:\", np.mean(best_function_monod))"
      ],
      "metadata": {
        "id": "9Cuqg-oqcCh4",
        "outputId": "f03fd809-ec56-4f58-f79f-8491646bac61",
        "colab": {
          "base_uri": "https://localhost:8080/"
        }
      },
      "execution_count": 219,
      "outputs": [
        {
          "output_type": "stream",
          "name": "stdout",
          "text": [
            "Average minimum function value: 2.3455061483758777\n"
          ]
        }
      ]
    },
    {
      "cell_type": "code",
      "source": [
        "print('Best solution found:')\n",
        "for best_variables in best_values_monod: \n",
        "    print(best_variables)"
      ],
      "metadata": {
        "colab": {
          "base_uri": "https://localhost:8080/"
        },
        "id": "wEqcy-jPiqix",
        "outputId": "d835f7aa-bc59-45f5-d390-28ba082a3123"
      },
      "execution_count": 220,
      "outputs": [
        {
          "output_type": "stream",
          "name": "stdout",
          "text": [
            "Best solution found:\n",
            "[1.06356492e+00 2.27124379e-01 2.36541125e+02 3.49272459e+00]\n",
            "[  0.79530215   0.18826175 178.99425115   4.23926242]\n",
            "[1.18467917e+00 2.27034578e-01 2.64778188e+02 3.47069026e+00]\n",
            "[1.27961163e+00 1.97929547e-01 2.99883809e+02 4.03544857e+00]\n",
            "[1.18886072e+00 1.85005592e-01 2.83944402e+02 4.29103269e+00]\n"
          ]
        }
      ]
    },
    {
      "cell_type": "code",
      "source": [
        "stats_monod = calculate_stats(best_values_monod)"
      ],
      "metadata": {
        "id": "NjDvhm6IVxhv"
      },
      "execution_count": 221,
      "outputs": []
    },
    {
      "cell_type": "code",
      "source": [
        "for stats in stats_monod:\n",
        "    print(stats)"
      ],
      "metadata": {
        "colab": {
          "base_uri": "https://localhost:8080/"
        },
        "id": "cAxO_dIoYEuc",
        "outputId": "caf655ec-c4ad-48ef-ab7a-1ee4f18640c3"
      },
      "execution_count": 222,
      "outputs": [
        {
          "output_type": "stream",
          "name": "stdout",
          "text": [
            "(1.1024037163581515, 0.16820614094768865, 0.9549645331245099, 1.249842899591793)\n",
            "(0.205071169289385, 0.018465763467697068, 0.18888521396026547, 0.22125712461850455)\n",
            "(252.82835504126896, 42.52521929136845, 215.55335685258353, 290.1033532299544)\n",
            "(3.9058317060016905, 0.35675255888663937, 3.5931243006572218, 4.218539111346159)\n"
          ]
        }
      ]
    },
    {
      "cell_type": "markdown",
      "source": [
        "mu_max = 1.2  g/L\n",
        "\n",
        "yxs = 0.2 \n",
        "\n",
        "ks = 280  g/L\n",
        "\n",
        "ypx = 4 "
      ],
      "metadata": {
        "id": "F56BEngoiuUB"
      }
    },
    {
      "cell_type": "markdown",
      "source": [
        "# Inhibition model"
      ],
      "metadata": {
        "id": "3qjqpqT_FyZ9"
      }
    },
    {
      "cell_type": "code",
      "source": [
        "# Establecer los rangos de busqueda para las variables de decision\n",
        "varbound_inhibition=np.array([\n",
        "    [0,3], # mu_max\n",
        "    [0,1], # yxs\n",
        "    [100,300], # ks\n",
        "    [0,10], # ypx\n",
        "    [0, 1] # ki\n",
        "])"
      ],
      "metadata": {
        "id": "aWPmAEjCF0xc"
      },
      "execution_count": 223,
      "outputs": []
    },
    {
      "cell_type": "code",
      "source": [
        "model_inhibition=ga(function=fitness_function_inhibition,\n",
        "         dimension=5,\n",
        "         variable_type='real',\n",
        "         variable_boundaries=varbound_inhibition,\n",
        "         algorithm_parameters=algorithm_param)"
      ],
      "metadata": {
        "id": "jRGhYK4YLIFw"
      },
      "execution_count": 224,
      "outputs": []
    },
    {
      "cell_type": "code",
      "source": [
        "best_function_inhibition = []\n",
        "best_values_inhibition = np.zeros((5, varbound_inhibition.shape[0]))\n",
        "# Realizar la busqueda\n",
        "start_time = clock()\n",
        "for i in range(5):\n",
        "    model_inhibition.run()\n",
        "    best_function_inhibition.append(model_inhibition.best_function)\n",
        "    best_values_inhibition[i,:] = model_inhibition.best_variable\n",
        "end_time = clock()"
      ],
      "metadata": {
        "colab": {
          "base_uri": "https://localhost:8080/",
          "height": 1000
        },
        "id": "2kvh-2BUYpsM",
        "outputId": "1332f824-602f-46e5-d92e-53757f385753"
      },
      "execution_count": 225,
      "outputs": [
        {
          "output_type": "stream",
          "name": "stdout",
          "text": [
            " The best solution found:\n",
            " [1.49311141e+00 1.14626466e-01 2.51743689e+02 6.73456126e+00\n",
            " 6.21721812e-01]\n",
            "\n",
            " Objective function:\n",
            " 3.60719920116721\n"
          ]
        },
        {
          "output_type": "display_data",
          "data": {
            "text/plain": [
              "<Figure size 432x288 with 1 Axes>"
            ],
            "image/png": "[encoded data removed]"
          },
          "metadata": {
            "needs_background": "light"
          }
        },
        {
          "output_type": "stream",
          "name": "stdout",
          "text": [
            " The best solution found:\n",
            " [1.03993145e+00 1.51287248e-01 2.24166260e+02 5.08756893e+00\n",
            " 3.14283688e-01]\n",
            "\n",
            " Objective function:\n",
            " 2.660325453251373\n"
          ]
        },
        {
          "output_type": "display_data",
          "data": {
            "text/plain": [
              "<Figure size 432x288 with 1 Axes>"
            ],
            "image/png": "[encoded data removed]"
          },
          "metadata": {
            "needs_background": "light"
          }
        },
        {
          "output_type": "stream",
          "name": "stdout",
          "text": [
            " The best solution found:\n",
            " [  0.76876261   0.2589594  151.21279745   3.10293463   0.17899029]\n",
            "\n",
            " Objective function:\n",
            " 3.271611034034637\n"
          ]
        },
        {
          "output_type": "display_data",
          "data": {
            "text/plain": [
              "<Figure size 432x288 with 1 Axes>"
            ],
            "image/png": "[encoded data removed]"
          },
          "metadata": {
            "needs_background": "light"
          }
        },
        {
          "output_type": "stream",
          "name": "stdout",
          "text": [
            " The best solution found:\n",
            " [  0.80258826   0.1827495  179.89128404   4.4842784    0.21043622]\n",
            "\n",
            " Objective function:\n",
            " 2.4078143972048567\n"
          ]
        },
        {
          "output_type": "display_data",
          "data": {
            "text/plain": [
              "<Figure size 432x288 with 1 Axes>"
            ],
            "image/png": "[encoded data removed]"
          },
          "metadata": {
            "needs_background": "light"
          }
        },
        {
          "output_type": "stream",
          "name": "stdout",
          "text": [
            " The best solution found:\n",
            " [7.00317961e-01 1.62972418e-01 1.74089861e+02 4.82804687e+00\n",
            " 1.75822236e-01]\n",
            "\n",
            " Objective function:\n",
            " 2.5716601049903294\n"
          ]
        },
        {
          "output_type": "display_data",
          "data": {
            "text/plain": [
              "<Figure size 432x288 with 1 Axes>"
            ],
            "image/png": "[encoded data removed]"
          },
          "metadata": {
            "needs_background": "light"
          }
        }
      ]
    },
    {
      "cell_type": "code",
      "source": [
        "total_time_inhibition = end_time - start_time\n",
        "print(f\"Total time: {total_time_inhibition:.3f}s\")"
      ],
      "metadata": {
        "colab": {
          "base_uri": "https://localhost:8080/"
        },
        "id": "EdwBifYtYwb7",
        "outputId": "b152873d-2456-455d-edba-1f0ed845e85d"
      },
      "execution_count": 226,
      "outputs": [
        {
          "output_type": "stream",
          "name": "stdout",
          "text": [
            "Total time: 73.510s\n"
          ]
        }
      ]
    },
    {
      "cell_type": "code",
      "source": [
        "print(\"Minimun fitness value:\")\n",
        "for best_function in best_function_inhibition:\n",
        "    print(best_function)"
      ],
      "metadata": {
        "colab": {
          "base_uri": "https://localhost:8080/"
        },
        "id": "3NTw25luY9oB",
        "outputId": "37c10c2e-b7a0-41f5-bed4-727aea1a7c50"
      },
      "execution_count": 227,
      "outputs": [
        {
          "output_type": "stream",
          "name": "stdout",
          "text": [
            "Minimun fitness value:\n",
            "3.60719920116721\n",
            "2.660325453251373\n",
            "3.271611034034637\n",
            "2.4078143972048567\n",
            "2.5716601049903294\n"
          ]
        }
      ]
    },
    {
      "cell_type": "code",
      "source": [
        "print(\"Average minimum function value:\", np.mean(best_function_inhibition))"
      ],
      "metadata": {
        "id": "7Oo8L0-zcX92",
        "outputId": "927b2411-ba74-4cec-e759-aa817f896b71",
        "colab": {
          "base_uri": "https://localhost:8080/"
        }
      },
      "execution_count": 228,
      "outputs": [
        {
          "output_type": "stream",
          "name": "stdout",
          "text": [
            "Average minimum function value: 2.9037220381296813\n"
          ]
        }
      ]
    },
    {
      "cell_type": "code",
      "source": [
        "print('Best solution found:')\n",
        "for best_variables in best_values_inhibition: \n",
        "    print(best_variables)"
      ],
      "metadata": {
        "colab": {
          "base_uri": "https://localhost:8080/"
        },
        "id": "tiz55wTWZAyy",
        "outputId": "a229aca9-86b0-4326-9f28-4c7ff3b40a48"
      },
      "execution_count": 229,
      "outputs": [
        {
          "output_type": "stream",
          "name": "stdout",
          "text": [
            "Best solution found:\n",
            "[1.49311141e+00 1.14626466e-01 2.51743689e+02 6.73456126e+00\n",
            " 6.21721812e-01]\n",
            "[1.03993145e+00 1.51287248e-01 2.24166260e+02 5.08756893e+00\n",
            " 3.14283688e-01]\n",
            "[  0.76876261   0.2589594  151.21279745   3.10293463   0.17899029]\n",
            "[  0.80258826   0.1827495  179.89128404   4.4842784    0.21043622]\n",
            "[7.00317961e-01 1.62972418e-01 1.74089861e+02 4.82804687e+00\n",
            " 1.75822236e-01]\n"
          ]
        }
      ]
    },
    {
      "cell_type": "code",
      "source": [
        "stats_inhibition = calculate_stats(best_values_inhibition)"
      ],
      "metadata": {
        "id": "PFsbgmCfZG54"
      },
      "execution_count": 230,
      "outputs": []
    },
    {
      "cell_type": "code",
      "source": [
        "for stats in stats_inhibition:\n",
        "    print(stats)"
      ],
      "metadata": {
        "colab": {
          "base_uri": "https://localhost:8080/"
        },
        "id": "z_bveUIXZOOZ",
        "outputId": "6547bd3d-4316-433f-9191-dd172ab1a34c"
      },
      "execution_count": 231,
      "outputs": [
        {
          "output_type": "stream",
          "name": "stdout",
          "text": [
            "(0.9609423388436295, 0.28961261470414873, 0.7070856893446162, 1.2147989883426427)\n",
            "(0.1741190053759139, 0.04786914527290684, 0.1321598495367412, 0.2160781612150866)\n",
            "(196.22077828882328, 36.45789839875225, 164.2640213473581, 228.17753523028847)\n",
            "(4.847478018363491, 1.1657143712355005, 3.8256843204025373, 5.8692717163244446)\n",
            "(0.3002508496669936, 0.16840057609263184, 0.15264123651443934, 0.4478604628195479)\n"
          ]
        }
      ]
    },
    {
      "cell_type": "markdown",
      "source": [
        "mu_max = 1.2  g/L\n",
        "\n",
        "yxs = 0.2 \n",
        "\n",
        "ks = 280  g/L\n",
        "\n",
        "ypx = 4 \n",
        "\n",
        "ki = 0.3 L/g"
      ],
      "metadata": {
        "id": "7ruFgtycZWeu"
      }
    }
  ]
}