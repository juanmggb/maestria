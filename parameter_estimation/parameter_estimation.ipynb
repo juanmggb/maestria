{
  "nbformat": 4,
  "nbformat_minor": 0,
  "metadata": {
    "colab": {
      "provenance": [],
      "authorship_tag": "ABX9TyOw9yxRprvGJlShB+3dtews",
      "include_colab_link": true
    },
    "kernelspec": {
      "name": "python3",
      "display_name": "Python 3"
    },
    "language_info": {
      "name": "python"
    },
    "gpuClass": "standard"
  },
  "cells": [
    {
      "cell_type": "markdown",
      "metadata": {
        "id": "view-in-github",
        "colab_type": "text"
      },
      "source": [
        "<a href=\"https://colab.research.google.com/github/juanmggb/maestria/blob/main/parameter_estimation/parameter_estimation.ipynb\" target=\"_parent\"><img src=\"https://colab.research.google.com/assets/colab-badge.svg\" alt=\"Open In Colab\"/></a>"
      ]
    },
    {
      "cell_type": "code",
      "source": [
        "pip install pyDOE"
      ],
      "metadata": {
        "id": "CUwbbK2et1Re",
        "colab": {
          "base_uri": "https://localhost:8080/"
        },
        "outputId": "91807a2a-af7f-4ce1-df32-bf750f8ddddf"
      },
      "execution_count": 1,
      "outputs": [
        {
          "output_type": "stream",
          "name": "stdout",
          "text": [
            "Looking in indexes: https://pypi.org/simple, https://us-python.pkg.dev/colab-wheels/public/simple/\n",
            "Collecting pyDOE\n",
            "  Downloading pyDOE-0.3.8.zip (22 kB)\n",
            "  Preparing metadata (setup.py) ... \u001b[?25l\u001b[?25hdone\n",
            "Requirement already satisfied: numpy in /usr/local/lib/python3.8/dist-packages (from pyDOE) (1.21.6)\n",
            "Requirement already satisfied: scipy in /usr/local/lib/python3.8/dist-packages (from pyDOE) (1.7.3)\n",
            "Building wheels for collected packages: pyDOE\n",
            "  Building wheel for pyDOE (setup.py) ... \u001b[?25l\u001b[?25hdone\n",
            "  Created wheel for pyDOE: filename=pyDOE-0.3.8-py3-none-any.whl size=18184 sha256=6c887ddb82dd83af249ffbf7038109e083485faac4e1967d4e27848c77543445\n",
            "  Stored in directory: /root/.cache/pip/wheels/00/3e/fa/5705bf59c2053c17c4799c3ab66a2e356c32f40a3044fe2134\n",
            "Successfully built pyDOE\n",
            "Installing collected packages: pyDOE\n",
            "Successfully installed pyDOE-0.3.8\n"
          ]
        }
      ]
    },
    {
      "cell_type": "code",
      "source": [
        "pip install geneticalgorithm"
      ],
      "metadata": {
        "id": "jDVmmQzRh1G-",
        "colab": {
          "base_uri": "https://localhost:8080/"
        },
        "outputId": "a9afa8ee-ce08-416d-96e7-eb41852ce911"
      },
      "execution_count": 2,
      "outputs": [
        {
          "output_type": "stream",
          "name": "stdout",
          "text": [
            "Looking in indexes: https://pypi.org/simple, https://us-python.pkg.dev/colab-wheels/public/simple/\n",
            "Collecting geneticalgorithm\n",
            "  Downloading geneticalgorithm-1.0.2-py3-none-any.whl (16 kB)\n",
            "Collecting func-timeout\n",
            "  Downloading func_timeout-4.3.5.tar.gz (44 kB)\n",
            "\u001b[2K     \u001b[90m━━━━━━━━━━━━━━━━━━━━━━━━━━━━━━━━━━━━━━━━\u001b[0m \u001b[32m44.3/44.3 KB\u001b[0m \u001b[31m6.0 MB/s\u001b[0m eta \u001b[36m0:00:00\u001b[0m\n",
            "\u001b[?25h  Preparing metadata (setup.py) ... \u001b[?25l\u001b[?25hdone\n",
            "Requirement already satisfied: numpy in /usr/local/lib/python3.8/dist-packages (from geneticalgorithm) (1.21.6)\n",
            "Building wheels for collected packages: func-timeout\n",
            "  Building wheel for func-timeout (setup.py) ... \u001b[?25l\u001b[?25hdone\n",
            "  Created wheel for func-timeout: filename=func_timeout-4.3.5-py3-none-any.whl size=15096 sha256=8ca03f3a5d9d9bd8580d47f569676ecf68a58cde4de261a3df49d5da435dfd77\n",
            "  Stored in directory: /root/.cache/pip/wheels/a8/92/ca/5bbab358275e310af23b73fc32ebf37d6a7a08c87c8d2cdbc1\n",
            "Successfully built func-timeout\n",
            "Installing collected packages: func-timeout, geneticalgorithm\n",
            "Successfully installed func-timeout-4.3.5 geneticalgorithm-1.0.2\n"
          ]
        }
      ]
    },
    {
      "cell_type": "code",
      "source": [
        "# Import libraries\n",
        "import numpy as np \n",
        "import matplotlib.pyplot as plt\n",
        "from geneticalgorithm import geneticalgorithm as ga\n",
        "import pandas as pd  \n",
        "import sys\n",
        "from scipy.integrate import odeint\n",
        "from time import time as clock\n",
        "import random"
      ],
      "metadata": {
        "id": "Q3ADrC4Sh1hA"
      },
      "execution_count": 3,
      "outputs": []
    },
    {
      "cell_type": "code",
      "source": [
        "# In order to access the package you need to have its path. The path required is the path WHERE that package is soterd, not it path\n",
        "# sys.path.insert(1, 'd:\\\\DYNAMICAL SIMULATION\\\\maestria\\\\maestria')"
      ],
      "metadata": {
        "id": "xqVx5VNph6-f"
      },
      "execution_count": 4,
      "outputs": []
    },
    {
      "cell_type": "code",
      "source": [
        "!git clone https://github.com/juanmggb/maestria.git"
      ],
      "metadata": {
        "colab": {
          "base_uri": "https://localhost:8080/"
        },
        "id": "SaN-Nenyh7BJ",
        "outputId": "133f300a-10ff-408d-da28-ae9b14efafa8"
      },
      "execution_count": 5,
      "outputs": [
        {
          "output_type": "stream",
          "name": "stdout",
          "text": [
            "Cloning into 'maestria'...\n",
            "remote: Enumerating objects: 339, done.\u001b[K\n",
            "remote: Counting objects: 100% (136/136), done.\u001b[K\n",
            "remote: Compressing objects: 100% (130/130), done.\u001b[K\n",
            "remote: Total 339 (delta 63), reused 18 (delta 6), pack-reused 203\u001b[K\n",
            "Receiving objects: 100% (339/339), 9.56 MiB | 6.75 MiB/s, done.\n",
            "Resolving deltas: 100% (148/148), done.\n"
          ]
        }
      ]
    },
    {
      "cell_type": "code",
      "source": [
        "cd maestria"
      ],
      "metadata": {
        "colab": {
          "base_uri": "https://localhost:8080/"
        },
        "id": "bKITSRHoh7Dw",
        "outputId": "63c25519-52af-4c89-cb3b-6ea2c7ad6410"
      },
      "execution_count": 6,
      "outputs": [
        {
          "output_type": "stream",
          "name": "stdout",
          "text": [
            "/content/maestria\n"
          ]
        }
      ]
    },
    {
      "cell_type": "code",
      "source": [
        "import utilis.functions as fn\n",
        "from utilis.models import monod_model, inhibition_model"
      ],
      "metadata": {
        "id": "nwqVar1hh7GZ"
      },
      "execution_count": 7,
      "outputs": []
    },
    {
      "cell_type": "code",
      "source": [
        "# Definir parametros \n",
        "mu_max = 1.2 # g/L\n",
        "yxs = 0.2 \n",
        "ks = 280 # g/L\n",
        "ypx = 4 \n",
        "ki = 0.3 # L/g"
      ],
      "metadata": {
        "id": "7Kmho4KGbke4"
      },
      "execution_count": 8,
      "outputs": []
    },
    {
      "cell_type": "markdown",
      "source": [
        "# I need to move this functions later"
      ],
      "metadata": {
        "id": "QXihSK68J_Jh"
      }
    },
    {
      "cell_type": "code",
      "source": [
        "def plot_simulated_data(data):\n",
        "    plt.figure(figsize=(10, 5))\n",
        "    plt.scatter(data.t, data.x, label = 'biomass')\n",
        "    plt.scatter(data.t, data.s, label = 'substrate')\n",
        "    plt.scatter(data.t, data.p, label = 'product')\n",
        "    plt.xlabel(\"Time (h)\", size = 20)\n",
        "    plt.ylabel('Concentration (g/L)', size = 20)\n",
        "    plt.grid()\n",
        "    plt.legend(fontsize=10)\n",
        "    plt.show()"
      ],
      "metadata": {
        "id": "DatXu7g1wCaB"
      },
      "execution_count": 9,
      "outputs": []
    },
    {
      "cell_type": "code",
      "source": [
        "def fitness_function_monod(parms):\n",
        "    mu_max, yxs, ks, ypx = parms\n",
        "    # Definir condiciones iniciales \n",
        "    x0 = np.array([0.2, 40, 0])\n",
        "    # Definir tiempo de integracion \n",
        "    tf = 60 \n",
        "    dt = 1 \n",
        "    time = np.arange(0, tf+dt, dt)\n",
        "    x, s, p =  odeint(monod_model, x0, time, args =(0, mu_max, yxs, ks, ypx,)).T\n",
        "    out = fn.create_df(time, x, s, p)\n",
        "    return fn.MSE(data_monod, out)"
      ],
      "metadata": {
        "id": "q7sozbc8J8No"
      },
      "execution_count": 10,
      "outputs": []
    },
    {
      "cell_type": "code",
      "source": [
        "def fitness_function_inhibition(parms):\n",
        "    mu_max, yxs, ks, ypx, ki = parms\n",
        "    # Definir condiciones iniciales \n",
        "    x0 = np.array([0.2, 40, 0])\n",
        "    # Definir tiempo de integracion \n",
        "    tf = 60 \n",
        "    dt = 1 \n",
        "    time = np.arange(0, tf+dt, dt)\n",
        "    x, s, p =  odeint(inhibition_model, x0, time, args =(0, mu_max, yxs, ks, ypx, ki, )).T\n",
        "    out = fn.create_df(time, x, s, p)\n",
        "    return fn.MSE(data_inhibition, out)"
      ],
      "metadata": {
        "id": "AQ3jw7rMKGVM"
      },
      "execution_count": 11,
      "outputs": []
    },
    {
      "cell_type": "code",
      "source": [
        "def calculate_stats(params):\n",
        "    mean_values = np.mean(params, axis=0)\n",
        "    std_values =  np.std(params, axis=0)\n",
        "    stats = []\n",
        "    for i in range(len(mean_values)):\n",
        "        mean_value = mean_values[i]\n",
        "        std_value = std_values[i]\n",
        "        lower = mean_value - 2.57*std_value/np.sqrt(params.shape[0])\n",
        "        upper = mean_value + 2.57*std_value/np.sqrt(params.shape[0])\n",
        "        stats.append((mean_value, std_value, lower, upper))\n",
        "\n",
        "    return stats"
      ],
      "metadata": {
        "id": "Kc87arVjZtvL"
      },
      "execution_count": 60,
      "outputs": []
    },
    {
      "cell_type": "code",
      "source": [
        "def plot_stats(data, real_value, y_label):\n",
        "        \n",
        "    mean = np.mean(data)\n",
        "    confidence_interval = 2.57 * np.std(data) / np.sqrt(len(data))\n",
        "\n",
        "    # Dibuja la gráfica\n",
        "    plt.errorbar(1, mean, yerr=confidence_interval, fmt=\"o\", color=\"red\", label=\"Valor promedio\")\n",
        "    plt.scatter(np.full_like(data, 2), data, label = 'Estimado')\n",
        "    plt.plot(3, real_value, \"o\", color=\"blue\", label=\"Valor real\")\n",
        "    plt.xlim(0, 4)\n",
        "    plt.xticks([1, 2, 3], [\"Valor promedio\",\"Estimado\", \"Valor real\"], size = 10)\n",
        "    plt.ylabel(y_label, size = 20)\n",
        "    plt.legend()"
      ],
      "metadata": {
        "id": "EltGkAzunuz8"
      },
      "execution_count": 64,
      "outputs": []
    },
    {
      "cell_type": "markdown",
      "source": [
        "# Load data"
      ],
      "metadata": {
        "id": "QfEoozgOJqlS"
      }
    },
    {
      "cell_type": "code",
      "source": [
        "# Load data \n",
        "data_monod = pd.read_csv(\"data/data_monod.csv\")\n",
        "data_monod.head()"
      ],
      "metadata": {
        "colab": {
          "base_uri": "https://localhost:8080/",
          "height": 206
        },
        "id": "88ZauxMrISpy",
        "outputId": "2ea3844e-5b41-4442-f241-479982e3d07b"
      },
      "execution_count": 14,
      "outputs": [
        {
          "output_type": "execute_result",
          "data": {
            "text/plain": [
              "   t         x          s         p\n",
              "0  0  0.242723  39.673568  0.320286\n",
              "1  1  0.178948  39.776111  0.085047\n",
              "2  2  0.325052  40.449577  0.366801\n",
              "3  3  0.329567  40.093182  1.454305\n",
              "4  4  0.425727  39.620962  1.313975"
            ],
            "text/html": [
              "\n",
              "  <div id=\"df-9eb4697b-7fd0-488a-8c8d-b387bece6b7d\">\n",
              "    <div class=\"colab-df-container\">\n",
              "      <div>\n",
              "<style scoped>\n",
              "    .dataframe tbody tr th:only-of-type {\n",
              "        vertical-align: middle;\n",
              "    }\n",
              "\n",
              "    .dataframe tbody tr th {\n",
              "        vertical-align: top;\n",
              "    }\n",
              "\n",
              "    .dataframe thead th {\n",
              "        text-align: right;\n",
              "    }\n",
              "</style>\n",
              "<table border=\"1\" class=\"dataframe\">\n",
              "  <thead>\n",
              "    <tr style=\"text-align: right;\">\n",
              "      <th></th>\n",
              "      <th>t</th>\n",
              "      <th>x</th>\n",
              "      <th>s</th>\n",
              "      <th>p</th>\n",
              "    </tr>\n",
              "  </thead>\n",
              "  <tbody>\n",
              "    <tr>\n",
              "      <th>0</th>\n",
              "      <td>0</td>\n",
              "      <td>0.242723</td>\n",
              "      <td>39.673568</td>\n",
              "      <td>0.320286</td>\n",
              "    </tr>\n",
              "    <tr>\n",
              "      <th>1</th>\n",
              "      <td>1</td>\n",
              "      <td>0.178948</td>\n",
              "      <td>39.776111</td>\n",
              "      <td>0.085047</td>\n",
              "    </tr>\n",
              "    <tr>\n",
              "      <th>2</th>\n",
              "      <td>2</td>\n",
              "      <td>0.325052</td>\n",
              "      <td>40.449577</td>\n",
              "      <td>0.366801</td>\n",
              "    </tr>\n",
              "    <tr>\n",
              "      <th>3</th>\n",
              "      <td>3</td>\n",
              "      <td>0.329567</td>\n",
              "      <td>40.093182</td>\n",
              "      <td>1.454305</td>\n",
              "    </tr>\n",
              "    <tr>\n",
              "      <th>4</th>\n",
              "      <td>4</td>\n",
              "      <td>0.425727</td>\n",
              "      <td>39.620962</td>\n",
              "      <td>1.313975</td>\n",
              "    </tr>\n",
              "  </tbody>\n",
              "</table>\n",
              "</div>\n",
              "      <button class=\"colab-df-convert\" onclick=\"convertToInteractive('df-9eb4697b-7fd0-488a-8c8d-b387bece6b7d')\"\n",
              "              title=\"Convert this dataframe to an interactive table.\"\n",
              "              style=\"display:none;\">\n",
              "        \n",
              "  <svg xmlns=\"http://www.w3.org/2000/svg\" height=\"24px\"viewBox=\"0 0 24 24\"\n",
              "       width=\"24px\">\n",
              "    <path d=\"M0 0h24v24H0V0z\" fill=\"none\"/>\n",
              "    <path d=\"M18.56 5.44l.94 2.06.94-2.06 2.06-.94-2.06-.94-.94-2.06-.94 2.06-2.06.94zm-11 1L8.5 8.5l.94-2.06 2.06-.94-2.06-.94L8.5 2.5l-.94 2.06-2.06.94zm10 10l.94 2.06.94-2.06 2.06-.94-2.06-.94-.94-2.06-.94 2.06-2.06.94z\"/><path d=\"M17.41 7.96l-1.37-1.37c-.4-.4-.92-.59-1.43-.59-.52 0-1.04.2-1.43.59L10.3 9.45l-7.72 7.72c-.78.78-.78 2.05 0 2.83L4 21.41c.39.39.9.59 1.41.59.51 0 1.02-.2 1.41-.59l7.78-7.78 2.81-2.81c.8-.78.8-2.07 0-2.86zM5.41 20L4 18.59l7.72-7.72 1.47 1.35L5.41 20z\"/>\n",
              "  </svg>\n",
              "      </button>\n",
              "      \n",
              "  <style>\n",
              "    .colab-df-container {\n",
              "      display:flex;\n",
              "      flex-wrap:wrap;\n",
              "      gap: 12px;\n",
              "    }\n",
              "\n",
              "    .colab-df-convert {\n",
              "      background-color: #E8F0FE;\n",
              "      border: none;\n",
              "      border-radius: 50%;\n",
              "      cursor: pointer;\n",
              "      display: none;\n",
              "      fill: #1967D2;\n",
              "      height: 32px;\n",
              "      padding: 0 0 0 0;\n",
              "      width: 32px;\n",
              "    }\n",
              "\n",
              "    .colab-df-convert:hover {\n",
              "      background-color: #E2EBFA;\n",
              "      box-shadow: 0px 1px 2px rgba(60, 64, 67, 0.3), 0px 1px 3px 1px rgba(60, 64, 67, 0.15);\n",
              "      fill: #174EA6;\n",
              "    }\n",
              "\n",
              "    [theme=dark] .colab-df-convert {\n",
              "      background-color: #3B4455;\n",
              "      fill: #D2E3FC;\n",
              "    }\n",
              "\n",
              "    [theme=dark] .colab-df-convert:hover {\n",
              "      background-color: #434B5C;\n",
              "      box-shadow: 0px 1px 3px 1px rgba(0, 0, 0, 0.15);\n",
              "      filter: drop-shadow(0px 1px 2px rgba(0, 0, 0, 0.3));\n",
              "      fill: #FFFFFF;\n",
              "    }\n",
              "  </style>\n",
              "\n",
              "      <script>\n",
              "        const buttonEl =\n",
              "          document.querySelector('#df-9eb4697b-7fd0-488a-8c8d-b387bece6b7d button.colab-df-convert');\n",
              "        buttonEl.style.display =\n",
              "          google.colab.kernel.accessAllowed ? 'block' : 'none';\n",
              "\n",
              "        async function convertToInteractive(key) {\n",
              "          const element = document.querySelector('#df-9eb4697b-7fd0-488a-8c8d-b387bece6b7d');\n",
              "          const dataTable =\n",
              "            await google.colab.kernel.invokeFunction('convertToInteractive',\n",
              "                                                     [key], {});\n",
              "          if (!dataTable) return;\n",
              "\n",
              "          const docLinkHtml = 'Like what you see? Visit the ' +\n",
              "            '<a target=\"_blank\" href=https://colab.research.google.com/notebooks/data_table.ipynb>data table notebook</a>'\n",
              "            + ' to learn more about interactive tables.';\n",
              "          element.innerHTML = '';\n",
              "          dataTable['output_type'] = 'display_data';\n",
              "          await google.colab.output.renderOutput(dataTable, element);\n",
              "          const docLink = document.createElement('div');\n",
              "          docLink.innerHTML = docLinkHtml;\n",
              "          element.appendChild(docLink);\n",
              "        }\n",
              "      </script>\n",
              "    </div>\n",
              "  </div>\n",
              "  "
            ]
          },
          "metadata": {},
          "execution_count": 14
        }
      ]
    },
    {
      "cell_type": "code",
      "source": [
        "# Load data \n",
        "data_inhibition = pd.read_csv(\"data/data_inhibition.csv\")\n",
        "data_inhibition.head()"
      ],
      "metadata": {
        "colab": {
          "base_uri": "https://localhost:8080/",
          "height": 206
        },
        "id": "oljPZ6FSIeVE",
        "outputId": "bc42232f-9ea0-486e-e0d4-d79965a66439"
      },
      "execution_count": 15,
      "outputs": [
        {
          "output_type": "execute_result",
          "data": {
            "text/plain": [
              "   t         x          s         p\n",
              "0  0  0.174614  40.745821  1.081127\n",
              "1  1 -0.060982  38.007323 -1.422682\n",
              "2  2  0.087718  40.599858 -1.457520\n",
              "3  3  0.242266  39.281919  0.688872\n",
              "4  4  0.256444  40.626491 -0.866604"
            ],
            "text/html": [
              "\n",
              "  <div id=\"df-d6959430-12b7-44bf-bda0-9da2bbad1f60\">\n",
              "    <div class=\"colab-df-container\">\n",
              "      <div>\n",
              "<style scoped>\n",
              "    .dataframe tbody tr th:only-of-type {\n",
              "        vertical-align: middle;\n",
              "    }\n",
              "\n",
              "    .dataframe tbody tr th {\n",
              "        vertical-align: top;\n",
              "    }\n",
              "\n",
              "    .dataframe thead th {\n",
              "        text-align: right;\n",
              "    }\n",
              "</style>\n",
              "<table border=\"1\" class=\"dataframe\">\n",
              "  <thead>\n",
              "    <tr style=\"text-align: right;\">\n",
              "      <th></th>\n",
              "      <th>t</th>\n",
              "      <th>x</th>\n",
              "      <th>s</th>\n",
              "      <th>p</th>\n",
              "    </tr>\n",
              "  </thead>\n",
              "  <tbody>\n",
              "    <tr>\n",
              "      <th>0</th>\n",
              "      <td>0</td>\n",
              "      <td>0.174614</td>\n",
              "      <td>40.745821</td>\n",
              "      <td>1.081127</td>\n",
              "    </tr>\n",
              "    <tr>\n",
              "      <th>1</th>\n",
              "      <td>1</td>\n",
              "      <td>-0.060982</td>\n",
              "      <td>38.007323</td>\n",
              "      <td>-1.422682</td>\n",
              "    </tr>\n",
              "    <tr>\n",
              "      <th>2</th>\n",
              "      <td>2</td>\n",
              "      <td>0.087718</td>\n",
              "      <td>40.599858</td>\n",
              "      <td>-1.457520</td>\n",
              "    </tr>\n",
              "    <tr>\n",
              "      <th>3</th>\n",
              "      <td>3</td>\n",
              "      <td>0.242266</td>\n",
              "      <td>39.281919</td>\n",
              "      <td>0.688872</td>\n",
              "    </tr>\n",
              "    <tr>\n",
              "      <th>4</th>\n",
              "      <td>4</td>\n",
              "      <td>0.256444</td>\n",
              "      <td>40.626491</td>\n",
              "      <td>-0.866604</td>\n",
              "    </tr>\n",
              "  </tbody>\n",
              "</table>\n",
              "</div>\n",
              "      <button class=\"colab-df-convert\" onclick=\"convertToInteractive('df-d6959430-12b7-44bf-bda0-9da2bbad1f60')\"\n",
              "              title=\"Convert this dataframe to an interactive table.\"\n",
              "              style=\"display:none;\">\n",
              "        \n",
              "  <svg xmlns=\"http://www.w3.org/2000/svg\" height=\"24px\"viewBox=\"0 0 24 24\"\n",
              "       width=\"24px\">\n",
              "    <path d=\"M0 0h24v24H0V0z\" fill=\"none\"/>\n",
              "    <path d=\"M18.56 5.44l.94 2.06.94-2.06 2.06-.94-2.06-.94-.94-2.06-.94 2.06-2.06.94zm-11 1L8.5 8.5l.94-2.06 2.06-.94-2.06-.94L8.5 2.5l-.94 2.06-2.06.94zm10 10l.94 2.06.94-2.06 2.06-.94-2.06-.94-.94-2.06-.94 2.06-2.06.94z\"/><path d=\"M17.41 7.96l-1.37-1.37c-.4-.4-.92-.59-1.43-.59-.52 0-1.04.2-1.43.59L10.3 9.45l-7.72 7.72c-.78.78-.78 2.05 0 2.83L4 21.41c.39.39.9.59 1.41.59.51 0 1.02-.2 1.41-.59l7.78-7.78 2.81-2.81c.8-.78.8-2.07 0-2.86zM5.41 20L4 18.59l7.72-7.72 1.47 1.35L5.41 20z\"/>\n",
              "  </svg>\n",
              "      </button>\n",
              "      \n",
              "  <style>\n",
              "    .colab-df-container {\n",
              "      display:flex;\n",
              "      flex-wrap:wrap;\n",
              "      gap: 12px;\n",
              "    }\n",
              "\n",
              "    .colab-df-convert {\n",
              "      background-color: #E8F0FE;\n",
              "      border: none;\n",
              "      border-radius: 50%;\n",
              "      cursor: pointer;\n",
              "      display: none;\n",
              "      fill: #1967D2;\n",
              "      height: 32px;\n",
              "      padding: 0 0 0 0;\n",
              "      width: 32px;\n",
              "    }\n",
              "\n",
              "    .colab-df-convert:hover {\n",
              "      background-color: #E2EBFA;\n",
              "      box-shadow: 0px 1px 2px rgba(60, 64, 67, 0.3), 0px 1px 3px 1px rgba(60, 64, 67, 0.15);\n",
              "      fill: #174EA6;\n",
              "    }\n",
              "\n",
              "    [theme=dark] .colab-df-convert {\n",
              "      background-color: #3B4455;\n",
              "      fill: #D2E3FC;\n",
              "    }\n",
              "\n",
              "    [theme=dark] .colab-df-convert:hover {\n",
              "      background-color: #434B5C;\n",
              "      box-shadow: 0px 1px 3px 1px rgba(0, 0, 0, 0.15);\n",
              "      filter: drop-shadow(0px 1px 2px rgba(0, 0, 0, 0.3));\n",
              "      fill: #FFFFFF;\n",
              "    }\n",
              "  </style>\n",
              "\n",
              "      <script>\n",
              "        const buttonEl =\n",
              "          document.querySelector('#df-d6959430-12b7-44bf-bda0-9da2bbad1f60 button.colab-df-convert');\n",
              "        buttonEl.style.display =\n",
              "          google.colab.kernel.accessAllowed ? 'block' : 'none';\n",
              "\n",
              "        async function convertToInteractive(key) {\n",
              "          const element = document.querySelector('#df-d6959430-12b7-44bf-bda0-9da2bbad1f60');\n",
              "          const dataTable =\n",
              "            await google.colab.kernel.invokeFunction('convertToInteractive',\n",
              "                                                     [key], {});\n",
              "          if (!dataTable) return;\n",
              "\n",
              "          const docLinkHtml = 'Like what you see? Visit the ' +\n",
              "            '<a target=\"_blank\" href=https://colab.research.google.com/notebooks/data_table.ipynb>data table notebook</a>'\n",
              "            + ' to learn more about interactive tables.';\n",
              "          element.innerHTML = '';\n",
              "          dataTable['output_type'] = 'display_data';\n",
              "          await google.colab.output.renderOutput(dataTable, element);\n",
              "          const docLink = document.createElement('div');\n",
              "          docLink.innerHTML = docLinkHtml;\n",
              "          element.appendChild(docLink);\n",
              "        }\n",
              "      </script>\n",
              "    </div>\n",
              "  </div>\n",
              "  "
            ]
          },
          "metadata": {},
          "execution_count": 15
        }
      ]
    },
    {
      "cell_type": "code",
      "source": [
        "plot_simulated_data(data_monod)"
      ],
      "metadata": {
        "colab": {
          "base_uri": "https://localhost:8080/",
          "height": 343
        },
        "id": "4QhrgLJGIwYu",
        "outputId": "d990a1b6-326f-4864-ba8f-a2fe5b7ef578"
      },
      "execution_count": 16,
      "outputs": [
        {
          "output_type": "display_data",
          "data": {
            "text/plain": [
              "<Figure size 720x360 with 1 Axes>"
            ],
            "image/png": "[encoded data removed]"
          },
          "metadata": {
            "needs_background": "light"
          }
        }
      ]
    },
    {
      "cell_type": "code",
      "source": [
        "plot_simulated_data(data_inhibition)"
      ],
      "metadata": {
        "colab": {
          "base_uri": "https://localhost:8080/",
          "height": 343
        },
        "id": "V2kjlDCGIzWL",
        "outputId": "90f68ab4-14f3-4ba4-8f21-66c5ad18f411"
      },
      "execution_count": 17,
      "outputs": [
        {
          "output_type": "display_data",
          "data": {
            "text/plain": [
              "<Figure size 720x360 with 1 Axes>"
            ],
            "image/png": "[encoded data removed]"
          },
          "metadata": {
            "needs_background": "light"
          }
        }
      ]
    },
    {
      "cell_type": "markdown",
      "source": [
        "# Valor de la funci{on fitness con valores corrector de los parámetros"
      ],
      "metadata": {
        "id": "BzGOlTBDxEbz"
      }
    },
    {
      "cell_type": "code",
      "source": [
        "fitness_function_monod([mu_max, yxs, ks, ypx])"
      ],
      "metadata": {
        "colab": {
          "base_uri": "https://localhost:8080/"
        },
        "id": "sAxEhud4ihDo",
        "outputId": "ad441109-0bed-498d-8883-6da030001cab"
      },
      "execution_count": 18,
      "outputs": [
        {
          "output_type": "execute_result",
          "data": {
            "text/plain": [
              "1.8223412247601742"
            ]
          },
          "metadata": {},
          "execution_count": 18
        }
      ]
    },
    {
      "cell_type": "code",
      "source": [
        "fitness_function_inhibition([mu_max, yxs, ks, ypx, ki])"
      ],
      "metadata": {
        "colab": {
          "base_uri": "https://localhost:8080/"
        },
        "id": "Atm_orc4JM5Q",
        "outputId": "9b82a0c8-eb32-41ef-d331-28a14c0f89c3"
      },
      "execution_count": 19,
      "outputs": [
        {
          "output_type": "execute_result",
          "data": {
            "text/plain": [
              "2.221335566886478"
            ]
          },
          "metadata": {},
          "execution_count": 19
        }
      ]
    },
    {
      "cell_type": "markdown",
      "source": [
        "# GA Configuration"
      ],
      "metadata": {
        "id": "IFP7zP3itm9g"
      }
    },
    {
      "cell_type": "code",
      "source": [
        "# Configuramos algoritmo genetico\n",
        "algorithm_param = {'max_num_iteration': 50,\\\n",
        "                   'population_size':50,\\\n",
        "                   'mutation_probability':0.2,\\\n",
        "                   'elit_ratio': 0.01,\\\n",
        "                   'crossover_probability': 0.8,\\\n",
        "                   'parents_portion': 0.5,\\\n",
        "                   'crossover_type':'uniform',\\\n",
        "                   'max_iteration_without_improv':None}\n",
        "runs = 5"
      ],
      "metadata": {
        "id": "81Z67UYlhXFP"
      },
      "execution_count": 73,
      "outputs": []
    },
    {
      "cell_type": "markdown",
      "source": [
        "# Monod"
      ],
      "metadata": {
        "id": "7xRsMJz_KUe1"
      }
    },
    {
      "cell_type": "code",
      "source": [
        "# Establecer los rangos de busqueda para las variables de decision\n",
        "varbound_monod=np.array([\n",
        "    [1,3], # mu_max\n",
        "    [0.05,1], # yxs\n",
        "    [200,300], # ks\n",
        "    [1,10] # ypx\n",
        "])"
      ],
      "metadata": {
        "id": "bbjlT17vikMy"
      },
      "execution_count": 21,
      "outputs": []
    },
    {
      "cell_type": "code",
      "source": [
        "model_monod=ga(function=fitness_function_monod,\n",
        "         dimension=4,\n",
        "         variable_type='real',\n",
        "         variable_boundaries=varbound_monod,\n",
        "         algorithm_parameters=algorithm_param)"
      ],
      "metadata": {
        "id": "LUmKwGAEMQbt"
      },
      "execution_count": 22,
      "outputs": []
    },
    {
      "cell_type": "code",
      "source": [
        "\n",
        "best_function_monod = []\n",
        "best_values_monod = np.zeros((runs, varbound_monod.shape[0]))\n",
        "# Realizar la busqueda\n",
        "start_time = clock()\n",
        "for i in range(runs):\n",
        "    model_monod.run()\n",
        "    best_function_monod.append(model_monod.best_function)\n",
        "    best_values_monod[i,:] = model_monod.best_variable\n",
        "end_time = clock()"
      ],
      "metadata": {
        "colab": {
          "base_uri": "https://localhost:8080/",
          "height": 1000
        },
        "id": "21v4_-5Qine8",
        "outputId": "e1b1c901-a1e7-4c21-a528-32b6ec0a3d30"
      },
      "execution_count": 74,
      "outputs": [
        {
          "output_type": "stream",
          "name": "stdout",
          "text": [
            " The best solution found:\n",
            " [1.15192671e+00 1.94781070e-01 2.71073795e+02 4.11733698e+00]\n",
            "\n",
            " Objective function:\n",
            " 1.8321326144504793\n"
          ]
        },
        {
          "output_type": "display_data",
          "data": {
            "text/plain": [
              "<Figure size 432x288 with 1 Axes>"
            ],
            "image/png": "[encoded data removed]"
          },
          "metadata": {
            "needs_background": "light"
          }
        },
        {
          "output_type": "stream",
          "name": "stdout",
          "text": [
            " The best solution found:\n",
            " [  1.02016663   0.24320003 220.78185466   3.20644575]\n",
            "\n",
            " Objective function:\n",
            " 3.3741274423350753\n"
          ]
        },
        {
          "output_type": "display_data",
          "data": {
            "text/plain": [
              "<Figure size 432x288 with 1 Axes>"
            ],
            "image/png": "[encoded data removed]"
          },
          "metadata": {
            "needs_background": "light"
          }
        },
        {
          "output_type": "stream",
          "name": "stdout",
          "text": [
            " The best solution found:\n",
            " [1.12796973e+00 1.60832954e-01 2.72546295e+02 4.67477553e+00]\n",
            "\n",
            " Objective function:\n",
            " 4.8428828184782216\n"
          ]
        },
        {
          "output_type": "display_data",
          "data": {
            "text/plain": [
              "<Figure size 432x288 with 1 Axes>"
            ],
            "image/png": "[encoded data removed]"
          },
          "metadata": {
            "needs_background": "light"
          }
        },
        {
          "output_type": "stream",
          "name": "stdout",
          "text": [
            " The best solution found:\n",
            " [1.19113153e+00 1.96603881e-01 2.91261018e+02 4.05166371e+00]\n",
            "\n",
            " Objective function:\n",
            " 2.4827499119678498\n"
          ]
        },
        {
          "output_type": "display_data",
          "data": {
            "text/plain": [
              "<Figure size 432x288 with 1 Axes>"
            ],
            "image/png": "[encoded data removed]"
          },
          "metadata": {
            "needs_background": "light"
          }
        },
        {
          "output_type": "stream",
          "name": "stdout",
          "text": [
            " The best solution found:\n",
            " [1.19341756e+00 1.71684844e-01 2.88001813e+02 4.51509145e+00]\n",
            "\n",
            " Objective function:\n",
            " 3.0037767155385264\n"
          ]
        },
        {
          "output_type": "display_data",
          "data": {
            "text/plain": [
              "<Figure size 432x288 with 1 Axes>"
            ],
            "image/png": "[encoded data removed]"
          },
          "metadata": {
            "needs_background": "light"
          }
        }
      ]
    },
    {
      "cell_type": "code",
      "source": [
        "total_time = end_time - start_time\n",
        "print(f\"Total time: {total_time:.3f}s\")"
      ],
      "metadata": {
        "colab": {
          "base_uri": "https://localhost:8080/"
        },
        "id": "3sHh6U-9z6Kw",
        "outputId": "66b5fc84-9993-480f-c40e-6ea336d36647"
      },
      "execution_count": 75,
      "outputs": [
        {
          "output_type": "stream",
          "name": "stdout",
          "text": [
            "Total time: 16.269s\n"
          ]
        }
      ]
    },
    {
      "cell_type": "code",
      "source": [
        "print(\"Minimun fitness value:\")\n",
        "for best_function in best_function_monod:\n",
        "    print(best_function)"
      ],
      "metadata": {
        "colab": {
          "base_uri": "https://localhost:8080/"
        },
        "id": "rMUgLVttioz9",
        "outputId": "29695b60-6f89-4c0a-ae52-598a028263ce"
      },
      "execution_count": 76,
      "outputs": [
        {
          "output_type": "stream",
          "name": "stdout",
          "text": [
            "Minimun fitness value:\n",
            "1.8321326144504793\n",
            "3.3741274423350753\n",
            "4.8428828184782216\n",
            "2.4827499119678498\n",
            "3.0037767155385264\n"
          ]
        }
      ]
    },
    {
      "cell_type": "code",
      "source": [
        "print(\"Average minimum function value:\", np.mean(best_function_monod))"
      ],
      "metadata": {
        "colab": {
          "base_uri": "https://localhost:8080/"
        },
        "id": "9Cuqg-oqcCh4",
        "outputId": "30c15a5f-a1ee-42da-f512-66db7259a04e"
      },
      "execution_count": 77,
      "outputs": [
        {
          "output_type": "stream",
          "name": "stdout",
          "text": [
            "Average minimum function value: 3.1071339005540306\n"
          ]
        }
      ]
    },
    {
      "cell_type": "code",
      "source": [
        "print('Best solution found:')\n",
        "for best_variables in best_values_monod: \n",
        "    print(best_variables)"
      ],
      "metadata": {
        "colab": {
          "base_uri": "https://localhost:8080/"
        },
        "id": "wEqcy-jPiqix",
        "outputId": "a98fe8b7-5808-431e-a92c-d1e426663d86"
      },
      "execution_count": 78,
      "outputs": [
        {
          "output_type": "stream",
          "name": "stdout",
          "text": [
            "Best solution found:\n",
            "[1.15192671e+00 1.94781070e-01 2.71073795e+02 4.11733698e+00]\n",
            "[  1.02016663   0.24320003 220.78185466   3.20644575]\n",
            "[1.12796973e+00 1.60832954e-01 2.72546295e+02 4.67477553e+00]\n",
            "[1.19113153e+00 1.96603881e-01 2.91261018e+02 4.05166371e+00]\n",
            "[1.19341756e+00 1.71684844e-01 2.88001813e+02 4.51509145e+00]\n"
          ]
        }
      ]
    },
    {
      "cell_type": "code",
      "source": [
        "stats_monod = calculate_stats(best_values_monod)"
      ],
      "metadata": {
        "id": "NjDvhm6IVxhv"
      },
      "execution_count": 79,
      "outputs": []
    },
    {
      "cell_type": "code",
      "source": [
        "for stats in stats_monod:\n",
        "    print(stats)"
      ],
      "metadata": {
        "colab": {
          "base_uri": "https://localhost:8080/"
        },
        "id": "cAxO_dIoYEuc",
        "outputId": "cba4f87c-cf55-4e8f-f43d-91944ac4e5de"
      },
      "execution_count": 80,
      "outputs": [
        {
          "output_type": "stream",
          "name": "stdout",
          "text": [
            "(1.1369224323265654, 0.06335222657194792, 1.0641092513641717, 1.2097356132889592)\n",
            "(0.1934205562574019, 0.028370314602550642, 0.16081344893230182, 0.22602766358250198)\n",
            "(268.73295505561487, 25.29083473686906, 239.66521385642784, 297.8006962548019)\n",
            "(4.113062681329996, 0.5104685733366259, 3.5263612721259676, 4.699764090534025)\n"
          ]
        }
      ]
    },
    {
      "cell_type": "markdown",
      "source": [
        "mu_max = 1.2  g/L\n",
        "\n",
        "yxs = 0.2 \n",
        "\n",
        "ks = 280  g/L\n",
        "\n",
        "ypx = 4 "
      ],
      "metadata": {
        "id": "F56BEngoiuUB"
      }
    },
    {
      "cell_type": "markdown",
      "source": [
        "# Inhibition model"
      ],
      "metadata": {
        "id": "3qjqpqT_FyZ9"
      }
    },
    {
      "cell_type": "code",
      "source": [
        "# Establecer los rangos de busqueda para las variables de decision\n",
        "varbound_inhibition=np.array([\n",
        "    [1,3], # mu_max\n",
        "    [0.05,1], # yxs\n",
        "    [200,300], # ks\n",
        "    [1,10], # ypx\n",
        "    [0.05,0.5] # ki\n",
        "])"
      ],
      "metadata": {
        "id": "aWPmAEjCF0xc"
      },
      "execution_count": 81,
      "outputs": []
    },
    {
      "cell_type": "code",
      "source": [
        "model_inhibition=ga(function=fitness_function_inhibition,\n",
        "         dimension=5,\n",
        "         variable_type='real',\n",
        "         variable_boundaries=varbound_inhibition,\n",
        "         algorithm_parameters=algorithm_param)"
      ],
      "metadata": {
        "id": "jRGhYK4YLIFw"
      },
      "execution_count": 82,
      "outputs": []
    },
    {
      "cell_type": "code",
      "source": [
        "best_function_inhibition = []\n",
        "best_values_inhibition = np.zeros((runs, varbound_inhibition.shape[0]))\n",
        "# Realizar la busqueda\n",
        "start_time = clock()\n",
        "for i in range(runs):\n",
        "    model_inhibition.run()\n",
        "    best_function_inhibition.append(model_inhibition.best_function)\n",
        "    best_values_inhibition[i,:] = model_inhibition.best_variable\n",
        "end_time = clock()"
      ],
      "metadata": {
        "colab": {
          "base_uri": "https://localhost:8080/",
          "height": 1000
        },
        "id": "2kvh-2BUYpsM",
        "outputId": "7f83ae1d-42ba-4dd6-a6f9-837e95503e4f"
      },
      "execution_count": 83,
      "outputs": [
        {
          "output_type": "stream",
          "name": "stdout",
          "text": [
            " The best solution found:\n",
            " [1.22162084e+00 2.50323700e-01 2.76210605e+02 3.05776820e+00\n",
            " 2.70222086e-01]\n",
            "\n",
            " Objective function:\n",
            " 2.8649923615294326\n"
          ]
        },
        {
          "output_type": "display_data",
          "data": {
            "text/plain": [
              "<Figure size 432x288 with 1 Axes>"
            ],
            "image/png": "[encoded data removed]"
          },
          "metadata": {
            "needs_background": "light"
          }
        },
        {
          "output_type": "stream",
          "name": "stdout",
          "text": [
            " The best solution found:\n",
            " [1.14330765e+00 1.76399140e-01 2.69930100e+02 4.52048058e+00\n",
            " 3.03769725e-01]\n",
            "\n",
            " Objective function:\n",
            " 2.3204072313134168\n"
          ]
        },
        {
          "output_type": "display_data",
          "data": {
            "text/plain": [
              "<Figure size 432x288 with 1 Axes>"
            ],
            "image/png": "[encoded data removed]"
          },
          "metadata": {
            "needs_background": "light"
          }
        },
        {
          "output_type": "stream",
          "name": "stdout",
          "text": [
            " The best solution found:\n",
            " [1.12340595e+00 2.12849899e-01 2.52911569e+02 3.57306378e+00\n",
            " 2.74301218e-01]\n",
            "\n",
            " Objective function:\n",
            " 2.3049677747405632\n"
          ]
        },
        {
          "output_type": "display_data",
          "data": {
            "text/plain": [
              "<Figure size 432x288 with 1 Axes>"
            ],
            "image/png": "[encoded data removed]"
          },
          "metadata": {
            "needs_background": "light"
          }
        },
        {
          "output_type": "stream",
          "name": "stdout",
          "text": [
            " The best solution found:\n",
            " [1.15845152e+00 2.09955512e-01 2.21468545e+02 3.38025658e+00\n",
            " 3.09787920e-01]\n",
            "\n",
            " Objective function:\n",
            " 3.3915237214909513\n"
          ]
        },
        {
          "output_type": "display_data",
          "data": {
            "text/plain": [
              "<Figure size 432x288 with 1 Axes>"
            ],
            "image/png": "[encoded data removed]"
          },
          "metadata": {
            "needs_background": "light"
          }
        },
        {
          "output_type": "stream",
          "name": "stdout",
          "text": [
            " The best solution found:\n",
            " [1.38611640e+00 1.58931822e-01 2.92559498e+02 4.83112633e+00\n",
            " 4.28628629e-01]\n",
            "\n",
            " Objective function:\n",
            " 2.4855544908331013\n"
          ]
        },
        {
          "output_type": "display_data",
          "data": {
            "text/plain": [
              "<Figure size 432x288 with 1 Axes>"
            ],
            "image/png": "[encoded data removed]"
          },
          "metadata": {
            "needs_background": "light"
          }
        }
      ]
    },
    {
      "cell_type": "code",
      "source": [
        "total_time_inhibition = end_time - start_time\n",
        "print(f\"Total time: {total_time_inhibition:.3f}s\")"
      ],
      "metadata": {
        "colab": {
          "base_uri": "https://localhost:8080/"
        },
        "id": "EdwBifYtYwb7",
        "outputId": "aa76dbad-3c0f-44ad-dfd1-c284dcb5e11f"
      },
      "execution_count": 84,
      "outputs": [
        {
          "output_type": "stream",
          "name": "stdout",
          "text": [
            "Total time: 16.689s\n"
          ]
        }
      ]
    },
    {
      "cell_type": "code",
      "source": [
        "print(\"Minimun fitness value:\")\n",
        "for best_function in best_function_inhibition:\n",
        "    print(best_function)"
      ],
      "metadata": {
        "colab": {
          "base_uri": "https://localhost:8080/"
        },
        "id": "3NTw25luY9oB",
        "outputId": "533d0a36-9409-470d-f41d-71db671ef409"
      },
      "execution_count": 85,
      "outputs": [
        {
          "output_type": "stream",
          "name": "stdout",
          "text": [
            "Minimun fitness value:\n",
            "2.8649923615294326\n",
            "2.3204072313134168\n",
            "2.3049677747405632\n",
            "3.3915237214909513\n",
            "2.4855544908331013\n"
          ]
        }
      ]
    },
    {
      "cell_type": "code",
      "source": [
        "print(\"Average minimum function value:\", np.mean(best_function_inhibition))"
      ],
      "metadata": {
        "colab": {
          "base_uri": "https://localhost:8080/"
        },
        "id": "7Oo8L0-zcX92",
        "outputId": "e16be88f-4f73-44bb-fd85-aa3693dbb93f"
      },
      "execution_count": 86,
      "outputs": [
        {
          "output_type": "stream",
          "name": "stdout",
          "text": [
            "Average minimum function value: 2.673489115981493\n"
          ]
        }
      ]
    },
    {
      "cell_type": "code",
      "source": [
        "print('Best solution found:')\n",
        "for best_variables in best_values_inhibition: \n",
        "    print(best_variables)"
      ],
      "metadata": {
        "colab": {
          "base_uri": "https://localhost:8080/"
        },
        "id": "tiz55wTWZAyy",
        "outputId": "47e0ca07-3f6f-4292-802f-9437d4bf9cfb"
      },
      "execution_count": 87,
      "outputs": [
        {
          "output_type": "stream",
          "name": "stdout",
          "text": [
            "Best solution found:\n",
            "[1.22162084e+00 2.50323700e-01 2.76210605e+02 3.05776820e+00\n",
            " 2.70222086e-01]\n",
            "[1.14330765e+00 1.76399140e-01 2.69930100e+02 4.52048058e+00\n",
            " 3.03769725e-01]\n",
            "[1.12340595e+00 2.12849899e-01 2.52911569e+02 3.57306378e+00\n",
            " 2.74301218e-01]\n",
            "[1.15845152e+00 2.09955512e-01 2.21468545e+02 3.38025658e+00\n",
            " 3.09787920e-01]\n",
            "[1.38611640e+00 1.58931822e-01 2.92559498e+02 4.83112633e+00\n",
            " 4.28628629e-01]\n"
          ]
        }
      ]
    },
    {
      "cell_type": "code",
      "source": [
        "stats_inhibition = calculate_stats(best_values_inhibition)"
      ],
      "metadata": {
        "id": "PFsbgmCfZG54"
      },
      "execution_count": 88,
      "outputs": []
    },
    {
      "cell_type": "code",
      "source": [
        "for stats in stats_inhibition:\n",
        "    print(stats)"
      ],
      "metadata": {
        "colab": {
          "base_uri": "https://localhost:8080/"
        },
        "id": "z_bveUIXZOOZ",
        "outputId": "c70b94f9-6ead-4e22-b9bc-bc4127e95f3d"
      },
      "execution_count": 89,
      "outputs": [
        {
          "output_type": "stream",
          "name": "stdout",
          "text": [
            "(1.2065804694789843, 0.0956004269779226, 1.0967031760310555, 1.3164577629269132)\n",
            "(0.20169201448344393, 0.031704851837350397, 0.1652523936660584, 0.23813163530082945)\n",
            "(262.61606341229316, 24.17524124292449, 234.83051725739244, 290.4016095671939)\n",
            "(3.8725390945503464, 0.6833149810960757, 3.0871785781940946, 4.657899610906598)\n",
            "(0.31734191525698857, 0.057790621702769426, 0.2509209033420539, 0.38376292717192323)\n"
          ]
        }
      ]
    },
    {
      "cell_type": "code",
      "source": [
        "plt.figure(figsize=(20,12))\n",
        "plt.subplot(2,2, 1)\n",
        "plot_stats(best_values_monod[:, 0], mu_max, \"$\\mu_{max}$\")\n",
        "plt.subplot(2,2, 2)\n",
        "plot_stats(best_values_monod[:, 1], yxs, \"$y_{xs}$\")\n",
        "plt.subplot(2,2, 3)\n",
        "plot_stats(best_values_monod[:, 2], ks, \"$k_s$\")\n",
        "plt.subplot(2,2, 4)\n",
        "plot_stats(best_values_monod[:, 3], ypx, \"$y_{px}$\")\n",
        "plt.show()"
      ],
      "metadata": {
        "colab": {
          "base_uri": "https://localhost:8080/",
          "height": 700
        },
        "id": "b9Glf79Elq-y",
        "outputId": "51b89d5f-8c2a-49a8-ca89-4784e6969401"
      },
      "execution_count": 90,
      "outputs": [
        {
          "output_type": "display_data",
          "data": {
            "text/plain": [
              "<Figure size 1440x864 with 4 Axes>"
            ],
            "image/png": "[encoded data removed]"
          },
          "metadata": {
            "needs_background": "light"
          }
        }
      ]
    },
    {
      "cell_type": "code",
      "source": [
        "plt.figure(figsize=(20,12))\n",
        "plt.subplot(2,2, 1)\n",
        "plot_stats(best_values_inhibition[:, 0], mu_max, \"$\\mu_{max}$\")\n",
        "plt.subplot(2,2, 2)\n",
        "plot_stats(best_values_inhibition[:, 1], yxs, \"$y_{xs}$\")\n",
        "plt.subplot(2,2, 3)\n",
        "plot_stats(best_values_inhibition[:, 2], ks, \"$k_s$\")\n",
        "plt.subplot(2,2, 4)\n",
        "plot_stats(best_values_inhibition[:, 3], ypx, \"$y_{px}$\")\n",
        "plt.show()"
      ],
      "metadata": {
        "id": "PWoA_j_LpLBP",
        "outputId": "2ab47b20-520b-440b-f7ca-e12989d7c16d",
        "colab": {
          "base_uri": "https://localhost:8080/",
          "height": 704
        }
      },
      "execution_count": 91,
      "outputs": [
        {
          "output_type": "display_data",
          "data": {
            "text/plain": [
              "<Figure size 1440x864 with 4 Axes>"
            ],
            "image/png": "[encoded data removed]"
          },
          "metadata": {
            "needs_background": "light"
          }
        }
      ]
    },
    {
      "cell_type": "code",
      "source": [
        "plt.figure(figsize=(9,5))\n",
        "plot_stats(best_values_inhibition[:, 4], ki, \"$k_i$\")\n",
        "plt.show()"
      ],
      "metadata": {
        "id": "Txdh1qCPpRKu",
        "outputId": "a3bb247a-005f-4642-b69d-213fc593ab5b",
        "colab": {
          "base_uri": "https://localhost:8080/",
          "height": 320
        }
      },
      "execution_count": 92,
      "outputs": [
        {
          "output_type": "display_data",
          "data": {
            "text/plain": [
              "<Figure size 648x360 with 1 Axes>"
            ],
            "image/png": "[encoded data removed]"
          },
          "metadata": {
            "needs_background": "light"
          }
        }
      ]
    }
  ]
}