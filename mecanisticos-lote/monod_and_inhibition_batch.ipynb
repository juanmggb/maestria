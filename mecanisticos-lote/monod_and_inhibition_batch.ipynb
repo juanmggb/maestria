{
  "nbformat": 4,
  "nbformat_minor": 0,
  "metadata": {
    "colab": {
      "provenance": [],
      "authorship_tag": "ABX9TyP0AijS8oCN5SoeMTKxHz9o",
      "include_colab_link": true
    },
    "kernelspec": {
      "name": "python3",
      "display_name": "Python 3"
    },
    "language_info": {
      "name": "python"
    }
  },
  "cells": [
    {
      "cell_type": "markdown",
      "metadata": {
        "id": "view-in-github",
        "colab_type": "text"
      },
      "source": [
        "<a href=\"https://colab.research.google.com/github/JuanM-GG/maestria/blob/main/mecanisticos-lote/monod_and_inhibition_batch.ipynb\" target=\"_parent\"><img src=\"https://colab.research.google.com/assets/colab-badge.svg\" alt=\"Open In Colab\"/></a>"
      ]
    },
    {
      "cell_type": "code",
      "execution_count": null,
      "metadata": {
        "id": "JG6HmBM-z_U_"
      },
      "outputs": [],
      "source": [
        "import numpy as np \n",
        "import matplotlib.pyplot as plt\n",
        "import pandas as pd"
      ]
    },
    {
      "cell_type": "code",
      "source": [
        "#@title solver\n",
        "def euler(f, x0, t0, tf, dt, u, *kargs):\n",
        "\n",
        "    \"\"\"\n",
        "    Solve a system of differential equations using the Euler method.\n",
        "    \n",
        "    Parameters:\n",
        "    f (function): The derivative function.\n",
        "    x0 (ndarray): The initial state.\n",
        "    t0 (float): The initial time.\n",
        "    tf (float): The final time.\n",
        "    dt (float): The time step.\n",
        "    u (function): The input function.\n",
        "    \n",
        "    Returns:\n",
        "    ndarray: The state at each time step.\n",
        "    \"\"\"\n",
        "    t = np.arange(t0, tf, dt)\n",
        "    x = np.zeros((len(t), len(x0)))\n",
        "    x[0, :] = x0\n",
        "    for i in range(1, len(t)):\n",
        "        # print(x[i,:])\n",
        "        x[i, :] = x[i-1, :] + dt * f(x[i-1, :], t[i-1], u(t[i-1]), *kargs)\n",
        "    return x"
      ],
      "metadata": {
        "id": "kC5rf02H0DrO",
        "cellView": "form"
      },
      "execution_count": null,
      "outputs": []
    },
    {
      "cell_type": "code",
      "source": [
        "#@title monod model\n",
        "def monod_model(y, t, u,  mu_max, yxs, ks, ypx):\n",
        "    x, s, p = y \n",
        "\n",
        "    growth_rate = mu_max*(s/(ks + s))\n",
        "\n",
        "    dx = growth_rate*x \n",
        "    ds = -1/yxs*growth_rate*x\n",
        "    dp = ypx*growth_rate*x\n",
        "\n",
        "    return np.array([dx, ds, dp])"
      ],
      "metadata": {
        "id": "f3pSNmavn2EO"
      },
      "execution_count": null,
      "outputs": []
    },
    {
      "cell_type": "code",
      "source": [
        "#@title inhibition model model\n",
        "def inhibition_model(y, t, u, mu_max, yxs, ks, ypx, ki):\n",
        "    x, s, p = y \n",
        "\n",
        "    growth_rate = mu_max*(s/(ks + s + ki*s**2))\n",
        "\n",
        "    dx = growth_rate*x \n",
        "    ds = -1/yxs*growth_rate*x\n",
        "    dp = ypx*growth_rate*x\n",
        "\n",
        "    return np.array([dx, ds, dp])"
      ],
      "metadata": {
        "id": "gtPom_59oU5B"
      },
      "execution_count": null,
      "outputs": []
    },
    {
      "cell_type": "code",
      "source": [
        "# Definir parametros \n",
        "mu_max = 1.2 # g/L\n",
        "yxs = 0.2 \n",
        "ks = 280 # g/L\n",
        "ki = 0.3 # L/g\n",
        "ypx = 4 "
      ],
      "metadata": {
        "id": "NpTqOFfun9yW"
      },
      "execution_count": null,
      "outputs": []
    },
    {
      "cell_type": "code",
      "source": [
        "# Definir condiciones iniciales \n",
        "x0 = np.array([0.2, 40, 0])\n",
        "\n",
        "# Definir tiempo de integracion \n",
        "tf = 60 \n",
        "dt = 1 \n",
        "time = np.arange(0, tf+dt, dt)\n",
        "\n",
        "# Simular ODEs\n",
        "x, s, p = euler(monod_model, x0, 0, tf+dt, dt, lambda t: 0, mu_max, yxs, ks, ypx).T"
      ],
      "metadata": {
        "id": "j57G6OFHn-Rq"
      },
      "execution_count": null,
      "outputs": []
    },
    {
      "cell_type": "code",
      "source": [
        "# Funcion para obtener concentraciones finales\n",
        "def final_conc(x, s, p):\n",
        "    return (x[-1],p[-1],s[-1])"
      ],
      "metadata": {
        "id": "REKRM8l9oBv5"
      },
      "execution_count": null,
      "outputs": []
    },
    {
      "cell_type": "code",
      "source": [
        "final_conc(x, s, p)"
      ],
      "metadata": {
        "id": "oT6x2QeloDp3",
        "outputId": "a6c6ec59-6b1f-4b2a-d95e-8a071b66e298",
        "colab": {
          "base_uri": "https://localhost:8080/"
        }
      },
      "execution_count": null,
      "outputs": [
        {
          "output_type": "execute_result",
          "data": {
            "text/plain": [
              "(8.188387294636055, 31.953549178544236, 0.0580635268197149)"
            ]
          },
          "metadata": {},
          "execution_count": 7
        }
      ]
    },
    {
      "cell_type": "code",
      "source": [
        "# Funcion para generar df con simulacion\n",
        "def generate_data(time, x, s, p):\n",
        "    predicted = {'t': [], 'x':[], 's':[], 'p':[]}\n",
        "    for i in range(len(time)):\n",
        "\n",
        "        predicted['t'].append(time[i])\n",
        "        predicted['x'].append(x[i])\n",
        "        predicted['s'].append(s[i])\n",
        "        predicted['p'].append(p[i])\n",
        "\n",
        "    predicted = pd.DataFrame(predicted)\n",
        "    return predicted"
      ],
      "metadata": {
        "id": "KpfoW2dzoFmD"
      },
      "execution_count": null,
      "outputs": []
    },
    {
      "cell_type": "code",
      "source": [
        "predicted = generate_data(time, x, s, p)\n",
        "predicted.head()"
      ],
      "metadata": {
        "id": "frD78QYcoHN2",
        "outputId": "600950c8-2070-4654-f8b0-3180c6b1efc3",
        "colab": {
          "base_uri": "https://localhost:8080/",
          "height": 206
        }
      },
      "execution_count": null,
      "outputs": [
        {
          "output_type": "execute_result",
          "data": {
            "text/plain": [
              "   t         x          s         p\n",
              "0  0  0.200000  40.000000  0.000000\n",
              "1  1  0.230000  39.850000  0.120000\n",
              "2  2  0.264387  39.678066  0.257547\n",
              "3  3  0.303765  39.481174  0.415061\n",
              "4  4  0.348812  39.255940  0.595248"
            ],
            "text/html": [
              "\n",
              "  <div id=\"df-deec8ac5-ef16-4b86-8dc1-ff1c2c252efb\">\n",
              "    <div class=\"colab-df-container\">\n",
              "      <div>\n",
              "<style scoped>\n",
              "    .dataframe tbody tr th:only-of-type {\n",
              "        vertical-align: middle;\n",
              "    }\n",
              "\n",
              "    .dataframe tbody tr th {\n",
              "        vertical-align: top;\n",
              "    }\n",
              "\n",
              "    .dataframe thead th {\n",
              "        text-align: right;\n",
              "    }\n",
              "</style>\n",
              "<table border=\"1\" class=\"dataframe\">\n",
              "  <thead>\n",
              "    <tr style=\"text-align: right;\">\n",
              "      <th></th>\n",
              "      <th>t</th>\n",
              "      <th>x</th>\n",
              "      <th>s</th>\n",
              "      <th>p</th>\n",
              "    </tr>\n",
              "  </thead>\n",
              "  <tbody>\n",
              "    <tr>\n",
              "      <th>0</th>\n",
              "      <td>0</td>\n",
              "      <td>0.200000</td>\n",
              "      <td>40.000000</td>\n",
              "      <td>0.000000</td>\n",
              "    </tr>\n",
              "    <tr>\n",
              "      <th>1</th>\n",
              "      <td>1</td>\n",
              "      <td>0.230000</td>\n",
              "      <td>39.850000</td>\n",
              "      <td>0.120000</td>\n",
              "    </tr>\n",
              "    <tr>\n",
              "      <th>2</th>\n",
              "      <td>2</td>\n",
              "      <td>0.264387</td>\n",
              "      <td>39.678066</td>\n",
              "      <td>0.257547</td>\n",
              "    </tr>\n",
              "    <tr>\n",
              "      <th>3</th>\n",
              "      <td>3</td>\n",
              "      <td>0.303765</td>\n",
              "      <td>39.481174</td>\n",
              "      <td>0.415061</td>\n",
              "    </tr>\n",
              "    <tr>\n",
              "      <th>4</th>\n",
              "      <td>4</td>\n",
              "      <td>0.348812</td>\n",
              "      <td>39.255940</td>\n",
              "      <td>0.595248</td>\n",
              "    </tr>\n",
              "  </tbody>\n",
              "</table>\n",
              "</div>\n",
              "      <button class=\"colab-df-convert\" onclick=\"convertToInteractive('df-deec8ac5-ef16-4b86-8dc1-ff1c2c252efb')\"\n",
              "              title=\"Convert this dataframe to an interactive table.\"\n",
              "              style=\"display:none;\">\n",
              "        \n",
              "  <svg xmlns=\"http://www.w3.org/2000/svg\" height=\"24px\"viewBox=\"0 0 24 24\"\n",
              "       width=\"24px\">\n",
              "    <path d=\"M0 0h24v24H0V0z\" fill=\"none\"/>\n",
              "    <path d=\"M18.56 5.44l.94 2.06.94-2.06 2.06-.94-2.06-.94-.94-2.06-.94 2.06-2.06.94zm-11 1L8.5 8.5l.94-2.06 2.06-.94-2.06-.94L8.5 2.5l-.94 2.06-2.06.94zm10 10l.94 2.06.94-2.06 2.06-.94-2.06-.94-.94-2.06-.94 2.06-2.06.94z\"/><path d=\"M17.41 7.96l-1.37-1.37c-.4-.4-.92-.59-1.43-.59-.52 0-1.04.2-1.43.59L10.3 9.45l-7.72 7.72c-.78.78-.78 2.05 0 2.83L4 21.41c.39.39.9.59 1.41.59.51 0 1.02-.2 1.41-.59l7.78-7.78 2.81-2.81c.8-.78.8-2.07 0-2.86zM5.41 20L4 18.59l7.72-7.72 1.47 1.35L5.41 20z\"/>\n",
              "  </svg>\n",
              "      </button>\n",
              "      \n",
              "  <style>\n",
              "    .colab-df-container {\n",
              "      display:flex;\n",
              "      flex-wrap:wrap;\n",
              "      gap: 12px;\n",
              "    }\n",
              "\n",
              "    .colab-df-convert {\n",
              "      background-color: #E8F0FE;\n",
              "      border: none;\n",
              "      border-radius: 50%;\n",
              "      cursor: pointer;\n",
              "      display: none;\n",
              "      fill: #1967D2;\n",
              "      height: 32px;\n",
              "      padding: 0 0 0 0;\n",
              "      width: 32px;\n",
              "    }\n",
              "\n",
              "    .colab-df-convert:hover {\n",
              "      background-color: #E2EBFA;\n",
              "      box-shadow: 0px 1px 2px rgba(60, 64, 67, 0.3), 0px 1px 3px 1px rgba(60, 64, 67, 0.15);\n",
              "      fill: #174EA6;\n",
              "    }\n",
              "\n",
              "    [theme=dark] .colab-df-convert {\n",
              "      background-color: #3B4455;\n",
              "      fill: #D2E3FC;\n",
              "    }\n",
              "\n",
              "    [theme=dark] .colab-df-convert:hover {\n",
              "      background-color: #434B5C;\n",
              "      box-shadow: 0px 1px 3px 1px rgba(0, 0, 0, 0.15);\n",
              "      filter: drop-shadow(0px 1px 2px rgba(0, 0, 0, 0.3));\n",
              "      fill: #FFFFFF;\n",
              "    }\n",
              "  </style>\n",
              "\n",
              "      <script>\n",
              "        const buttonEl =\n",
              "          document.querySelector('#df-deec8ac5-ef16-4b86-8dc1-ff1c2c252efb button.colab-df-convert');\n",
              "        buttonEl.style.display =\n",
              "          google.colab.kernel.accessAllowed ? 'block' : 'none';\n",
              "\n",
              "        async function convertToInteractive(key) {\n",
              "          const element = document.querySelector('#df-deec8ac5-ef16-4b86-8dc1-ff1c2c252efb');\n",
              "          const dataTable =\n",
              "            await google.colab.kernel.invokeFunction('convertToInteractive',\n",
              "                                                     [key], {});\n",
              "          if (!dataTable) return;\n",
              "\n",
              "          const docLinkHtml = 'Like what you see? Visit the ' +\n",
              "            '<a target=\"_blank\" href=https://colab.research.google.com/notebooks/data_table.ipynb>data table notebook</a>'\n",
              "            + ' to learn more about interactive tables.';\n",
              "          element.innerHTML = '';\n",
              "          dataTable['output_type'] = 'display_data';\n",
              "          await google.colab.output.renderOutput(dataTable, element);\n",
              "          const docLink = document.createElement('div');\n",
              "          docLink.innerHTML = docLinkHtml;\n",
              "          element.appendChild(docLink);\n",
              "        }\n",
              "      </script>\n",
              "    </div>\n",
              "  </div>\n",
              "  "
            ]
          },
          "metadata": {},
          "execution_count": 11
        }
      ]
    },
    {
      "cell_type": "code",
      "source": [
        "def plot_data(data):\n",
        "    plt.figure(figsize=(10,5))\n",
        "    plt.plot(data.t, data.x, label='x')\n",
        "    plt.plot(data.t, data.s, label='s')\n",
        "    plt.plot(data.t, data.p, label='p')\n",
        "    plt.ylabel('Concentraciones (g/L)')\n",
        "    plt.xlabel('Tiempo (h)')\n",
        "    plt.grid()\n",
        "    plt.legend()\n",
        "    plt.show()"
      ],
      "metadata": {
        "id": "99mxNmmooJo8"
      },
      "execution_count": null,
      "outputs": []
    },
    {
      "cell_type": "code",
      "source": [
        "plot_data(predicted)"
      ],
      "metadata": {
        "id": "CbontZr8oO7Z",
        "outputId": "b804ce39-fbd9-4e36-d69a-7517e0c2ae87",
        "colab": {
          "base_uri": "https://localhost:8080/",
          "height": 334
        }
      },
      "execution_count": null,
      "outputs": [
        {
          "output_type": "display_data",
          "data": {
            "text/plain": [
              "<Figure size 720x360 with 1 Axes>"
            ],
            "image/png": "[encoded data removed]"
          },
          "metadata": {
            "needs_background": "light"
          }
        }
      ]
    },
    {
      "cell_type": "code",
      "source": [
        "# Definir condiciones iniciales \n",
        "x0 = np.array([0.2, 40, 0])\n",
        "\n",
        "# Definir tiempo de integracion \n",
        "tf = 60 \n",
        "dt = 1 \n",
        "time = np.arange(0, tf+dt, dt)\n",
        "\n",
        "# Simular ODEs\n",
        "x, s, p = euler(inhibition_model, x0, 0, tf+dt, dt, lambda t: 0, mu_max, yxs, ks, ypx, ki).T"
      ],
      "metadata": {
        "id": "2rbA2ZASoQZb"
      },
      "execution_count": null,
      "outputs": []
    },
    {
      "cell_type": "code",
      "source": [
        "predicted = generate_data(time, x, s, p)\n",
        "predicted.head()"
      ],
      "metadata": {
        "id": "NFhT0EqKpQ9O",
        "outputId": "b9034eb9-b116-4ea7-b490-c3ca9ce6b3e4",
        "colab": {
          "base_uri": "https://localhost:8080/",
          "height": 206
        }
      },
      "execution_count": null,
      "outputs": [
        {
          "output_type": "execute_result",
          "data": {
            "text/plain": [
              "   t         x          s         p\n",
              "0  0  0.200000  40.000000  0.000000\n",
              "1  1  0.212000  39.940000  0.048000\n",
              "2  2  0.224725  39.876376  0.098899\n",
              "3  3  0.238219  39.808907  0.152875\n",
              "4  4  0.252529  39.737356  0.210115"
            ],
            "text/html": [
              "\n",
              "  <div id=\"df-6e6917b6-4b75-4720-b6d2-8ad9d4e3df50\">\n",
              "    <div class=\"colab-df-container\">\n",
              "      <div>\n",
              "<style scoped>\n",
              "    .dataframe tbody tr th:only-of-type {\n",
              "        vertical-align: middle;\n",
              "    }\n",
              "\n",
              "    .dataframe tbody tr th {\n",
              "        vertical-align: top;\n",
              "    }\n",
              "\n",
              "    .dataframe thead th {\n",
              "        text-align: right;\n",
              "    }\n",
              "</style>\n",
              "<table border=\"1\" class=\"dataframe\">\n",
              "  <thead>\n",
              "    <tr style=\"text-align: right;\">\n",
              "      <th></th>\n",
              "      <th>t</th>\n",
              "      <th>x</th>\n",
              "      <th>s</th>\n",
              "      <th>p</th>\n",
              "    </tr>\n",
              "  </thead>\n",
              "  <tbody>\n",
              "    <tr>\n",
              "      <th>0</th>\n",
              "      <td>0</td>\n",
              "      <td>0.200000</td>\n",
              "      <td>40.000000</td>\n",
              "      <td>0.000000</td>\n",
              "    </tr>\n",
              "    <tr>\n",
              "      <th>1</th>\n",
              "      <td>1</td>\n",
              "      <td>0.212000</td>\n",
              "      <td>39.940000</td>\n",
              "      <td>0.048000</td>\n",
              "    </tr>\n",
              "    <tr>\n",
              "      <th>2</th>\n",
              "      <td>2</td>\n",
              "      <td>0.224725</td>\n",
              "      <td>39.876376</td>\n",
              "      <td>0.098899</td>\n",
              "    </tr>\n",
              "    <tr>\n",
              "      <th>3</th>\n",
              "      <td>3</td>\n",
              "      <td>0.238219</td>\n",
              "      <td>39.808907</td>\n",
              "      <td>0.152875</td>\n",
              "    </tr>\n",
              "    <tr>\n",
              "      <th>4</th>\n",
              "      <td>4</td>\n",
              "      <td>0.252529</td>\n",
              "      <td>39.737356</td>\n",
              "      <td>0.210115</td>\n",
              "    </tr>\n",
              "  </tbody>\n",
              "</table>\n",
              "</div>\n",
              "      <button class=\"colab-df-convert\" onclick=\"convertToInteractive('df-6e6917b6-4b75-4720-b6d2-8ad9d4e3df50')\"\n",
              "              title=\"Convert this dataframe to an interactive table.\"\n",
              "              style=\"display:none;\">\n",
              "        \n",
              "  <svg xmlns=\"http://www.w3.org/2000/svg\" height=\"24px\"viewBox=\"0 0 24 24\"\n",
              "       width=\"24px\">\n",
              "    <path d=\"M0 0h24v24H0V0z\" fill=\"none\"/>\n",
              "    <path d=\"M18.56 5.44l.94 2.06.94-2.06 2.06-.94-2.06-.94-.94-2.06-.94 2.06-2.06.94zm-11 1L8.5 8.5l.94-2.06 2.06-.94-2.06-.94L8.5 2.5l-.94 2.06-2.06.94zm10 10l.94 2.06.94-2.06 2.06-.94-2.06-.94-.94-2.06-.94 2.06-2.06.94z\"/><path d=\"M17.41 7.96l-1.37-1.37c-.4-.4-.92-.59-1.43-.59-.52 0-1.04.2-1.43.59L10.3 9.45l-7.72 7.72c-.78.78-.78 2.05 0 2.83L4 21.41c.39.39.9.59 1.41.59.51 0 1.02-.2 1.41-.59l7.78-7.78 2.81-2.81c.8-.78.8-2.07 0-2.86zM5.41 20L4 18.59l7.72-7.72 1.47 1.35L5.41 20z\"/>\n",
              "  </svg>\n",
              "      </button>\n",
              "      \n",
              "  <style>\n",
              "    .colab-df-container {\n",
              "      display:flex;\n",
              "      flex-wrap:wrap;\n",
              "      gap: 12px;\n",
              "    }\n",
              "\n",
              "    .colab-df-convert {\n",
              "      background-color: #E8F0FE;\n",
              "      border: none;\n",
              "      border-radius: 50%;\n",
              "      cursor: pointer;\n",
              "      display: none;\n",
              "      fill: #1967D2;\n",
              "      height: 32px;\n",
              "      padding: 0 0 0 0;\n",
              "      width: 32px;\n",
              "    }\n",
              "\n",
              "    .colab-df-convert:hover {\n",
              "      background-color: #E2EBFA;\n",
              "      box-shadow: 0px 1px 2px rgba(60, 64, 67, 0.3), 0px 1px 3px 1px rgba(60, 64, 67, 0.15);\n",
              "      fill: #174EA6;\n",
              "    }\n",
              "\n",
              "    [theme=dark] .colab-df-convert {\n",
              "      background-color: #3B4455;\n",
              "      fill: #D2E3FC;\n",
              "    }\n",
              "\n",
              "    [theme=dark] .colab-df-convert:hover {\n",
              "      background-color: #434B5C;\n",
              "      box-shadow: 0px 1px 3px 1px rgba(0, 0, 0, 0.15);\n",
              "      filter: drop-shadow(0px 1px 2px rgba(0, 0, 0, 0.3));\n",
              "      fill: #FFFFFF;\n",
              "    }\n",
              "  </style>\n",
              "\n",
              "      <script>\n",
              "        const buttonEl =\n",
              "          document.querySelector('#df-6e6917b6-4b75-4720-b6d2-8ad9d4e3df50 button.colab-df-convert');\n",
              "        buttonEl.style.display =\n",
              "          google.colab.kernel.accessAllowed ? 'block' : 'none';\n",
              "\n",
              "        async function convertToInteractive(key) {\n",
              "          const element = document.querySelector('#df-6e6917b6-4b75-4720-b6d2-8ad9d4e3df50');\n",
              "          const dataTable =\n",
              "            await google.colab.kernel.invokeFunction('convertToInteractive',\n",
              "                                                     [key], {});\n",
              "          if (!dataTable) return;\n",
              "\n",
              "          const docLinkHtml = 'Like what you see? Visit the ' +\n",
              "            '<a target=\"_blank\" href=https://colab.research.google.com/notebooks/data_table.ipynb>data table notebook</a>'\n",
              "            + ' to learn more about interactive tables.';\n",
              "          element.innerHTML = '';\n",
              "          dataTable['output_type'] = 'display_data';\n",
              "          await google.colab.output.renderOutput(dataTable, element);\n",
              "          const docLink = document.createElement('div');\n",
              "          docLink.innerHTML = docLinkHtml;\n",
              "          element.appendChild(docLink);\n",
              "        }\n",
              "      </script>\n",
              "    </div>\n",
              "  </div>\n",
              "  "
            ]
          },
          "metadata": {},
          "execution_count": 18
        }
      ]
    },
    {
      "cell_type": "code",
      "source": [
        "plot_data(predicted)"
      ],
      "metadata": {
        "id": "A22rJk17pW4P",
        "outputId": "0936e512-e992-427d-bf63-6aa561b8ca85",
        "colab": {
          "base_uri": "https://localhost:8080/",
          "height": 334
        }
      },
      "execution_count": null,
      "outputs": [
        {
          "output_type": "display_data",
          "data": {
            "text/plain": [
              "<Figure size 720x360 with 1 Axes>"
            ],
            "image/png": "[encoded data removed]"
          },
          "metadata": {
            "needs_background": "light"
          }
        }
      ]
    },
    {
      "cell_type": "code",
      "source": [
        "final_conc(x, s, p)"
      ],
      "metadata": {
        "id": "9V4wqIoVpYzT",
        "outputId": "7084ef17-f4e5-46e6-b778-a4a3b4ab5658",
        "colab": {
          "base_uri": "https://localhost:8080/"
        }
      },
      "execution_count": null,
      "outputs": [
        {
          "output_type": "execute_result",
          "data": {
            "text/plain": [
              "(6.3250742125495965, 24.500296850198396, 9.374628937251998)"
            ]
          },
          "metadata": {},
          "execution_count": 20
        }
      ]
    },
    {
      "cell_type": "markdown",
      "source": [
        "6.639 (g/L)\t25.755 (g/L)\t7.807 (g/L)"
      ],
      "metadata": {
        "id": "zJJPnTTuphL8"
      }
    },
    {
      "cell_type": "code",
      "source": [],
      "metadata": {
        "id": "cErsr0aMpfC1"
      },
      "execution_count": null,
      "outputs": []
    }
  ]
}