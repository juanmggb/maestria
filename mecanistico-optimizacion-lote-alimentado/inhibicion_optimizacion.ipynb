{
  "nbformat": 4,
  "nbformat_minor": 0,
  "metadata": {
    "colab": {
      "provenance": [],
      "authorship_tag": "ABX9TyMhJ+34k2GEj01ygYjE167d",
      "include_colab_link": true
    },
    "kernelspec": {
      "name": "python3",
      "display_name": "Python 3"
    },
    "language_info": {
      "name": "python"
    }
  },
  "cells": [
    {
      "cell_type": "markdown",
      "metadata": {
        "id": "view-in-github",
        "colab_type": "text"
      },
      "source": [
        "<a href=\"https://colab.research.google.com/github/JuanM-GG/maestria/blob/main/mecanistico-optimizacion-lote-alimentado/inhibicion_optimizacion.ipynb\" target=\"_parent\"><img src=\"https://colab.research.google.com/assets/colab-badge.svg\" alt=\"Open In Colab\"/></a>"
      ]
    },
    {
      "cell_type": "code",
      "execution_count": 1,
      "metadata": {
        "id": "_Iu4HKQwAAV5"
      },
      "outputs": [],
      "source": [
        "# Importar modulos\n",
        "import numpy as np\n",
        "import matplotlib.pyplot as plt\n",
        "from scipy.integrate import odeint"
      ]
    },
    {
      "cell_type": "code",
      "source": [
        "def euler(f, x0, t0, tf, dt, u, *kargs):\n",
        "\n",
        "    \"\"\"\n",
        "    Solve a system of differential equations using the Euler method.\n",
        "    \n",
        "    Parameters:\n",
        "    f (function): The derivative function.\n",
        "    x0 (ndarray): The initial state.\n",
        "    t0 (float): The initial time.\n",
        "    tf (float): The final time.\n",
        "    dt (float): The time step.\n",
        "    u (function): The input function.\n",
        "    \n",
        "    Returns:\n",
        "    ndarray: The state at each time step.\n",
        "    \"\"\"\n",
        "    t = np.arange(t0, tf, dt)\n",
        "    x = np.zeros((len(t), len(x0)))\n",
        "    x[0, :] = x0\n",
        "    for i in range(1, len(t)):\n",
        "        # print(x[i,:])\n",
        "        x[i, :] = x[i-1, :] + dt * f(x[i-1, :], t[i-1], u(t[i-1]), *kargs)\n",
        "    return x\n"
      ],
      "metadata": {
        "id": "mHnuj6PlABAD"
      },
      "execution_count": 2,
      "outputs": []
    },
    {
      "cell_type": "code",
      "source": [
        "# Definir modelo de inhibicion por sustrato\n",
        "def inhibition_model(y, t, u, mu_max, yxs, ks, ypx, ki, sf):\n",
        "                         # mu_max, yxs, ks, ypx, ki, sf\n",
        "    F = u\n",
        "\n",
        "    x, s, V = y\n",
        "\n",
        "    # This is the part that will be sustituted by an ANN likely\n",
        "    growth_rate = mu_max*(s/(ks+s+ki*s**2))\n",
        "\n",
        "    # Mass balances \n",
        "    dx = growth_rate*x - F*x/V\n",
        "    ds = F/V*(sf-s) -1/yxs*growth_rate*x\n",
        "    dV = F\n",
        "    # dp = ypx*growth_rate*x \n",
        "\n",
        "    return np.array([dx, ds, dV])"
      ],
      "metadata": {
        "id": "O5b1H-zDACfp"
      },
      "execution_count": 3,
      "outputs": []
    },
    {
      "cell_type": "code",
      "source": [
        "def inflow_rate(t):\n",
        "\n",
        "    return 1"
      ],
      "metadata": {
        "id": "rfu3VT-GAKZ8"
      },
      "execution_count": 38,
      "outputs": []
    },
    {
      "cell_type": "code",
      "source": [
        "# Parameters\n",
        "mu_max = 1.20\n",
        "yxs = 0.2\n",
        "ks = 280\n",
        "ypx = 4\n",
        "ki = 0.3\n",
        "sf = 50"
      ],
      "metadata": {
        "id": "50W7ou37AMJf"
      },
      "execution_count": 39,
      "outputs": []
    },
    {
      "cell_type": "code",
      "source": [
        "# Initial conditions\n",
        "x0 = np.array([0.2, 40, 10])\n",
        "\n",
        "# Integration time\n",
        "tf = 100\n",
        "dt = 0.1\n",
        "time = np.arange(0, tf, dt)\n",
        "\n",
        "# Solve the ODEs\n",
        "x, s, V = euler(inhibition_model, x0, 0, tf, dt, inflow_rate, mu_max, yxs, ks, ypx, ki, sf).T"
      ],
      "metadata": {
        "id": "T1FAwDfVAN-C"
      },
      "execution_count": 52,
      "outputs": []
    },
    {
      "cell_type": "code",
      "source": [
        "plt.plot(time, x, label='x')\n",
        "plt.plot(time, s, label ='s')\n",
        "plt.plot(time, V, label = 'V')\n",
        "plt.plot(time, [inflow_rate(t) for t in time], label='F')\n",
        "plt.xlabel('time (h)')\n",
        "plt.ylabel('Concentration (g/L)')\n",
        "plt.grid()\n",
        "plt.legend()\n",
        "plt.plot()"
      ],
      "metadata": {
        "colab": {
          "base_uri": "https://localhost:8080/",
          "height": 297
        },
        "id": "wuDJhYOOAPuq",
        "outputId": "27dbd666-2a96-4560-82d0-fbacb45d6513"
      },
      "execution_count": 53,
      "outputs": [
        {
          "output_type": "execute_result",
          "data": {
            "text/plain": [
              "[]"
            ]
          },
          "metadata": {},
          "execution_count": 53
        },
        {
          "output_type": "display_data",
          "data": {
            "text/plain": [
              "<Figure size 432x288 with 1 Axes>"
            ],
            "image/png": "[encoded data removed]"
          },
          "metadata": {
            "needs_background": "light"
          }
        }
      ]
    },
    {
      "cell_type": "code",
      "source": [
        "def fitness_function(u):\n",
        "    x, s, V = euler(inhibition_model, x0, 0, tf, dt, lambda t: u, mu_max, yxs, ks, ypx, ki, sf).T\n",
        "    return x[-1]*V[-1]"
      ],
      "metadata": {
        "id": "jEU9BnnwAaUC"
      },
      "execution_count": 57,
      "outputs": []
    },
    {
      "cell_type": "code",
      "source": [
        "u = np.arange(0, 3, 0.1)\n",
        "fitness_values = [fitness_function(u_val) for u_val in u]"
      ],
      "metadata": {
        "id": "1XhMXdTzAl5F"
      },
      "execution_count": 62,
      "outputs": []
    },
    {
      "cell_type": "code",
      "source": [
        "plt.plot(u, fitness_values)"
      ],
      "metadata": {
        "colab": {
          "base_uri": "https://localhost:8080/",
          "height": 283
        },
        "id": "j0k2C2lRAndh",
        "outputId": "a0a60965-784e-47f7-ef6d-dff8ddafcb2c"
      },
      "execution_count": 63,
      "outputs": [
        {
          "output_type": "execute_result",
          "data": {
            "text/plain": [
              "[<matplotlib.lines.Line2D at 0x7f1c43321fd0>]"
            ]
          },
          "metadata": {},
          "execution_count": 63
        },
        {
          "output_type": "display_data",
          "data": {
            "text/plain": [
              "<Figure size 432x288 with 1 Axes>"
            ],
            "image/png": "[encoded data removed]"
          },
          "metadata": {
            "needs_background": "light"
          }
        }
      ]
    },
    {
      "cell_type": "code",
      "source": [],
      "metadata": {
        "id": "3ZpbTTAED0Q1"
      },
      "execution_count": null,
      "outputs": []
    }
  ]
}